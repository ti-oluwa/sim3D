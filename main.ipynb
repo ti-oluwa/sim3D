{
 "cells": [
  {
   "cell_type": "code",
   "execution_count": null,
   "id": "cf65727a",
   "metadata": {},
   "outputs": [],
   "source": [
    "import main\n",
    "import sim3D\n",
    "\n",
    "model_states = main.simulate()"
   ]
  },
  {
   "cell_type": "code",
   "execution_count": null,
   "id": "3348d397",
   "metadata": {},
   "outputs": [],
   "source": [
    "sim3D.viz.animate_property(\n",
    "    model_states,\n",
    "    property=\"water_formation_volume_factor\",\n",
    "    plot_type=sim3D.PlotType.CELL_BLOCKS,\n",
    "    width=800,\n",
    "    height=600,\n",
    ")"
   ]
  }
 ],
 "metadata": {
  "kernelspec": {
   "display_name": "Python 3 (ipykernel)",
   "language": "python",
   "name": "python3"
  },
  "language_info": {
   "codemirror_mode": {
    "name": "ipython",
    "version": 3
   },
   "file_extension": ".py",
   "mimetype": "text/x-python",
   "name": "python",
   "nbconvert_exporter": "python",
   "pygments_lexer": "ipython3",
   "version": "3.13.3"
  }
 },
 "nbformat": 4,
 "nbformat_minor": 5
}
