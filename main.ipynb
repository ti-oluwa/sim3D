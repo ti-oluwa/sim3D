{
 "cells": [
  {
   "cell_type": "code",
   "execution_count": 1,
   "id": "cf65727a",
   "metadata": {},
   "outputs": [
    {
     "name": "stdout",
     "output_type": "stream",
     "text": [
      "TIME STEP 1\n"
     ]
    },
    {
     "data": {
      "text/html": [
       "<pre style=\"white-space:pre;overflow-x:auto;line-height:normal;font-family:Menlo,'DejaVu Sans Mono',consolas,'Courier New',monospace\"><span style=\"color: #008080; text-decoration-color: #008080; font-weight: bold\">Computing pressure evolution...</span>\n",
       "</pre>\n"
      ],
      "text/plain": [
       "\u001b[1;36mComputing pressure evolution\u001b[0m\u001b[1;36m...\u001b[0m\n"
      ]
     },
     "metadata": {},
     "output_type": "display_data"
    },
    {
     "data": {
      "text/html": [
       "<pre style=\"white-space:pre;overflow-x:auto;line-height:normal;font-family:Menlo,'DejaVu Sans Mono',consolas,'Courier New',monospace\">Old Pressure Grid <span style=\"color: #008080; text-decoration-color: #008080; font-weight: bold\">1550.8114400996544</span> <span style=\"color: #008080; text-decoration-color: #008080; font-weight: bold\">1919.801292843394</span>\n",
       "</pre>\n"
      ],
      "text/plain": [
       "Old Pressure Grid \u001b[1;36m1550.8114400996544\u001b[0m \u001b[1;36m1919.801292843394\u001b[0m\n"
      ]
     },
     "metadata": {},
     "output_type": "display_data"
    },
    {
     "data": {
      "text/html": [
       "<pre style=\"white-space:pre;overflow-x:auto;line-height:normal;font-family:Menlo,'DejaVu Sans Mono',consolas,'Courier New',monospace\">New Pressure Grid <span style=\"color: #008080; text-decoration-color: #008080; font-weight: bold\">1550.7402419706868</span> <span style=\"color: #008080; text-decoration-color: #008080; font-weight: bold\">1919.16591845368</span>\n",
       "</pre>\n"
      ],
      "text/plain": [
       "New Pressure Grid \u001b[1;36m1550.7402419706868\u001b[0m \u001b[1;36m1919.16591845368\u001b[0m\n"
      ]
     },
     "metadata": {},
     "output_type": "display_data"
    },
    {
     "data": {
      "text/html": [
       "<pre style=\"white-space:pre;overflow-x:auto;line-height:normal;font-family:Menlo,'DejaVu Sans Mono',consolas,'Courier New',monospace\"><span style=\"color: #008080; text-decoration-color: #008080; font-weight: bold\">Updating fluid properties...</span>\n",
       "</pre>\n"
      ],
      "text/plain": [
       "\u001b[1;36mUpdating fluid properties\u001b[0m\u001b[1;36m...\u001b[0m\n"
      ]
     },
     "metadata": {},
     "output_type": "display_data"
    },
    {
     "data": {
      "text/html": [
       "<pre style=\"white-space:pre;overflow-x:auto;line-height:normal;font-family:Menlo,'DejaVu Sans Mono',consolas,'Courier New',monospace\">Old Water Saturation Grid <span style=\"color: #008080; text-decoration-color: #008080; font-weight: bold\">0.19999999999999996</span> <span style=\"color: #008080; text-decoration-color: #008080; font-weight: bold\">0.19999999999999996</span>\n",
       "</pre>\n"
      ],
      "text/plain": [
       "Old Water Saturation Grid \u001b[1;36m0.19999999999999996\u001b[0m \u001b[1;36m0.19999999999999996\u001b[0m\n"
      ]
     },
     "metadata": {},
     "output_type": "display_data"
    },
    {
     "data": {
      "text/html": [
       "<pre style=\"white-space:pre;overflow-x:auto;line-height:normal;font-family:Menlo,'DejaVu Sans Mono',consolas,'Courier New',monospace\">Old Oil Saturation Grid <span style=\"color: #008080; text-decoration-color: #008080; font-weight: bold\">0.8</span> <span style=\"color: #008080; text-decoration-color: #008080; font-weight: bold\">0.8</span>\n",
       "</pre>\n"
      ],
      "text/plain": [
       "Old Oil Saturation Grid \u001b[1;36m0.8\u001b[0m \u001b[1;36m0.8\u001b[0m\n"
      ]
     },
     "metadata": {},
     "output_type": "display_data"
    },
    {
     "data": {
      "text/html": [
       "<pre style=\"white-space:pre;overflow-x:auto;line-height:normal;font-family:Menlo,'DejaVu Sans Mono',consolas,'Courier New',monospace\">Old Gas Saturation Grid <span style=\"color: #008080; text-decoration-color: #008080; font-weight: bold\">0.0</span> <span style=\"color: #008080; text-decoration-color: #008080; font-weight: bold\">0.0</span>\n",
       "</pre>\n"
      ],
      "text/plain": [
       "Old Gas Saturation Grid \u001b[1;36m0.0\u001b[0m \u001b[1;36m0.0\u001b[0m\n"
      ]
     },
     "metadata": {},
     "output_type": "display_data"
    },
    {
     "data": {
      "text/html": [
       "<pre style=\"white-space:pre;overflow-x:auto;line-height:normal;font-family:Menlo,'DejaVu Sans Mono',consolas,'Courier New',monospace\">New Water Saturation Grid <span style=\"color: #008080; text-decoration-color: #008080; font-weight: bold\">0.19999988065663082</span> <span style=\"color: #008080; text-decoration-color: #008080; font-weight: bold\">0.20000000522650124</span>\n",
       "</pre>\n"
      ],
      "text/plain": [
       "New Water Saturation Grid \u001b[1;36m0.19999988065663082\u001b[0m \u001b[1;36m0.20000000522650124\u001b[0m\n"
      ]
     },
     "metadata": {},
     "output_type": "display_data"
    },
    {
     "data": {
      "text/html": [
       "<pre style=\"white-space:pre;overflow-x:auto;line-height:normal;font-family:Menlo,'DejaVu Sans Mono',consolas,'Courier New',monospace\">New Oil Saturation Grid <span style=\"color: #008080; text-decoration-color: #008080; font-weight: bold\">0.7999999947734987</span> <span style=\"color: #008080; text-decoration-color: #008080; font-weight: bold\">0.800000119343369</span>\n",
       "</pre>\n"
      ],
      "text/plain": [
       "New Oil Saturation Grid \u001b[1;36m0.7999999947734987\u001b[0m \u001b[1;36m0.800000119343369\u001b[0m\n"
      ]
     },
     "metadata": {},
     "output_type": "display_data"
    },
    {
     "data": {
      "text/html": [
       "<pre style=\"white-space:pre;overflow-x:auto;line-height:normal;font-family:Menlo,'DejaVu Sans Mono',consolas,'Courier New',monospace\">New Gas Saturation Grid <span style=\"color: #008080; text-decoration-color: #008080; font-weight: bold\">0.0</span> <span style=\"color: #008080; text-decoration-color: #008080; font-weight: bold\">3.76749353685095e-18</span>\n",
       "</pre>\n"
      ],
      "text/plain": [
       "New Gas Saturation Grid \u001b[1;36m0.0\u001b[0m \u001b[1;36m3.76749353685095e-18\u001b[0m\n"
      ]
     },
     "metadata": {},
     "output_type": "display_data"
    },
    {
     "data": {
      "text/html": [
       "<pre style=\"white-space:pre;overflow-x:auto;line-height:normal;font-family:Menlo,'DejaVu Sans Mono',consolas,'Courier New',monospace\"><span style=\"color: #008080; text-decoration-color: #008080; font-weight: bold\">Updating static fluid properties...</span>\n",
       "</pre>\n"
      ],
      "text/plain": [
       "\u001b[1;36mUpdating static fluid properties\u001b[0m\u001b[1;36m...\u001b[0m\n"
      ]
     },
     "metadata": {},
     "output_type": "display_data"
    },
    {
     "data": {
      "text/html": [
       "<pre style=\"white-space:pre;overflow-x:auto;line-height:normal;font-family:Menlo,'DejaVu Sans Mono',consolas,'Courier New',monospace\"><span style=\"font-weight: bold\">Gas Gravity:</span> <span style=\"color: #008080; text-decoration-color: #008080; font-weight: bold\">0.5547184122441046</span> <span style=\"color: #008080; text-decoration-color: #008080; font-weight: bold\">0.5547184122441046</span>\n",
       "</pre>\n"
      ],
      "text/plain": [
       "\u001b[1mGas Gravity:\u001b[0m \u001b[1;36m0.5547184122441046\u001b[0m \u001b[1;36m0.5547184122441046\u001b[0m\n"
      ]
     },
     "metadata": {},
     "output_type": "display_data"
    },
    {
     "data": {
      "text/html": [
       "<pre style=\"white-space:pre;overflow-x:auto;line-height:normal;font-family:Menlo,'DejaVu Sans Mono',consolas,'Courier New',monospace\">Gas Compressibility Factor: <span style=\"color: #008080; text-decoration-color: #008080; font-weight: bold\">0.1</span> <span style=\"color: #008080; text-decoration-color: #008080; font-weight: bold\">0.1</span>\n",
       "</pre>\n"
      ],
      "text/plain": [
       "Gas Compressibility Factor: \u001b[1;36m0.1\u001b[0m \u001b[1;36m0.1\u001b[0m\n"
      ]
     },
     "metadata": {},
     "output_type": "display_data"
    },
    {
     "data": {
      "text/html": [
       "<pre style=\"white-space:pre;overflow-x:auto;line-height:normal;font-family:Menlo,'DejaVu Sans Mono',consolas,'Courier New',monospace\">New Gas Compressibility: <span style=\"color: #008080; text-decoration-color: #008080; font-weight: bold\">0.0</span> <span style=\"color: #008080; text-decoration-color: #008080; font-weight: bold\">0.0</span>\n",
       "</pre>\n"
      ],
      "text/plain": [
       "New Gas Compressibility: \u001b[1;36m0.0\u001b[0m \u001b[1;36m0.0\u001b[0m\n"
      ]
     },
     "metadata": {},
     "output_type": "display_data"
    },
    {
     "data": {
      "text/html": [
       "<pre style=\"white-space:pre;overflow-x:auto;line-height:normal;font-family:Menlo,'DejaVu Sans Mono',consolas,'Courier New',monospace\">New Gas Formation Volume Factor: <span style=\"color: #008080; text-decoration-color: #008080; font-weight: bold\">0.0012762488692519209</span> <span style=\"color: #008080; text-decoration-color: #008080; font-weight: bold\">0.0046424147482880445</span>\n",
       "</pre>\n"
      ],
      "text/plain": [
       "New Gas Formation Volume Factor: \u001b[1;36m0.0012762488692519209\u001b[0m \u001b[1;36m0.0046424147482880445\u001b[0m\n"
      ]
     },
     "metadata": {},
     "output_type": "display_data"
    },
    {
     "data": {
      "text/html": [
       "<pre style=\"white-space:pre;overflow-x:auto;line-height:normal;font-family:Menlo,'DejaVu Sans Mono',consolas,'Courier New',monospace\">New Gas Density: <span style=\"color: #008080; text-decoration-color: #008080; font-weight: bold\">0.06877134835323265</span> <span style=\"color: #008080; text-decoration-color: #008080; font-weight: bold\">0.11318471968811815</span>\n",
       "</pre>\n"
      ],
      "text/plain": [
       "New Gas Density: \u001b[1;36m0.06877134835323265\u001b[0m \u001b[1;36m0.11318471968811815\u001b[0m\n"
      ]
     },
     "metadata": {},
     "output_type": "display_data"
    },
    {
     "data": {
      "text/html": [
       "<pre style=\"white-space:pre;overflow-x:auto;line-height:normal;font-family:Menlo,'DejaVu Sans Mono',consolas,'Courier New',monospace\">New Gas Viscosity: <span style=\"color: #008080; text-decoration-color: #008080; font-weight: bold\">0.01617928136560003</span> <span style=\"color: #008080; text-decoration-color: #008080; font-weight: bold\">0.020306015437482054</span>\n",
       "</pre>\n"
      ],
      "text/plain": [
       "New Gas Viscosity: \u001b[1;36m0.01617928136560003\u001b[0m \u001b[1;36m0.020306015437482054\u001b[0m\n"
      ]
     },
     "metadata": {},
     "output_type": "display_data"
    },
    {
     "data": {
      "text/html": [
       "<pre style=\"white-space:pre;overflow-x:auto;line-height:normal;font-family:Menlo,'DejaVu Sans Mono',consolas,'Courier New',monospace\">Gas Solubility in Water: <span style=\"color: #008080; text-decoration-color: #008080; font-weight: bold\">2.0987329584496233</span> <span style=\"color: #008080; text-decoration-color: #008080; font-weight: bold\">2.4268565827110162</span>\n",
       "</pre>\n"
      ],
      "text/plain": [
       "Gas Solubility in Water: \u001b[1;36m2.0987329584496233\u001b[0m \u001b[1;36m2.4268565827110162\u001b[0m\n"
      ]
     },
     "metadata": {},
     "output_type": "display_data"
    },
    {
     "data": {
      "text/html": [
       "<pre style=\"white-space:pre;overflow-x:auto;line-height:normal;font-family:Menlo,'DejaVu Sans Mono',consolas,'Courier New',monospace\">New Water Bubble Point Pressure: <span style=\"color: #008080; text-decoration-color: #008080; font-weight: bold\">1550.7402419706877</span> <span style=\"color: #008080; text-decoration-color: #008080; font-weight: bold\">1919.1659184536763</span>\n",
       "</pre>\n"
      ],
      "text/plain": [
       "New Water Bubble Point Pressure: \u001b[1;36m1550.7402419706877\u001b[0m \u001b[1;36m1919.1659184536763\u001b[0m\n"
      ]
     },
     "metadata": {},
     "output_type": "display_data"
    },
    {
     "data": {
      "text/html": [
       "<pre style=\"white-space:pre;overflow-x:auto;line-height:normal;font-family:Menlo,'DejaVu Sans Mono',consolas,'Courier New',monospace\">New Water Compressibility: <span style=\"color: #008080; text-decoration-color: #008080; font-weight: bold\">0.0</span> <span style=\"color: #008080; text-decoration-color: #008080; font-weight: bold\">3.836978192874209e-09</span>\n",
       "</pre>\n"
      ],
      "text/plain": [
       "New Water Compressibility: \u001b[1;36m0.0\u001b[0m \u001b[1;36m3.836978192874209e-09\u001b[0m\n"
      ]
     },
     "metadata": {},
     "output_type": "display_data"
    },
    {
     "data": {
      "text/html": [
       "<pre style=\"white-space:pre;overflow-x:auto;line-height:normal;font-family:Menlo,'DejaVu Sans Mono',consolas,'Courier New',monospace\">New Water Formation Volume Factor: <span style=\"color: #008080; text-decoration-color: #008080; font-weight: bold\">1.0085460737918215</span> <span style=\"color: #008080; text-decoration-color: #008080; font-weight: bold\">1.079297424192142</span>\n",
       "</pre>\n"
      ],
      "text/plain": [
       "New Water Formation Volume Factor: \u001b[1;36m1.0085460737918215\u001b[0m \u001b[1;36m1.079297424192142\u001b[0m\n"
      ]
     },
     "metadata": {},
     "output_type": "display_data"
    },
    {
     "data": {
      "text/html": [
       "<pre style=\"white-space:pre;overflow-x:auto;line-height:normal;font-family:Menlo,'DejaVu Sans Mono',consolas,'Courier New',monospace\">New Water Density: <span style=\"color: #008080; text-decoration-color: #008080; font-weight: bold\">57.84268464299698</span> <span style=\"color: #008080; text-decoration-color: #008080; font-weight: bold\">61.90045444697856</span>\n",
       "</pre>\n"
      ],
      "text/plain": [
       "New Water Density: \u001b[1;36m57.84268464299698\u001b[0m \u001b[1;36m61.90045444697856\u001b[0m\n"
      ]
     },
     "metadata": {},
     "output_type": "display_data"
    },
    {
     "data": {
      "text/html": [
       "<pre style=\"white-space:pre;overflow-x:auto;line-height:normal;font-family:Menlo,'DejaVu Sans Mono',consolas,'Courier New',monospace\">New Water Viscosity: <span style=\"color: #008080; text-decoration-color: #008080; font-weight: bold\">0.9139809907977939</span> <span style=\"color: #008080; text-decoration-color: #008080; font-weight: bold\">1.003677554146425</span>\n",
       "</pre>\n"
      ],
      "text/plain": [
       "New Water Viscosity: \u001b[1;36m0.9139809907977939\u001b[0m \u001b[1;36m1.003677554146425\u001b[0m\n"
      ]
     },
     "metadata": {},
     "output_type": "display_data"
    },
    {
     "name": "stdout",
     "output_type": "stream",
     "text": [
      "Old GOR Grid: 71.80662629125223 191.90068605398693\n"
     ]
    },
    {
     "data": {
      "text/html": [
       "<pre style=\"white-space:pre;overflow-x:auto;line-height:normal;font-family:Menlo,'DejaVu Sans Mono',consolas,'Courier New',monospace\">Oil Specific Gravity: <span style=\"color: #008080; text-decoration-color: #008080; font-weight: bold\">0.8</span> <span style=\"color: #008080; text-decoration-color: #008080; font-weight: bold\">0.9</span>\n",
       "</pre>\n"
      ],
      "text/plain": [
       "Oil Specific Gravity: \u001b[1;36m0.8\u001b[0m \u001b[1;36m0.9\u001b[0m\n"
      ]
     },
     "metadata": {},
     "output_type": "display_data"
    },
    {
     "data": {
      "text/html": [
       "<pre style=\"white-space:pre;overflow-x:auto;line-height:normal;font-family:Menlo,'DejaVu Sans Mono',consolas,'Courier New',monospace\">Oil API Gravity: <span style=\"color: #008080; text-decoration-color: #008080; font-weight: bold\">25.72222222222223</span> <span style=\"color: #008080; text-decoration-color: #008080; font-weight: bold\">45.375</span>\n",
       "</pre>\n"
      ],
      "text/plain": [
       "Oil API Gravity: \u001b[1;36m25.72222222222223\u001b[0m \u001b[1;36m45.375\u001b[0m\n"
      ]
     },
     "metadata": {},
     "output_type": "display_data"
    },
    {
     "data": {
      "text/html": [
       "<pre style=\"white-space:pre;overflow-x:auto;line-height:normal;font-family:Menlo,'DejaVu Sans Mono',consolas,'Courier New',monospace\">New Oil Bubble Point Pressure: <span style=\"color: #008080; text-decoration-color: #008080; font-weight: bold\">799.9999999999998</span> <span style=\"color: #008080; text-decoration-color: #008080; font-weight: bold\">800.0000000000002</span>\n",
       "</pre>\n"
      ],
      "text/plain": [
       "New Oil Bubble Point Pressure: \u001b[1;36m799.9999999999998\u001b[0m \u001b[1;36m800.0000000000002\u001b[0m\n"
      ]
     },
     "metadata": {},
     "output_type": "display_data"
    },
    {
     "data": {
      "text/html": [
       "<pre style=\"white-space:pre;overflow-x:auto;line-height:normal;font-family:Menlo,'DejaVu Sans Mono',consolas,'Courier New',monospace\">New Oil Formation Volume Factor: <span style=\"color: #008080; text-decoration-color: #008080; font-weight: bold\">1.0317870951862753</span> <span style=\"color: #008080; text-decoration-color: #008080; font-weight: bold\">1.0837202312111065</span>\n",
       "</pre>\n"
      ],
      "text/plain": [
       "New Oil Formation Volume Factor: \u001b[1;36m1.0317870951862753\u001b[0m \u001b[1;36m1.0837202312111065\u001b[0m\n"
      ]
     },
     "metadata": {},
     "output_type": "display_data"
    },
    {
     "data": {
      "text/html": [
       "<pre style=\"white-space:pre;overflow-x:auto;line-height:normal;font-family:Menlo,'DejaVu Sans Mono',consolas,'Courier New',monospace\">New Gas to Oil Ratio: <span style=\"color: #008080; text-decoration-color: #008080; font-weight: bold\">71.80662629125223</span> <span style=\"color: #008080; text-decoration-color: #008080; font-weight: bold\">191.9006860539869</span>\n",
       "</pre>\n"
      ],
      "text/plain": [
       "New Gas to Oil Ratio: \u001b[1;36m71.80662629125223\u001b[0m \u001b[1;36m191.9006860539869\u001b[0m\n"
      ]
     },
     "metadata": {},
     "output_type": "display_data"
    },
    {
     "data": {
      "text/html": [
       "<pre style=\"white-space:pre;overflow-x:auto;line-height:normal;font-family:Menlo,'DejaVu Sans Mono',consolas,'Courier New',monospace\">New Oil Compressibility: <span style=\"color: #008080; text-decoration-color: #008080; font-weight: bold\">6.065731173258054e-06</span> <span style=\"color: #008080; text-decoration-color: #008080; font-weight: bold\">2.3729023348677934e-05</span>\n",
       "</pre>\n"
      ],
      "text/plain": [
       "New Oil Compressibility: \u001b[1;36m6.065731173258054e-06\u001b[0m \u001b[1;36m2.3729023348677934e-05\u001b[0m\n"
      ]
     },
     "metadata": {},
     "output_type": "display_data"
    },
    {
     "data": {
      "text/html": [
       "<pre style=\"white-space:pre;overflow-x:auto;line-height:normal;font-family:Menlo,'DejaVu Sans Mono',consolas,'Courier New',monospace\">New Oil Density: <span style=\"color: #008080; text-decoration-color: #008080; font-weight: bold\">47.376702388751575</span> <span style=\"color: #008080; text-decoration-color: #008080; font-weight: bold\">54.92846536066943</span>\n",
       "</pre>\n"
      ],
      "text/plain": [
       "New Oil Density: \u001b[1;36m47.376702388751575\u001b[0m \u001b[1;36m54.92846536066943\u001b[0m\n"
      ]
     },
     "metadata": {},
     "output_type": "display_data"
    },
    {
     "data": {
      "text/html": [
       "<pre style=\"white-space:pre;overflow-x:auto;line-height:normal;font-family:Menlo,'DejaVu Sans Mono',consolas,'Courier New',monospace\">New Oil Viscosity: <span style=\"color: #008080; text-decoration-color: #008080; font-weight: bold\">0.5696960305742488</span> <span style=\"color: #008080; text-decoration-color: #008080; font-weight: bold\">0.6542312801662455</span>\n",
       "</pre>\n"
      ],
      "text/plain": [
       "New Oil Viscosity: \u001b[1;36m0.5696960305742488\u001b[0m \u001b[1;36m0.6542312801662455\u001b[0m\n"
      ]
     },
     "metadata": {},
     "output_type": "display_data"
    },
    {
     "name": "stdout",
     "output_type": "stream",
     "text": [
      "TIME STEP 2\n"
     ]
    },
    {
     "data": {
      "text/html": [
       "<pre style=\"white-space:pre;overflow-x:auto;line-height:normal;font-family:Menlo,'DejaVu Sans Mono',consolas,'Courier New',monospace\"><span style=\"color: #008080; text-decoration-color: #008080; font-weight: bold\">Computing pressure evolution...</span>\n",
       "</pre>\n"
      ],
      "text/plain": [
       "\u001b[1;36mComputing pressure evolution\u001b[0m\u001b[1;36m...\u001b[0m\n"
      ]
     },
     "metadata": {},
     "output_type": "display_data"
    },
    {
     "data": {
      "text/html": [
       "<pre style=\"white-space:pre;overflow-x:auto;line-height:normal;font-family:Menlo,'DejaVu Sans Mono',consolas,'Courier New',monospace\">Old Pressure Grid <span style=\"color: #008080; text-decoration-color: #008080; font-weight: bold\">1550.7402419706868</span> <span style=\"color: #008080; text-decoration-color: #008080; font-weight: bold\">1919.16591845368</span>\n",
       "</pre>\n"
      ],
      "text/plain": [
       "Old Pressure Grid \u001b[1;36m1550.7402419706868\u001b[0m \u001b[1;36m1919.16591845368\u001b[0m\n"
      ]
     },
     "metadata": {},
     "output_type": "display_data"
    },
    {
     "data": {
      "text/html": [
       "<pre style=\"white-space:pre;overflow-x:auto;line-height:normal;font-family:Menlo,'DejaVu Sans Mono',consolas,'Courier New',monospace\">New Pressure Grid <span style=\"color: #008080; text-decoration-color: #008080; font-weight: bold\">1550.3671925036392</span> <span style=\"color: #008080; text-decoration-color: #008080; font-weight: bold\">1918.635369009716</span>\n",
       "</pre>\n"
      ],
      "text/plain": [
       "New Pressure Grid \u001b[1;36m1550.3671925036392\u001b[0m \u001b[1;36m1918.635369009716\u001b[0m\n"
      ]
     },
     "metadata": {},
     "output_type": "display_data"
    },
    {
     "data": {
      "text/html": [
       "<pre style=\"white-space:pre;overflow-x:auto;line-height:normal;font-family:Menlo,'DejaVu Sans Mono',consolas,'Courier New',monospace\"><span style=\"color: #008080; text-decoration-color: #008080; font-weight: bold\">Updating fluid properties...</span>\n",
       "</pre>\n"
      ],
      "text/plain": [
       "\u001b[1;36mUpdating fluid properties\u001b[0m\u001b[1;36m...\u001b[0m\n"
      ]
     },
     "metadata": {},
     "output_type": "display_data"
    },
    {
     "data": {
      "text/html": [
       "<pre style=\"white-space:pre;overflow-x:auto;line-height:normal;font-family:Menlo,'DejaVu Sans Mono',consolas,'Courier New',monospace\">Old Water Saturation Grid <span style=\"color: #008080; text-decoration-color: #008080; font-weight: bold\">0.19999988065663082</span> <span style=\"color: #008080; text-decoration-color: #008080; font-weight: bold\">0.20000000522650124</span>\n",
       "</pre>\n"
      ],
      "text/plain": [
       "Old Water Saturation Grid \u001b[1;36m0.19999988065663082\u001b[0m \u001b[1;36m0.20000000522650124\u001b[0m\n"
      ]
     },
     "metadata": {},
     "output_type": "display_data"
    },
    {
     "data": {
      "text/html": [
       "<pre style=\"white-space:pre;overflow-x:auto;line-height:normal;font-family:Menlo,'DejaVu Sans Mono',consolas,'Courier New',monospace\">Old Oil Saturation Grid <span style=\"color: #008080; text-decoration-color: #008080; font-weight: bold\">0.7999999947734987</span> <span style=\"color: #008080; text-decoration-color: #008080; font-weight: bold\">0.800000119343369</span>\n",
       "</pre>\n"
      ],
      "text/plain": [
       "Old Oil Saturation Grid \u001b[1;36m0.7999999947734987\u001b[0m \u001b[1;36m0.800000119343369\u001b[0m\n"
      ]
     },
     "metadata": {},
     "output_type": "display_data"
    },
    {
     "data": {
      "text/html": [
       "<pre style=\"white-space:pre;overflow-x:auto;line-height:normal;font-family:Menlo,'DejaVu Sans Mono',consolas,'Courier New',monospace\">Old Gas Saturation Grid <span style=\"color: #008080; text-decoration-color: #008080; font-weight: bold\">0.0</span> <span style=\"color: #008080; text-decoration-color: #008080; font-weight: bold\">3.76749353685095e-18</span>\n",
       "</pre>\n"
      ],
      "text/plain": [
       "Old Gas Saturation Grid \u001b[1;36m0.0\u001b[0m \u001b[1;36m3.76749353685095e-18\u001b[0m\n"
      ]
     },
     "metadata": {},
     "output_type": "display_data"
    },
    {
     "data": {
      "text/html": [
       "<pre style=\"white-space:pre;overflow-x:auto;line-height:normal;font-family:Menlo,'DejaVu Sans Mono',consolas,'Courier New',monospace\">New Water Saturation Grid <span style=\"color: #008080; text-decoration-color: #008080; font-weight: bold\">0.19999879449690036</span> <span style=\"color: #008080; text-decoration-color: #008080; font-weight: bold\">0.20000008816860476</span>\n",
       "</pre>\n"
      ],
      "text/plain": [
       "New Water Saturation Grid \u001b[1;36m0.19999879449690036\u001b[0m \u001b[1;36m0.20000008816860476\u001b[0m\n"
      ]
     },
     "metadata": {},
     "output_type": "display_data"
    },
    {
     "data": {
      "text/html": [
       "<pre style=\"white-space:pre;overflow-x:auto;line-height:normal;font-family:Menlo,'DejaVu Sans Mono',consolas,'Courier New',monospace\">New Oil Saturation Grid <span style=\"color: #008080; text-decoration-color: #008080; font-weight: bold\">0.7999999118313952</span> <span style=\"color: #008080; text-decoration-color: #008080; font-weight: bold\">0.8000012055030996</span>\n",
       "</pre>\n"
      ],
      "text/plain": [
       "New Oil Saturation Grid \u001b[1;36m0.7999999118313952\u001b[0m \u001b[1;36m0.8000012055030996\u001b[0m\n"
      ]
     },
     "metadata": {},
     "output_type": "display_data"
    },
    {
     "data": {
      "text/html": [
       "<pre style=\"white-space:pre;overflow-x:auto;line-height:normal;font-family:Menlo,'DejaVu Sans Mono',consolas,'Courier New',monospace\">New Gas Saturation Grid <span style=\"color: #008080; text-decoration-color: #008080; font-weight: bold\">0.0</span> <span style=\"color: #008080; text-decoration-color: #008080; font-weight: bold\">7.535750594573702e-18</span>\n",
       "</pre>\n"
      ],
      "text/plain": [
       "New Gas Saturation Grid \u001b[1;36m0.0\u001b[0m \u001b[1;36m7.535750594573702e-18\u001b[0m\n"
      ]
     },
     "metadata": {},
     "output_type": "display_data"
    },
    {
     "data": {
      "text/html": [
       "<pre style=\"white-space:pre;overflow-x:auto;line-height:normal;font-family:Menlo,'DejaVu Sans Mono',consolas,'Courier New',monospace\"><span style=\"color: #008080; text-decoration-color: #008080; font-weight: bold\">Updating static fluid properties...</span>\n",
       "</pre>\n"
      ],
      "text/plain": [
       "\u001b[1;36mUpdating static fluid properties\u001b[0m\u001b[1;36m...\u001b[0m\n"
      ]
     },
     "metadata": {},
     "output_type": "display_data"
    },
    {
     "data": {
      "text/html": [
       "<pre style=\"white-space:pre;overflow-x:auto;line-height:normal;font-family:Menlo,'DejaVu Sans Mono',consolas,'Courier New',monospace\"><span style=\"font-weight: bold\">Gas Gravity:</span> <span style=\"color: #008080; text-decoration-color: #008080; font-weight: bold\">0.5547184122441046</span> <span style=\"color: #008080; text-decoration-color: #008080; font-weight: bold\">0.5547184122441046</span>\n",
       "</pre>\n"
      ],
      "text/plain": [
       "\u001b[1mGas Gravity:\u001b[0m \u001b[1;36m0.5547184122441046\u001b[0m \u001b[1;36m0.5547184122441046\u001b[0m\n"
      ]
     },
     "metadata": {},
     "output_type": "display_data"
    },
    {
     "data": {
      "text/html": [
       "<pre style=\"white-space:pre;overflow-x:auto;line-height:normal;font-family:Menlo,'DejaVu Sans Mono',consolas,'Courier New',monospace\">Gas Compressibility Factor: <span style=\"color: #008080; text-decoration-color: #008080; font-weight: bold\">0.1</span> <span style=\"color: #008080; text-decoration-color: #008080; font-weight: bold\">0.1</span>\n",
       "</pre>\n"
      ],
      "text/plain": [
       "Gas Compressibility Factor: \u001b[1;36m0.1\u001b[0m \u001b[1;36m0.1\u001b[0m\n"
      ]
     },
     "metadata": {},
     "output_type": "display_data"
    },
    {
     "data": {
      "text/html": [
       "<pre style=\"white-space:pre;overflow-x:auto;line-height:normal;font-family:Menlo,'DejaVu Sans Mono',consolas,'Courier New',monospace\">New Gas Compressibility: <span style=\"color: #008080; text-decoration-color: #008080; font-weight: bold\">0.0</span> <span style=\"color: #008080; text-decoration-color: #008080; font-weight: bold\">0.0</span>\n",
       "</pre>\n"
      ],
      "text/plain": [
       "New Gas Compressibility: \u001b[1;36m0.0\u001b[0m \u001b[1;36m0.0\u001b[0m\n"
      ]
     },
     "metadata": {},
     "output_type": "display_data"
    },
    {
     "data": {
      "text/html": [
       "<pre style=\"white-space:pre;overflow-x:auto;line-height:normal;font-family:Menlo,'DejaVu Sans Mono',consolas,'Courier New',monospace\">New Gas Formation Volume Factor: <span style=\"color: #008080; text-decoration-color: #008080; font-weight: bold\">0.0012766017831713026</span> <span style=\"color: #008080; text-decoration-color: #008080; font-weight: bold\">0.0046431008926006625</span>\n",
       "</pre>\n"
      ],
      "text/plain": [
       "New Gas Formation Volume Factor: \u001b[1;36m0.0012766017831713026\u001b[0m \u001b[1;36m0.0046431008926006625\u001b[0m\n"
      ]
     },
     "metadata": {},
     "output_type": "display_data"
    },
    {
     "data": {
      "text/html": [
       "<pre style=\"white-space:pre;overflow-x:auto;line-height:normal;font-family:Menlo,'DejaVu Sans Mono',consolas,'Courier New',monospace\">New Gas Density: <span style=\"color: #008080; text-decoration-color: #008080; font-weight: bold\">0.06876118551795615</span> <span style=\"color: #008080; text-decoration-color: #008080; font-weight: bold\">0.11315343000674231</span>\n",
       "</pre>\n"
      ],
      "text/plain": [
       "New Gas Density: \u001b[1;36m0.06876118551795615\u001b[0m \u001b[1;36m0.11315343000674231\u001b[0m\n"
      ]
     },
     "metadata": {},
     "output_type": "display_data"
    },
    {
     "data": {
      "text/html": [
       "<pre style=\"white-space:pre;overflow-x:auto;line-height:normal;font-family:Menlo,'DejaVu Sans Mono',consolas,'Courier New',monospace\">New Gas Viscosity: <span style=\"color: #008080; text-decoration-color: #008080; font-weight: bold\">0.016179277400720633</span> <span style=\"color: #008080; text-decoration-color: #008080; font-weight: bold\">0.020306015413866715</span>\n",
       "</pre>\n"
      ],
      "text/plain": [
       "New Gas Viscosity: \u001b[1;36m0.016179277400720633\u001b[0m \u001b[1;36m0.020306015413866715\u001b[0m\n"
      ]
     },
     "metadata": {},
     "output_type": "display_data"
    },
    {
     "data": {
      "text/html": [
       "<pre style=\"white-space:pre;overflow-x:auto;line-height:normal;font-family:Menlo,'DejaVu Sans Mono',consolas,'Courier New',monospace\">Gas Solubility in Water: <span style=\"color: #008080; text-decoration-color: #008080; font-weight: bold\">2.098722801287498</span> <span style=\"color: #008080; text-decoration-color: #008080; font-weight: bold\">2.4268553114325613</span>\n",
       "</pre>\n"
      ],
      "text/plain": [
       "Gas Solubility in Water: \u001b[1;36m2.098722801287498\u001b[0m \u001b[1;36m2.4268553114325613\u001b[0m\n"
      ]
     },
     "metadata": {},
     "output_type": "display_data"
    },
    {
     "data": {
      "text/html": [
       "<pre style=\"white-space:pre;overflow-x:auto;line-height:normal;font-family:Menlo,'DejaVu Sans Mono',consolas,'Courier New',monospace\">New Water Bubble Point Pressure: <span style=\"color: #008080; text-decoration-color: #008080; font-weight: bold\">1550.367192503641</span> <span style=\"color: #008080; text-decoration-color: #008080; font-weight: bold\">1918.635369009713</span>\n",
       "</pre>\n"
      ],
      "text/plain": [
       "New Water Bubble Point Pressure: \u001b[1;36m1550.367192503641\u001b[0m \u001b[1;36m1918.635369009713\u001b[0m\n"
      ]
     },
     "metadata": {},
     "output_type": "display_data"
    },
    {
     "data": {
      "text/html": [
       "<pre style=\"white-space:pre;overflow-x:auto;line-height:normal;font-family:Menlo,'DejaVu Sans Mono',consolas,'Courier New',monospace\">New Water Compressibility: <span style=\"color: #008080; text-decoration-color: #008080; font-weight: bold\">0.0</span> <span style=\"color: #008080; text-decoration-color: #008080; font-weight: bold\">3.851800383725569e-09</span>\n",
       "</pre>\n"
      ],
      "text/plain": [
       "New Water Compressibility: \u001b[1;36m0.0\u001b[0m \u001b[1;36m3.851800383725569e-09\u001b[0m\n"
      ]
     },
     "metadata": {},
     "output_type": "display_data"
    },
    {
     "data": {
      "text/html": [
       "<pre style=\"white-space:pre;overflow-x:auto;line-height:normal;font-family:Menlo,'DejaVu Sans Mono',consolas,'Courier New',monospace\">New Water Formation Volume Factor: <span style=\"color: #008080; text-decoration-color: #008080; font-weight: bold\">1.008546077991239</span> <span style=\"color: #008080; text-decoration-color: #008080; font-weight: bold\">1.0792974244485367</span>\n",
       "</pre>\n"
      ],
      "text/plain": [
       "New Water Formation Volume Factor: \u001b[1;36m1.008546077991239\u001b[0m \u001b[1;36m1.0792974244485367\u001b[0m\n"
      ]
     },
     "metadata": {},
     "output_type": "display_data"
    },
    {
     "data": {
      "text/html": [
       "<pre style=\"white-space:pre;overflow-x:auto;line-height:normal;font-family:Menlo,'DejaVu Sans Mono',consolas,'Courier New',monospace\">New Water Density: <span style=\"color: #008080; text-decoration-color: #008080; font-weight: bold\">57.84268455167081</span> <span style=\"color: #008080; text-decoration-color: #008080; font-weight: bold\">61.9004542317516</span>\n",
       "</pre>\n"
      ],
      "text/plain": [
       "New Water Density: \u001b[1;36m57.84268455167081\u001b[0m \u001b[1;36m61.9004542317516\u001b[0m\n"
      ]
     },
     "metadata": {},
     "output_type": "display_data"
    },
    {
     "data": {
      "text/html": [
       "<pre style=\"white-space:pre;overflow-x:auto;line-height:normal;font-family:Menlo,'DejaVu Sans Mono',consolas,'Courier New',monospace\">New Water Viscosity: <span style=\"color: #008080; text-decoration-color: #008080; font-weight: bold\">0.9139650715647152</span> <span style=\"color: #008080; text-decoration-color: #008080; font-weight: bold\">1.0036520021208215</span>\n",
       "</pre>\n"
      ],
      "text/plain": [
       "New Water Viscosity: \u001b[1;36m0.9139650715647152\u001b[0m \u001b[1;36m1.0036520021208215\u001b[0m\n"
      ]
     },
     "metadata": {},
     "output_type": "display_data"
    },
    {
     "name": "stdout",
     "output_type": "stream",
     "text": [
      "Old GOR Grid: 71.80662629125223 191.9006860539869\n"
     ]
    },
    {
     "data": {
      "text/html": [
       "<pre style=\"white-space:pre;overflow-x:auto;line-height:normal;font-family:Menlo,'DejaVu Sans Mono',consolas,'Courier New',monospace\">Oil Specific Gravity: <span style=\"color: #008080; text-decoration-color: #008080; font-weight: bold\">0.8</span> <span style=\"color: #008080; text-decoration-color: #008080; font-weight: bold\">0.9</span>\n",
       "</pre>\n"
      ],
      "text/plain": [
       "Oil Specific Gravity: \u001b[1;36m0.8\u001b[0m \u001b[1;36m0.9\u001b[0m\n"
      ]
     },
     "metadata": {},
     "output_type": "display_data"
    },
    {
     "data": {
      "text/html": [
       "<pre style=\"white-space:pre;overflow-x:auto;line-height:normal;font-family:Menlo,'DejaVu Sans Mono',consolas,'Courier New',monospace\">Oil API Gravity: <span style=\"color: #008080; text-decoration-color: #008080; font-weight: bold\">25.72222222222223</span> <span style=\"color: #008080; text-decoration-color: #008080; font-weight: bold\">45.375</span>\n",
       "</pre>\n"
      ],
      "text/plain": [
       "Oil API Gravity: \u001b[1;36m25.72222222222223\u001b[0m \u001b[1;36m45.375\u001b[0m\n"
      ]
     },
     "metadata": {},
     "output_type": "display_data"
    },
    {
     "data": {
      "text/html": [
       "<pre style=\"white-space:pre;overflow-x:auto;line-height:normal;font-family:Menlo,'DejaVu Sans Mono',consolas,'Courier New',monospace\">New Oil Bubble Point Pressure: <span style=\"color: #008080; text-decoration-color: #008080; font-weight: bold\">799.9999999999995</span> <span style=\"color: #008080; text-decoration-color: #008080; font-weight: bold\">800.0000000000002</span>\n",
       "</pre>\n"
      ],
      "text/plain": [
       "New Oil Bubble Point Pressure: \u001b[1;36m799.9999999999995\u001b[0m \u001b[1;36m800.0000000000002\u001b[0m\n"
      ]
     },
     "metadata": {},
     "output_type": "display_data"
    },
    {
     "data": {
      "text/html": [
       "<pre style=\"white-space:pre;overflow-x:auto;line-height:normal;font-family:Menlo,'DejaVu Sans Mono',consolas,'Courier New',monospace\">New Oil Formation Volume Factor: <span style=\"color: #008080; text-decoration-color: #008080; font-weight: bold\">1.0207610192216308</span> <span style=\"color: #008080; text-decoration-color: #008080; font-weight: bold\">1.077296878731589</span>\n",
       "</pre>\n"
      ],
      "text/plain": [
       "New Oil Formation Volume Factor: \u001b[1;36m1.0207610192216308\u001b[0m \u001b[1;36m1.077296878731589\u001b[0m\n"
      ]
     },
     "metadata": {},
     "output_type": "display_data"
    },
    {
     "data": {
      "text/html": [
       "<pre style=\"white-space:pre;overflow-x:auto;line-height:normal;font-family:Menlo,'DejaVu Sans Mono',consolas,'Courier New',monospace\">New Gas to Oil Ratio: <span style=\"color: #008080; text-decoration-color: #008080; font-weight: bold\">71.80662629125224</span> <span style=\"color: #008080; text-decoration-color: #008080; font-weight: bold\">191.90068605398687</span>\n",
       "</pre>\n"
      ],
      "text/plain": [
       "New Gas to Oil Ratio: \u001b[1;36m71.80662629125224\u001b[0m \u001b[1;36m191.90068605398687\u001b[0m\n"
      ]
     },
     "metadata": {},
     "output_type": "display_data"
    },
    {
     "data": {
      "text/html": [
       "<pre style=\"white-space:pre;overflow-x:auto;line-height:normal;font-family:Menlo,'DejaVu Sans Mono',consolas,'Courier New',monospace\">New Oil Compressibility: <span style=\"color: #008080; text-decoration-color: #008080; font-weight: bold\">6.067408495772372e-06</span> <span style=\"color: #008080; text-decoration-color: #008080; font-weight: bold\">2.373253047488218e-05</span>\n",
       "</pre>\n"
      ],
      "text/plain": [
       "New Oil Compressibility: \u001b[1;36m6.067408495772372e-06\u001b[0m \u001b[1;36m2.373253047488218e-05\u001b[0m\n"
      ]
     },
     "metadata": {},
     "output_type": "display_data"
    },
    {
     "data": {
      "text/html": [
       "<pre style=\"white-space:pre;overflow-x:auto;line-height:normal;font-family:Menlo,'DejaVu Sans Mono',consolas,'Courier New',monospace\">New Oil Density: <span style=\"color: #008080; text-decoration-color: #008080; font-weight: bold\">47.659184650390024</span> <span style=\"color: #008080; text-decoration-color: #008080; font-weight: bold\">55.52179271181564</span>\n",
       "</pre>\n"
      ],
      "text/plain": [
       "New Oil Density: \u001b[1;36m47.659184650390024\u001b[0m \u001b[1;36m55.52179271181564\u001b[0m\n"
      ]
     },
     "metadata": {},
     "output_type": "display_data"
    },
    {
     "data": {
      "text/html": [
       "<pre style=\"white-space:pre;overflow-x:auto;line-height:normal;font-family:Menlo,'DejaVu Sans Mono',consolas,'Courier New',monospace\">New Oil Viscosity: <span style=\"color: #008080; text-decoration-color: #008080; font-weight: bold\">0.56967561796921</span> <span style=\"color: #008080; text-decoration-color: #008080; font-weight: bold\">0.6541723394299359</span>\n",
       "</pre>\n"
      ],
      "text/plain": [
       "New Oil Viscosity: \u001b[1;36m0.56967561796921\u001b[0m \u001b[1;36m0.6541723394299359\u001b[0m\n"
      ]
     },
     "metadata": {},
     "output_type": "display_data"
    },
    {
     "name": "stdout",
     "output_type": "stream",
     "text": [
      "TIME STEP 3\n"
     ]
    },
    {
     "data": {
      "text/html": [
       "<pre style=\"white-space:pre;overflow-x:auto;line-height:normal;font-family:Menlo,'DejaVu Sans Mono',consolas,'Courier New',monospace\"><span style=\"color: #008080; text-decoration-color: #008080; font-weight: bold\">Computing pressure evolution...</span>\n",
       "</pre>\n"
      ],
      "text/plain": [
       "\u001b[1;36mComputing pressure evolution\u001b[0m\u001b[1;36m...\u001b[0m\n"
      ]
     },
     "metadata": {},
     "output_type": "display_data"
    },
    {
     "data": {
      "text/html": [
       "<pre style=\"white-space:pre;overflow-x:auto;line-height:normal;font-family:Menlo,'DejaVu Sans Mono',consolas,'Courier New',monospace\">Old Pressure Grid <span style=\"color: #008080; text-decoration-color: #008080; font-weight: bold\">1550.3671925036392</span> <span style=\"color: #008080; text-decoration-color: #008080; font-weight: bold\">1918.635369009716</span>\n",
       "</pre>\n"
      ],
      "text/plain": [
       "Old Pressure Grid \u001b[1;36m1550.3671925036392\u001b[0m \u001b[1;36m1918.635369009716\u001b[0m\n"
      ]
     },
     "metadata": {},
     "output_type": "display_data"
    },
    {
     "data": {
      "text/html": [
       "<pre style=\"white-space:pre;overflow-x:auto;line-height:normal;font-family:Menlo,'DejaVu Sans Mono',consolas,'Courier New',monospace\">New Pressure Grid <span style=\"color: #008080; text-decoration-color: #008080; font-weight: bold\">1549.9910282092985</span> <span style=\"color: #008080; text-decoration-color: #008080; font-weight: bold\">1918.1028054970468</span>\n",
       "</pre>\n"
      ],
      "text/plain": [
       "New Pressure Grid \u001b[1;36m1549.9910282092985\u001b[0m \u001b[1;36m1918.1028054970468\u001b[0m\n"
      ]
     },
     "metadata": {},
     "output_type": "display_data"
    },
    {
     "data": {
      "text/html": [
       "<pre style=\"white-space:pre;overflow-x:auto;line-height:normal;font-family:Menlo,'DejaVu Sans Mono',consolas,'Courier New',monospace\"><span style=\"color: #008080; text-decoration-color: #008080; font-weight: bold\">Updating fluid properties...</span>\n",
       "</pre>\n"
      ],
      "text/plain": [
       "\u001b[1;36mUpdating fluid properties\u001b[0m\u001b[1;36m...\u001b[0m\n"
      ]
     },
     "metadata": {},
     "output_type": "display_data"
    },
    {
     "data": {
      "text/html": [
       "<pre style=\"white-space:pre;overflow-x:auto;line-height:normal;font-family:Menlo,'DejaVu Sans Mono',consolas,'Courier New',monospace\">Old Water Saturation Grid <span style=\"color: #008080; text-decoration-color: #008080; font-weight: bold\">0.19999879449690036</span> <span style=\"color: #008080; text-decoration-color: #008080; font-weight: bold\">0.20000008816860476</span>\n",
       "</pre>\n"
      ],
      "text/plain": [
       "Old Water Saturation Grid \u001b[1;36m0.19999879449690036\u001b[0m \u001b[1;36m0.20000008816860476\u001b[0m\n"
      ]
     },
     "metadata": {},
     "output_type": "display_data"
    },
    {
     "data": {
      "text/html": [
       "<pre style=\"white-space:pre;overflow-x:auto;line-height:normal;font-family:Menlo,'DejaVu Sans Mono',consolas,'Courier New',monospace\">Old Oil Saturation Grid <span style=\"color: #008080; text-decoration-color: #008080; font-weight: bold\">0.7999999118313952</span> <span style=\"color: #008080; text-decoration-color: #008080; font-weight: bold\">0.8000012055030996</span>\n",
       "</pre>\n"
      ],
      "text/plain": [
       "Old Oil Saturation Grid \u001b[1;36m0.7999999118313952\u001b[0m \u001b[1;36m0.8000012055030996\u001b[0m\n"
      ]
     },
     "metadata": {},
     "output_type": "display_data"
    },
    {
     "data": {
      "text/html": [
       "<pre style=\"white-space:pre;overflow-x:auto;line-height:normal;font-family:Menlo,'DejaVu Sans Mono',consolas,'Courier New',monospace\">Old Gas Saturation Grid <span style=\"color: #008080; text-decoration-color: #008080; font-weight: bold\">0.0</span> <span style=\"color: #008080; text-decoration-color: #008080; font-weight: bold\">7.535750594573702e-18</span>\n",
       "</pre>\n"
      ],
      "text/plain": [
       "Old Gas Saturation Grid \u001b[1;36m0.0\u001b[0m \u001b[1;36m7.535750594573702e-18\u001b[0m\n"
      ]
     },
     "metadata": {},
     "output_type": "display_data"
    },
    {
     "data": {
      "text/html": [
       "<pre style=\"white-space:pre;overflow-x:auto;line-height:normal;font-family:Menlo,'DejaVu Sans Mono',consolas,'Courier New',monospace\">New Water Saturation Grid <span style=\"color: #008080; text-decoration-color: #008080; font-weight: bold\">0.19999768900131856</span> <span style=\"color: #008080; text-decoration-color: #008080; font-weight: bold\">0.20000017201992884</span>\n",
       "</pre>\n"
      ],
      "text/plain": [
       "New Water Saturation Grid \u001b[1;36m0.19999768900131856\u001b[0m \u001b[1;36m0.20000017201992884\u001b[0m\n"
      ]
     },
     "metadata": {},
     "output_type": "display_data"
    },
    {
     "data": {
      "text/html": [
       "<pre style=\"white-space:pre;overflow-x:auto;line-height:normal;font-family:Menlo,'DejaVu Sans Mono',consolas,'Courier New',monospace\">New Oil Saturation Grid <span style=\"color: #008080; text-decoration-color: #008080; font-weight: bold\">0.7999998279800712</span> <span style=\"color: #008080; text-decoration-color: #008080; font-weight: bold\">0.8000023109986815</span>\n",
       "</pre>\n"
      ],
      "text/plain": [
       "New Oil Saturation Grid \u001b[1;36m0.7999998279800712\u001b[0m \u001b[1;36m0.8000023109986815\u001b[0m\n"
      ]
     },
     "metadata": {},
     "output_type": "display_data"
    },
    {
     "data": {
      "text/html": [
       "<pre style=\"white-space:pre;overflow-x:auto;line-height:normal;font-family:Menlo,'DejaVu Sans Mono',consolas,'Courier New',monospace\">New Gas Saturation Grid <span style=\"color: #008080; text-decoration-color: #008080; font-weight: bold\">0.0</span> <span style=\"color: #008080; text-decoration-color: #008080; font-weight: bold\">1.1305134187101098e-17</span>\n",
       "</pre>\n"
      ],
      "text/plain": [
       "New Gas Saturation Grid \u001b[1;36m0.0\u001b[0m \u001b[1;36m1.1305134187101098e-17\u001b[0m\n"
      ]
     },
     "metadata": {},
     "output_type": "display_data"
    },
    {
     "data": {
      "text/html": [
       "<pre style=\"white-space:pre;overflow-x:auto;line-height:normal;font-family:Menlo,'DejaVu Sans Mono',consolas,'Courier New',monospace\"><span style=\"color: #008080; text-decoration-color: #008080; font-weight: bold\">Updating static fluid properties...</span>\n",
       "</pre>\n"
      ],
      "text/plain": [
       "\u001b[1;36mUpdating static fluid properties\u001b[0m\u001b[1;36m...\u001b[0m\n"
      ]
     },
     "metadata": {},
     "output_type": "display_data"
    },
    {
     "data": {
      "text/html": [
       "<pre style=\"white-space:pre;overflow-x:auto;line-height:normal;font-family:Menlo,'DejaVu Sans Mono',consolas,'Courier New',monospace\"><span style=\"font-weight: bold\">Gas Gravity:</span> <span style=\"color: #008080; text-decoration-color: #008080; font-weight: bold\">0.5547184122441046</span> <span style=\"color: #008080; text-decoration-color: #008080; font-weight: bold\">0.5547184122441046</span>\n",
       "</pre>\n"
      ],
      "text/plain": [
       "\u001b[1mGas Gravity:\u001b[0m \u001b[1;36m0.5547184122441046\u001b[0m \u001b[1;36m0.5547184122441046\u001b[0m\n"
      ]
     },
     "metadata": {},
     "output_type": "display_data"
    },
    {
     "data": {
      "text/html": [
       "<pre style=\"white-space:pre;overflow-x:auto;line-height:normal;font-family:Menlo,'DejaVu Sans Mono',consolas,'Courier New',monospace\">Gas Compressibility Factor: <span style=\"color: #008080; text-decoration-color: #008080; font-weight: bold\">0.1</span> <span style=\"color: #008080; text-decoration-color: #008080; font-weight: bold\">0.1</span>\n",
       "</pre>\n"
      ],
      "text/plain": [
       "Gas Compressibility Factor: \u001b[1;36m0.1\u001b[0m \u001b[1;36m0.1\u001b[0m\n"
      ]
     },
     "metadata": {},
     "output_type": "display_data"
    },
    {
     "data": {
      "text/html": [
       "<pre style=\"white-space:pre;overflow-x:auto;line-height:normal;font-family:Menlo,'DejaVu Sans Mono',consolas,'Courier New',monospace\">New Gas Compressibility: <span style=\"color: #008080; text-decoration-color: #008080; font-weight: bold\">0.0</span> <span style=\"color: #008080; text-decoration-color: #008080; font-weight: bold\">0.0</span>\n",
       "</pre>\n"
      ],
      "text/plain": [
       "New Gas Compressibility: \u001b[1;36m0.0\u001b[0m \u001b[1;36m0.0\u001b[0m\n"
      ]
     },
     "metadata": {},
     "output_type": "display_data"
    },
    {
     "data": {
      "text/html": [
       "<pre style=\"white-space:pre;overflow-x:auto;line-height:normal;font-family:Menlo,'DejaVu Sans Mono',consolas,'Courier New',monospace\">New Gas Formation Volume Factor: <span style=\"color: #008080; text-decoration-color: #008080; font-weight: bold\">0.0012769562331663587</span> <span style=\"color: #008080; text-decoration-color: #008080; font-weight: bold\">0.004643794124414082</span>\n",
       "</pre>\n"
      ],
      "text/plain": [
       "New Gas Formation Volume Factor: \u001b[1;36m0.0012769562331663587\u001b[0m \u001b[1;36m0.004643794124414082\u001b[0m\n"
      ]
     },
     "metadata": {},
     "output_type": "display_data"
    },
    {
     "data": {
      "text/html": [
       "<pre style=\"white-space:pre;overflow-x:auto;line-height:normal;font-family:Menlo,'DejaVu Sans Mono',consolas,'Courier New',monospace\">New Gas Density: <span style=\"color: #008080; text-decoration-color: #008080; font-weight: bold\">0.06875092075598514</span> <span style=\"color: #008080; text-decoration-color: #008080; font-weight: bold\">0.11312202154366055</span>\n",
       "</pre>\n"
      ],
      "text/plain": [
       "New Gas Density: \u001b[1;36m0.06875092075598514\u001b[0m \u001b[1;36m0.11312202154366055\u001b[0m\n"
      ]
     },
     "metadata": {},
     "output_type": "display_data"
    },
    {
     "data": {
      "text/html": [
       "<pre style=\"white-space:pre;overflow-x:auto;line-height:normal;font-family:Menlo,'DejaVu Sans Mono',consolas,'Courier New',monospace\">New Gas Viscosity: <span style=\"color: #008080; text-decoration-color: #008080; font-weight: bold\">0.01617927344502306</span> <span style=\"color: #008080; text-decoration-color: #008080; font-weight: bold\">0.02030601539000146</span>\n",
       "</pre>\n"
      ],
      "text/plain": [
       "New Gas Viscosity: \u001b[1;36m0.01617927344502306\u001b[0m \u001b[1;36m0.02030601539000146\u001b[0m\n"
      ]
     },
     "metadata": {},
     "output_type": "display_data"
    },
    {
     "data": {
      "text/html": [
       "<pre style=\"white-space:pre;overflow-x:auto;line-height:normal;font-family:Menlo,'DejaVu Sans Mono',consolas,'Courier New',monospace\">Gas Solubility in Water: <span style=\"color: #008080; text-decoration-color: #008080; font-weight: bold\">2.098712542255577</span> <span style=\"color: #008080; text-decoration-color: #008080; font-weight: bold\">2.426854028309723</span>\n",
       "</pre>\n"
      ],
      "text/plain": [
       "Gas Solubility in Water: \u001b[1;36m2.098712542255577\u001b[0m \u001b[1;36m2.426854028309723\u001b[0m\n"
      ]
     },
     "metadata": {},
     "output_type": "display_data"
    },
    {
     "data": {
      "text/html": [
       "<pre style=\"white-space:pre;overflow-x:auto;line-height:normal;font-family:Menlo,'DejaVu Sans Mono',consolas,'Courier New',monospace\">New Water Bubble Point Pressure: <span style=\"color: #008080; text-decoration-color: #008080; font-weight: bold\">1549.9910282092958</span> <span style=\"color: #008080; text-decoration-color: #008080; font-weight: bold\">1918.1028054970427</span>\n",
       "</pre>\n"
      ],
      "text/plain": [
       "New Water Bubble Point Pressure: \u001b[1;36m1549.9910282092958\u001b[0m \u001b[1;36m1918.1028054970427\u001b[0m\n"
      ]
     },
     "metadata": {},
     "output_type": "display_data"
    },
    {
     "data": {
      "text/html": [
       "<pre style=\"white-space:pre;overflow-x:auto;line-height:normal;font-family:Menlo,'DejaVu Sans Mono',consolas,'Courier New',monospace\">New Water Compressibility: <span style=\"color: #008080; text-decoration-color: #008080; font-weight: bold\">0.0</span> <span style=\"color: #008080; text-decoration-color: #008080; font-weight: bold\">3.864150633267188e-09</span>\n",
       "</pre>\n"
      ],
      "text/plain": [
       "New Water Compressibility: \u001b[1;36m0.0\u001b[0m \u001b[1;36m3.864150633267188e-09\u001b[0m\n"
      ]
     },
     "metadata": {},
     "output_type": "display_data"
    },
    {
     "data": {
      "text/html": [
       "<pre style=\"white-space:pre;overflow-x:auto;line-height:normal;font-family:Menlo,'DejaVu Sans Mono',consolas,'Courier New',monospace\">New Water Formation Volume Factor: <span style=\"color: #008080; text-decoration-color: #008080; font-weight: bold\">1.0085460814979386</span> <span style=\"color: #008080; text-decoration-color: #008080; font-weight: bold\">1.0792974261526087</span>\n",
       "</pre>\n"
      ],
      "text/plain": [
       "New Water Formation Volume Factor: \u001b[1;36m1.0085460814979386\u001b[0m \u001b[1;36m1.0792974261526087\u001b[0m\n"
      ]
     },
     "metadata": {},
     "output_type": "display_data"
    },
    {
     "data": {
      "text/html": [
       "<pre style=\"white-space:pre;overflow-x:auto;line-height:normal;font-family:Menlo,'DejaVu Sans Mono',consolas,'Courier New',monospace\">New Water Density: <span style=\"color: #008080; text-decoration-color: #008080; font-weight: bold\">57.84268445942758</span> <span style=\"color: #008080; text-decoration-color: #008080; font-weight: bold\">61.90045401570159</span>\n",
       "</pre>\n"
      ],
      "text/plain": [
       "New Water Density: \u001b[1;36m57.84268445942758\u001b[0m \u001b[1;36m61.90045401570159\u001b[0m\n"
      ]
     },
     "metadata": {},
     "output_type": "display_data"
    },
    {
     "data": {
      "text/html": [
       "<pre style=\"white-space:pre;overflow-x:auto;line-height:normal;font-family:Menlo,'DejaVu Sans Mono',consolas,'Courier New',monospace\">New Water Viscosity: <span style=\"color: #008080; text-decoration-color: #008080; font-weight: bold\">0.9139490201600498</span> <span style=\"color: #008080; text-decoration-color: #008080; font-weight: bold\">1.0036263547168625</span>\n",
       "</pre>\n"
      ],
      "text/plain": [
       "New Water Viscosity: \u001b[1;36m0.9139490201600498\u001b[0m \u001b[1;36m1.0036263547168625\u001b[0m\n"
      ]
     },
     "metadata": {},
     "output_type": "display_data"
    },
    {
     "name": "stdout",
     "output_type": "stream",
     "text": [
      "Old GOR Grid: 71.80662629125224 191.90068605398687\n"
     ]
    },
    {
     "data": {
      "text/html": [
       "<pre style=\"white-space:pre;overflow-x:auto;line-height:normal;font-family:Menlo,'DejaVu Sans Mono',consolas,'Courier New',monospace\">Oil Specific Gravity: <span style=\"color: #008080; text-decoration-color: #008080; font-weight: bold\">0.8</span> <span style=\"color: #008080; text-decoration-color: #008080; font-weight: bold\">0.9</span>\n",
       "</pre>\n"
      ],
      "text/plain": [
       "Oil Specific Gravity: \u001b[1;36m0.8\u001b[0m \u001b[1;36m0.9\u001b[0m\n"
      ]
     },
     "metadata": {},
     "output_type": "display_data"
    },
    {
     "data": {
      "text/html": [
       "<pre style=\"white-space:pre;overflow-x:auto;line-height:normal;font-family:Menlo,'DejaVu Sans Mono',consolas,'Courier New',monospace\">Oil API Gravity: <span style=\"color: #008080; text-decoration-color: #008080; font-weight: bold\">25.72222222222223</span> <span style=\"color: #008080; text-decoration-color: #008080; font-weight: bold\">45.375</span>\n",
       "</pre>\n"
      ],
      "text/plain": [
       "Oil API Gravity: \u001b[1;36m25.72222222222223\u001b[0m \u001b[1;36m45.375\u001b[0m\n"
      ]
     },
     "metadata": {},
     "output_type": "display_data"
    },
    {
     "data": {
      "text/html": [
       "<pre style=\"white-space:pre;overflow-x:auto;line-height:normal;font-family:Menlo,'DejaVu Sans Mono',consolas,'Courier New',monospace\">New Oil Bubble Point Pressure: <span style=\"color: #008080; text-decoration-color: #008080; font-weight: bold\">799.9999999999992</span> <span style=\"color: #008080; text-decoration-color: #008080; font-weight: bold\">800.0000000000005</span>\n",
       "</pre>\n"
      ],
      "text/plain": [
       "New Oil Bubble Point Pressure: \u001b[1;36m799.9999999999992\u001b[0m \u001b[1;36m800.0000000000005\u001b[0m\n"
      ]
     },
     "metadata": {},
     "output_type": "display_data"
    },
    {
     "data": {
      "text/html": [
       "<pre style=\"white-space:pre;overflow-x:auto;line-height:normal;font-family:Menlo,'DejaVu Sans Mono',consolas,'Courier New',monospace\">New Oil Formation Volume Factor: <span style=\"color: #008080; text-decoration-color: #008080; font-weight: bold\">1.0207626914004178</span> <span style=\"color: #008080; text-decoration-color: #008080; font-weight: bold\">1.077317222065206</span>\n",
       "</pre>\n"
      ],
      "text/plain": [
       "New Oil Formation Volume Factor: \u001b[1;36m1.0207626914004178\u001b[0m \u001b[1;36m1.077317222065206\u001b[0m\n"
      ]
     },
     "metadata": {},
     "output_type": "display_data"
    },
    {
     "data": {
      "text/html": [
       "<pre style=\"white-space:pre;overflow-x:auto;line-height:normal;font-family:Menlo,'DejaVu Sans Mono',consolas,'Courier New',monospace\">New Gas to Oil Ratio: <span style=\"color: #008080; text-decoration-color: #008080; font-weight: bold\">71.80662629125224</span> <span style=\"color: #008080; text-decoration-color: #008080; font-weight: bold\">191.90068605398685</span>\n",
       "</pre>\n"
      ],
      "text/plain": [
       "New Gas to Oil Ratio: \u001b[1;36m71.80662629125224\u001b[0m \u001b[1;36m191.90068605398685\u001b[0m\n"
      ]
     },
     "metadata": {},
     "output_type": "display_data"
    },
    {
     "data": {
      "text/html": [
       "<pre style=\"white-space:pre;overflow-x:auto;line-height:normal;font-family:Menlo,'DejaVu Sans Mono',consolas,'Courier New',monospace\">New Oil Compressibility: <span style=\"color: #008080; text-decoration-color: #008080; font-weight: bold\">6.069093118917724e-06</span> <span style=\"color: #008080; text-decoration-color: #008080; font-weight: bold\">2.373607382780917e-05</span>\n",
       "</pre>\n"
      ],
      "text/plain": [
       "New Oil Compressibility: \u001b[1;36m6.069093118917724e-06\u001b[0m \u001b[1;36m2.373607382780917e-05\u001b[0m\n"
      ]
     },
     "metadata": {},
     "output_type": "display_data"
    },
    {
     "data": {
      "text/html": [
       "<pre style=\"white-space:pre;overflow-x:auto;line-height:normal;font-family:Menlo,'DejaVu Sans Mono',consolas,'Courier New',monospace\">New Oil Density: <span style=\"color: #008080; text-decoration-color: #008080; font-weight: bold\">47.65828468641155</span> <span style=\"color: #008080; text-decoration-color: #008080; font-weight: bold\">55.52170175789975</span>\n",
       "</pre>\n"
      ],
      "text/plain": [
       "New Oil Density: \u001b[1;36m47.65828468641155\u001b[0m \u001b[1;36m55.52170175789975\u001b[0m\n"
      ]
     },
     "metadata": {},
     "output_type": "display_data"
    },
    {
     "data": {
      "text/html": [
       "<pre style=\"white-space:pre;overflow-x:auto;line-height:normal;font-family:Menlo,'DejaVu Sans Mono',consolas,'Courier New',monospace\">New Oil Viscosity: <span style=\"color: #008080; text-decoration-color: #008080; font-weight: bold\">0.5696550032135174</span> <span style=\"color: #008080; text-decoration-color: #008080; font-weight: bold\">0.6541131880256098</span>\n",
       "</pre>\n"
      ],
      "text/plain": [
       "New Oil Viscosity: \u001b[1;36m0.5696550032135174\u001b[0m \u001b[1;36m0.6541131880256098\u001b[0m\n"
      ]
     },
     "metadata": {},
     "output_type": "display_data"
    },
    {
     "name": "stdout",
     "output_type": "stream",
     "text": [
      "TIME STEP 4\n"
     ]
    },
    {
     "data": {
      "text/html": [
       "<pre style=\"white-space:pre;overflow-x:auto;line-height:normal;font-family:Menlo,'DejaVu Sans Mono',consolas,'Courier New',monospace\"><span style=\"color: #008080; text-decoration-color: #008080; font-weight: bold\">Computing pressure evolution...</span>\n",
       "</pre>\n"
      ],
      "text/plain": [
       "\u001b[1;36mComputing pressure evolution\u001b[0m\u001b[1;36m...\u001b[0m\n"
      ]
     },
     "metadata": {},
     "output_type": "display_data"
    },
    {
     "data": {
      "text/html": [
       "<pre style=\"white-space:pre;overflow-x:auto;line-height:normal;font-family:Menlo,'DejaVu Sans Mono',consolas,'Courier New',monospace\">Old Pressure Grid <span style=\"color: #008080; text-decoration-color: #008080; font-weight: bold\">1549.9910282092985</span> <span style=\"color: #008080; text-decoration-color: #008080; font-weight: bold\">1918.1028054970468</span>\n",
       "</pre>\n"
      ],
      "text/plain": [
       "Old Pressure Grid \u001b[1;36m1549.9910282092985\u001b[0m \u001b[1;36m1918.1028054970468\u001b[0m\n"
      ]
     },
     "metadata": {},
     "output_type": "display_data"
    },
    {
     "data": {
      "text/html": [
       "<pre style=\"white-space:pre;overflow-x:auto;line-height:normal;font-family:Menlo,'DejaVu Sans Mono',consolas,'Courier New',monospace\">New Pressure Grid <span style=\"color: #008080; text-decoration-color: #008080; font-weight: bold\">1549.6150292705336</span> <span style=\"color: #008080; text-decoration-color: #008080; font-weight: bold\">1917.5714167437825</span>\n",
       "</pre>\n"
      ],
      "text/plain": [
       "New Pressure Grid \u001b[1;36m1549.6150292705336\u001b[0m \u001b[1;36m1917.5714167437825\u001b[0m\n"
      ]
     },
     "metadata": {},
     "output_type": "display_data"
    },
    {
     "data": {
      "text/html": [
       "<pre style=\"white-space:pre;overflow-x:auto;line-height:normal;font-family:Menlo,'DejaVu Sans Mono',consolas,'Courier New',monospace\"><span style=\"color: #008080; text-decoration-color: #008080; font-weight: bold\">Updating fluid properties...</span>\n",
       "</pre>\n"
      ],
      "text/plain": [
       "\u001b[1;36mUpdating fluid properties\u001b[0m\u001b[1;36m...\u001b[0m\n"
      ]
     },
     "metadata": {},
     "output_type": "display_data"
    },
    {
     "data": {
      "text/html": [
       "<pre style=\"white-space:pre;overflow-x:auto;line-height:normal;font-family:Menlo,'DejaVu Sans Mono',consolas,'Courier New',monospace\">Old Water Saturation Grid <span style=\"color: #008080; text-decoration-color: #008080; font-weight: bold\">0.19999768900131856</span> <span style=\"color: #008080; text-decoration-color: #008080; font-weight: bold\">0.20000017201992884</span>\n",
       "</pre>\n"
      ],
      "text/plain": [
       "Old Water Saturation Grid \u001b[1;36m0.19999768900131856\u001b[0m \u001b[1;36m0.20000017201992884\u001b[0m\n"
      ]
     },
     "metadata": {},
     "output_type": "display_data"
    },
    {
     "data": {
      "text/html": [
       "<pre style=\"white-space:pre;overflow-x:auto;line-height:normal;font-family:Menlo,'DejaVu Sans Mono',consolas,'Courier New',monospace\">Old Oil Saturation Grid <span style=\"color: #008080; text-decoration-color: #008080; font-weight: bold\">0.7999998279800712</span> <span style=\"color: #008080; text-decoration-color: #008080; font-weight: bold\">0.8000023109986815</span>\n",
       "</pre>\n"
      ],
      "text/plain": [
       "Old Oil Saturation Grid \u001b[1;36m0.7999998279800712\u001b[0m \u001b[1;36m0.8000023109986815\u001b[0m\n"
      ]
     },
     "metadata": {},
     "output_type": "display_data"
    },
    {
     "data": {
      "text/html": [
       "<pre style=\"white-space:pre;overflow-x:auto;line-height:normal;font-family:Menlo,'DejaVu Sans Mono',consolas,'Courier New',monospace\">Old Gas Saturation Grid <span style=\"color: #008080; text-decoration-color: #008080; font-weight: bold\">0.0</span> <span style=\"color: #008080; text-decoration-color: #008080; font-weight: bold\">1.1305134187101098e-17</span>\n",
       "</pre>\n"
      ],
      "text/plain": [
       "Old Gas Saturation Grid \u001b[1;36m0.0\u001b[0m \u001b[1;36m1.1305134187101098e-17\u001b[0m\n"
      ]
     },
     "metadata": {},
     "output_type": "display_data"
    },
    {
     "data": {
      "text/html": [
       "<pre style=\"white-space:pre;overflow-x:auto;line-height:normal;font-family:Menlo,'DejaVu Sans Mono',consolas,'Courier New',monospace\">New Water Saturation Grid <span style=\"color: #008080; text-decoration-color: #008080; font-weight: bold\">0.1999965710654616</span> <span style=\"color: #008080; text-decoration-color: #008080; font-weight: bold\">0.20000025597804663</span>\n",
       "</pre>\n"
      ],
      "text/plain": [
       "New Water Saturation Grid \u001b[1;36m0.1999965710654616\u001b[0m \u001b[1;36m0.20000025597804663\u001b[0m\n"
      ]
     },
     "metadata": {},
     "output_type": "display_data"
    },
    {
     "data": {
      "text/html": [
       "<pre style=\"white-space:pre;overflow-x:auto;line-height:normal;font-family:Menlo,'DejaVu Sans Mono',consolas,'Courier New',monospace\">New Oil Saturation Grid <span style=\"color: #008080; text-decoration-color: #008080; font-weight: bold\">0.7999997440219534</span> <span style=\"color: #008080; text-decoration-color: #008080; font-weight: bold\">0.8000034289345385</span>\n",
       "</pre>\n"
      ],
      "text/plain": [
       "New Oil Saturation Grid \u001b[1;36m0.7999997440219534\u001b[0m \u001b[1;36m0.8000034289345385\u001b[0m\n"
      ]
     },
     "metadata": {},
     "output_type": "display_data"
    },
    {
     "data": {
      "text/html": [
       "<pre style=\"white-space:pre;overflow-x:auto;line-height:normal;font-family:Menlo,'DejaVu Sans Mono',consolas,'Courier New',monospace\">New Gas Saturation Grid <span style=\"color: #008080; text-decoration-color: #008080; font-weight: bold\">0.0</span> <span style=\"color: #008080; text-decoration-color: #008080; font-weight: bold\">1.507564840869333e-17</span>\n",
       "</pre>\n"
      ],
      "text/plain": [
       "New Gas Saturation Grid \u001b[1;36m0.0\u001b[0m \u001b[1;36m1.507564840869333e-17\u001b[0m\n"
      ]
     },
     "metadata": {},
     "output_type": "display_data"
    },
    {
     "data": {
      "text/html": [
       "<pre style=\"white-space:pre;overflow-x:auto;line-height:normal;font-family:Menlo,'DejaVu Sans Mono',consolas,'Courier New',monospace\"><span style=\"color: #008080; text-decoration-color: #008080; font-weight: bold\">Updating static fluid properties...</span>\n",
       "</pre>\n"
      ],
      "text/plain": [
       "\u001b[1;36mUpdating static fluid properties\u001b[0m\u001b[1;36m...\u001b[0m\n"
      ]
     },
     "metadata": {},
     "output_type": "display_data"
    },
    {
     "data": {
      "text/html": [
       "<pre style=\"white-space:pre;overflow-x:auto;line-height:normal;font-family:Menlo,'DejaVu Sans Mono',consolas,'Courier New',monospace\"><span style=\"font-weight: bold\">Gas Gravity:</span> <span style=\"color: #008080; text-decoration-color: #008080; font-weight: bold\">0.5547184122441046</span> <span style=\"color: #008080; text-decoration-color: #008080; font-weight: bold\">0.5547184122441046</span>\n",
       "</pre>\n"
      ],
      "text/plain": [
       "\u001b[1mGas Gravity:\u001b[0m \u001b[1;36m0.5547184122441046\u001b[0m \u001b[1;36m0.5547184122441046\u001b[0m\n"
      ]
     },
     "metadata": {},
     "output_type": "display_data"
    },
    {
     "data": {
      "text/html": [
       "<pre style=\"white-space:pre;overflow-x:auto;line-height:normal;font-family:Menlo,'DejaVu Sans Mono',consolas,'Courier New',monospace\">Gas Compressibility Factor: <span style=\"color: #008080; text-decoration-color: #008080; font-weight: bold\">0.1</span> <span style=\"color: #008080; text-decoration-color: #008080; font-weight: bold\">0.1</span>\n",
       "</pre>\n"
      ],
      "text/plain": [
       "Gas Compressibility Factor: \u001b[1;36m0.1\u001b[0m \u001b[1;36m0.1\u001b[0m\n"
      ]
     },
     "metadata": {},
     "output_type": "display_data"
    },
    {
     "data": {
      "text/html": [
       "<pre style=\"white-space:pre;overflow-x:auto;line-height:normal;font-family:Menlo,'DejaVu Sans Mono',consolas,'Courier New',monospace\">New Gas Compressibility: <span style=\"color: #008080; text-decoration-color: #008080; font-weight: bold\">0.0</span> <span style=\"color: #008080; text-decoration-color: #008080; font-weight: bold\">0.0</span>\n",
       "</pre>\n"
      ],
      "text/plain": [
       "New Gas Compressibility: \u001b[1;36m0.0\u001b[0m \u001b[1;36m0.0\u001b[0m\n"
      ]
     },
     "metadata": {},
     "output_type": "display_data"
    },
    {
     "data": {
      "text/html": [
       "<pre style=\"white-space:pre;overflow-x:auto;line-height:normal;font-family:Menlo,'DejaVu Sans Mono',consolas,'Courier New',monospace\">New Gas Formation Volume Factor: <span style=\"color: #008080; text-decoration-color: #008080; font-weight: bold\">0.0012773100975256154</span> <span style=\"color: #008080; text-decoration-color: #008080; font-weight: bold\">0.004644487382073044</span>\n",
       "</pre>\n"
      ],
      "text/plain": [
       "New Gas Formation Volume Factor: \u001b[1;36m0.0012773100975256154\u001b[0m \u001b[1;36m0.004644487382073044\u001b[0m\n"
      ]
     },
     "metadata": {},
     "output_type": "display_data"
    },
    {
     "data": {
      "text/html": [
       "<pre style=\"white-space:pre;overflow-x:auto;line-height:normal;font-family:Menlo,'DejaVu Sans Mono',consolas,'Courier New',monospace\">New Gas Density: <span style=\"color: #008080; text-decoration-color: #008080; font-weight: bold\">0.06874065867570503</span> <span style=\"color: #008080; text-decoration-color: #008080; font-weight: bold\">0.11309068236318359</span>\n",
       "</pre>\n"
      ],
      "text/plain": [
       "New Gas Density: \u001b[1;36m0.06874065867570503\u001b[0m \u001b[1;36m0.11309068236318359\u001b[0m\n"
      ]
     },
     "metadata": {},
     "output_type": "display_data"
    },
    {
     "data": {
      "text/html": [
       "<pre style=\"white-space:pre;overflow-x:auto;line-height:normal;font-family:Menlo,'DejaVu Sans Mono',consolas,'Courier New',monospace\">New Gas Viscosity: <span style=\"color: #008080; text-decoration-color: #008080; font-weight: bold\">0.01617926952098471</span> <span style=\"color: #008080; text-decoration-color: #008080; font-weight: bold\">0.020306015366140334</span>\n",
       "</pre>\n"
      ],
      "text/plain": [
       "New Gas Viscosity: \u001b[1;36m0.01617926952098471\u001b[0m \u001b[1;36m0.020306015366140334\u001b[0m\n"
      ]
     },
     "metadata": {},
     "output_type": "display_data"
    },
    {
     "data": {
      "text/html": [
       "<pre style=\"white-space:pre;overflow-x:auto;line-height:normal;font-family:Menlo,'DejaVu Sans Mono',consolas,'Courier New',monospace\">Gas Solubility in Water: <span style=\"color: #008080; text-decoration-color: #008080; font-weight: bold\">2.098702285903849</span> <span style=\"color: #008080; text-decoration-color: #008080; font-weight: bold\">2.426852742071736</span>\n",
       "</pre>\n"
      ],
      "text/plain": [
       "Gas Solubility in Water: \u001b[1;36m2.098702285903849\u001b[0m \u001b[1;36m2.426852742071736\u001b[0m\n"
      ]
     },
     "metadata": {},
     "output_type": "display_data"
    },
    {
     "data": {
      "text/html": [
       "<pre style=\"white-space:pre;overflow-x:auto;line-height:normal;font-family:Menlo,'DejaVu Sans Mono',consolas,'Courier New',monospace\">New Water Bubble Point Pressure: <span style=\"color: #008080; text-decoration-color: #008080; font-weight: bold\">1549.6150292705374</span> <span style=\"color: #008080; text-decoration-color: #008080; font-weight: bold\">1917.5714167437807</span>\n",
       "</pre>\n"
      ],
      "text/plain": [
       "New Water Bubble Point Pressure: \u001b[1;36m1549.6150292705374\u001b[0m \u001b[1;36m1917.5714167437807\u001b[0m\n"
      ]
     },
     "metadata": {},
     "output_type": "display_data"
    },
    {
     "data": {
      "text/html": [
       "<pre style=\"white-space:pre;overflow-x:auto;line-height:normal;font-family:Menlo,'DejaVu Sans Mono',consolas,'Courier New',monospace\">New Water Compressibility: <span style=\"color: #008080; text-decoration-color: #008080; font-weight: bold\">0.0</span> <span style=\"color: #008080; text-decoration-color: #008080; font-weight: bold\">3.876550158913769e-09</span>\n",
       "</pre>\n"
      ],
      "text/plain": [
       "New Water Compressibility: \u001b[1;36m0.0\u001b[0m \u001b[1;36m3.876550158913769e-09\u001b[0m\n"
      ]
     },
     "metadata": {},
     "output_type": "display_data"
    },
    {
     "data": {
      "text/html": [
       "<pre style=\"white-space:pre;overflow-x:auto;line-height:normal;font-family:Menlo,'DejaVu Sans Mono',consolas,'Courier New',monospace\">New Water Formation Volume Factor: <span style=\"color: #008080; text-decoration-color: #008080; font-weight: bold\">1.0085460850180483</span> <span style=\"color: #008080; text-decoration-color: #008080; font-weight: bold\">1.0792974278737923</span>\n",
       "</pre>\n"
      ],
      "text/plain": [
       "New Water Formation Volume Factor: \u001b[1;36m1.0085460850180483\u001b[0m \u001b[1;36m1.0792974278737923\u001b[0m\n"
      ]
     },
     "metadata": {},
     "output_type": "display_data"
    },
    {
     "data": {
      "text/html": [
       "<pre style=\"white-space:pre;overflow-x:auto;line-height:normal;font-family:Menlo,'DejaVu Sans Mono',consolas,'Courier New',monospace\">New Water Density: <span style=\"color: #008080; text-decoration-color: #008080; font-weight: bold\">57.84268436720736</span> <span style=\"color: #008080; text-decoration-color: #008080; font-weight: bold\">61.900453800122115</span>\n",
       "</pre>\n"
      ],
      "text/plain": [
       "New Water Density: \u001b[1;36m57.84268436720736\u001b[0m \u001b[1;36m61.900453800122115\u001b[0m\n"
      ]
     },
     "metadata": {},
     "output_type": "display_data"
    },
    {
     "data": {
      "text/html": [
       "<pre style=\"white-space:pre;overflow-x:auto;line-height:normal;font-family:Menlo,'DejaVu Sans Mono',consolas,'Courier New',monospace\">New Water Viscosity: <span style=\"color: #008080; text-decoration-color: #008080; font-weight: bold\">0.9139329765621469</span> <span style=\"color: #008080; text-decoration-color: #008080; font-weight: bold\">1.003600765507225</span>\n",
       "</pre>\n"
      ],
      "text/plain": [
       "New Water Viscosity: \u001b[1;36m0.9139329765621469\u001b[0m \u001b[1;36m1.003600765507225\u001b[0m\n"
      ]
     },
     "metadata": {},
     "output_type": "display_data"
    },
    {
     "name": "stdout",
     "output_type": "stream",
     "text": [
      "Old GOR Grid: 71.80662629125224 191.90068605398685\n"
     ]
    },
    {
     "data": {
      "text/html": [
       "<pre style=\"white-space:pre;overflow-x:auto;line-height:normal;font-family:Menlo,'DejaVu Sans Mono',consolas,'Courier New',monospace\">Oil Specific Gravity: <span style=\"color: #008080; text-decoration-color: #008080; font-weight: bold\">0.8</span> <span style=\"color: #008080; text-decoration-color: #008080; font-weight: bold\">0.9</span>\n",
       "</pre>\n"
      ],
      "text/plain": [
       "Oil Specific Gravity: \u001b[1;36m0.8\u001b[0m \u001b[1;36m0.9\u001b[0m\n"
      ]
     },
     "metadata": {},
     "output_type": "display_data"
    },
    {
     "data": {
      "text/html": [
       "<pre style=\"white-space:pre;overflow-x:auto;line-height:normal;font-family:Menlo,'DejaVu Sans Mono',consolas,'Courier New',monospace\">Oil API Gravity: <span style=\"color: #008080; text-decoration-color: #008080; font-weight: bold\">25.72222222222223</span> <span style=\"color: #008080; text-decoration-color: #008080; font-weight: bold\">45.375</span>\n",
       "</pre>\n"
      ],
      "text/plain": [
       "Oil API Gravity: \u001b[1;36m25.72222222222223\u001b[0m \u001b[1;36m45.375\u001b[0m\n"
      ]
     },
     "metadata": {},
     "output_type": "display_data"
    },
    {
     "data": {
      "text/html": [
       "<pre style=\"white-space:pre;overflow-x:auto;line-height:normal;font-family:Menlo,'DejaVu Sans Mono',consolas,'Courier New',monospace\">New Oil Bubble Point Pressure: <span style=\"color: #008080; text-decoration-color: #008080; font-weight: bold\">799.9999999999991</span> <span style=\"color: #008080; text-decoration-color: #008080; font-weight: bold\">800.0000000000005</span>\n",
       "</pre>\n"
      ],
      "text/plain": [
       "New Oil Bubble Point Pressure: \u001b[1;36m799.9999999999991\u001b[0m \u001b[1;36m800.0000000000005\u001b[0m\n"
      ]
     },
     "metadata": {},
     "output_type": "display_data"
    },
    {
     "data": {
      "text/html": [
       "<pre style=\"white-space:pre;overflow-x:auto;line-height:normal;font-family:Menlo,'DejaVu Sans Mono',consolas,'Courier New',monospace\">New Oil Formation Volume Factor: <span style=\"color: #008080; text-decoration-color: #008080; font-weight: bold\">1.020764346406067</span> <span style=\"color: #008080; text-decoration-color: #008080; font-weight: bold\">1.0773374271302492</span>\n",
       "</pre>\n"
      ],
      "text/plain": [
       "New Oil Formation Volume Factor: \u001b[1;36m1.020764346406067\u001b[0m \u001b[1;36m1.0773374271302492\u001b[0m\n"
      ]
     },
     "metadata": {},
     "output_type": "display_data"
    },
    {
     "data": {
      "text/html": [
       "<pre style=\"white-space:pre;overflow-x:auto;line-height:normal;font-family:Menlo,'DejaVu Sans Mono',consolas,'Courier New',monospace\">New Gas to Oil Ratio: <span style=\"color: #008080; text-decoration-color: #008080; font-weight: bold\">71.80662629125227</span> <span style=\"color: #008080; text-decoration-color: #008080; font-weight: bold\">191.9006860539868</span>\n",
       "</pre>\n"
      ],
      "text/plain": [
       "New Gas to Oil Ratio: \u001b[1;36m71.80662629125227\u001b[0m \u001b[1;36m191.9006860539868\u001b[0m\n"
      ]
     },
     "metadata": {},
     "output_type": "display_data"
    },
    {
     "data": {
      "text/html": [
       "<pre style=\"white-space:pre;overflow-x:auto;line-height:normal;font-family:Menlo,'DejaVu Sans Mono',consolas,'Courier New',monospace\">New Oil Compressibility: <span style=\"color: #008080; text-decoration-color: #008080; font-weight: bold\">6.07077495866447e-06</span> <span style=\"color: #008080; text-decoration-color: #008080; font-weight: bold\">2.3739617312841877e-05</span>\n",
       "</pre>\n"
      ],
      "text/plain": [
       "New Oil Compressibility: \u001b[1;36m6.07077495866447e-06\u001b[0m \u001b[1;36m2.3739617312841877e-05\u001b[0m\n"
      ]
     },
     "metadata": {},
     "output_type": "display_data"
    },
    {
     "data": {
      "text/html": [
       "<pre style=\"white-space:pre;overflow-x:auto;line-height:normal;font-family:Menlo,'DejaVu Sans Mono',consolas,'Courier New',monospace\">New Oil Density: <span style=\"color: #008080; text-decoration-color: #008080; font-weight: bold\">47.657390872906426</span> <span style=\"color: #008080; text-decoration-color: #008080; font-weight: bold\">55.52161173836646</span>\n",
       "</pre>\n"
      ],
      "text/plain": [
       "New Oil Density: \u001b[1;36m47.657390872906426\u001b[0m \u001b[1;36m55.52161173836646\u001b[0m\n"
      ]
     },
     "metadata": {},
     "output_type": "display_data"
    },
    {
     "data": {
      "text/html": [
       "<pre style=\"white-space:pre;overflow-x:auto;line-height:normal;font-family:Menlo,'DejaVu Sans Mono',consolas,'Courier New',monospace\">New Oil Viscosity: <span style=\"color: #008080; text-decoration-color: #008080; font-weight: bold\">0.5696343964301295</span> <span style=\"color: #008080; text-decoration-color: #008080; font-weight: bold\">0.6540541801662603</span>\n",
       "</pre>\n"
      ],
      "text/plain": [
       "New Oil Viscosity: \u001b[1;36m0.5696343964301295\u001b[0m \u001b[1;36m0.6540541801662603\u001b[0m\n"
      ]
     },
     "metadata": {},
     "output_type": "display_data"
    },
    {
     "name": "stdout",
     "output_type": "stream",
     "text": [
      "TIME STEP 5\n"
     ]
    },
    {
     "data": {
      "text/html": [
       "<pre style=\"white-space:pre;overflow-x:auto;line-height:normal;font-family:Menlo,'DejaVu Sans Mono',consolas,'Courier New',monospace\"><span style=\"color: #008080; text-decoration-color: #008080; font-weight: bold\">Computing pressure evolution...</span>\n",
       "</pre>\n"
      ],
      "text/plain": [
       "\u001b[1;36mComputing pressure evolution\u001b[0m\u001b[1;36m...\u001b[0m\n"
      ]
     },
     "metadata": {},
     "output_type": "display_data"
    },
    {
     "data": {
      "text/html": [
       "<pre style=\"white-space:pre;overflow-x:auto;line-height:normal;font-family:Menlo,'DejaVu Sans Mono',consolas,'Courier New',monospace\">Old Pressure Grid <span style=\"color: #008080; text-decoration-color: #008080; font-weight: bold\">1549.6150292705336</span> <span style=\"color: #008080; text-decoration-color: #008080; font-weight: bold\">1917.5714167437825</span>\n",
       "</pre>\n"
      ],
      "text/plain": [
       "Old Pressure Grid \u001b[1;36m1549.6150292705336\u001b[0m \u001b[1;36m1917.5714167437825\u001b[0m\n"
      ]
     },
     "metadata": {},
     "output_type": "display_data"
    },
    {
     "data": {
      "text/html": [
       "<pre style=\"white-space:pre;overflow-x:auto;line-height:normal;font-family:Menlo,'DejaVu Sans Mono',consolas,'Courier New',monospace\">New Pressure Grid <span style=\"color: #008080; text-decoration-color: #008080; font-weight: bold\">1549.2391817041635</span> <span style=\"color: #008080; text-decoration-color: #008080; font-weight: bold\">1917.0411994414385</span>\n",
       "</pre>\n"
      ],
      "text/plain": [
       "New Pressure Grid \u001b[1;36m1549.2391817041635\u001b[0m \u001b[1;36m1917.0411994414385\u001b[0m\n"
      ]
     },
     "metadata": {},
     "output_type": "display_data"
    },
    {
     "data": {
      "text/html": [
       "<pre style=\"white-space:pre;overflow-x:auto;line-height:normal;font-family:Menlo,'DejaVu Sans Mono',consolas,'Courier New',monospace\"><span style=\"color: #008080; text-decoration-color: #008080; font-weight: bold\">Updating fluid properties...</span>\n",
       "</pre>\n"
      ],
      "text/plain": [
       "\u001b[1;36mUpdating fluid properties\u001b[0m\u001b[1;36m...\u001b[0m\n"
      ]
     },
     "metadata": {},
     "output_type": "display_data"
    },
    {
     "data": {
      "text/html": [
       "<pre style=\"white-space:pre;overflow-x:auto;line-height:normal;font-family:Menlo,'DejaVu Sans Mono',consolas,'Courier New',monospace\">Old Water Saturation Grid <span style=\"color: #008080; text-decoration-color: #008080; font-weight: bold\">0.1999965710654616</span> <span style=\"color: #008080; text-decoration-color: #008080; font-weight: bold\">0.20000025597804663</span>\n",
       "</pre>\n"
      ],
      "text/plain": [
       "Old Water Saturation Grid \u001b[1;36m0.1999965710654616\u001b[0m \u001b[1;36m0.20000025597804663\u001b[0m\n"
      ]
     },
     "metadata": {},
     "output_type": "display_data"
    },
    {
     "data": {
      "text/html": [
       "<pre style=\"white-space:pre;overflow-x:auto;line-height:normal;font-family:Menlo,'DejaVu Sans Mono',consolas,'Courier New',monospace\">Old Oil Saturation Grid <span style=\"color: #008080; text-decoration-color: #008080; font-weight: bold\">0.7999997440219534</span> <span style=\"color: #008080; text-decoration-color: #008080; font-weight: bold\">0.8000034289345385</span>\n",
       "</pre>\n"
      ],
      "text/plain": [
       "Old Oil Saturation Grid \u001b[1;36m0.7999997440219534\u001b[0m \u001b[1;36m0.8000034289345385\u001b[0m\n"
      ]
     },
     "metadata": {},
     "output_type": "display_data"
    },
    {
     "data": {
      "text/html": [
       "<pre style=\"white-space:pre;overflow-x:auto;line-height:normal;font-family:Menlo,'DejaVu Sans Mono',consolas,'Courier New',monospace\">Old Gas Saturation Grid <span style=\"color: #008080; text-decoration-color: #008080; font-weight: bold\">0.0</span> <span style=\"color: #008080; text-decoration-color: #008080; font-weight: bold\">1.507564840869333e-17</span>\n",
       "</pre>\n"
      ],
      "text/plain": [
       "Old Gas Saturation Grid \u001b[1;36m0.0\u001b[0m \u001b[1;36m1.507564840869333e-17\u001b[0m\n"
      ]
     },
     "metadata": {},
     "output_type": "display_data"
    },
    {
     "data": {
      "text/html": [
       "<pre style=\"white-space:pre;overflow-x:auto;line-height:normal;font-family:Menlo,'DejaVu Sans Mono',consolas,'Courier New',monospace\">New Water Saturation Grid <span style=\"color: #008080; text-decoration-color: #008080; font-weight: bold\">0.19999544081862325</span> <span style=\"color: #008080; text-decoration-color: #008080; font-weight: bold\">0.20000034004291062</span>\n",
       "</pre>\n"
      ],
      "text/plain": [
       "New Water Saturation Grid \u001b[1;36m0.19999544081862325\u001b[0m \u001b[1;36m0.20000034004291062\u001b[0m\n"
      ]
     },
     "metadata": {},
     "output_type": "display_data"
    },
    {
     "data": {
      "text/html": [
       "<pre style=\"white-space:pre;overflow-x:auto;line-height:normal;font-family:Menlo,'DejaVu Sans Mono',consolas,'Courier New',monospace\">New Oil Saturation Grid <span style=\"color: #008080; text-decoration-color: #008080; font-weight: bold\">0.7999996599570894</span> <span style=\"color: #008080; text-decoration-color: #008080; font-weight: bold\">0.8000045591813767</span>\n",
       "</pre>\n"
      ],
      "text/plain": [
       "New Oil Saturation Grid \u001b[1;36m0.7999996599570894\u001b[0m \u001b[1;36m0.8000045591813767\u001b[0m\n"
      ]
     },
     "metadata": {},
     "output_type": "display_data"
    },
    {
     "data": {
      "text/html": [
       "<pre style=\"white-space:pre;overflow-x:auto;line-height:normal;font-family:Menlo,'DejaVu Sans Mono',consolas,'Courier New',monospace\">New Gas Saturation Grid <span style=\"color: #008080; text-decoration-color: #008080; font-weight: bold\">0.0</span> <span style=\"color: #008080; text-decoration-color: #008080; font-weight: bold\">1.884729317530239e-17</span>\n",
       "</pre>\n"
      ],
      "text/plain": [
       "New Gas Saturation Grid \u001b[1;36m0.0\u001b[0m \u001b[1;36m1.884729317530239e-17\u001b[0m\n"
      ]
     },
     "metadata": {},
     "output_type": "display_data"
    },
    {
     "data": {
      "text/html": [
       "<pre style=\"white-space:pre;overflow-x:auto;line-height:normal;font-family:Menlo,'DejaVu Sans Mono',consolas,'Courier New',monospace\"><span style=\"color: #008080; text-decoration-color: #008080; font-weight: bold\">Updating static fluid properties...</span>\n",
       "</pre>\n"
      ],
      "text/plain": [
       "\u001b[1;36mUpdating static fluid properties\u001b[0m\u001b[1;36m...\u001b[0m\n"
      ]
     },
     "metadata": {},
     "output_type": "display_data"
    },
    {
     "data": {
      "text/html": [
       "<pre style=\"white-space:pre;overflow-x:auto;line-height:normal;font-family:Menlo,'DejaVu Sans Mono',consolas,'Courier New',monospace\"><span style=\"font-weight: bold\">Gas Gravity:</span> <span style=\"color: #008080; text-decoration-color: #008080; font-weight: bold\">0.5547184122441046</span> <span style=\"color: #008080; text-decoration-color: #008080; font-weight: bold\">0.5547184122441046</span>\n",
       "</pre>\n"
      ],
      "text/plain": [
       "\u001b[1mGas Gravity:\u001b[0m \u001b[1;36m0.5547184122441046\u001b[0m \u001b[1;36m0.5547184122441046\u001b[0m\n"
      ]
     },
     "metadata": {},
     "output_type": "display_data"
    },
    {
     "data": {
      "text/html": [
       "<pre style=\"white-space:pre;overflow-x:auto;line-height:normal;font-family:Menlo,'DejaVu Sans Mono',consolas,'Courier New',monospace\">Gas Compressibility Factor: <span style=\"color: #008080; text-decoration-color: #008080; font-weight: bold\">0.1</span> <span style=\"color: #008080; text-decoration-color: #008080; font-weight: bold\">0.1</span>\n",
       "</pre>\n"
      ],
      "text/plain": [
       "Gas Compressibility Factor: \u001b[1;36m0.1\u001b[0m \u001b[1;36m0.1\u001b[0m\n"
      ]
     },
     "metadata": {},
     "output_type": "display_data"
    },
    {
     "data": {
      "text/html": [
       "<pre style=\"white-space:pre;overflow-x:auto;line-height:normal;font-family:Menlo,'DejaVu Sans Mono',consolas,'Courier New',monospace\">New Gas Compressibility: <span style=\"color: #008080; text-decoration-color: #008080; font-weight: bold\">0.0</span> <span style=\"color: #008080; text-decoration-color: #008080; font-weight: bold\">0.0</span>\n",
       "</pre>\n"
      ],
      "text/plain": [
       "New Gas Compressibility: \u001b[1;36m0.0\u001b[0m \u001b[1;36m0.0\u001b[0m\n"
      ]
     },
     "metadata": {},
     "output_type": "display_data"
    },
    {
     "data": {
      "text/html": [
       "<pre style=\"white-space:pre;overflow-x:auto;line-height:normal;font-family:Menlo,'DejaVu Sans Mono',consolas,'Courier New',monospace\">New Gas Formation Volume Factor: <span style=\"color: #008080; text-decoration-color: #008080; font-weight: bold\">0.001277663377316558</span> <span style=\"color: #008080; text-decoration-color: #008080; font-weight: bold\">0.004645180665500952</span>\n",
       "</pre>\n"
      ],
      "text/plain": [
       "New Gas Formation Volume Factor: \u001b[1;36m0.001277663377316558\u001b[0m \u001b[1;36m0.004645180665500952\u001b[0m\n"
      ]
     },
     "metadata": {},
     "output_type": "display_data"
    },
    {
     "data": {
      "text/html": [
       "<pre style=\"white-space:pre;overflow-x:auto;line-height:normal;font-family:Menlo,'DejaVu Sans Mono',consolas,'Courier New',monospace\">New Gas Density: <span style=\"color: #008080; text-decoration-color: #008080; font-weight: bold\">0.0687303992772198</span> <span style=\"color: #008080; text-decoration-color: #008080; font-weight: bold\">0.11305941227019028</span>\n",
       "</pre>\n"
      ],
      "text/plain": [
       "New Gas Density: \u001b[1;36m0.0687303992772198\u001b[0m \u001b[1;36m0.11305941227019028\u001b[0m\n"
      ]
     },
     "metadata": {},
     "output_type": "display_data"
    },
    {
     "data": {
      "text/html": [
       "<pre style=\"white-space:pre;overflow-x:auto;line-height:normal;font-family:Menlo,'DejaVu Sans Mono',consolas,'Courier New',monospace\">New Gas Viscosity: <span style=\"color: #008080; text-decoration-color: #008080; font-weight: bold\">0.016179265628283715</span> <span style=\"color: #008080; text-decoration-color: #008080; font-weight: bold\">0.020306015342283705</span>\n",
       "</pre>\n"
      ],
      "text/plain": [
       "New Gas Viscosity: \u001b[1;36m0.016179265628283715\u001b[0m \u001b[1;36m0.020306015342283705\u001b[0m\n"
      ]
     },
     "metadata": {},
     "output_type": "display_data"
    },
    {
     "data": {
      "text/html": [
       "<pre style=\"white-space:pre;overflow-x:auto;line-height:normal;font-family:Menlo,'DejaVu Sans Mono',consolas,'Courier New',monospace\">Gas Solubility in Water: <span style=\"color: #008080; text-decoration-color: #008080; font-weight: bold\">2.098692032232419</span> <span style=\"color: #008080; text-decoration-color: #008080; font-weight: bold\">2.4268514526772704</span>\n",
       "</pre>\n"
      ],
      "text/plain": [
       "Gas Solubility in Water: \u001b[1;36m2.098692032232419\u001b[0m \u001b[1;36m2.4268514526772704\u001b[0m\n"
      ]
     },
     "metadata": {},
     "output_type": "display_data"
    },
    {
     "data": {
      "text/html": [
       "<pre style=\"white-space:pre;overflow-x:auto;line-height:normal;font-family:Menlo,'DejaVu Sans Mono',consolas,'Courier New',monospace\">New Water Bubble Point Pressure: <span style=\"color: #008080; text-decoration-color: #008080; font-weight: bold\">1549.2391817041653</span> <span style=\"color: #008080; text-decoration-color: #008080; font-weight: bold\">1917.041199441434</span>\n",
       "</pre>\n"
      ],
      "text/plain": [
       "New Water Bubble Point Pressure: \u001b[1;36m1549.2391817041653\u001b[0m \u001b[1;36m1917.041199441434\u001b[0m\n"
      ]
     },
     "metadata": {},
     "output_type": "display_data"
    },
    {
     "data": {
      "text/html": [
       "<pre style=\"white-space:pre;overflow-x:auto;line-height:normal;font-family:Menlo,'DejaVu Sans Mono',consolas,'Courier New',monospace\">New Water Compressibility: <span style=\"color: #008080; text-decoration-color: #008080; font-weight: bold\">0.0</span> <span style=\"color: #008080; text-decoration-color: #008080; font-weight: bold\">3.887946245899175e-09</span>\n",
       "</pre>\n"
      ],
      "text/plain": [
       "New Water Compressibility: \u001b[1;36m0.0\u001b[0m \u001b[1;36m3.887946245899175e-09\u001b[0m\n"
      ]
     },
     "metadata": {},
     "output_type": "display_data"
    },
    {
     "data": {
      "text/html": [
       "<pre style=\"white-space:pre;overflow-x:auto;line-height:normal;font-family:Menlo,'DejaVu Sans Mono',consolas,'Courier New',monospace\">New Water Formation Volume Factor: <span style=\"color: #008080; text-decoration-color: #008080; font-weight: bold\">1.0085460885304915</span> <span style=\"color: #008080; text-decoration-color: #008080; font-weight: bold\">1.0792974295945466</span>\n",
       "</pre>\n"
      ],
      "text/plain": [
       "New Water Formation Volume Factor: \u001b[1;36m1.0085460885304915\u001b[0m \u001b[1;36m1.0792974295945466\u001b[0m\n"
      ]
     },
     "metadata": {},
     "output_type": "display_data"
    },
    {
     "data": {
      "text/html": [
       "<pre style=\"white-space:pre;overflow-x:auto;line-height:normal;font-family:Menlo,'DejaVu Sans Mono',consolas,'Courier New',monospace\">New Water Density: <span style=\"color: #008080; text-decoration-color: #008080; font-weight: bold\">57.84268427501009</span> <span style=\"color: #008080; text-decoration-color: #008080; font-weight: bold\">61.90045358501185</span>\n",
       "</pre>\n"
      ],
      "text/plain": [
       "New Water Density: \u001b[1;36m57.84268427501009\u001b[0m \u001b[1;36m61.90045358501185\u001b[0m\n"
      ]
     },
     "metadata": {},
     "output_type": "display_data"
    },
    {
     "data": {
      "text/html": [
       "<pre style=\"white-space:pre;overflow-x:auto;line-height:normal;font-family:Menlo,'DejaVu Sans Mono',consolas,'Courier New',monospace\">New Water Viscosity: <span style=\"color: #008080; text-decoration-color: #008080; font-weight: bold\">0.9139169401734063</span> <span style=\"color: #008080; text-decoration-color: #008080; font-weight: bold\">1.0035752343218731</span>\n",
       "</pre>\n"
      ],
      "text/plain": [
       "New Water Viscosity: \u001b[1;36m0.9139169401734063\u001b[0m \u001b[1;36m1.0035752343218731\u001b[0m\n"
      ]
     },
     "metadata": {},
     "output_type": "display_data"
    },
    {
     "name": "stdout",
     "output_type": "stream",
     "text": [
      "Old GOR Grid: 71.80662629125227 191.9006860539868\n"
     ]
    },
    {
     "data": {
      "text/html": [
       "<pre style=\"white-space:pre;overflow-x:auto;line-height:normal;font-family:Menlo,'DejaVu Sans Mono',consolas,'Courier New',monospace\">Oil Specific Gravity: <span style=\"color: #008080; text-decoration-color: #008080; font-weight: bold\">0.8</span> <span style=\"color: #008080; text-decoration-color: #008080; font-weight: bold\">0.9</span>\n",
       "</pre>\n"
      ],
      "text/plain": [
       "Oil Specific Gravity: \u001b[1;36m0.8\u001b[0m \u001b[1;36m0.9\u001b[0m\n"
      ]
     },
     "metadata": {},
     "output_type": "display_data"
    },
    {
     "data": {
      "text/html": [
       "<pre style=\"white-space:pre;overflow-x:auto;line-height:normal;font-family:Menlo,'DejaVu Sans Mono',consolas,'Courier New',monospace\">Oil API Gravity: <span style=\"color: #008080; text-decoration-color: #008080; font-weight: bold\">25.72222222222223</span> <span style=\"color: #008080; text-decoration-color: #008080; font-weight: bold\">45.375</span>\n",
       "</pre>\n"
      ],
      "text/plain": [
       "Oil API Gravity: \u001b[1;36m25.72222222222223\u001b[0m \u001b[1;36m45.375\u001b[0m\n"
      ]
     },
     "metadata": {},
     "output_type": "display_data"
    },
    {
     "data": {
      "text/html": [
       "<pre style=\"white-space:pre;overflow-x:auto;line-height:normal;font-family:Menlo,'DejaVu Sans Mono',consolas,'Courier New',monospace\">New Oil Bubble Point Pressure: <span style=\"color: #008080; text-decoration-color: #008080; font-weight: bold\">799.9999999999989</span> <span style=\"color: #008080; text-decoration-color: #008080; font-weight: bold\">800.0000000000006</span>\n",
       "</pre>\n"
      ],
      "text/plain": [
       "New Oil Bubble Point Pressure: \u001b[1;36m799.9999999999989\u001b[0m \u001b[1;36m800.0000000000006\u001b[0m\n"
      ]
     },
     "metadata": {},
     "output_type": "display_data"
    },
    {
     "data": {
      "text/html": [
       "<pre style=\"white-space:pre;overflow-x:auto;line-height:normal;font-family:Menlo,'DejaVu Sans Mono',consolas,'Courier New',monospace\">New Oil Formation Volume Factor: <span style=\"color: #008080; text-decoration-color: #008080; font-weight: bold\">1.0207660014238134</span> <span style=\"color: #008080; text-decoration-color: #008080; font-weight: bold\">1.0773576533173317</span>\n",
       "</pre>\n"
      ],
      "text/plain": [
       "New Oil Formation Volume Factor: \u001b[1;36m1.0207660014238134\u001b[0m \u001b[1;36m1.0773576533173317\u001b[0m\n"
      ]
     },
     "metadata": {},
     "output_type": "display_data"
    },
    {
     "data": {
      "text/html": [
       "<pre style=\"white-space:pre;overflow-x:auto;line-height:normal;font-family:Menlo,'DejaVu Sans Mono',consolas,'Courier New',monospace\">New Gas to Oil Ratio: <span style=\"color: #008080; text-decoration-color: #008080; font-weight: bold\">71.80662629125227</span> <span style=\"color: #008080; text-decoration-color: #008080; font-weight: bold\">191.90068605398676</span>\n",
       "</pre>\n"
      ],
      "text/plain": [
       "New Gas to Oil Ratio: \u001b[1;36m71.80662629125227\u001b[0m \u001b[1;36m191.90068605398676\u001b[0m\n"
      ]
     },
     "metadata": {},
     "output_type": "display_data"
    },
    {
     "data": {
      "text/html": [
       "<pre style=\"white-space:pre;overflow-x:auto;line-height:normal;font-family:Menlo,'DejaVu Sans Mono',consolas,'Courier New',monospace\">New Oil Compressibility: <span style=\"color: #008080; text-decoration-color: #008080; font-weight: bold\">6.072454020086131e-06</span> <span style=\"color: #008080; text-decoration-color: #008080; font-weight: bold\">2.3743160929588773e-05</span>\n",
       "</pre>\n"
      ],
      "text/plain": [
       "New Oil Compressibility: \u001b[1;36m6.072454020086131e-06\u001b[0m \u001b[1;36m2.3743160929588773e-05\u001b[0m\n"
      ]
     },
     "metadata": {},
     "output_type": "display_data"
    },
    {
     "data": {
      "text/html": [
       "<pre style=\"white-space:pre;overflow-x:auto;line-height:normal;font-family:Menlo,'DejaVu Sans Mono',consolas,'Courier New',monospace\">New Oil Density: <span style=\"color: #008080; text-decoration-color: #008080; font-weight: bold\">47.65649615860177</span> <span style=\"color: #008080; text-decoration-color: #008080; font-weight: bold\">55.521521718467085</span>\n",
       "</pre>\n"
      ],
      "text/plain": [
       "New Oil Density: \u001b[1;36m47.65649615860177\u001b[0m \u001b[1;36m55.521521718467085\u001b[0m\n"
      ]
     },
     "metadata": {},
     "output_type": "display_data"
    },
    {
     "data": {
      "text/html": [
       "<pre style=\"white-space:pre;overflow-x:auto;line-height:normal;font-family:Menlo,'DejaVu Sans Mono',consolas,'Courier New',monospace\">New Oil Viscosity: <span style=\"color: #008080; text-decoration-color: #008080; font-weight: bold\">0.5696137976174189</span> <span style=\"color: #008080; text-decoration-color: #008080; font-weight: bold\">0.6539953153995335</span>\n",
       "</pre>\n"
      ],
      "text/plain": [
       "New Oil Viscosity: \u001b[1;36m0.5696137976174189\u001b[0m \u001b[1;36m0.6539953153995335\u001b[0m\n"
      ]
     },
     "metadata": {},
     "output_type": "display_data"
    },
    {
     "name": "stdout",
     "output_type": "stream",
     "text": [
      "TIME STEP 6\n"
     ]
    },
    {
     "data": {
      "text/html": [
       "<pre style=\"white-space:pre;overflow-x:auto;line-height:normal;font-family:Menlo,'DejaVu Sans Mono',consolas,'Courier New',monospace\"><span style=\"color: #008080; text-decoration-color: #008080; font-weight: bold\">Computing pressure evolution...</span>\n",
       "</pre>\n"
      ],
      "text/plain": [
       "\u001b[1;36mComputing pressure evolution\u001b[0m\u001b[1;36m...\u001b[0m\n"
      ]
     },
     "metadata": {},
     "output_type": "display_data"
    },
    {
     "data": {
      "text/html": [
       "<pre style=\"white-space:pre;overflow-x:auto;line-height:normal;font-family:Menlo,'DejaVu Sans Mono',consolas,'Courier New',monospace\">Old Pressure Grid <span style=\"color: #008080; text-decoration-color: #008080; font-weight: bold\">1549.2391817041635</span> <span style=\"color: #008080; text-decoration-color: #008080; font-weight: bold\">1917.0411994414385</span>\n",
       "</pre>\n"
      ],
      "text/plain": [
       "Old Pressure Grid \u001b[1;36m1549.2391817041635\u001b[0m \u001b[1;36m1917.0411994414385\u001b[0m\n"
      ]
     },
     "metadata": {},
     "output_type": "display_data"
    },
    {
     "data": {
      "text/html": [
       "<pre style=\"white-space:pre;overflow-x:auto;line-height:normal;font-family:Menlo,'DejaVu Sans Mono',consolas,'Courier New',monospace\">New Pressure Grid <span style=\"color: #008080; text-decoration-color: #008080; font-weight: bold\">1548.8634923762431</span> <span style=\"color: #008080; text-decoration-color: #008080; font-weight: bold\">1916.5121504879285</span>\n",
       "</pre>\n"
      ],
      "text/plain": [
       "New Pressure Grid \u001b[1;36m1548.8634923762431\u001b[0m \u001b[1;36m1916.5121504879285\u001b[0m\n"
      ]
     },
     "metadata": {},
     "output_type": "display_data"
    },
    {
     "data": {
      "text/html": [
       "<pre style=\"white-space:pre;overflow-x:auto;line-height:normal;font-family:Menlo,'DejaVu Sans Mono',consolas,'Courier New',monospace\"><span style=\"color: #008080; text-decoration-color: #008080; font-weight: bold\">Updating fluid properties...</span>\n",
       "</pre>\n"
      ],
      "text/plain": [
       "\u001b[1;36mUpdating fluid properties\u001b[0m\u001b[1;36m...\u001b[0m\n"
      ]
     },
     "metadata": {},
     "output_type": "display_data"
    },
    {
     "data": {
      "text/html": [
       "<pre style=\"white-space:pre;overflow-x:auto;line-height:normal;font-family:Menlo,'DejaVu Sans Mono',consolas,'Courier New',monospace\">Old Water Saturation Grid <span style=\"color: #008080; text-decoration-color: #008080; font-weight: bold\">0.19999544081862325</span> <span style=\"color: #008080; text-decoration-color: #008080; font-weight: bold\">0.20000034004291062</span>\n",
       "</pre>\n"
      ],
      "text/plain": [
       "Old Water Saturation Grid \u001b[1;36m0.19999544081862325\u001b[0m \u001b[1;36m0.20000034004291062\u001b[0m\n"
      ]
     },
     "metadata": {},
     "output_type": "display_data"
    },
    {
     "data": {
      "text/html": [
       "<pre style=\"white-space:pre;overflow-x:auto;line-height:normal;font-family:Menlo,'DejaVu Sans Mono',consolas,'Courier New',monospace\">Old Oil Saturation Grid <span style=\"color: #008080; text-decoration-color: #008080; font-weight: bold\">0.7999996599570894</span> <span style=\"color: #008080; text-decoration-color: #008080; font-weight: bold\">0.8000045591813767</span>\n",
       "</pre>\n"
      ],
      "text/plain": [
       "Old Oil Saturation Grid \u001b[1;36m0.7999996599570894\u001b[0m \u001b[1;36m0.8000045591813767\u001b[0m\n"
      ]
     },
     "metadata": {},
     "output_type": "display_data"
    },
    {
     "data": {
      "text/html": [
       "<pre style=\"white-space:pre;overflow-x:auto;line-height:normal;font-family:Menlo,'DejaVu Sans Mono',consolas,'Courier New',monospace\">Old Gas Saturation Grid <span style=\"color: #008080; text-decoration-color: #008080; font-weight: bold\">0.0</span> <span style=\"color: #008080; text-decoration-color: #008080; font-weight: bold\">1.884729317530239e-17</span>\n",
       "</pre>\n"
      ],
      "text/plain": [
       "Old Gas Saturation Grid \u001b[1;36m0.0\u001b[0m \u001b[1;36m1.884729317530239e-17\u001b[0m\n"
      ]
     },
     "metadata": {},
     "output_type": "display_data"
    },
    {
     "data": {
      "text/html": [
       "<pre style=\"white-space:pre;overflow-x:auto;line-height:normal;font-family:Menlo,'DejaVu Sans Mono',consolas,'Courier New',monospace\">New Water Saturation Grid <span style=\"color: #008080; text-decoration-color: #008080; font-weight: bold\">0.19999429838969765</span> <span style=\"color: #008080; text-decoration-color: #008080; font-weight: bold\">0.20000042421449465</span>\n",
       "</pre>\n"
      ],
      "text/plain": [
       "New Water Saturation Grid \u001b[1;36m0.19999429838969765\u001b[0m \u001b[1;36m0.20000042421449465\u001b[0m\n"
      ]
     },
     "metadata": {},
     "output_type": "display_data"
    },
    {
     "data": {
      "text/html": [
       "<pre style=\"white-space:pre;overflow-x:auto;line-height:normal;font-family:Menlo,'DejaVu Sans Mono',consolas,'Courier New',monospace\">New Oil Saturation Grid <span style=\"color: #008080; text-decoration-color: #008080; font-weight: bold\">0.7999995757855054</span> <span style=\"color: #008080; text-decoration-color: #008080; font-weight: bold\">0.8000057016103025</span>\n",
       "</pre>\n"
      ],
      "text/plain": [
       "New Oil Saturation Grid \u001b[1;36m0.7999995757855054\u001b[0m \u001b[1;36m0.8000057016103025\u001b[0m\n"
      ]
     },
     "metadata": {},
     "output_type": "display_data"
    },
    {
     "data": {
      "text/html": [
       "<pre style=\"white-space:pre;overflow-x:auto;line-height:normal;font-family:Menlo,'DejaVu Sans Mono',consolas,'Courier New',monospace\">New Gas Saturation Grid <span style=\"color: #008080; text-decoration-color: #008080; font-weight: bold\">0.0</span> <span style=\"color: #008080; text-decoration-color: #008080; font-weight: bold\">2.2620068413382034e-17</span>\n",
       "</pre>\n"
      ],
      "text/plain": [
       "New Gas Saturation Grid \u001b[1;36m0.0\u001b[0m \u001b[1;36m2.2620068413382034e-17\u001b[0m\n"
      ]
     },
     "metadata": {},
     "output_type": "display_data"
    },
    {
     "data": {
      "text/html": [
       "<pre style=\"white-space:pre;overflow-x:auto;line-height:normal;font-family:Menlo,'DejaVu Sans Mono',consolas,'Courier New',monospace\"><span style=\"color: #008080; text-decoration-color: #008080; font-weight: bold\">Updating static fluid properties...</span>\n",
       "</pre>\n"
      ],
      "text/plain": [
       "\u001b[1;36mUpdating static fluid properties\u001b[0m\u001b[1;36m...\u001b[0m\n"
      ]
     },
     "metadata": {},
     "output_type": "display_data"
    },
    {
     "data": {
      "text/html": [
       "<pre style=\"white-space:pre;overflow-x:auto;line-height:normal;font-family:Menlo,'DejaVu Sans Mono',consolas,'Courier New',monospace\"><span style=\"font-weight: bold\">Gas Gravity:</span> <span style=\"color: #008080; text-decoration-color: #008080; font-weight: bold\">0.5547184122441046</span> <span style=\"color: #008080; text-decoration-color: #008080; font-weight: bold\">0.5547184122441046</span>\n",
       "</pre>\n"
      ],
      "text/plain": [
       "\u001b[1mGas Gravity:\u001b[0m \u001b[1;36m0.5547184122441046\u001b[0m \u001b[1;36m0.5547184122441046\u001b[0m\n"
      ]
     },
     "metadata": {},
     "output_type": "display_data"
    },
    {
     "data": {
      "text/html": [
       "<pre style=\"white-space:pre;overflow-x:auto;line-height:normal;font-family:Menlo,'DejaVu Sans Mono',consolas,'Courier New',monospace\">Gas Compressibility Factor: <span style=\"color: #008080; text-decoration-color: #008080; font-weight: bold\">0.1</span> <span style=\"color: #008080; text-decoration-color: #008080; font-weight: bold\">0.1</span>\n",
       "</pre>\n"
      ],
      "text/plain": [
       "Gas Compressibility Factor: \u001b[1;36m0.1\u001b[0m \u001b[1;36m0.1\u001b[0m\n"
      ]
     },
     "metadata": {},
     "output_type": "display_data"
    },
    {
     "data": {
      "text/html": [
       "<pre style=\"white-space:pre;overflow-x:auto;line-height:normal;font-family:Menlo,'DejaVu Sans Mono',consolas,'Courier New',monospace\">New Gas Compressibility: <span style=\"color: #008080; text-decoration-color: #008080; font-weight: bold\">0.0</span> <span style=\"color: #008080; text-decoration-color: #008080; font-weight: bold\">0.0</span>\n",
       "</pre>\n"
      ],
      "text/plain": [
       "New Gas Compressibility: \u001b[1;36m0.0\u001b[0m \u001b[1;36m0.0\u001b[0m\n"
      ]
     },
     "metadata": {},
     "output_type": "display_data"
    },
    {
     "data": {
      "text/html": [
       "<pre style=\"white-space:pre;overflow-x:auto;line-height:normal;font-family:Menlo,'DejaVu Sans Mono',consolas,'Courier New',monospace\">New Gas Formation Volume Factor: <span style=\"color: #008080; text-decoration-color: #008080; font-weight: bold\">0.0012780160734748032</span> <span style=\"color: #008080; text-decoration-color: #008080; font-weight: bold\">0.004645873974688525</span>\n",
       "</pre>\n"
      ],
      "text/plain": [
       "New Gas Formation Volume Factor: \u001b[1;36m0.0012780160734748032\u001b[0m \u001b[1;36m0.004645873974688525\u001b[0m\n"
      ]
     },
     "metadata": {},
     "output_type": "display_data"
    },
    {
     "data": {
      "text/html": [
       "<pre style=\"white-space:pre;overflow-x:auto;line-height:normal;font-family:Menlo,'DejaVu Sans Mono',consolas,'Courier New',monospace\">New Gas Density: <span style=\"color: #008080; text-decoration-color: #008080; font-weight: bold\">0.06872014255963681</span> <span style=\"color: #008080; text-decoration-color: #008080; font-weight: bold\">0.11302821108173206</span>\n",
       "</pre>\n"
      ],
      "text/plain": [
       "New Gas Density: \u001b[1;36m0.06872014255963681\u001b[0m \u001b[1;36m0.11302821108173206\u001b[0m\n"
      ]
     },
     "metadata": {},
     "output_type": "display_data"
    },
    {
     "data": {
      "text/html": [
       "<pre style=\"white-space:pre;overflow-x:auto;line-height:normal;font-family:Menlo,'DejaVu Sans Mono',consolas,'Courier New',monospace\">New Gas Viscosity: <span style=\"color: #008080; text-decoration-color: #008080; font-weight: bold\">0.016179261766200895</span> <span style=\"color: #008080; text-decoration-color: #008080; font-weight: bold\">0.02030601531843192</span>\n",
       "</pre>\n"
      ],
      "text/plain": [
       "New Gas Viscosity: \u001b[1;36m0.016179261766200895\u001b[0m \u001b[1;36m0.02030601531843192\u001b[0m\n"
      ]
     },
     "metadata": {},
     "output_type": "display_data"
    },
    {
     "data": {
      "text/html": [
       "<pre style=\"white-space:pre;overflow-x:auto;line-height:normal;font-family:Menlo,'DejaVu Sans Mono',consolas,'Courier New',monospace\">Gas Solubility in Water: <span style=\"color: #008080; text-decoration-color: #008080; font-weight: bold\">2.098681781240395</span> <span style=\"color: #008080; text-decoration-color: #008080; font-weight: bold\">2.42685016017281</span>\n",
       "</pre>\n"
      ],
      "text/plain": [
       "Gas Solubility in Water: \u001b[1;36m2.098681781240395\u001b[0m \u001b[1;36m2.42685016017281\u001b[0m\n"
      ]
     },
     "metadata": {},
     "output_type": "display_data"
    },
    {
     "data": {
      "text/html": [
       "<pre style=\"white-space:pre;overflow-x:auto;line-height:normal;font-family:Menlo,'DejaVu Sans Mono',consolas,'Courier New',monospace\">New Water Bubble Point Pressure: <span style=\"color: #008080; text-decoration-color: #008080; font-weight: bold\">1548.8634923762434</span> <span style=\"color: #008080; text-decoration-color: #008080; font-weight: bold\">1916.5121504879235</span>\n",
       "</pre>\n"
      ],
      "text/plain": [
       "New Water Bubble Point Pressure: \u001b[1;36m1548.8634923762434\u001b[0m \u001b[1;36m1916.5121504879235\u001b[0m\n"
      ]
     },
     "metadata": {},
     "output_type": "display_data"
    },
    {
     "data": {
      "text/html": [
       "<pre style=\"white-space:pre;overflow-x:auto;line-height:normal;font-family:Menlo,'DejaVu Sans Mono',consolas,'Courier New',monospace\">New Water Compressibility: <span style=\"color: #008080; text-decoration-color: #008080; font-weight: bold\">0.0</span> <span style=\"color: #008080; text-decoration-color: #008080; font-weight: bold\">3.9013288040166975e-09</span>\n",
       "</pre>\n"
      ],
      "text/plain": [
       "New Water Compressibility: \u001b[1;36m0.0\u001b[0m \u001b[1;36m3.9013288040166975e-09\u001b[0m\n"
      ]
     },
     "metadata": {},
     "output_type": "display_data"
    },
    {
     "data": {
      "text/html": [
       "<pre style=\"white-space:pre;overflow-x:auto;line-height:normal;font-family:Menlo,'DejaVu Sans Mono',consolas,'Courier New',monospace\">New Water Formation Volume Factor: <span style=\"color: #008080; text-decoration-color: #008080; font-weight: bold\">1.00854609203529</span> <span style=\"color: #008080; text-decoration-color: #008080; font-weight: bold\">1.0792974313148727</span>\n",
       "</pre>\n"
      ],
      "text/plain": [
       "New Water Formation Volume Factor: \u001b[1;36m1.00854609203529\u001b[0m \u001b[1;36m1.0792974313148727\u001b[0m\n"
      ]
     },
     "metadata": {},
     "output_type": "display_data"
    },
    {
     "data": {
      "text/html": [
       "<pre style=\"white-space:pre;overflow-x:auto;line-height:normal;font-family:Menlo,'DejaVu Sans Mono',consolas,'Courier New',monospace\">New Water Density: <span style=\"color: #008080; text-decoration-color: #008080; font-weight: bold\">57.842684182835825</span> <span style=\"color: #008080; text-decoration-color: #008080; font-weight: bold\">61.90045337036962</span>\n",
       "</pre>\n"
      ],
      "text/plain": [
       "New Water Density: \u001b[1;36m57.842684182835825\u001b[0m \u001b[1;36m61.90045337036962\u001b[0m\n"
      ]
     },
     "metadata": {},
     "output_type": "display_data"
    },
    {
     "data": {
      "text/html": [
       "<pre style=\"white-space:pre;overflow-x:auto;line-height:normal;font-family:Menlo,'DejaVu Sans Mono',consolas,'Courier New',monospace\">New Water Viscosity: <span style=\"color: #008080; text-decoration-color: #008080; font-weight: bold\">0.9139009112858567</span> <span style=\"color: #008080; text-decoration-color: #008080; font-weight: bold\">1.0035497610007702</span>\n",
       "</pre>\n"
      ],
      "text/plain": [
       "New Water Viscosity: \u001b[1;36m0.9139009112858567\u001b[0m \u001b[1;36m1.0035497610007702\u001b[0m\n"
      ]
     },
     "metadata": {},
     "output_type": "display_data"
    },
    {
     "name": "stdout",
     "output_type": "stream",
     "text": [
      "Old GOR Grid: 71.80662629125227 191.90068605398676\n"
     ]
    },
    {
     "data": {
      "text/html": [
       "<pre style=\"white-space:pre;overflow-x:auto;line-height:normal;font-family:Menlo,'DejaVu Sans Mono',consolas,'Courier New',monospace\">Oil Specific Gravity: <span style=\"color: #008080; text-decoration-color: #008080; font-weight: bold\">0.8</span> <span style=\"color: #008080; text-decoration-color: #008080; font-weight: bold\">0.9</span>\n",
       "</pre>\n"
      ],
      "text/plain": [
       "Oil Specific Gravity: \u001b[1;36m0.8\u001b[0m \u001b[1;36m0.9\u001b[0m\n"
      ]
     },
     "metadata": {},
     "output_type": "display_data"
    },
    {
     "data": {
      "text/html": [
       "<pre style=\"white-space:pre;overflow-x:auto;line-height:normal;font-family:Menlo,'DejaVu Sans Mono',consolas,'Courier New',monospace\">Oil API Gravity: <span style=\"color: #008080; text-decoration-color: #008080; font-weight: bold\">25.72222222222223</span> <span style=\"color: #008080; text-decoration-color: #008080; font-weight: bold\">45.375</span>\n",
       "</pre>\n"
      ],
      "text/plain": [
       "Oil API Gravity: \u001b[1;36m25.72222222222223\u001b[0m \u001b[1;36m45.375\u001b[0m\n"
      ]
     },
     "metadata": {},
     "output_type": "display_data"
    },
    {
     "data": {
      "text/html": [
       "<pre style=\"white-space:pre;overflow-x:auto;line-height:normal;font-family:Menlo,'DejaVu Sans Mono',consolas,'Courier New',monospace\">New Oil Bubble Point Pressure: <span style=\"color: #008080; text-decoration-color: #008080; font-weight: bold\">799.9999999999986</span> <span style=\"color: #008080; text-decoration-color: #008080; font-weight: bold\">800.0000000000006</span>\n",
       "</pre>\n"
      ],
      "text/plain": [
       "New Oil Bubble Point Pressure: \u001b[1;36m799.9999999999986\u001b[0m \u001b[1;36m800.0000000000006\u001b[0m\n"
      ]
     },
     "metadata": {},
     "output_type": "display_data"
    },
    {
     "data": {
      "text/html": [
       "<pre style=\"white-space:pre;overflow-x:auto;line-height:normal;font-family:Menlo,'DejaVu Sans Mono',consolas,'Courier New',monospace\">New Oil Formation Volume Factor: <span style=\"color: #008080; text-decoration-color: #008080; font-weight: bold\">1.0207676564291088</span> <span style=\"color: #008080; text-decoration-color: #008080; font-weight: bold\">1.0773779054496435</span>\n",
       "</pre>\n"
      ],
      "text/plain": [
       "New Oil Formation Volume Factor: \u001b[1;36m1.0207676564291088\u001b[0m \u001b[1;36m1.0773779054496435\u001b[0m\n"
      ]
     },
     "metadata": {},
     "output_type": "display_data"
    },
    {
     "data": {
      "text/html": [
       "<pre style=\"white-space:pre;overflow-x:auto;line-height:normal;font-family:Menlo,'DejaVu Sans Mono',consolas,'Courier New',monospace\">New Gas to Oil Ratio: <span style=\"color: #008080; text-decoration-color: #008080; font-weight: bold\">71.80662629125229</span> <span style=\"color: #008080; text-decoration-color: #008080; font-weight: bold\">191.90068605398673</span>\n",
       "</pre>\n"
      ],
      "text/plain": [
       "New Gas to Oil Ratio: \u001b[1;36m71.80662629125229\u001b[0m \u001b[1;36m191.90068605398673\u001b[0m\n"
      ]
     },
     "metadata": {},
     "output_type": "display_data"
    },
    {
     "data": {
      "text/html": [
       "<pre style=\"white-space:pre;overflow-x:auto;line-height:normal;font-family:Menlo,'DejaVu Sans Mono',consolas,'Courier New',monospace\">New Oil Compressibility: <span style=\"color: #008080; text-decoration-color: #008080; font-weight: bold\">6.074130307629494e-06</span> <span style=\"color: #008080; text-decoration-color: #008080; font-weight: bold\">2.3746704678002432e-05</span>\n",
       "</pre>\n"
      ],
      "text/plain": [
       "New Oil Compressibility: \u001b[1;36m6.074130307629494e-06\u001b[0m \u001b[1;36m2.3746704678002432e-05\u001b[0m\n"
      ]
     },
     "metadata": {},
     "output_type": "display_data"
    },
    {
     "data": {
      "text/html": [
       "<pre style=\"white-space:pre;overflow-x:auto;line-height:normal;font-family:Menlo,'DejaVu Sans Mono',consolas,'Courier New',monospace\">New Oil Density: <span style=\"color: #008080; text-decoration-color: #008080; font-weight: bold\">47.65560033025701</span> <span style=\"color: #008080; text-decoration-color: #008080; font-weight: bold\">55.52143169953684</span>\n",
       "</pre>\n"
      ],
      "text/plain": [
       "New Oil Density: \u001b[1;36m47.65560033025701\u001b[0m \u001b[1;36m55.52143169953684\u001b[0m\n"
      ]
     },
     "metadata": {},
     "output_type": "display_data"
    },
    {
     "data": {
      "text/html": [
       "<pre style=\"white-space:pre;overflow-x:auto;line-height:normal;font-family:Menlo,'DejaVu Sans Mono',consolas,'Courier New',monospace\">New Oil Viscosity: <span style=\"color: #008080; text-decoration-color: #008080; font-weight: bold\">0.5695932067717582</span> <span style=\"color: #008080; text-decoration-color: #008080; font-weight: bold\">0.6539365932964791</span>\n",
       "</pre>\n"
      ],
      "text/plain": [
       "New Oil Viscosity: \u001b[1;36m0.5695932067717582\u001b[0m \u001b[1;36m0.6539365932964791\u001b[0m\n"
      ]
     },
     "metadata": {},
     "output_type": "display_data"
    },
    {
     "name": "stdout",
     "output_type": "stream",
     "text": [
      "TIME STEP 7\n"
     ]
    },
    {
     "data": {
      "text/html": [
       "<pre style=\"white-space:pre;overflow-x:auto;line-height:normal;font-family:Menlo,'DejaVu Sans Mono',consolas,'Courier New',monospace\"><span style=\"color: #008080; text-decoration-color: #008080; font-weight: bold\">Computing pressure evolution...</span>\n",
       "</pre>\n"
      ],
      "text/plain": [
       "\u001b[1;36mComputing pressure evolution\u001b[0m\u001b[1;36m...\u001b[0m\n"
      ]
     },
     "metadata": {},
     "output_type": "display_data"
    },
    {
     "data": {
      "text/html": [
       "<pre style=\"white-space:pre;overflow-x:auto;line-height:normal;font-family:Menlo,'DejaVu Sans Mono',consolas,'Courier New',monospace\">Old Pressure Grid <span style=\"color: #008080; text-decoration-color: #008080; font-weight: bold\">1548.8634923762431</span> <span style=\"color: #008080; text-decoration-color: #008080; font-weight: bold\">1916.5121504879285</span>\n",
       "</pre>\n"
      ],
      "text/plain": [
       "Old Pressure Grid \u001b[1;36m1548.8634923762431\u001b[0m \u001b[1;36m1916.5121504879285\u001b[0m\n"
      ]
     },
     "metadata": {},
     "output_type": "display_data"
    },
    {
     "data": {
      "text/html": [
       "<pre style=\"white-space:pre;overflow-x:auto;line-height:normal;font-family:Menlo,'DejaVu Sans Mono',consolas,'Courier New',monospace\">New Pressure Grid <span style=\"color: #008080; text-decoration-color: #008080; font-weight: bold\">1548.4879612060292</span> <span style=\"color: #008080; text-decoration-color: #008080; font-weight: bold\">1915.9842666944048</span>\n",
       "</pre>\n"
      ],
      "text/plain": [
       "New Pressure Grid \u001b[1;36m1548.4879612060292\u001b[0m \u001b[1;36m1915.9842666944048\u001b[0m\n"
      ]
     },
     "metadata": {},
     "output_type": "display_data"
    },
    {
     "data": {
      "text/html": [
       "<pre style=\"white-space:pre;overflow-x:auto;line-height:normal;font-family:Menlo,'DejaVu Sans Mono',consolas,'Courier New',monospace\"><span style=\"color: #008080; text-decoration-color: #008080; font-weight: bold\">Updating fluid properties...</span>\n",
       "</pre>\n"
      ],
      "text/plain": [
       "\u001b[1;36mUpdating fluid properties\u001b[0m\u001b[1;36m...\u001b[0m\n"
      ]
     },
     "metadata": {},
     "output_type": "display_data"
    },
    {
     "data": {
      "text/html": [
       "<pre style=\"white-space:pre;overflow-x:auto;line-height:normal;font-family:Menlo,'DejaVu Sans Mono',consolas,'Courier New',monospace\">Old Water Saturation Grid <span style=\"color: #008080; text-decoration-color: #008080; font-weight: bold\">0.19999429838969765</span> <span style=\"color: #008080; text-decoration-color: #008080; font-weight: bold\">0.20000042421449465</span>\n",
       "</pre>\n"
      ],
      "text/plain": [
       "Old Water Saturation Grid \u001b[1;36m0.19999429838969765\u001b[0m \u001b[1;36m0.20000042421449465\u001b[0m\n"
      ]
     },
     "metadata": {},
     "output_type": "display_data"
    },
    {
     "data": {
      "text/html": [
       "<pre style=\"white-space:pre;overflow-x:auto;line-height:normal;font-family:Menlo,'DejaVu Sans Mono',consolas,'Courier New',monospace\">Old Oil Saturation Grid <span style=\"color: #008080; text-decoration-color: #008080; font-weight: bold\">0.7999995757855054</span> <span style=\"color: #008080; text-decoration-color: #008080; font-weight: bold\">0.8000057016103025</span>\n",
       "</pre>\n"
      ],
      "text/plain": [
       "Old Oil Saturation Grid \u001b[1;36m0.7999995757855054\u001b[0m \u001b[1;36m0.8000057016103025\u001b[0m\n"
      ]
     },
     "metadata": {},
     "output_type": "display_data"
    },
    {
     "data": {
      "text/html": [
       "<pre style=\"white-space:pre;overflow-x:auto;line-height:normal;font-family:Menlo,'DejaVu Sans Mono',consolas,'Courier New',monospace\">Old Gas Saturation Grid <span style=\"color: #008080; text-decoration-color: #008080; font-weight: bold\">0.0</span> <span style=\"color: #008080; text-decoration-color: #008080; font-weight: bold\">2.2620068413382034e-17</span>\n",
       "</pre>\n"
      ],
      "text/plain": [
       "Old Gas Saturation Grid \u001b[1;36m0.0\u001b[0m \u001b[1;36m2.2620068413382034e-17\u001b[0m\n"
      ]
     },
     "metadata": {},
     "output_type": "display_data"
    },
    {
     "data": {
      "text/html": [
       "<pre style=\"white-space:pre;overflow-x:auto;line-height:normal;font-family:Menlo,'DejaVu Sans Mono',consolas,'Courier New',monospace\">New Water Saturation Grid <span style=\"color: #008080; text-decoration-color: #008080; font-weight: bold\">0.1999931439061987</span> <span style=\"color: #008080; text-decoration-color: #008080; font-weight: bold\">0.2000005084927491</span>\n",
       "</pre>\n"
      ],
      "text/plain": [
       "New Water Saturation Grid \u001b[1;36m0.1999931439061987\u001b[0m \u001b[1;36m0.2000005084927491\u001b[0m\n"
      ]
     },
     "metadata": {},
     "output_type": "display_data"
    },
    {
     "data": {
      "text/html": [
       "<pre style=\"white-space:pre;overflow-x:auto;line-height:normal;font-family:Menlo,'DejaVu Sans Mono',consolas,'Courier New',monospace\">New Oil Saturation Grid <span style=\"color: #008080; text-decoration-color: #008080; font-weight: bold\">0.7999994915072509</span> <span style=\"color: #008080; text-decoration-color: #008080; font-weight: bold\">0.8000068560938013</span>\n",
       "</pre>\n"
      ],
      "text/plain": [
       "New Oil Saturation Grid \u001b[1;36m0.7999994915072509\u001b[0m \u001b[1;36m0.8000068560938013\u001b[0m\n"
      ]
     },
     "metadata": {},
     "output_type": "display_data"
    },
    {
     "data": {
      "text/html": [
       "<pre style=\"white-space:pre;overflow-x:auto;line-height:normal;font-family:Menlo,'DejaVu Sans Mono',consolas,'Courier New',monospace\">New Gas Saturation Grid <span style=\"color: #008080; text-decoration-color: #008080; font-weight: bold\">0.0</span> <span style=\"color: #008080; text-decoration-color: #008080; font-weight: bold\">2.639397403894573e-17</span>\n",
       "</pre>\n"
      ],
      "text/plain": [
       "New Gas Saturation Grid \u001b[1;36m0.0\u001b[0m \u001b[1;36m2.639397403894573e-17\u001b[0m\n"
      ]
     },
     "metadata": {},
     "output_type": "display_data"
    },
    {
     "data": {
      "text/html": [
       "<pre style=\"white-space:pre;overflow-x:auto;line-height:normal;font-family:Menlo,'DejaVu Sans Mono',consolas,'Courier New',monospace\"><span style=\"color: #008080; text-decoration-color: #008080; font-weight: bold\">Updating static fluid properties...</span>\n",
       "</pre>\n"
      ],
      "text/plain": [
       "\u001b[1;36mUpdating static fluid properties\u001b[0m\u001b[1;36m...\u001b[0m\n"
      ]
     },
     "metadata": {},
     "output_type": "display_data"
    },
    {
     "data": {
      "text/html": [
       "<pre style=\"white-space:pre;overflow-x:auto;line-height:normal;font-family:Menlo,'DejaVu Sans Mono',consolas,'Courier New',monospace\"><span style=\"font-weight: bold\">Gas Gravity:</span> <span style=\"color: #008080; text-decoration-color: #008080; font-weight: bold\">0.5547184122441046</span> <span style=\"color: #008080; text-decoration-color: #008080; font-weight: bold\">0.5547184122441046</span>\n",
       "</pre>\n"
      ],
      "text/plain": [
       "\u001b[1mGas Gravity:\u001b[0m \u001b[1;36m0.5547184122441046\u001b[0m \u001b[1;36m0.5547184122441046\u001b[0m\n"
      ]
     },
     "metadata": {},
     "output_type": "display_data"
    },
    {
     "data": {
      "text/html": [
       "<pre style=\"white-space:pre;overflow-x:auto;line-height:normal;font-family:Menlo,'DejaVu Sans Mono',consolas,'Courier New',monospace\">Gas Compressibility Factor: <span style=\"color: #008080; text-decoration-color: #008080; font-weight: bold\">0.1</span> <span style=\"color: #008080; text-decoration-color: #008080; font-weight: bold\">0.1</span>\n",
       "</pre>\n"
      ],
      "text/plain": [
       "Gas Compressibility Factor: \u001b[1;36m0.1\u001b[0m \u001b[1;36m0.1\u001b[0m\n"
      ]
     },
     "metadata": {},
     "output_type": "display_data"
    },
    {
     "data": {
      "text/html": [
       "<pre style=\"white-space:pre;overflow-x:auto;line-height:normal;font-family:Menlo,'DejaVu Sans Mono',consolas,'Courier New',monospace\">New Gas Compressibility: <span style=\"color: #008080; text-decoration-color: #008080; font-weight: bold\">0.0</span> <span style=\"color: #008080; text-decoration-color: #008080; font-weight: bold\">0.0</span>\n",
       "</pre>\n"
      ],
      "text/plain": [
       "New Gas Compressibility: \u001b[1;36m0.0\u001b[0m \u001b[1;36m0.0\u001b[0m\n"
      ]
     },
     "metadata": {},
     "output_type": "display_data"
    },
    {
     "data": {
      "text/html": [
       "<pre style=\"white-space:pre;overflow-x:auto;line-height:normal;font-family:Menlo,'DejaVu Sans Mono',consolas,'Courier New',monospace\">New Gas Formation Volume Factor: <span style=\"color: #008080; text-decoration-color: #008080; font-weight: bold\">0.0012783681869993125</span> <span style=\"color: #008080; text-decoration-color: #008080; font-weight: bold\">0.004646567309626031</span>\n",
       "</pre>\n"
      ],
      "text/plain": [
       "New Gas Formation Volume Factor: \u001b[1;36m0.0012783681869993125\u001b[0m \u001b[1;36m0.004646567309626031\u001b[0m\n"
      ]
     },
     "metadata": {},
     "output_type": "display_data"
    },
    {
     "data": {
      "text/html": [
       "<pre style=\"white-space:pre;overflow-x:auto;line-height:normal;font-family:Menlo,'DejaVu Sans Mono',consolas,'Courier New',monospace\">New Gas Density: <span style=\"color: #008080; text-decoration-color: #008080; font-weight: bold\">0.06870988852207056</span> <span style=\"color: #008080; text-decoration-color: #008080; font-weight: bold\">0.11299707860974337</span>\n",
       "</pre>\n"
      ],
      "text/plain": [
       "New Gas Density: \u001b[1;36m0.06870988852207056\u001b[0m \u001b[1;36m0.11299707860974337\u001b[0m\n"
      ]
     },
     "metadata": {},
     "output_type": "display_data"
    },
    {
     "data": {
      "text/html": [
       "<pre style=\"white-space:pre;overflow-x:auto;line-height:normal;font-family:Menlo,'DejaVu Sans Mono',consolas,'Courier New',monospace\">New Gas Viscosity: <span style=\"color: #008080; text-decoration-color: #008080; font-weight: bold\">0.01617925793522853</span> <span style=\"color: #008080; text-decoration-color: #008080; font-weight: bold\">0.02030601529458462</span>\n",
       "</pre>\n"
      ],
      "text/plain": [
       "New Gas Viscosity: \u001b[1;36m0.01617925793522853\u001b[0m \u001b[1;36m0.02030601529458462\u001b[0m\n"
      ]
     },
     "metadata": {},
     "output_type": "display_data"
    },
    {
     "data": {
      "text/html": [
       "<pre style=\"white-space:pre;overflow-x:auto;line-height:normal;font-family:Menlo,'DejaVu Sans Mono',consolas,'Courier New',monospace\">Gas Solubility in Water: <span style=\"color: #008080; text-decoration-color: #008080; font-weight: bold\">2.0986715329268915</span> <span style=\"color: #008080; text-decoration-color: #008080; font-weight: bold\">2.4268488646051063</span>\n",
       "</pre>\n"
      ],
      "text/plain": [
       "Gas Solubility in Water: \u001b[1;36m2.0986715329268915\u001b[0m \u001b[1;36m2.4268488646051063\u001b[0m\n"
      ]
     },
     "metadata": {},
     "output_type": "display_data"
    },
    {
     "data": {
      "text/html": [
       "<pre style=\"white-space:pre;overflow-x:auto;line-height:normal;font-family:Menlo,'DejaVu Sans Mono',consolas,'Courier New',monospace\">New Water Bubble Point Pressure: <span style=\"color: #008080; text-decoration-color: #008080; font-weight: bold\">1548.4879612060327</span> <span style=\"color: #008080; text-decoration-color: #008080; font-weight: bold\">1915.9842666944073</span>\n",
       "</pre>\n"
      ],
      "text/plain": [
       "New Water Bubble Point Pressure: \u001b[1;36m1548.4879612060327\u001b[0m \u001b[1;36m1915.9842666944073\u001b[0m\n"
      ]
     },
     "metadata": {},
     "output_type": "display_data"
    },
    {
     "data": {
      "text/html": [
       "<pre style=\"white-space:pre;overflow-x:auto;line-height:normal;font-family:Menlo,'DejaVu Sans Mono',consolas,'Courier New',monospace\">New Water Compressibility: <span style=\"color: #008080; text-decoration-color: #008080; font-weight: bold\">0.0</span> <span style=\"color: #008080; text-decoration-color: #008080; font-weight: bold\">3.91370884735487e-09</span>\n",
       "</pre>\n"
      ],
      "text/plain": [
       "New Water Compressibility: \u001b[1;36m0.0\u001b[0m \u001b[1;36m3.91370884735487e-09\u001b[0m\n"
      ]
     },
     "metadata": {},
     "output_type": "display_data"
    },
    {
     "data": {
      "text/html": [
       "<pre style=\"white-space:pre;overflow-x:auto;line-height:normal;font-family:Menlo,'DejaVu Sans Mono',consolas,'Courier New',monospace\">New Water Formation Volume Factor: <span style=\"color: #008080; text-decoration-color: #008080; font-weight: bold\">1.008546095532463</span> <span style=\"color: #008080; text-decoration-color: #008080; font-weight: bold\">1.0792974330347695</span>\n",
       "</pre>\n"
      ],
      "text/plain": [
       "New Water Formation Volume Factor: \u001b[1;36m1.008546095532463\u001b[0m \u001b[1;36m1.0792974330347695\u001b[0m\n"
      ]
     },
     "metadata": {},
     "output_type": "display_data"
    },
    {
     "data": {
      "text/html": [
       "<pre style=\"white-space:pre;overflow-x:auto;line-height:normal;font-family:Menlo,'DejaVu Sans Mono',consolas,'Courier New',monospace\">New Water Density: <span style=\"color: #008080; text-decoration-color: #008080; font-weight: bold\">57.84268409068454</span> <span style=\"color: #008080; text-decoration-color: #008080; font-weight: bold\">61.900453156194146</span>\n",
       "</pre>\n"
      ],
      "text/plain": [
       "New Water Density: \u001b[1;36m57.84268409068454\u001b[0m \u001b[1;36m61.900453156194146\u001b[0m\n"
      ]
     },
     "metadata": {},
     "output_type": "display_data"
    },
    {
     "data": {
      "text/html": [
       "<pre style=\"white-space:pre;overflow-x:auto;line-height:normal;font-family:Menlo,'DejaVu Sans Mono',consolas,'Courier New',monospace\">New Water Viscosity: <span style=\"color: #008080; text-decoration-color: #008080; font-weight: bold\">0.9138848898951069</span> <span style=\"color: #008080; text-decoration-color: #008080; font-weight: bold\">1.0035243453797649</span>\n",
       "</pre>\n"
      ],
      "text/plain": [
       "New Water Viscosity: \u001b[1;36m0.9138848898951069\u001b[0m \u001b[1;36m1.0035243453797649\u001b[0m\n"
      ]
     },
     "metadata": {},
     "output_type": "display_data"
    },
    {
     "name": "stdout",
     "output_type": "stream",
     "text": [
      "Old GOR Grid: 71.80662629125229 191.90068605398673\n"
     ]
    },
    {
     "data": {
      "text/html": [
       "<pre style=\"white-space:pre;overflow-x:auto;line-height:normal;font-family:Menlo,'DejaVu Sans Mono',consolas,'Courier New',monospace\">Oil Specific Gravity: <span style=\"color: #008080; text-decoration-color: #008080; font-weight: bold\">0.8</span> <span style=\"color: #008080; text-decoration-color: #008080; font-weight: bold\">0.9</span>\n",
       "</pre>\n"
      ],
      "text/plain": [
       "Oil Specific Gravity: \u001b[1;36m0.8\u001b[0m \u001b[1;36m0.9\u001b[0m\n"
      ]
     },
     "metadata": {},
     "output_type": "display_data"
    },
    {
     "data": {
      "text/html": [
       "<pre style=\"white-space:pre;overflow-x:auto;line-height:normal;font-family:Menlo,'DejaVu Sans Mono',consolas,'Courier New',monospace\">Oil API Gravity: <span style=\"color: #008080; text-decoration-color: #008080; font-weight: bold\">25.72222222222223</span> <span style=\"color: #008080; text-decoration-color: #008080; font-weight: bold\">45.375</span>\n",
       "</pre>\n"
      ],
      "text/plain": [
       "Oil API Gravity: \u001b[1;36m25.72222222222223\u001b[0m \u001b[1;36m45.375\u001b[0m\n"
      ]
     },
     "metadata": {},
     "output_type": "display_data"
    },
    {
     "data": {
      "text/html": [
       "<pre style=\"white-space:pre;overflow-x:auto;line-height:normal;font-family:Menlo,'DejaVu Sans Mono',consolas,'Courier New',monospace\">New Oil Bubble Point Pressure: <span style=\"color: #008080; text-decoration-color: #008080; font-weight: bold\">799.9999999999984</span> <span style=\"color: #008080; text-decoration-color: #008080; font-weight: bold\">800.0000000000008</span>\n",
       "</pre>\n"
      ],
      "text/plain": [
       "New Oil Bubble Point Pressure: \u001b[1;36m799.9999999999984\u001b[0m \u001b[1;36m800.0000000000008\u001b[0m\n"
      ]
     },
     "metadata": {},
     "output_type": "display_data"
    },
    {
     "data": {
      "text/html": [
       "<pre style=\"white-space:pre;overflow-x:auto;line-height:normal;font-family:Menlo,'DejaVu Sans Mono',consolas,'Courier New',monospace\">New Oil Formation Volume Factor: <span style=\"color: #008080; text-decoration-color: #008080; font-weight: bold\">1.0207693114944512</span> <span style=\"color: #008080; text-decoration-color: #008080; font-weight: bold\">1.0773981705770863</span>\n",
       "</pre>\n"
      ],
      "text/plain": [
       "New Oil Formation Volume Factor: \u001b[1;36m1.0207693114944512\u001b[0m \u001b[1;36m1.0773981705770863\u001b[0m\n"
      ]
     },
     "metadata": {},
     "output_type": "display_data"
    },
    {
     "data": {
      "text/html": [
       "<pre style=\"white-space:pre;overflow-x:auto;line-height:normal;font-family:Menlo,'DejaVu Sans Mono',consolas,'Courier New',monospace\">New Gas to Oil Ratio: <span style=\"color: #008080; text-decoration-color: #008080; font-weight: bold\">71.80662629125229</span> <span style=\"color: #008080; text-decoration-color: #008080; font-weight: bold\">191.90068605398673</span>\n",
       "</pre>\n"
      ],
      "text/plain": [
       "New Gas to Oil Ratio: \u001b[1;36m71.80662629125229\u001b[0m \u001b[1;36m191.90068605398673\u001b[0m\n"
      ]
     },
     "metadata": {},
     "output_type": "display_data"
    },
    {
     "data": {
      "text/html": [
       "<pre style=\"white-space:pre;overflow-x:auto;line-height:normal;font-family:Menlo,'DejaVu Sans Mono',consolas,'Courier New',monospace\">New Oil Compressibility: <span style=\"color: #008080; text-decoration-color: #008080; font-weight: bold\">6.075803826042398e-06</span> <span style=\"color: #008080; text-decoration-color: #008080; font-weight: bold\">2.3750248558033098e-05</span>\n",
       "</pre>\n"
      ],
      "text/plain": [
       "New Oil Compressibility: \u001b[1;36m6.075803826042398e-06\u001b[0m \u001b[1;36m2.3750248558033098e-05\u001b[0m\n"
      ]
     },
     "metadata": {},
     "output_type": "display_data"
    },
    {
     "data": {
      "text/html": [
       "<pre style=\"white-space:pre;overflow-x:auto;line-height:normal;font-family:Menlo,'DejaVu Sans Mono',consolas,'Courier New',monospace\">New Oil Density: <span style=\"color: #008080; text-decoration-color: #008080; font-weight: bold\">47.65470396079915</span> <span style=\"color: #008080; text-decoration-color: #008080; font-weight: bold\">55.52134167763245</span>\n",
       "</pre>\n"
      ],
      "text/plain": [
       "New Oil Density: \u001b[1;36m47.65470396079915\u001b[0m \u001b[1;36m55.52134167763245\u001b[0m\n"
      ]
     },
     "metadata": {},
     "output_type": "display_data"
    },
    {
     "data": {
      "text/html": [
       "<pre style=\"white-space:pre;overflow-x:auto;line-height:normal;font-family:Menlo,'DejaVu Sans Mono',consolas,'Courier New',monospace\">New Oil Viscosity: <span style=\"color: #008080; text-decoration-color: #008080; font-weight: bold\">0.5695726238895352</span> <span style=\"color: #008080; text-decoration-color: #008080; font-weight: bold\">0.6538780134189951</span>\n",
       "</pre>\n"
      ],
      "text/plain": [
       "New Oil Viscosity: \u001b[1;36m0.5695726238895352\u001b[0m \u001b[1;36m0.6538780134189951\u001b[0m\n"
      ]
     },
     "metadata": {},
     "output_type": "display_data"
    },
    {
     "name": "stdout",
     "output_type": "stream",
     "text": [
      "TIME STEP 8\n"
     ]
    },
    {
     "data": {
      "text/html": [
       "<pre style=\"white-space:pre;overflow-x:auto;line-height:normal;font-family:Menlo,'DejaVu Sans Mono',consolas,'Courier New',monospace\"><span style=\"color: #008080; text-decoration-color: #008080; font-weight: bold\">Computing pressure evolution...</span>\n",
       "</pre>\n"
      ],
      "text/plain": [
       "\u001b[1;36mComputing pressure evolution\u001b[0m\u001b[1;36m...\u001b[0m\n"
      ]
     },
     "metadata": {},
     "output_type": "display_data"
    },
    {
     "data": {
      "text/html": [
       "<pre style=\"white-space:pre;overflow-x:auto;line-height:normal;font-family:Menlo,'DejaVu Sans Mono',consolas,'Courier New',monospace\">Old Pressure Grid <span style=\"color: #008080; text-decoration-color: #008080; font-weight: bold\">1548.4879612060292</span> <span style=\"color: #008080; text-decoration-color: #008080; font-weight: bold\">1915.9842666944048</span>\n",
       "</pre>\n"
      ],
      "text/plain": [
       "Old Pressure Grid \u001b[1;36m1548.4879612060292\u001b[0m \u001b[1;36m1915.9842666944048\u001b[0m\n"
      ]
     },
     "metadata": {},
     "output_type": "display_data"
    },
    {
     "data": {
      "text/html": [
       "<pre style=\"white-space:pre;overflow-x:auto;line-height:normal;font-family:Menlo,'DejaVu Sans Mono',consolas,'Courier New',monospace\">New Pressure Grid <span style=\"color: #008080; text-decoration-color: #008080; font-weight: bold\">1548.1125881128405</span> <span style=\"color: #008080; text-decoration-color: #008080; font-weight: bold\">1915.4575997720274</span>\n",
       "</pre>\n"
      ],
      "text/plain": [
       "New Pressure Grid \u001b[1;36m1548.1125881128405\u001b[0m \u001b[1;36m1915.4575997720274\u001b[0m\n"
      ]
     },
     "metadata": {},
     "output_type": "display_data"
    },
    {
     "data": {
      "text/html": [
       "<pre style=\"white-space:pre;overflow-x:auto;line-height:normal;font-family:Menlo,'DejaVu Sans Mono',consolas,'Courier New',monospace\"><span style=\"color: #008080; text-decoration-color: #008080; font-weight: bold\">Updating fluid properties...</span>\n",
       "</pre>\n"
      ],
      "text/plain": [
       "\u001b[1;36mUpdating fluid properties\u001b[0m\u001b[1;36m...\u001b[0m\n"
      ]
     },
     "metadata": {},
     "output_type": "display_data"
    },
    {
     "data": {
      "text/html": [
       "<pre style=\"white-space:pre;overflow-x:auto;line-height:normal;font-family:Menlo,'DejaVu Sans Mono',consolas,'Courier New',monospace\">Old Water Saturation Grid <span style=\"color: #008080; text-decoration-color: #008080; font-weight: bold\">0.1999931439061987</span> <span style=\"color: #008080; text-decoration-color: #008080; font-weight: bold\">0.2000005084927491</span>\n",
       "</pre>\n"
      ],
      "text/plain": [
       "Old Water Saturation Grid \u001b[1;36m0.1999931439061987\u001b[0m \u001b[1;36m0.2000005084927491\u001b[0m\n"
      ]
     },
     "metadata": {},
     "output_type": "display_data"
    },
    {
     "data": {
      "text/html": [
       "<pre style=\"white-space:pre;overflow-x:auto;line-height:normal;font-family:Menlo,'DejaVu Sans Mono',consolas,'Courier New',monospace\">Old Oil Saturation Grid <span style=\"color: #008080; text-decoration-color: #008080; font-weight: bold\">0.7999994915072509</span> <span style=\"color: #008080; text-decoration-color: #008080; font-weight: bold\">0.8000068560938013</span>\n",
       "</pre>\n"
      ],
      "text/plain": [
       "Old Oil Saturation Grid \u001b[1;36m0.7999994915072509\u001b[0m \u001b[1;36m0.8000068560938013\u001b[0m\n"
      ]
     },
     "metadata": {},
     "output_type": "display_data"
    },
    {
     "data": {
      "text/html": [
       "<pre style=\"white-space:pre;overflow-x:auto;line-height:normal;font-family:Menlo,'DejaVu Sans Mono',consolas,'Courier New',monospace\">Old Gas Saturation Grid <span style=\"color: #008080; text-decoration-color: #008080; font-weight: bold\">0.0</span> <span style=\"color: #008080; text-decoration-color: #008080; font-weight: bold\">2.639397403894573e-17</span>\n",
       "</pre>\n"
      ],
      "text/plain": [
       "Old Gas Saturation Grid \u001b[1;36m0.0\u001b[0m \u001b[1;36m2.639397403894573e-17\u001b[0m\n"
      ]
     },
     "metadata": {},
     "output_type": "display_data"
    },
    {
     "data": {
      "text/html": [
       "<pre style=\"white-space:pre;overflow-x:auto;line-height:normal;font-family:Menlo,'DejaVu Sans Mono',consolas,'Courier New',monospace\">New Water Saturation Grid <span style=\"color: #008080; text-decoration-color: #008080; font-weight: bold\">0.19999197749495448</span> <span style=\"color: #008080; text-decoration-color: #008080; font-weight: bold\">0.20000059287765037</span>\n",
       "</pre>\n"
      ],
      "text/plain": [
       "New Water Saturation Grid \u001b[1;36m0.19999197749495448\u001b[0m \u001b[1;36m0.20000059287765037\u001b[0m\n"
      ]
     },
     "metadata": {},
     "output_type": "display_data"
    },
    {
     "data": {
      "text/html": [
       "<pre style=\"white-space:pre;overflow-x:auto;line-height:normal;font-family:Menlo,'DejaVu Sans Mono',consolas,'Courier New',monospace\">New Oil Saturation Grid <span style=\"color: #008080; text-decoration-color: #008080; font-weight: bold\">0.7999994071223496</span> <span style=\"color: #008080; text-decoration-color: #008080; font-weight: bold\">0.8000080225050455</span>\n",
       "</pre>\n"
      ],
      "text/plain": [
       "New Oil Saturation Grid \u001b[1;36m0.7999994071223496\u001b[0m \u001b[1;36m0.8000080225050455\u001b[0m\n"
      ]
     },
     "metadata": {},
     "output_type": "display_data"
    },
    {
     "data": {
      "text/html": [
       "<pre style=\"white-space:pre;overflow-x:auto;line-height:normal;font-family:Menlo,'DejaVu Sans Mono',consolas,'Courier New',monospace\">New Gas Saturation Grid <span style=\"color: #008080; text-decoration-color: #008080; font-weight: bold\">0.0</span> <span style=\"color: #008080; text-decoration-color: #008080; font-weight: bold\">3.0169009978479663e-17</span>\n",
       "</pre>\n"
      ],
      "text/plain": [
       "New Gas Saturation Grid \u001b[1;36m0.0\u001b[0m \u001b[1;36m3.0169009978479663e-17\u001b[0m\n"
      ]
     },
     "metadata": {},
     "output_type": "display_data"
    },
    {
     "data": {
      "text/html": [
       "<pre style=\"white-space:pre;overflow-x:auto;line-height:normal;font-family:Menlo,'DejaVu Sans Mono',consolas,'Courier New',monospace\"><span style=\"color: #008080; text-decoration-color: #008080; font-weight: bold\">Updating static fluid properties...</span>\n",
       "</pre>\n"
      ],
      "text/plain": [
       "\u001b[1;36mUpdating static fluid properties\u001b[0m\u001b[1;36m...\u001b[0m\n"
      ]
     },
     "metadata": {},
     "output_type": "display_data"
    },
    {
     "data": {
      "text/html": [
       "<pre style=\"white-space:pre;overflow-x:auto;line-height:normal;font-family:Menlo,'DejaVu Sans Mono',consolas,'Courier New',monospace\"><span style=\"font-weight: bold\">Gas Gravity:</span> <span style=\"color: #008080; text-decoration-color: #008080; font-weight: bold\">0.5547184122441046</span> <span style=\"color: #008080; text-decoration-color: #008080; font-weight: bold\">0.5547184122441046</span>\n",
       "</pre>\n"
      ],
      "text/plain": [
       "\u001b[1mGas Gravity:\u001b[0m \u001b[1;36m0.5547184122441046\u001b[0m \u001b[1;36m0.5547184122441046\u001b[0m\n"
      ]
     },
     "metadata": {},
     "output_type": "display_data"
    },
    {
     "data": {
      "text/html": [
       "<pre style=\"white-space:pre;overflow-x:auto;line-height:normal;font-family:Menlo,'DejaVu Sans Mono',consolas,'Courier New',monospace\">Gas Compressibility Factor: <span style=\"color: #008080; text-decoration-color: #008080; font-weight: bold\">0.1</span> <span style=\"color: #008080; text-decoration-color: #008080; font-weight: bold\">0.1</span>\n",
       "</pre>\n"
      ],
      "text/plain": [
       "Gas Compressibility Factor: \u001b[1;36m0.1\u001b[0m \u001b[1;36m0.1\u001b[0m\n"
      ]
     },
     "metadata": {},
     "output_type": "display_data"
    },
    {
     "data": {
      "text/html": [
       "<pre style=\"white-space:pre;overflow-x:auto;line-height:normal;font-family:Menlo,'DejaVu Sans Mono',consolas,'Courier New',monospace\">New Gas Compressibility: <span style=\"color: #008080; text-decoration-color: #008080; font-weight: bold\">0.0</span> <span style=\"color: #008080; text-decoration-color: #008080; font-weight: bold\">0.0</span>\n",
       "</pre>\n"
      ],
      "text/plain": [
       "New Gas Compressibility: \u001b[1;36m0.0\u001b[0m \u001b[1;36m0.0\u001b[0m\n"
      ]
     },
     "metadata": {},
     "output_type": "display_data"
    },
    {
     "data": {
      "text/html": [
       "<pre style=\"white-space:pre;overflow-x:auto;line-height:normal;font-family:Menlo,'DejaVu Sans Mono',consolas,'Courier New',monospace\">New Gas Formation Volume Factor: <span style=\"color: #008080; text-decoration-color: #008080; font-weight: bold\">0.0012787196822445178</span> <span style=\"color: #008080; text-decoration-color: #008080; font-weight: bold\">0.004647260670303995</span>\n",
       "</pre>\n"
      ],
      "text/plain": [
       "New Gas Formation Volume Factor: \u001b[1;36m0.0012787196822445178\u001b[0m \u001b[1;36m0.004647260670303995\u001b[0m\n"
      ]
     },
     "metadata": {},
     "output_type": "display_data"
    },
    {
     "data": {
      "text/html": [
       "<pre style=\"white-space:pre;overflow-x:auto;line-height:normal;font-family:Menlo,'DejaVu Sans Mono',consolas,'Courier New',monospace\">New Gas Density: <span style=\"color: #008080; text-decoration-color: #008080; font-weight: bold\">0.06869963716363206</span> <span style=\"color: #008080; text-decoration-color: #008080; font-weight: bold\">0.11296601790394138</span>\n",
       "</pre>\n"
      ],
      "text/plain": [
       "New Gas Density: \u001b[1;36m0.06869963716363206\u001b[0m \u001b[1;36m0.11296601790394138\u001b[0m\n"
      ]
     },
     "metadata": {},
     "output_type": "display_data"
    },
    {
     "data": {
      "text/html": [
       "<pre style=\"white-space:pre;overflow-x:auto;line-height:normal;font-family:Menlo,'DejaVu Sans Mono',consolas,'Courier New',monospace\">New Gas Viscosity: <span style=\"color: #008080; text-decoration-color: #008080; font-weight: bold\">0.016179254134651506</span> <span style=\"color: #008080; text-decoration-color: #008080; font-weight: bold\">0.02030601527074146</span>\n",
       "</pre>\n"
      ],
      "text/plain": [
       "New Gas Viscosity: \u001b[1;36m0.016179254134651506\u001b[0m \u001b[1;36m0.02030601527074146\u001b[0m\n"
      ]
     },
     "metadata": {},
     "output_type": "display_data"
    },
    {
     "data": {
      "text/html": [
       "<pre style=\"white-space:pre;overflow-x:auto;line-height:normal;font-family:Menlo,'DejaVu Sans Mono',consolas,'Courier New',monospace\">Gas Solubility in Water: <span style=\"color: #008080; text-decoration-color: #008080; font-weight: bold\">2.09866128729102</span> <span style=\"color: #008080; text-decoration-color: #008080; font-weight: bold\">2.426847565888527</span>\n",
       "</pre>\n"
      ],
      "text/plain": [
       "Gas Solubility in Water: \u001b[1;36m2.09866128729102\u001b[0m \u001b[1;36m2.426847565888527\u001b[0m\n"
      ]
     },
     "metadata": {},
     "output_type": "display_data"
    },
    {
     "data": {
      "text/html": [
       "<pre style=\"white-space:pre;overflow-x:auto;line-height:normal;font-family:Menlo,'DejaVu Sans Mono',consolas,'Courier New',monospace\">New Water Bubble Point Pressure: <span style=\"color: #008080; text-decoration-color: #008080; font-weight: bold\">1548.1125881128455</span> <span style=\"color: #008080; text-decoration-color: #008080; font-weight: bold\">1915.457599772024</span>\n",
       "</pre>\n"
      ],
      "text/plain": [
       "New Water Bubble Point Pressure: \u001b[1;36m1548.1125881128455\u001b[0m \u001b[1;36m1915.457599772024\u001b[0m\n"
      ]
     },
     "metadata": {},
     "output_type": "display_data"
    },
    {
     "data": {
      "text/html": [
       "<pre style=\"white-space:pre;overflow-x:auto;line-height:normal;font-family:Menlo,'DejaVu Sans Mono',consolas,'Courier New',monospace\">New Water Compressibility: <span style=\"color: #008080; text-decoration-color: #008080; font-weight: bold\">0.0</span> <span style=\"color: #008080; text-decoration-color: #008080; font-weight: bold\">3.926081160624625e-09</span>\n",
       "</pre>\n"
      ],
      "text/plain": [
       "New Water Compressibility: \u001b[1;36m0.0\u001b[0m \u001b[1;36m3.926081160624625e-09\u001b[0m\n"
      ]
     },
     "metadata": {},
     "output_type": "display_data"
    },
    {
     "data": {
      "text/html": [
       "<pre style=\"white-space:pre;overflow-x:auto;line-height:normal;font-family:Menlo,'DejaVu Sans Mono',consolas,'Courier New',monospace\">New Water Formation Volume Factor: <span style=\"color: #008080; text-decoration-color: #008080; font-weight: bold\">1.008546099022031</span> <span style=\"color: #008080; text-decoration-color: #008080; font-weight: bold\">1.0792974347542375</span>\n",
       "</pre>\n"
      ],
      "text/plain": [
       "New Water Formation Volume Factor: \u001b[1;36m1.008546099022031\u001b[0m \u001b[1;36m1.0792974347542375\u001b[0m\n"
      ]
     },
     "metadata": {},
     "output_type": "display_data"
    },
    {
     "data": {
      "text/html": [
       "<pre style=\"white-space:pre;overflow-x:auto;line-height:normal;font-family:Menlo,'DejaVu Sans Mono',consolas,'Courier New',monospace\">New Water Density: <span style=\"color: #008080; text-decoration-color: #008080; font-weight: bold\">57.84268399855622</span> <span style=\"color: #008080; text-decoration-color: #008080; font-weight: bold\">61.90045294250647</span>\n",
       "</pre>\n"
      ],
      "text/plain": [
       "New Water Density: \u001b[1;36m57.84268399855622\u001b[0m \u001b[1;36m61.90045294250647\u001b[0m\n"
      ]
     },
     "metadata": {},
     "output_type": "display_data"
    },
    {
     "data": {
      "text/html": [
       "<pre style=\"white-space:pre;overflow-x:auto;line-height:normal;font-family:Menlo,'DejaVu Sans Mono',consolas,'Courier New',monospace\">New Water Viscosity: <span style=\"color: #008080; text-decoration-color: #008080; font-weight: bold\">0.9138688759967681</span> <span style=\"color: #008080; text-decoration-color: #008080; font-weight: bold\">1.003498989937748</span>\n",
       "</pre>\n"
      ],
      "text/plain": [
       "New Water Viscosity: \u001b[1;36m0.9138688759967681\u001b[0m \u001b[1;36m1.003498989937748\u001b[0m\n"
      ]
     },
     "metadata": {},
     "output_type": "display_data"
    },
    {
     "name": "stdout",
     "output_type": "stream",
     "text": [
      "Old GOR Grid: 71.80662629125229 191.90068605398673\n"
     ]
    },
    {
     "data": {
      "text/html": [
       "<pre style=\"white-space:pre;overflow-x:auto;line-height:normal;font-family:Menlo,'DejaVu Sans Mono',consolas,'Courier New',monospace\">Oil Specific Gravity: <span style=\"color: #008080; text-decoration-color: #008080; font-weight: bold\">0.8</span> <span style=\"color: #008080; text-decoration-color: #008080; font-weight: bold\">0.9</span>\n",
       "</pre>\n"
      ],
      "text/plain": [
       "Oil Specific Gravity: \u001b[1;36m0.8\u001b[0m \u001b[1;36m0.9\u001b[0m\n"
      ]
     },
     "metadata": {},
     "output_type": "display_data"
    },
    {
     "data": {
      "text/html": [
       "<pre style=\"white-space:pre;overflow-x:auto;line-height:normal;font-family:Menlo,'DejaVu Sans Mono',consolas,'Courier New',monospace\">Oil API Gravity: <span style=\"color: #008080; text-decoration-color: #008080; font-weight: bold\">25.72222222222223</span> <span style=\"color: #008080; text-decoration-color: #008080; font-weight: bold\">45.375</span>\n",
       "</pre>\n"
      ],
      "text/plain": [
       "Oil API Gravity: \u001b[1;36m25.72222222222223\u001b[0m \u001b[1;36m45.375\u001b[0m\n"
      ]
     },
     "metadata": {},
     "output_type": "display_data"
    },
    {
     "data": {
      "text/html": [
       "<pre style=\"white-space:pre;overflow-x:auto;line-height:normal;font-family:Menlo,'DejaVu Sans Mono',consolas,'Courier New',monospace\">New Oil Bubble Point Pressure: <span style=\"color: #008080; text-decoration-color: #008080; font-weight: bold\">799.9999999999982</span> <span style=\"color: #008080; text-decoration-color: #008080; font-weight: bold\">800.0000000000008</span>\n",
       "</pre>\n"
      ],
      "text/plain": [
       "New Oil Bubble Point Pressure: \u001b[1;36m799.9999999999982\u001b[0m \u001b[1;36m800.0000000000008\u001b[0m\n"
      ]
     },
     "metadata": {},
     "output_type": "display_data"
    },
    {
     "data": {
      "text/html": [
       "<pre style=\"white-space:pre;overflow-x:auto;line-height:normal;font-family:Menlo,'DejaVu Sans Mono',consolas,'Courier New',monospace\">New Oil Formation Volume Factor: <span style=\"color: #008080; text-decoration-color: #008080; font-weight: bold\">1.0207709666443376</span> <span style=\"color: #008080; text-decoration-color: #008080; font-weight: bold\">1.0774184592445795</span>\n",
       "</pre>\n"
      ],
      "text/plain": [
       "New Oil Formation Volume Factor: \u001b[1;36m1.0207709666443376\u001b[0m \u001b[1;36m1.0774184592445795\u001b[0m\n"
      ]
     },
     "metadata": {},
     "output_type": "display_data"
    },
    {
     "data": {
      "text/html": [
       "<pre style=\"white-space:pre;overflow-x:auto;line-height:normal;font-family:Menlo,'DejaVu Sans Mono',consolas,'Courier New',monospace\">New Gas to Oil Ratio: <span style=\"color: #008080; text-decoration-color: #008080; font-weight: bold\">71.8066262912523</span> <span style=\"color: #008080; text-decoration-color: #008080; font-weight: bold\">191.90068605398673</span>\n",
       "</pre>\n"
      ],
      "text/plain": [
       "New Gas to Oil Ratio: \u001b[1;36m71.8066262912523\u001b[0m \u001b[1;36m191.90068605398673\u001b[0m\n"
      ]
     },
     "metadata": {},
     "output_type": "display_data"
    },
    {
     "data": {
      "text/html": [
       "<pre style=\"white-space:pre;overflow-x:auto;line-height:normal;font-family:Menlo,'DejaVu Sans Mono',consolas,'Courier New',monospace\">New Oil Compressibility: <span style=\"color: #008080; text-decoration-color: #008080; font-weight: bold\">6.077474405909272e-06</span> <span style=\"color: #008080; text-decoration-color: #008080; font-weight: bold\">2.3753792569632348e-05</span>\n",
       "</pre>\n"
      ],
      "text/plain": [
       "New Oil Compressibility: \u001b[1;36m6.077474405909272e-06\u001b[0m \u001b[1;36m2.3753792569632348e-05\u001b[0m\n"
      ]
     },
     "metadata": {},
     "output_type": "display_data"
    },
    {
     "data": {
      "text/html": [
       "<pre style=\"white-space:pre;overflow-x:auto;line-height:normal;font-family:Menlo,'DejaVu Sans Mono',consolas,'Courier New',monospace\">New Oil Density: <span style=\"color: #008080; text-decoration-color: #008080; font-weight: bold\">47.653806583893406</span> <span style=\"color: #008080; text-decoration-color: #008080; font-weight: bold\">55.5212516514215</span>\n",
       "</pre>\n"
      ],
      "text/plain": [
       "New Oil Density: \u001b[1;36m47.653806583893406\u001b[0m \u001b[1;36m55.5212516514215\u001b[0m\n"
      ]
     },
     "metadata": {},
     "output_type": "display_data"
    },
    {
     "data": {
      "text/html": [
       "<pre style=\"white-space:pre;overflow-x:auto;line-height:normal;font-family:Menlo,'DejaVu Sans Mono',consolas,'Courier New',monospace\">New Oil Viscosity: <span style=\"color: #008080; text-decoration-color: #008080; font-weight: bold\">0.5695520489671322</span> <span style=\"color: #008080; text-decoration-color: #008080; font-weight: bold\">0.653819581419771</span>\n",
       "</pre>\n"
      ],
      "text/plain": [
       "New Oil Viscosity: \u001b[1;36m0.5695520489671322\u001b[0m \u001b[1;36m0.653819581419771\u001b[0m\n"
      ]
     },
     "metadata": {},
     "output_type": "display_data"
    },
    {
     "name": "stdout",
     "output_type": "stream",
     "text": [
      "TIME STEP 9\n"
     ]
    },
    {
     "data": {
      "text/html": [
       "<pre style=\"white-space:pre;overflow-x:auto;line-height:normal;font-family:Menlo,'DejaVu Sans Mono',consolas,'Courier New',monospace\"><span style=\"color: #008080; text-decoration-color: #008080; font-weight: bold\">Computing pressure evolution...</span>\n",
       "</pre>\n"
      ],
      "text/plain": [
       "\u001b[1;36mComputing pressure evolution\u001b[0m\u001b[1;36m...\u001b[0m\n"
      ]
     },
     "metadata": {},
     "output_type": "display_data"
    },
    {
     "data": {
      "text/html": [
       "<pre style=\"white-space:pre;overflow-x:auto;line-height:normal;font-family:Menlo,'DejaVu Sans Mono',consolas,'Courier New',monospace\">Old Pressure Grid <span style=\"color: #008080; text-decoration-color: #008080; font-weight: bold\">1548.1125881128405</span> <span style=\"color: #008080; text-decoration-color: #008080; font-weight: bold\">1915.4575997720274</span>\n",
       "</pre>\n"
      ],
      "text/plain": [
       "Old Pressure Grid \u001b[1;36m1548.1125881128405\u001b[0m \u001b[1;36m1915.4575997720274\u001b[0m\n"
      ]
     },
     "metadata": {},
     "output_type": "display_data"
    },
    {
     "data": {
      "text/html": [
       "<pre style=\"white-space:pre;overflow-x:auto;line-height:normal;font-family:Menlo,'DejaVu Sans Mono',consolas,'Courier New',monospace\">New Pressure Grid <span style=\"color: #008080; text-decoration-color: #008080; font-weight: bold\">1547.7373730160898</span> <span style=\"color: #008080; text-decoration-color: #008080; font-weight: bold\">1914.9320363463567</span>\n",
       "</pre>\n"
      ],
      "text/plain": [
       "New Pressure Grid \u001b[1;36m1547.7373730160898\u001b[0m \u001b[1;36m1914.9320363463567\u001b[0m\n"
      ]
     },
     "metadata": {},
     "output_type": "display_data"
    },
    {
     "data": {
      "text/html": [
       "<pre style=\"white-space:pre;overflow-x:auto;line-height:normal;font-family:Menlo,'DejaVu Sans Mono',consolas,'Courier New',monospace\"><span style=\"color: #008080; text-decoration-color: #008080; font-weight: bold\">Updating fluid properties...</span>\n",
       "</pre>\n"
      ],
      "text/plain": [
       "\u001b[1;36mUpdating fluid properties\u001b[0m\u001b[1;36m...\u001b[0m\n"
      ]
     },
     "metadata": {},
     "output_type": "display_data"
    },
    {
     "data": {
      "text/html": [
       "<pre style=\"white-space:pre;overflow-x:auto;line-height:normal;font-family:Menlo,'DejaVu Sans Mono',consolas,'Courier New',monospace\">Old Water Saturation Grid <span style=\"color: #008080; text-decoration-color: #008080; font-weight: bold\">0.19999197749495448</span> <span style=\"color: #008080; text-decoration-color: #008080; font-weight: bold\">0.20000059287765037</span>\n",
       "</pre>\n"
      ],
      "text/plain": [
       "Old Water Saturation Grid \u001b[1;36m0.19999197749495448\u001b[0m \u001b[1;36m0.20000059287765037\u001b[0m\n"
      ]
     },
     "metadata": {},
     "output_type": "display_data"
    },
    {
     "data": {
      "text/html": [
       "<pre style=\"white-space:pre;overflow-x:auto;line-height:normal;font-family:Menlo,'DejaVu Sans Mono',consolas,'Courier New',monospace\">Old Oil Saturation Grid <span style=\"color: #008080; text-decoration-color: #008080; font-weight: bold\">0.7999994071223496</span> <span style=\"color: #008080; text-decoration-color: #008080; font-weight: bold\">0.8000080225050455</span>\n",
       "</pre>\n"
      ],
      "text/plain": [
       "Old Oil Saturation Grid \u001b[1;36m0.7999994071223496\u001b[0m \u001b[1;36m0.8000080225050455\u001b[0m\n"
      ]
     },
     "metadata": {},
     "output_type": "display_data"
    },
    {
     "data": {
      "text/html": [
       "<pre style=\"white-space:pre;overflow-x:auto;line-height:normal;font-family:Menlo,'DejaVu Sans Mono',consolas,'Courier New',monospace\">Old Gas Saturation Grid <span style=\"color: #008080; text-decoration-color: #008080; font-weight: bold\">0.0</span> <span style=\"color: #008080; text-decoration-color: #008080; font-weight: bold\">3.0169009978479663e-17</span>\n",
       "</pre>\n"
      ],
      "text/plain": [
       "Old Gas Saturation Grid \u001b[1;36m0.0\u001b[0m \u001b[1;36m3.0169009978479663e-17\u001b[0m\n"
      ]
     },
     "metadata": {},
     "output_type": "display_data"
    },
    {
     "data": {
      "text/html": [
       "<pre style=\"white-space:pre;overflow-x:auto;line-height:normal;font-family:Menlo,'DejaVu Sans Mono',consolas,'Courier New',monospace\">New Water Saturation Grid <span style=\"color: #008080; text-decoration-color: #008080; font-weight: bold\">0.19999079928175909</span> <span style=\"color: #008080; text-decoration-color: #008080; font-weight: bold\">0.20000067736914565</span>\n",
       "</pre>\n"
      ],
      "text/plain": [
       "New Water Saturation Grid \u001b[1;36m0.19999079928175909\u001b[0m \u001b[1;36m0.20000067736914565\u001b[0m\n"
      ]
     },
     "metadata": {},
     "output_type": "display_data"
    },
    {
     "data": {
      "text/html": [
       "<pre style=\"white-space:pre;overflow-x:auto;line-height:normal;font-family:Menlo,'DejaVu Sans Mono',consolas,'Courier New',monospace\">New Oil Saturation Grid <span style=\"color: #008080; text-decoration-color: #008080; font-weight: bold\">0.7999993226308544</span> <span style=\"color: #008080; text-decoration-color: #008080; font-weight: bold\">0.8000092007182408</span>\n",
       "</pre>\n"
      ],
      "text/plain": [
       "New Oil Saturation Grid \u001b[1;36m0.7999993226308544\u001b[0m \u001b[1;36m0.8000092007182408\u001b[0m\n"
      ]
     },
     "metadata": {},
     "output_type": "display_data"
    },
    {
     "data": {
      "text/html": [
       "<pre style=\"white-space:pre;overflow-x:auto;line-height:normal;font-family:Menlo,'DejaVu Sans Mono',consolas,'Courier New',monospace\">New Gas Saturation Grid <span style=\"color: #008080; text-decoration-color: #008080; font-weight: bold\">0.0</span> <span style=\"color: #008080; text-decoration-color: #008080; font-weight: bold\">3.394517616114919e-17</span>\n",
       "</pre>\n"
      ],
      "text/plain": [
       "New Gas Saturation Grid \u001b[1;36m0.0\u001b[0m \u001b[1;36m3.394517616114919e-17\u001b[0m\n"
      ]
     },
     "metadata": {},
     "output_type": "display_data"
    },
    {
     "data": {
      "text/html": [
       "<pre style=\"white-space:pre;overflow-x:auto;line-height:normal;font-family:Menlo,'DejaVu Sans Mono',consolas,'Courier New',monospace\"><span style=\"color: #008080; text-decoration-color: #008080; font-weight: bold\">Updating static fluid properties...</span>\n",
       "</pre>\n"
      ],
      "text/plain": [
       "\u001b[1;36mUpdating static fluid properties\u001b[0m\u001b[1;36m...\u001b[0m\n"
      ]
     },
     "metadata": {},
     "output_type": "display_data"
    },
    {
     "data": {
      "text/html": [
       "<pre style=\"white-space:pre;overflow-x:auto;line-height:normal;font-family:Menlo,'DejaVu Sans Mono',consolas,'Courier New',monospace\"><span style=\"font-weight: bold\">Gas Gravity:</span> <span style=\"color: #008080; text-decoration-color: #008080; font-weight: bold\">0.5547184122441046</span> <span style=\"color: #008080; text-decoration-color: #008080; font-weight: bold\">0.5547184122441046</span>\n",
       "</pre>\n"
      ],
      "text/plain": [
       "\u001b[1mGas Gravity:\u001b[0m \u001b[1;36m0.5547184122441046\u001b[0m \u001b[1;36m0.5547184122441046\u001b[0m\n"
      ]
     },
     "metadata": {},
     "output_type": "display_data"
    },
    {
     "data": {
      "text/html": [
       "<pre style=\"white-space:pre;overflow-x:auto;line-height:normal;font-family:Menlo,'DejaVu Sans Mono',consolas,'Courier New',monospace\">Gas Compressibility Factor: <span style=\"color: #008080; text-decoration-color: #008080; font-weight: bold\">0.1</span> <span style=\"color: #008080; text-decoration-color: #008080; font-weight: bold\">0.1</span>\n",
       "</pre>\n"
      ],
      "text/plain": [
       "Gas Compressibility Factor: \u001b[1;36m0.1\u001b[0m \u001b[1;36m0.1\u001b[0m\n"
      ]
     },
     "metadata": {},
     "output_type": "display_data"
    },
    {
     "data": {
      "text/html": [
       "<pre style=\"white-space:pre;overflow-x:auto;line-height:normal;font-family:Menlo,'DejaVu Sans Mono',consolas,'Courier New',monospace\">New Gas Compressibility: <span style=\"color: #008080; text-decoration-color: #008080; font-weight: bold\">0.0</span> <span style=\"color: #008080; text-decoration-color: #008080; font-weight: bold\">0.0</span>\n",
       "</pre>\n"
      ],
      "text/plain": [
       "New Gas Compressibility: \u001b[1;36m0.0\u001b[0m \u001b[1;36m0.0\u001b[0m\n"
      ]
     },
     "metadata": {},
     "output_type": "display_data"
    },
    {
     "data": {
      "text/html": [
       "<pre style=\"white-space:pre;overflow-x:auto;line-height:normal;font-family:Menlo,'DejaVu Sans Mono',consolas,'Courier New',monospace\">New Gas Formation Volume Factor: <span style=\"color: #008080; text-decoration-color: #008080; font-weight: bold\">0.0012790706337581575</span> <span style=\"color: #008080; text-decoration-color: #008080; font-weight: bold\">0.004647954056712676</span>\n",
       "</pre>\n"
      ],
      "text/plain": [
       "New Gas Formation Volume Factor: \u001b[1;36m0.0012790706337581575\u001b[0m \u001b[1;36m0.004647954056712676\u001b[0m\n"
      ]
     },
     "metadata": {},
     "output_type": "display_data"
    },
    {
     "data": {
      "text/html": [
       "<pre style=\"white-space:pre;overflow-x:auto;line-height:normal;font-family:Menlo,'DejaVu Sans Mono',consolas,'Courier New',monospace\">New Gas Density: <span style=\"color: #008080; text-decoration-color: #008080; font-weight: bold\">0.06868938848343656</span> <span style=\"color: #008080; text-decoration-color: #008080; font-weight: bold\">0.1129350222779557</span>\n",
       "</pre>\n"
      ],
      "text/plain": [
       "New Gas Density: \u001b[1;36m0.06868938848343656\u001b[0m \u001b[1;36m0.1129350222779557\u001b[0m\n"
      ]
     },
     "metadata": {},
     "output_type": "display_data"
    },
    {
     "data": {
      "text/html": [
       "<pre style=\"white-space:pre;overflow-x:auto;line-height:normal;font-family:Menlo,'DejaVu Sans Mono',consolas,'Courier New',monospace\">New Gas Viscosity: <span style=\"color: #008080; text-decoration-color: #008080; font-weight: bold\">0.01617925036416308</span> <span style=\"color: #008080; text-decoration-color: #008080; font-weight: bold\">0.020306015246902787</span>\n",
       "</pre>\n"
      ],
      "text/plain": [
       "New Gas Viscosity: \u001b[1;36m0.01617925036416308\u001b[0m \u001b[1;36m0.020306015246902787\u001b[0m\n"
      ]
     },
     "metadata": {},
     "output_type": "display_data"
    },
    {
     "data": {
      "text/html": [
       "<pre style=\"white-space:pre;overflow-x:auto;line-height:normal;font-family:Menlo,'DejaVu Sans Mono',consolas,'Courier New',monospace\">Gas Solubility in Water: <span style=\"color: #008080; text-decoration-color: #008080; font-weight: bold\">2.0986510443318966</span> <span style=\"color: #008080; text-decoration-color: #008080; font-weight: bold\">2.426846264114255</span>\n",
       "</pre>\n"
      ],
      "text/plain": [
       "Gas Solubility in Water: \u001b[1;36m2.0986510443318966\u001b[0m \u001b[1;36m2.426846264114255\u001b[0m\n"
      ]
     },
     "metadata": {},
     "output_type": "display_data"
    },
    {
     "data": {
      "text/html": [
       "<pre style=\"white-space:pre;overflow-x:auto;line-height:normal;font-family:Menlo,'DejaVu Sans Mono',consolas,'Courier New',monospace\">New Water Bubble Point Pressure: <span style=\"color: #008080; text-decoration-color: #008080; font-weight: bold\">1547.7373730160864</span> <span style=\"color: #008080; text-decoration-color: #008080; font-weight: bold\">1914.9320363463576</span>\n",
       "</pre>\n"
      ],
      "text/plain": [
       "New Water Bubble Point Pressure: \u001b[1;36m1547.7373730160864\u001b[0m \u001b[1;36m1914.9320363463576\u001b[0m\n"
      ]
     },
     "metadata": {},
     "output_type": "display_data"
    },
    {
     "data": {
      "text/html": [
       "<pre style=\"white-space:pre;overflow-x:auto;line-height:normal;font-family:Menlo,'DejaVu Sans Mono',consolas,'Courier New',monospace\">New Water Compressibility: <span style=\"color: #008080; text-decoration-color: #008080; font-weight: bold\">0.0</span> <span style=\"color: #008080; text-decoration-color: #008080; font-weight: bold\">3.938446849781076e-09</span>\n",
       "</pre>\n"
      ],
      "text/plain": [
       "New Water Compressibility: \u001b[1;36m0.0\u001b[0m \u001b[1;36m3.938446849781076e-09\u001b[0m\n"
      ]
     },
     "metadata": {},
     "output_type": "display_data"
    },
    {
     "data": {
      "text/html": [
       "<pre style=\"white-space:pre;overflow-x:auto;line-height:normal;font-family:Menlo,'DejaVu Sans Mono',consolas,'Courier New',monospace\">New Water Formation Volume Factor: <span style=\"color: #008080; text-decoration-color: #008080; font-weight: bold\">1.0085461025036513</span> <span style=\"color: #008080; text-decoration-color: #008080; font-weight: bold\">1.079297436473277</span>\n",
       "</pre>\n"
      ],
      "text/plain": [
       "New Water Formation Volume Factor: \u001b[1;36m1.0085461025036513\u001b[0m \u001b[1;36m1.079297436473277\u001b[0m\n"
      ]
     },
     "metadata": {},
     "output_type": "display_data"
    },
    {
     "data": {
      "text/html": [
       "<pre style=\"white-space:pre;overflow-x:auto;line-height:normal;font-family:Menlo,'DejaVu Sans Mono',consolas,'Courier New',monospace\">New Water Density: <span style=\"color: #008080; text-decoration-color: #008080; font-weight: bold\">57.84268390645084</span> <span style=\"color: #008080; text-decoration-color: #008080; font-weight: bold\">61.900452729260614</span>\n",
       "</pre>\n"
      ],
      "text/plain": [
       "New Water Density: \u001b[1;36m57.84268390645084\u001b[0m \u001b[1;36m61.900452729260614\u001b[0m\n"
      ]
     },
     "metadata": {},
     "output_type": "display_data"
    },
    {
     "data": {
      "text/html": [
       "<pre style=\"white-space:pre;overflow-x:auto;line-height:normal;font-family:Menlo,'DejaVu Sans Mono',consolas,'Courier New',monospace\">New Water Viscosity: <span style=\"color: #008080; text-decoration-color: #008080; font-weight: bold\">0.9138528695864578</span> <span style=\"color: #008080; text-decoration-color: #008080; font-weight: bold\">1.0034736892060048</span>\n",
       "</pre>\n"
      ],
      "text/plain": [
       "New Water Viscosity: \u001b[1;36m0.9138528695864578\u001b[0m \u001b[1;36m1.0034736892060048\u001b[0m\n"
      ]
     },
     "metadata": {},
     "output_type": "display_data"
    },
    {
     "name": "stdout",
     "output_type": "stream",
     "text": [
      "Old GOR Grid: 71.8066262912523 191.90068605398673\n"
     ]
    },
    {
     "data": {
      "text/html": [
       "<pre style=\"white-space:pre;overflow-x:auto;line-height:normal;font-family:Menlo,'DejaVu Sans Mono',consolas,'Courier New',monospace\">Oil Specific Gravity: <span style=\"color: #008080; text-decoration-color: #008080; font-weight: bold\">0.8</span> <span style=\"color: #008080; text-decoration-color: #008080; font-weight: bold\">0.9</span>\n",
       "</pre>\n"
      ],
      "text/plain": [
       "Oil Specific Gravity: \u001b[1;36m0.8\u001b[0m \u001b[1;36m0.9\u001b[0m\n"
      ]
     },
     "metadata": {},
     "output_type": "display_data"
    },
    {
     "data": {
      "text/html": [
       "<pre style=\"white-space:pre;overflow-x:auto;line-height:normal;font-family:Menlo,'DejaVu Sans Mono',consolas,'Courier New',monospace\">Oil API Gravity: <span style=\"color: #008080; text-decoration-color: #008080; font-weight: bold\">25.72222222222223</span> <span style=\"color: #008080; text-decoration-color: #008080; font-weight: bold\">45.375</span>\n",
       "</pre>\n"
      ],
      "text/plain": [
       "Oil API Gravity: \u001b[1;36m25.72222222222223\u001b[0m \u001b[1;36m45.375\u001b[0m\n"
      ]
     },
     "metadata": {},
     "output_type": "display_data"
    },
    {
     "data": {
      "text/html": [
       "<pre style=\"white-space:pre;overflow-x:auto;line-height:normal;font-family:Menlo,'DejaVu Sans Mono',consolas,'Courier New',monospace\">New Oil Bubble Point Pressure: <span style=\"color: #008080; text-decoration-color: #008080; font-weight: bold\">799.999999999998</span> <span style=\"color: #008080; text-decoration-color: #008080; font-weight: bold\">800.0000000000009</span>\n",
       "</pre>\n"
      ],
      "text/plain": [
       "New Oil Bubble Point Pressure: \u001b[1;36m799.999999999998\u001b[0m \u001b[1;36m800.0000000000009\u001b[0m\n"
      ]
     },
     "metadata": {},
     "output_type": "display_data"
    },
    {
     "data": {
      "text/html": [
       "<pre style=\"white-space:pre;overflow-x:auto;line-height:normal;font-family:Menlo,'DejaVu Sans Mono',consolas,'Courier New',monospace\">New Oil Formation Volume Factor: <span style=\"color: #008080; text-decoration-color: #008080; font-weight: bold\">1.0207726218062854</span> <span style=\"color: #008080; text-decoration-color: #008080; font-weight: bold\">1.077438768449187</span>\n",
       "</pre>\n"
      ],
      "text/plain": [
       "New Oil Formation Volume Factor: \u001b[1;36m1.0207726218062854\u001b[0m \u001b[1;36m1.077438768449187\u001b[0m\n"
      ]
     },
     "metadata": {},
     "output_type": "display_data"
    },
    {
     "data": {
      "text/html": [
       "<pre style=\"white-space:pre;overflow-x:auto;line-height:normal;font-family:Menlo,'DejaVu Sans Mono',consolas,'Courier New',monospace\">New Gas to Oil Ratio: <span style=\"color: #008080; text-decoration-color: #008080; font-weight: bold\">71.8066262912523</span> <span style=\"color: #008080; text-decoration-color: #008080; font-weight: bold\">191.90068605398673</span>\n",
       "</pre>\n"
      ],
      "text/plain": [
       "New Gas to Oil Ratio: \u001b[1;36m71.8066262912523\u001b[0m \u001b[1;36m191.90068605398673\u001b[0m\n"
      ]
     },
     "metadata": {},
     "output_type": "display_data"
    },
    {
     "data": {
      "text/html": [
       "<pre style=\"white-space:pre;overflow-x:auto;line-height:normal;font-family:Menlo,'DejaVu Sans Mono',consolas,'Courier New',monospace\">New Oil Compressibility: <span style=\"color: #008080; text-decoration-color: #008080; font-weight: bold\">6.0791424015391804e-06</span> <span style=\"color: #008080; text-decoration-color: #008080; font-weight: bold\">2.3757336712750397e-05</span>\n",
       "</pre>\n"
      ],
      "text/plain": [
       "New Oil Compressibility: \u001b[1;36m6.0791424015391804e-06\u001b[0m \u001b[1;36m2.3757336712750397e-05\u001b[0m\n"
      ]
     },
     "metadata": {},
     "output_type": "display_data"
    },
    {
     "data": {
      "text/html": [
       "<pre style=\"white-space:pre;overflow-x:auto;line-height:normal;font-family:Menlo,'DejaVu Sans Mono',consolas,'Courier New',monospace\">New Oil Density: <span style=\"color: #008080; text-decoration-color: #008080; font-weight: bold\">47.65290833246922</span> <span style=\"color: #008080; text-decoration-color: #008080; font-weight: bold\">55.52116162484647</span>\n",
       "</pre>\n"
      ],
      "text/plain": [
       "New Oil Density: \u001b[1;36m47.65290833246922\u001b[0m \u001b[1;36m55.52116162484647\u001b[0m\n"
      ]
     },
     "metadata": {},
     "output_type": "display_data"
    },
    {
     "data": {
      "text/html": [
       "<pre style=\"white-space:pre;overflow-x:auto;line-height:normal;font-family:Menlo,'DejaVu Sans Mono',consolas,'Courier New',monospace\">New Oil Viscosity: <span style=\"color: #008080; text-decoration-color: #008080; font-weight: bold\">0.5695314820009407</span> <span style=\"color: #008080; text-decoration-color: #008080; font-weight: bold\">0.6537612846369466</span>\n",
       "</pre>\n"
      ],
      "text/plain": [
       "New Oil Viscosity: \u001b[1;36m0.5695314820009407\u001b[0m \u001b[1;36m0.6537612846369466\u001b[0m\n"
      ]
     },
     "metadata": {},
     "output_type": "display_data"
    },
    {
     "name": "stdout",
     "output_type": "stream",
     "text": [
      "TIME STEP 10\n"
     ]
    },
    {
     "data": {
      "text/html": [
       "<pre style=\"white-space:pre;overflow-x:auto;line-height:normal;font-family:Menlo,'DejaVu Sans Mono',consolas,'Courier New',monospace\"><span style=\"color: #008080; text-decoration-color: #008080; font-weight: bold\">Computing pressure evolution...</span>\n",
       "</pre>\n"
      ],
      "text/plain": [
       "\u001b[1;36mComputing pressure evolution\u001b[0m\u001b[1;36m...\u001b[0m\n"
      ]
     },
     "metadata": {},
     "output_type": "display_data"
    },
    {
     "data": {
      "text/html": [
       "<pre style=\"white-space:pre;overflow-x:auto;line-height:normal;font-family:Menlo,'DejaVu Sans Mono',consolas,'Courier New',monospace\">Old Pressure Grid <span style=\"color: #008080; text-decoration-color: #008080; font-weight: bold\">1547.7373730160898</span> <span style=\"color: #008080; text-decoration-color: #008080; font-weight: bold\">1914.9320363463567</span>\n",
       "</pre>\n"
      ],
      "text/plain": [
       "Old Pressure Grid \u001b[1;36m1547.7373730160898\u001b[0m \u001b[1;36m1914.9320363463567\u001b[0m\n"
      ]
     },
     "metadata": {},
     "output_type": "display_data"
    },
    {
     "data": {
      "text/html": [
       "<pre style=\"white-space:pre;overflow-x:auto;line-height:normal;font-family:Menlo,'DejaVu Sans Mono',consolas,'Courier New',monospace\">New Pressure Grid <span style=\"color: #008080; text-decoration-color: #008080; font-weight: bold\">1547.362322754823</span> <span style=\"color: #008080; text-decoration-color: #008080; font-weight: bold\">1914.3914524210002</span>\n",
       "</pre>\n"
      ],
      "text/plain": [
       "New Pressure Grid \u001b[1;36m1547.362322754823\u001b[0m \u001b[1;36m1914.3914524210002\u001b[0m\n"
      ]
     },
     "metadata": {},
     "output_type": "display_data"
    },
    {
     "data": {
      "text/html": [
       "<pre style=\"white-space:pre;overflow-x:auto;line-height:normal;font-family:Menlo,'DejaVu Sans Mono',consolas,'Courier New',monospace\"><span style=\"color: #008080; text-decoration-color: #008080; font-weight: bold\">Updating fluid properties...</span>\n",
       "</pre>\n"
      ],
      "text/plain": [
       "\u001b[1;36mUpdating fluid properties\u001b[0m\u001b[1;36m...\u001b[0m\n"
      ]
     },
     "metadata": {},
     "output_type": "display_data"
    },
    {
     "data": {
      "text/html": [
       "<pre style=\"white-space:pre;overflow-x:auto;line-height:normal;font-family:Menlo,'DejaVu Sans Mono',consolas,'Courier New',monospace\">Old Water Saturation Grid <span style=\"color: #008080; text-decoration-color: #008080; font-weight: bold\">0.19999079928175909</span> <span style=\"color: #008080; text-decoration-color: #008080; font-weight: bold\">0.20000067736914565</span>\n",
       "</pre>\n"
      ],
      "text/plain": [
       "Old Water Saturation Grid \u001b[1;36m0.19999079928175909\u001b[0m \u001b[1;36m0.20000067736914565\u001b[0m\n"
      ]
     },
     "metadata": {},
     "output_type": "display_data"
    },
    {
     "data": {
      "text/html": [
       "<pre style=\"white-space:pre;overflow-x:auto;line-height:normal;font-family:Menlo,'DejaVu Sans Mono',consolas,'Courier New',monospace\">Old Oil Saturation Grid <span style=\"color: #008080; text-decoration-color: #008080; font-weight: bold\">0.7999993226308544</span> <span style=\"color: #008080; text-decoration-color: #008080; font-weight: bold\">0.8000092007182408</span>\n",
       "</pre>\n"
      ],
      "text/plain": [
       "Old Oil Saturation Grid \u001b[1;36m0.7999993226308544\u001b[0m \u001b[1;36m0.8000092007182408\u001b[0m\n"
      ]
     },
     "metadata": {},
     "output_type": "display_data"
    },
    {
     "data": {
      "text/html": [
       "<pre style=\"white-space:pre;overflow-x:auto;line-height:normal;font-family:Menlo,'DejaVu Sans Mono',consolas,'Courier New',monospace\">Old Gas Saturation Grid <span style=\"color: #008080; text-decoration-color: #008080; font-weight: bold\">0.0</span> <span style=\"color: #008080; text-decoration-color: #008080; font-weight: bold\">3.394517616114919e-17</span>\n",
       "</pre>\n"
      ],
      "text/plain": [
       "Old Gas Saturation Grid \u001b[1;36m0.0\u001b[0m \u001b[1;36m3.394517616114919e-17\u001b[0m\n"
      ]
     },
     "metadata": {},
     "output_type": "display_data"
    },
    {
     "data": {
      "text/html": [
       "<pre style=\"white-space:pre;overflow-x:auto;line-height:normal;font-family:Menlo,'DejaVu Sans Mono',consolas,'Courier New',monospace\">New Water Saturation Grid <span style=\"color: #008080; text-decoration-color: #008080; font-weight: bold\">0.19998960939127977</span> <span style=\"color: #008080; text-decoration-color: #008080; font-weight: bold\">0.20000076196692498</span>\n",
       "</pre>\n"
      ],
      "text/plain": [
       "New Water Saturation Grid \u001b[1;36m0.19998960939127977\u001b[0m \u001b[1;36m0.20000076196692498\u001b[0m\n"
      ]
     },
     "metadata": {},
     "output_type": "display_data"
    },
    {
     "data": {
      "text/html": [
       "<pre style=\"white-space:pre;overflow-x:auto;line-height:normal;font-family:Menlo,'DejaVu Sans Mono',consolas,'Courier New',monospace\">New Oil Saturation Grid <span style=\"color: #008080; text-decoration-color: #008080; font-weight: bold\">0.799999238033075</span> <span style=\"color: #008080; text-decoration-color: #008080; font-weight: bold\">0.8000103906087203</span>\n",
       "</pre>\n"
      ],
      "text/plain": [
       "New Oil Saturation Grid \u001b[1;36m0.799999238033075\u001b[0m \u001b[1;36m0.8000103906087203\u001b[0m\n"
      ]
     },
     "metadata": {},
     "output_type": "display_data"
    },
    {
     "data": {
      "text/html": [
       "<pre style=\"white-space:pre;overflow-x:auto;line-height:normal;font-family:Menlo,'DejaVu Sans Mono',consolas,'Courier New',monospace\">New Gas Saturation Grid <span style=\"color: #008080; text-decoration-color: #008080; font-weight: bold\">0.0</span> <span style=\"color: #008080; text-decoration-color: #008080; font-weight: bold\">3.772247250825728e-17</span>\n",
       "</pre>\n"
      ],
      "text/plain": [
       "New Gas Saturation Grid \u001b[1;36m0.0\u001b[0m \u001b[1;36m3.772247250825728e-17\u001b[0m\n"
      ]
     },
     "metadata": {},
     "output_type": "display_data"
    },
    {
     "data": {
      "text/html": [
       "<pre style=\"white-space:pre;overflow-x:auto;line-height:normal;font-family:Menlo,'DejaVu Sans Mono',consolas,'Courier New',monospace\"><span style=\"color: #008080; text-decoration-color: #008080; font-weight: bold\">Updating static fluid properties...</span>\n",
       "</pre>\n"
      ],
      "text/plain": [
       "\u001b[1;36mUpdating static fluid properties\u001b[0m\u001b[1;36m...\u001b[0m\n"
      ]
     },
     "metadata": {},
     "output_type": "display_data"
    },
    {
     "data": {
      "text/html": [
       "<pre style=\"white-space:pre;overflow-x:auto;line-height:normal;font-family:Menlo,'DejaVu Sans Mono',consolas,'Courier New',monospace\"><span style=\"font-weight: bold\">Gas Gravity:</span> <span style=\"color: #008080; text-decoration-color: #008080; font-weight: bold\">0.5547184122441046</span> <span style=\"color: #008080; text-decoration-color: #008080; font-weight: bold\">0.5547184122441046</span>\n",
       "</pre>\n"
      ],
      "text/plain": [
       "\u001b[1mGas Gravity:\u001b[0m \u001b[1;36m0.5547184122441046\u001b[0m \u001b[1;36m0.5547184122441046\u001b[0m\n"
      ]
     },
     "metadata": {},
     "output_type": "display_data"
    },
    {
     "data": {
      "text/html": [
       "<pre style=\"white-space:pre;overflow-x:auto;line-height:normal;font-family:Menlo,'DejaVu Sans Mono',consolas,'Courier New',monospace\">Gas Compressibility Factor: <span style=\"color: #008080; text-decoration-color: #008080; font-weight: bold\">0.1</span> <span style=\"color: #008080; text-decoration-color: #008080; font-weight: bold\">0.1</span>\n",
       "</pre>\n"
      ],
      "text/plain": [
       "Gas Compressibility Factor: \u001b[1;36m0.1\u001b[0m \u001b[1;36m0.1\u001b[0m\n"
      ]
     },
     "metadata": {},
     "output_type": "display_data"
    },
    {
     "data": {
      "text/html": [
       "<pre style=\"white-space:pre;overflow-x:auto;line-height:normal;font-family:Menlo,'DejaVu Sans Mono',consolas,'Courier New',monospace\">New Gas Compressibility: <span style=\"color: #008080; text-decoration-color: #008080; font-weight: bold\">0.0</span> <span style=\"color: #008080; text-decoration-color: #008080; font-weight: bold\">0.0</span>\n",
       "</pre>\n"
      ],
      "text/plain": [
       "New Gas Compressibility: \u001b[1;36m0.0\u001b[0m \u001b[1;36m0.0\u001b[0m\n"
      ]
     },
     "metadata": {},
     "output_type": "display_data"
    },
    {
     "data": {
      "text/html": [
       "<pre style=\"white-space:pre;overflow-x:auto;line-height:normal;font-family:Menlo,'DejaVu Sans Mono',consolas,'Courier New',monospace\">New Gas Formation Volume Factor: <span style=\"color: #008080; text-decoration-color: #008080; font-weight: bold\">0.001279431816432229</span> <span style=\"color: #008080; text-decoration-color: #008080; font-weight: bold\">0.0046486474585715285</span>\n",
       "</pre>\n"
      ],
      "text/plain": [
       "New Gas Formation Volume Factor: \u001b[1;36m0.001279431816432229\u001b[0m \u001b[1;36m0.0046486474585715285\u001b[0m\n"
      ]
     },
     "metadata": {},
     "output_type": "display_data"
    },
    {
     "data": {
      "text/html": [
       "<pre style=\"white-space:pre;overflow-x:auto;line-height:normal;font-family:Menlo,'DejaVu Sans Mono',consolas,'Courier New',monospace\">New Gas Density: <span style=\"color: #008080; text-decoration-color: #008080; font-weight: bold\">0.06867914263234066</span> <span style=\"color: #008080; text-decoration-color: #008080; font-weight: bold\">0.11290314080305504</span>\n",
       "</pre>\n"
      ],
      "text/plain": [
       "New Gas Density: \u001b[1;36m0.06867914263234066\u001b[0m \u001b[1;36m0.11290314080305504\u001b[0m\n"
      ]
     },
     "metadata": {},
     "output_type": "display_data"
    },
    {
     "data": {
      "text/html": [
       "<pre style=\"white-space:pre;overflow-x:auto;line-height:normal;font-family:Menlo,'DejaVu Sans Mono',consolas,'Courier New',monospace\">New Gas Viscosity: <span style=\"color: #008080; text-decoration-color: #008080; font-weight: bold\">0.016179246623460073</span> <span style=\"color: #008080; text-decoration-color: #008080; font-weight: bold\">0.020306015222959363</span>\n",
       "</pre>\n"
      ],
      "text/plain": [
       "New Gas Viscosity: \u001b[1;36m0.016179246623460073\u001b[0m \u001b[1;36m0.020306015222959363\u001b[0m\n"
      ]
     },
     "metadata": {},
     "output_type": "display_data"
    },
    {
     "data": {
      "text/html": [
       "<pre style=\"white-space:pre;overflow-x:auto;line-height:normal;font-family:Menlo,'DejaVu Sans Mono',consolas,'Courier New',monospace\">Gas Solubility in Water: <span style=\"color: #008080; text-decoration-color: #008080; font-weight: bold\">2.0986408042002935</span> <span style=\"color: #008080; text-decoration-color: #008080; font-weight: bold\">2.4268447634491666</span>\n",
       "</pre>\n"
      ],
      "text/plain": [
       "Gas Solubility in Water: \u001b[1;36m2.0986408042002935\u001b[0m \u001b[1;36m2.4268447634491666\u001b[0m\n"
      ]
     },
     "metadata": {},
     "output_type": "display_data"
    },
    {
     "data": {
      "text/html": [
       "<pre style=\"white-space:pre;overflow-x:auto;line-height:normal;font-family:Menlo,'DejaVu Sans Mono',consolas,'Courier New',monospace\">New Water Bubble Point Pressure: <span style=\"color: #008080; text-decoration-color: #008080; font-weight: bold\">1547.362322754821</span> <span style=\"color: #008080; text-decoration-color: #008080; font-weight: bold\">1914.3914524209977</span>\n",
       "</pre>\n"
      ],
      "text/plain": [
       "New Water Bubble Point Pressure: \u001b[1;36m1547.362322754821\u001b[0m \u001b[1;36m1914.3914524209977\u001b[0m\n"
      ]
     },
     "metadata": {},
     "output_type": "display_data"
    },
    {
     "data": {
      "text/html": [
       "<pre style=\"white-space:pre;overflow-x:auto;line-height:normal;font-family:Menlo,'DejaVu Sans Mono',consolas,'Courier New',monospace\">New Water Compressibility: <span style=\"color: #008080; text-decoration-color: #008080; font-weight: bold\">0.0</span> <span style=\"color: #008080; text-decoration-color: #008080; font-weight: bold\">3.9486930945022045e-09</span>\n",
       "</pre>\n"
      ],
      "text/plain": [
       "New Water Compressibility: \u001b[1;36m0.0\u001b[0m \u001b[1;36m3.9486930945022045e-09\u001b[0m\n"
      ]
     },
     "metadata": {},
     "output_type": "display_data"
    },
    {
     "data": {
      "text/html": [
       "<pre style=\"white-space:pre;overflow-x:auto;line-height:normal;font-family:Menlo,'DejaVu Sans Mono',consolas,'Courier New',monospace\">New Water Formation Volume Factor: <span style=\"color: #008080; text-decoration-color: #008080; font-weight: bold\">1.008546105978073</span> <span style=\"color: #008080; text-decoration-color: #008080; font-weight: bold\">1.0792974381918885</span>\n",
       "</pre>\n"
      ],
      "text/plain": [
       "New Water Formation Volume Factor: \u001b[1;36m1.008546105978073\u001b[0m \u001b[1;36m1.0792974381918885\u001b[0m\n"
      ]
     },
     "metadata": {},
     "output_type": "display_data"
    },
    {
     "data": {
      "text/html": [
       "<pre style=\"white-space:pre;overflow-x:auto;line-height:normal;font-family:Menlo,'DejaVu Sans Mono',consolas,'Courier New',monospace\">New Water Density: <span style=\"color: #008080; text-decoration-color: #008080; font-weight: bold\">57.842683814369785</span> <span style=\"color: #008080; text-decoration-color: #008080; font-weight: bold\">61.900452509914075</span>\n",
       "</pre>\n"
      ],
      "text/plain": [
       "New Water Density: \u001b[1;36m57.842683814369785\u001b[0m \u001b[1;36m61.900452509914075\u001b[0m\n"
      ]
     },
     "metadata": {},
     "output_type": "display_data"
    },
    {
     "data": {
      "text/html": [
       "<pre style=\"white-space:pre;overflow-x:auto;line-height:normal;font-family:Menlo,'DejaVu Sans Mono',consolas,'Courier New',monospace\">New Water Viscosity: <span style=\"color: #008080; text-decoration-color: #008080; font-weight: bold\">0.9138368709549605</span> <span style=\"color: #008080; text-decoration-color: #008080; font-weight: bold\">1.003447667035531</span>\n",
       "</pre>\n"
      ],
      "text/plain": [
       "New Water Viscosity: \u001b[1;36m0.9138368709549605\u001b[0m \u001b[1;36m1.003447667035531\u001b[0m\n"
      ]
     },
     "metadata": {},
     "output_type": "display_data"
    },
    {
     "name": "stdout",
     "output_type": "stream",
     "text": [
      "Old GOR Grid: 71.8066262912523 191.90068605398673\n"
     ]
    },
    {
     "data": {
      "text/html": [
       "<pre style=\"white-space:pre;overflow-x:auto;line-height:normal;font-family:Menlo,'DejaVu Sans Mono',consolas,'Courier New',monospace\">Oil Specific Gravity: <span style=\"color: #008080; text-decoration-color: #008080; font-weight: bold\">0.8</span> <span style=\"color: #008080; text-decoration-color: #008080; font-weight: bold\">0.9</span>\n",
       "</pre>\n"
      ],
      "text/plain": [
       "Oil Specific Gravity: \u001b[1;36m0.8\u001b[0m \u001b[1;36m0.9\u001b[0m\n"
      ]
     },
     "metadata": {},
     "output_type": "display_data"
    },
    {
     "data": {
      "text/html": [
       "<pre style=\"white-space:pre;overflow-x:auto;line-height:normal;font-family:Menlo,'DejaVu Sans Mono',consolas,'Courier New',monospace\">Oil API Gravity: <span style=\"color: #008080; text-decoration-color: #008080; font-weight: bold\">25.72222222222223</span> <span style=\"color: #008080; text-decoration-color: #008080; font-weight: bold\">45.375</span>\n",
       "</pre>\n"
      ],
      "text/plain": [
       "Oil API Gravity: \u001b[1;36m25.72222222222223\u001b[0m \u001b[1;36m45.375\u001b[0m\n"
      ]
     },
     "metadata": {},
     "output_type": "display_data"
    },
    {
     "data": {
      "text/html": [
       "<pre style=\"white-space:pre;overflow-x:auto;line-height:normal;font-family:Menlo,'DejaVu Sans Mono',consolas,'Courier New',monospace\">New Oil Bubble Point Pressure: <span style=\"color: #008080; text-decoration-color: #008080; font-weight: bold\">799.9999999999977</span> <span style=\"color: #008080; text-decoration-color: #008080; font-weight: bold\">800.0000000000009</span>\n",
       "</pre>\n"
      ],
      "text/plain": [
       "New Oil Bubble Point Pressure: \u001b[1;36m799.9999999999977\u001b[0m \u001b[1;36m800.0000000000009\u001b[0m\n"
      ]
     },
     "metadata": {},
     "output_type": "display_data"
    },
    {
     "data": {
      "text/html": [
       "<pre style=\"white-space:pre;overflow-x:auto;line-height:normal;font-family:Menlo,'DejaVu Sans Mono',consolas,'Courier New',monospace\">New Oil Formation Volume Factor: <span style=\"color: #008080; text-decoration-color: #008080; font-weight: bold\">1.020774286887025</span> <span style=\"color: #008080; text-decoration-color: #008080; font-weight: bold\">1.07745909804815</span>\n",
       "</pre>\n"
      ],
      "text/plain": [
       "New Oil Formation Volume Factor: \u001b[1;36m1.020774286887025\u001b[0m \u001b[1;36m1.07745909804815\u001b[0m\n"
      ]
     },
     "metadata": {},
     "output_type": "display_data"
    },
    {
     "data": {
      "text/html": [
       "<pre style=\"white-space:pre;overflow-x:auto;line-height:normal;font-family:Menlo,'DejaVu Sans Mono',consolas,'Courier New',monospace\">New Gas to Oil Ratio: <span style=\"color: #008080; text-decoration-color: #008080; font-weight: bold\">71.80662629125231</span> <span style=\"color: #008080; text-decoration-color: #008080; font-weight: bold\">191.90068605398673</span>\n",
       "</pre>\n"
      ],
      "text/plain": [
       "New Gas to Oil Ratio: \u001b[1;36m71.80662629125231\u001b[0m \u001b[1;36m191.90068605398673\u001b[0m\n"
      ]
     },
     "metadata": {},
     "output_type": "display_data"
    },
    {
     "data": {
      "text/html": [
       "<pre style=\"white-space:pre;overflow-x:auto;line-height:normal;font-family:Menlo,'DejaVu Sans Mono',consolas,'Courier New',monospace\">New Oil Compressibility: <span style=\"color: #008080; text-decoration-color: #008080; font-weight: bold\">6.0808590236323615e-06</span> <span style=\"color: #008080; text-decoration-color: #008080; font-weight: bold\">2.3760880934839723e-05</span>\n",
       "</pre>\n"
      ],
      "text/plain": [
       "New Oil Compressibility: \u001b[1;36m6.0808590236323615e-06\u001b[0m \u001b[1;36m2.3760880934839723e-05\u001b[0m\n"
      ]
     },
     "metadata": {},
     "output_type": "display_data"
    },
    {
     "data": {
      "text/html": [
       "<pre style=\"white-space:pre;overflow-x:auto;line-height:normal;font-family:Menlo,'DejaVu Sans Mono',consolas,'Courier New',monospace\">New Oil Density: <span style=\"color: #008080; text-decoration-color: #008080; font-weight: bold\">47.65200921294108</span> <span style=\"color: #008080; text-decoration-color: #008080; font-weight: bold\">55.521071059069044</span>\n",
       "</pre>\n"
      ],
      "text/plain": [
       "New Oil Density: \u001b[1;36m47.65200921294108\u001b[0m \u001b[1;36m55.521071059069044\u001b[0m\n"
      ]
     },
     "metadata": {},
     "output_type": "display_data"
    },
    {
     "data": {
      "text/html": [
       "<pre style=\"white-space:pre;overflow-x:auto;line-height:normal;font-family:Menlo,'DejaVu Sans Mono',consolas,'Courier New',monospace\">New Oil Viscosity: <span style=\"color: #008080; text-decoration-color: #008080; font-weight: bold\">0.5695109232918097</span> <span style=\"color: #008080; text-decoration-color: #008080; font-weight: bold\">0.6537013350714057</span>\n",
       "</pre>\n"
      ],
      "text/plain": [
       "New Oil Viscosity: \u001b[1;36m0.5695109232918097\u001b[0m \u001b[1;36m0.6537013350714057\u001b[0m\n"
      ]
     },
     "metadata": {},
     "output_type": "display_data"
    },
    {
     "name": "stdout",
     "output_type": "stream",
     "text": [
      "TIME STEP 11\n"
     ]
    },
    {
     "data": {
      "text/html": [
       "<pre style=\"white-space:pre;overflow-x:auto;line-height:normal;font-family:Menlo,'DejaVu Sans Mono',consolas,'Courier New',monospace\"><span style=\"color: #008080; text-decoration-color: #008080; font-weight: bold\">Computing pressure evolution...</span>\n",
       "</pre>\n"
      ],
      "text/plain": [
       "\u001b[1;36mComputing pressure evolution\u001b[0m\u001b[1;36m...\u001b[0m\n"
      ]
     },
     "metadata": {},
     "output_type": "display_data"
    },
    {
     "data": {
      "text/html": [
       "<pre style=\"white-space:pre;overflow-x:auto;line-height:normal;font-family:Menlo,'DejaVu Sans Mono',consolas,'Courier New',monospace\">Old Pressure Grid <span style=\"color: #008080; text-decoration-color: #008080; font-weight: bold\">1547.362322754823</span> <span style=\"color: #008080; text-decoration-color: #008080; font-weight: bold\">1914.3914524210002</span>\n",
       "</pre>\n"
      ],
      "text/plain": [
       "Old Pressure Grid \u001b[1;36m1547.362322754823\u001b[0m \u001b[1;36m1914.3914524210002\u001b[0m\n"
      ]
     },
     "metadata": {},
     "output_type": "display_data"
    },
    {
     "data": {
      "text/html": [
       "<pre style=\"white-space:pre;overflow-x:auto;line-height:normal;font-family:Menlo,'DejaVu Sans Mono',consolas,'Courier New',monospace\">New Pressure Grid <span style=\"color: #008080; text-decoration-color: #008080; font-weight: bold\">1546.9874303214033</span> <span style=\"color: #008080; text-decoration-color: #008080; font-weight: bold\">1913.8520330435654</span>\n",
       "</pre>\n"
      ],
      "text/plain": [
       "New Pressure Grid \u001b[1;36m1546.9874303214033\u001b[0m \u001b[1;36m1913.8520330435654\u001b[0m\n"
      ]
     },
     "metadata": {},
     "output_type": "display_data"
    },
    {
     "data": {
      "text/html": [
       "<pre style=\"white-space:pre;overflow-x:auto;line-height:normal;font-family:Menlo,'DejaVu Sans Mono',consolas,'Courier New',monospace\"><span style=\"color: #008080; text-decoration-color: #008080; font-weight: bold\">Updating fluid properties...</span>\n",
       "</pre>\n"
      ],
      "text/plain": [
       "\u001b[1;36mUpdating fluid properties\u001b[0m\u001b[1;36m...\u001b[0m\n"
      ]
     },
     "metadata": {},
     "output_type": "display_data"
    },
    {
     "data": {
      "text/html": [
       "<pre style=\"white-space:pre;overflow-x:auto;line-height:normal;font-family:Menlo,'DejaVu Sans Mono',consolas,'Courier New',monospace\">Old Water Saturation Grid <span style=\"color: #008080; text-decoration-color: #008080; font-weight: bold\">0.19998960939127977</span> <span style=\"color: #008080; text-decoration-color: #008080; font-weight: bold\">0.20000076196692498</span>\n",
       "</pre>\n"
      ],
      "text/plain": [
       "Old Water Saturation Grid \u001b[1;36m0.19998960939127977\u001b[0m \u001b[1;36m0.20000076196692498\u001b[0m\n"
      ]
     },
     "metadata": {},
     "output_type": "display_data"
    },
    {
     "data": {
      "text/html": [
       "<pre style=\"white-space:pre;overflow-x:auto;line-height:normal;font-family:Menlo,'DejaVu Sans Mono',consolas,'Courier New',monospace\">Old Oil Saturation Grid <span style=\"color: #008080; text-decoration-color: #008080; font-weight: bold\">0.799999238033075</span> <span style=\"color: #008080; text-decoration-color: #008080; font-weight: bold\">0.8000103906087203</span>\n",
       "</pre>\n"
      ],
      "text/plain": [
       "Old Oil Saturation Grid \u001b[1;36m0.799999238033075\u001b[0m \u001b[1;36m0.8000103906087203\u001b[0m\n"
      ]
     },
     "metadata": {},
     "output_type": "display_data"
    },
    {
     "data": {
      "text/html": [
       "<pre style=\"white-space:pre;overflow-x:auto;line-height:normal;font-family:Menlo,'DejaVu Sans Mono',consolas,'Courier New',monospace\">Old Gas Saturation Grid <span style=\"color: #008080; text-decoration-color: #008080; font-weight: bold\">0.0</span> <span style=\"color: #008080; text-decoration-color: #008080; font-weight: bold\">3.772247250825728e-17</span>\n",
       "</pre>\n"
      ],
      "text/plain": [
       "Old Gas Saturation Grid \u001b[1;36m0.0\u001b[0m \u001b[1;36m3.772247250825728e-17\u001b[0m\n"
      ]
     },
     "metadata": {},
     "output_type": "display_data"
    },
    {
     "data": {
      "text/html": [
       "<pre style=\"white-space:pre;overflow-x:auto;line-height:normal;font-family:Menlo,'DejaVu Sans Mono',consolas,'Courier New',monospace\">New Water Saturation Grid <span style=\"color: #008080; text-decoration-color: #008080; font-weight: bold\">0.19998840794881234</span> <span style=\"color: #008080; text-decoration-color: #008080; font-weight: bold\">0.20000084716085326</span>\n",
       "</pre>\n"
      ],
      "text/plain": [
       "New Water Saturation Grid \u001b[1;36m0.19998840794881234\u001b[0m \u001b[1;36m0.20000084716085326\u001b[0m\n"
      ]
     },
     "metadata": {},
     "output_type": "display_data"
    },
    {
     "data": {
      "text/html": [
       "<pre style=\"white-space:pre;overflow-x:auto;line-height:normal;font-family:Menlo,'DejaVu Sans Mono',consolas,'Courier New',monospace\">New Oil Saturation Grid <span style=\"color: #008080; text-decoration-color: #008080; font-weight: bold\">0.7999991528391468</span> <span style=\"color: #008080; text-decoration-color: #008080; font-weight: bold\">0.8000115920511877</span>\n",
       "</pre>\n"
      ],
      "text/plain": [
       "New Oil Saturation Grid \u001b[1;36m0.7999991528391468\u001b[0m \u001b[1;36m0.8000115920511877\u001b[0m\n"
      ]
     },
     "metadata": {},
     "output_type": "display_data"
    },
    {
     "data": {
      "text/html": [
       "<pre style=\"white-space:pre;overflow-x:auto;line-height:normal;font-family:Menlo,'DejaVu Sans Mono',consolas,'Courier New',monospace\">New Gas Saturation Grid <span style=\"color: #008080; text-decoration-color: #008080; font-weight: bold\">0.0</span> <span style=\"color: #008080; text-decoration-color: #008080; font-weight: bold\">4.1500898941129e-17</span>\n",
       "</pre>\n"
      ],
      "text/plain": [
       "New Gas Saturation Grid \u001b[1;36m0.0\u001b[0m \u001b[1;36m4.1500898941129e-17\u001b[0m\n"
      ]
     },
     "metadata": {},
     "output_type": "display_data"
    },
    {
     "data": {
      "text/html": [
       "<pre style=\"white-space:pre;overflow-x:auto;line-height:normal;font-family:Menlo,'DejaVu Sans Mono',consolas,'Courier New',monospace\"><span style=\"color: #008080; text-decoration-color: #008080; font-weight: bold\">Updating static fluid properties...</span>\n",
       "</pre>\n"
      ],
      "text/plain": [
       "\u001b[1;36mUpdating static fluid properties\u001b[0m\u001b[1;36m...\u001b[0m\n"
      ]
     },
     "metadata": {},
     "output_type": "display_data"
    },
    {
     "data": {
      "text/html": [
       "<pre style=\"white-space:pre;overflow-x:auto;line-height:normal;font-family:Menlo,'DejaVu Sans Mono',consolas,'Courier New',monospace\"><span style=\"font-weight: bold\">Gas Gravity:</span> <span style=\"color: #008080; text-decoration-color: #008080; font-weight: bold\">0.5547184122441046</span> <span style=\"color: #008080; text-decoration-color: #008080; font-weight: bold\">0.5547184122441046</span>\n",
       "</pre>\n"
      ],
      "text/plain": [
       "\u001b[1mGas Gravity:\u001b[0m \u001b[1;36m0.5547184122441046\u001b[0m \u001b[1;36m0.5547184122441046\u001b[0m\n"
      ]
     },
     "metadata": {},
     "output_type": "display_data"
    },
    {
     "data": {
      "text/html": [
       "<pre style=\"white-space:pre;overflow-x:auto;line-height:normal;font-family:Menlo,'DejaVu Sans Mono',consolas,'Courier New',monospace\">Gas Compressibility Factor: <span style=\"color: #008080; text-decoration-color: #008080; font-weight: bold\">0.1</span> <span style=\"color: #008080; text-decoration-color: #008080; font-weight: bold\">0.1</span>\n",
       "</pre>\n"
      ],
      "text/plain": [
       "Gas Compressibility Factor: \u001b[1;36m0.1\u001b[0m \u001b[1;36m0.1\u001b[0m\n"
      ]
     },
     "metadata": {},
     "output_type": "display_data"
    },
    {
     "data": {
      "text/html": [
       "<pre style=\"white-space:pre;overflow-x:auto;line-height:normal;font-family:Menlo,'DejaVu Sans Mono',consolas,'Courier New',monospace\">New Gas Compressibility: <span style=\"color: #008080; text-decoration-color: #008080; font-weight: bold\">0.0</span> <span style=\"color: #008080; text-decoration-color: #008080; font-weight: bold\">0.0</span>\n",
       "</pre>\n"
      ],
      "text/plain": [
       "New Gas Compressibility: \u001b[1;36m0.0\u001b[0m \u001b[1;36m0.0\u001b[0m\n"
      ]
     },
     "metadata": {},
     "output_type": "display_data"
    },
    {
     "data": {
      "text/html": [
       "<pre style=\"white-space:pre;overflow-x:auto;line-height:normal;font-family:Menlo,'DejaVu Sans Mono',consolas,'Courier New',monospace\">New Gas Formation Volume Factor: <span style=\"color: #008080; text-decoration-color: #008080; font-weight: bold\">0.001279792424411307</span> <span style=\"color: #008080; text-decoration-color: #008080; font-weight: bold\">0.004649340887708017</span>\n",
       "</pre>\n"
      ],
      "text/plain": [
       "New Gas Formation Volume Factor: \u001b[1;36m0.001279792424411307\u001b[0m \u001b[1;36m0.004649340887708017\u001b[0m\n"
      ]
     },
     "metadata": {},
     "output_type": "display_data"
    },
    {
     "data": {
      "text/html": [
       "<pre style=\"white-space:pre;overflow-x:auto;line-height:normal;font-family:Menlo,'DejaVu Sans Mono',consolas,'Courier New',monospace\">New Gas Density: <span style=\"color: #008080; text-decoration-color: #008080; font-weight: bold\">0.0686688994344938</span> <span style=\"color: #008080; text-decoration-color: #008080; font-weight: bold\">0.11287132800852684</span>\n",
       "</pre>\n"
      ],
      "text/plain": [
       "New Gas Density: \u001b[1;36m0.0686688994344938\u001b[0m \u001b[1;36m0.11287132800852684\u001b[0m\n"
      ]
     },
     "metadata": {},
     "output_type": "display_data"
    },
    {
     "data": {
      "text/html": [
       "<pre style=\"white-space:pre;overflow-x:auto;line-height:normal;font-family:Menlo,'DejaVu Sans Mono',consolas,'Courier New',monospace\">New Gas Viscosity: <span style=\"color: #008080; text-decoration-color: #008080; font-weight: bold\">0.0161792429118569</span> <span style=\"color: #008080; text-decoration-color: #008080; font-weight: bold\">0.02030601519909635</span>\n",
       "</pre>\n"
      ],
      "text/plain": [
       "New Gas Viscosity: \u001b[1;36m0.0161792429118569\u001b[0m \u001b[1;36m0.02030601519909635\u001b[0m\n"
      ]
     },
     "metadata": {},
     "output_type": "display_data"
    },
    {
     "data": {
      "text/html": [
       "<pre style=\"white-space:pre;overflow-x:auto;line-height:normal;font-family:Menlo,'DejaVu Sans Mono',consolas,'Courier New',monospace\">Gas Solubility in Water: <span style=\"color: #008080; text-decoration-color: #008080; font-weight: bold\">2.0986305667204586</span> <span style=\"color: #008080; text-decoration-color: #008080; font-weight: bold\">2.42684325995294</span>\n",
       "</pre>\n"
      ],
      "text/plain": [
       "Gas Solubility in Water: \u001b[1;36m2.0986305667204586\u001b[0m \u001b[1;36m2.42684325995294\u001b[0m\n"
      ]
     },
     "metadata": {},
     "output_type": "display_data"
    },
    {
     "data": {
      "text/html": [
       "<pre style=\"white-space:pre;overflow-x:auto;line-height:normal;font-family:Menlo,'DejaVu Sans Mono',consolas,'Courier New',monospace\">New Water Bubble Point Pressure: <span style=\"color: #008080; text-decoration-color: #008080; font-weight: bold\">1546.9874303213985</span> <span style=\"color: #008080; text-decoration-color: #008080; font-weight: bold\">1913.8520330435613</span>\n",
       "</pre>\n"
      ],
      "text/plain": [
       "New Water Bubble Point Pressure: \u001b[1;36m1546.9874303213985\u001b[0m \u001b[1;36m1913.8520330435613\u001b[0m\n"
      ]
     },
     "metadata": {},
     "output_type": "display_data"
    },
    {
     "data": {
      "text/html": [
       "<pre style=\"white-space:pre;overflow-x:auto;line-height:normal;font-family:Menlo,'DejaVu Sans Mono',consolas,'Courier New',monospace\">New Water Compressibility: <span style=\"color: #008080; text-decoration-color: #008080; font-weight: bold\">0.0</span> <span style=\"color: #008080; text-decoration-color: #008080; font-weight: bold\">3.9631588824956405e-09</span>\n",
       "</pre>\n"
      ],
      "text/plain": [
       "New Water Compressibility: \u001b[1;36m0.0\u001b[0m \u001b[1;36m3.9631588824956405e-09\u001b[0m\n"
      ]
     },
     "metadata": {},
     "output_type": "display_data"
    },
    {
     "data": {
      "text/html": [
       "<pre style=\"white-space:pre;overflow-x:auto;line-height:normal;font-family:Menlo,'DejaVu Sans Mono',consolas,'Courier New',monospace\">New Water Formation Volume Factor: <span style=\"color: #008080; text-decoration-color: #008080; font-weight: bold\">1.0085461095518933</span> <span style=\"color: #008080; text-decoration-color: #008080; font-weight: bold\">1.0792974399100461</span>\n",
       "</pre>\n"
      ],
      "text/plain": [
       "New Water Formation Volume Factor: \u001b[1;36m1.0085461095518933\u001b[0m \u001b[1;36m1.0792974399100461\u001b[0m\n"
      ]
     },
     "metadata": {},
     "output_type": "display_data"
    },
    {
     "data": {
      "text/html": [
       "<pre style=\"white-space:pre;overflow-x:auto;line-height:normal;font-family:Menlo,'DejaVu Sans Mono',consolas,'Courier New',monospace\">New Water Density: <span style=\"color: #008080; text-decoration-color: #008080; font-weight: bold\">57.84268372231146</span> <span style=\"color: #008080; text-decoration-color: #008080; font-weight: bold\">61.900452291033844</span>\n",
       "</pre>\n"
      ],
      "text/plain": [
       "New Water Density: \u001b[1;36m57.84268372231146\u001b[0m \u001b[1;36m61.900452291033844\u001b[0m\n"
      ]
     },
     "metadata": {},
     "output_type": "display_data"
    },
    {
     "data": {
      "text/html": [
       "<pre style=\"white-space:pre;overflow-x:auto;line-height:normal;font-family:Menlo,'DejaVu Sans Mono',consolas,'Courier New',monospace\">New Water Viscosity: <span style=\"color: #008080; text-decoration-color: #008080; font-weight: bold\">0.9138208798023849</span> <span style=\"color: #008080; text-decoration-color: #008080; font-weight: bold\">1.003421702592157</span>\n",
       "</pre>\n"
      ],
      "text/plain": [
       "New Water Viscosity: \u001b[1;36m0.9138208798023849\u001b[0m \u001b[1;36m1.003421702592157\u001b[0m\n"
      ]
     },
     "metadata": {},
     "output_type": "display_data"
    },
    {
     "name": "stdout",
     "output_type": "stream",
     "text": [
      "Old GOR Grid: 71.80662629125231 191.90068605398673\n"
     ]
    },
    {
     "data": {
      "text/html": [
       "<pre style=\"white-space:pre;overflow-x:auto;line-height:normal;font-family:Menlo,'DejaVu Sans Mono',consolas,'Courier New',monospace\">Oil Specific Gravity: <span style=\"color: #008080; text-decoration-color: #008080; font-weight: bold\">0.8</span> <span style=\"color: #008080; text-decoration-color: #008080; font-weight: bold\">0.9</span>\n",
       "</pre>\n"
      ],
      "text/plain": [
       "Oil Specific Gravity: \u001b[1;36m0.8\u001b[0m \u001b[1;36m0.9\u001b[0m\n"
      ]
     },
     "metadata": {},
     "output_type": "display_data"
    },
    {
     "data": {
      "text/html": [
       "<pre style=\"white-space:pre;overflow-x:auto;line-height:normal;font-family:Menlo,'DejaVu Sans Mono',consolas,'Courier New',monospace\">Oil API Gravity: <span style=\"color: #008080; text-decoration-color: #008080; font-weight: bold\">25.72222222222223</span> <span style=\"color: #008080; text-decoration-color: #008080; font-weight: bold\">45.375</span>\n",
       "</pre>\n"
      ],
      "text/plain": [
       "Oil API Gravity: \u001b[1;36m25.72222222222223\u001b[0m \u001b[1;36m45.375\u001b[0m\n"
      ]
     },
     "metadata": {},
     "output_type": "display_data"
    },
    {
     "data": {
      "text/html": [
       "<pre style=\"white-space:pre;overflow-x:auto;line-height:normal;font-family:Menlo,'DejaVu Sans Mono',consolas,'Courier New',monospace\">New Oil Bubble Point Pressure: <span style=\"color: #008080; text-decoration-color: #008080; font-weight: bold\">799.9999999999976</span> <span style=\"color: #008080; text-decoration-color: #008080; font-weight: bold\">800.000000000001</span>\n",
       "</pre>\n"
      ],
      "text/plain": [
       "New Oil Bubble Point Pressure: \u001b[1;36m799.9999999999976\u001b[0m \u001b[1;36m800.000000000001\u001b[0m\n"
      ]
     },
     "metadata": {},
     "output_type": "display_data"
    },
    {
     "data": {
      "text/html": [
       "<pre style=\"white-space:pre;overflow-x:auto;line-height:normal;font-family:Menlo,'DejaVu Sans Mono',consolas,'Courier New',monospace\">New Oil Formation Volume Factor: <span style=\"color: #008080; text-decoration-color: #008080; font-weight: bold\">1.0207759430708045</span> <span style=\"color: #008080; text-decoration-color: #008080; font-weight: bold\">1.077479452804218</span>\n",
       "</pre>\n"
      ],
      "text/plain": [
       "New Oil Formation Volume Factor: \u001b[1;36m1.0207759430708045\u001b[0m \u001b[1;36m1.077479452804218\u001b[0m\n"
      ]
     },
     "metadata": {},
     "output_type": "display_data"
    },
    {
     "data": {
      "text/html": [
       "<pre style=\"white-space:pre;overflow-x:auto;line-height:normal;font-family:Menlo,'DejaVu Sans Mono',consolas,'Courier New',monospace\">New Gas to Oil Ratio: <span style=\"color: #008080; text-decoration-color: #008080; font-weight: bold\">71.80662629125231</span> <span style=\"color: #008080; text-decoration-color: #008080; font-weight: bold\">191.90068605398673</span>\n",
       "</pre>\n"
      ],
      "text/plain": [
       "New Gas to Oil Ratio: \u001b[1;36m71.80662629125231\u001b[0m \u001b[1;36m191.90068605398673\u001b[0m\n"
      ]
     },
     "metadata": {},
     "output_type": "display_data"
    },
    {
     "data": {
      "text/html": [
       "<pre style=\"white-space:pre;overflow-x:auto;line-height:normal;font-family:Menlo,'DejaVu Sans Mono',consolas,'Courier New',monospace\">New Oil Compressibility: <span style=\"color: #008080; text-decoration-color: #008080; font-weight: bold\">6.08257291432619e-06</span> <span style=\"color: #008080; text-decoration-color: #008080; font-weight: bold\">2.3764425296354704e-05</span>\n",
       "</pre>\n"
      ],
      "text/plain": [
       "New Oil Compressibility: \u001b[1;36m6.08257291432619e-06\u001b[0m \u001b[1;36m2.3764425296354704e-05\u001b[0m\n"
      ]
     },
     "metadata": {},
     "output_type": "display_data"
    },
    {
     "data": {
      "text/html": [
       "<pre style=\"white-space:pre;overflow-x:auto;line-height:normal;font-family:Menlo,'DejaVu Sans Mono',consolas,'Courier New',monospace\">New Oil Density: <span style=\"color: #008080; text-decoration-color: #008080; font-weight: bold\">47.65110901477846</span> <span style=\"color: #008080; text-decoration-color: #008080; font-weight: bold\">55.52098097750126</span>\n",
       "</pre>\n"
      ],
      "text/plain": [
       "New Oil Density: \u001b[1;36m47.65110901477846\u001b[0m \u001b[1;36m55.52098097750126\u001b[0m\n"
      ]
     },
     "metadata": {},
     "output_type": "display_data"
    },
    {
     "data": {
      "text/html": [
       "<pre style=\"white-space:pre;overflow-x:auto;line-height:normal;font-family:Menlo,'DejaVu Sans Mono',consolas,'Courier New',monospace\">New Oil Viscosity: <span style=\"color: #008080; text-decoration-color: #008080; font-weight: bold\">0.5694903724850092</span> <span style=\"color: #008080; text-decoration-color: #008080; font-weight: bold\">0.6536415281252396</span>\n",
       "</pre>\n"
      ],
      "text/plain": [
       "New Oil Viscosity: \u001b[1;36m0.5694903724850092\u001b[0m \u001b[1;36m0.6536415281252396\u001b[0m\n"
      ]
     },
     "metadata": {},
     "output_type": "display_data"
    },
    {
     "name": "stdout",
     "output_type": "stream",
     "text": [
      "TIME STEP 12\n"
     ]
    },
    {
     "data": {
      "text/html": [
       "<pre style=\"white-space:pre;overflow-x:auto;line-height:normal;font-family:Menlo,'DejaVu Sans Mono',consolas,'Courier New',monospace\"><span style=\"color: #008080; text-decoration-color: #008080; font-weight: bold\">Computing pressure evolution...</span>\n",
       "</pre>\n"
      ],
      "text/plain": [
       "\u001b[1;36mComputing pressure evolution\u001b[0m\u001b[1;36m...\u001b[0m\n"
      ]
     },
     "metadata": {},
     "output_type": "display_data"
    },
    {
     "data": {
      "text/html": [
       "<pre style=\"white-space:pre;overflow-x:auto;line-height:normal;font-family:Menlo,'DejaVu Sans Mono',consolas,'Courier New',monospace\">Old Pressure Grid <span style=\"color: #008080; text-decoration-color: #008080; font-weight: bold\">1546.9874303214033</span> <span style=\"color: #008080; text-decoration-color: #008080; font-weight: bold\">1913.8520330435654</span>\n",
       "</pre>\n"
      ],
      "text/plain": [
       "Old Pressure Grid \u001b[1;36m1546.9874303214033\u001b[0m \u001b[1;36m1913.8520330435654\u001b[0m\n"
      ]
     },
     "metadata": {},
     "output_type": "display_data"
    },
    {
     "data": {
      "text/html": [
       "<pre style=\"white-space:pre;overflow-x:auto;line-height:normal;font-family:Menlo,'DejaVu Sans Mono',consolas,'Courier New',monospace\">New Pressure Grid <span style=\"color: #008080; text-decoration-color: #008080; font-weight: bold\">1546.612695635343</span> <span style=\"color: #008080; text-decoration-color: #008080; font-weight: bold\">1913.3138314867945</span>\n",
       "</pre>\n"
      ],
      "text/plain": [
       "New Pressure Grid \u001b[1;36m1546.612695635343\u001b[0m \u001b[1;36m1913.3138314867945\u001b[0m\n"
      ]
     },
     "metadata": {},
     "output_type": "display_data"
    },
    {
     "data": {
      "text/html": [
       "<pre style=\"white-space:pre;overflow-x:auto;line-height:normal;font-family:Menlo,'DejaVu Sans Mono',consolas,'Courier New',monospace\"><span style=\"color: #008080; text-decoration-color: #008080; font-weight: bold\">Updating fluid properties...</span>\n",
       "</pre>\n"
      ],
      "text/plain": [
       "\u001b[1;36mUpdating fluid properties\u001b[0m\u001b[1;36m...\u001b[0m\n"
      ]
     },
     "metadata": {},
     "output_type": "display_data"
    },
    {
     "data": {
      "text/html": [
       "<pre style=\"white-space:pre;overflow-x:auto;line-height:normal;font-family:Menlo,'DejaVu Sans Mono',consolas,'Courier New',monospace\">Old Water Saturation Grid <span style=\"color: #008080; text-decoration-color: #008080; font-weight: bold\">0.19998840794881234</span> <span style=\"color: #008080; text-decoration-color: #008080; font-weight: bold\">0.20000084716085326</span>\n",
       "</pre>\n"
      ],
      "text/plain": [
       "Old Water Saturation Grid \u001b[1;36m0.19998840794881234\u001b[0m \u001b[1;36m0.20000084716085326\u001b[0m\n"
      ]
     },
     "metadata": {},
     "output_type": "display_data"
    },
    {
     "data": {
      "text/html": [
       "<pre style=\"white-space:pre;overflow-x:auto;line-height:normal;font-family:Menlo,'DejaVu Sans Mono',consolas,'Courier New',monospace\">Old Oil Saturation Grid <span style=\"color: #008080; text-decoration-color: #008080; font-weight: bold\">0.7999991528391468</span> <span style=\"color: #008080; text-decoration-color: #008080; font-weight: bold\">0.8000115920511877</span>\n",
       "</pre>\n"
      ],
      "text/plain": [
       "Old Oil Saturation Grid \u001b[1;36m0.7999991528391468\u001b[0m \u001b[1;36m0.8000115920511877\u001b[0m\n"
      ]
     },
     "metadata": {},
     "output_type": "display_data"
    },
    {
     "data": {
      "text/html": [
       "<pre style=\"white-space:pre;overflow-x:auto;line-height:normal;font-family:Menlo,'DejaVu Sans Mono',consolas,'Courier New',monospace\">Old Gas Saturation Grid <span style=\"color: #008080; text-decoration-color: #008080; font-weight: bold\">0.0</span> <span style=\"color: #008080; text-decoration-color: #008080; font-weight: bold\">4.1500898941129e-17</span>\n",
       "</pre>\n"
      ],
      "text/plain": [
       "Old Gas Saturation Grid \u001b[1;36m0.0\u001b[0m \u001b[1;36m4.1500898941129e-17\u001b[0m\n"
      ]
     },
     "metadata": {},
     "output_type": "display_data"
    },
    {
     "data": {
      "text/html": [
       "<pre style=\"white-space:pre;overflow-x:auto;line-height:normal;font-family:Menlo,'DejaVu Sans Mono',consolas,'Courier New',monospace\">New Water Saturation Grid <span style=\"color: #008080; text-decoration-color: #008080; font-weight: bold\">0.19998719507701243</span> <span style=\"color: #008080; text-decoration-color: #008080; font-weight: bold\">0.2000009325741363</span>\n",
       "</pre>\n"
      ],
      "text/plain": [
       "New Water Saturation Grid \u001b[1;36m0.19998719507701243\u001b[0m \u001b[1;36m0.2000009325741363\u001b[0m\n"
      ]
     },
     "metadata": {},
     "output_type": "display_data"
    },
    {
     "data": {
      "text/html": [
       "<pre style=\"white-space:pre;overflow-x:auto;line-height:normal;font-family:Menlo,'DejaVu Sans Mono',consolas,'Courier New',monospace\">New Oil Saturation Grid <span style=\"color: #008080; text-decoration-color: #008080; font-weight: bold\">0.7999990674258638</span> <span style=\"color: #008080; text-decoration-color: #008080; font-weight: bold\">0.8000128049229874</span>\n",
       "</pre>\n"
      ],
      "text/plain": [
       "New Oil Saturation Grid \u001b[1;36m0.7999990674258638\u001b[0m \u001b[1;36m0.8000128049229874\u001b[0m\n"
      ]
     },
     "metadata": {},
     "output_type": "display_data"
    },
    {
     "data": {
      "text/html": [
       "<pre style=\"white-space:pre;overflow-x:auto;line-height:normal;font-family:Menlo,'DejaVu Sans Mono',consolas,'Courier New',monospace\">New Gas Saturation Grid <span style=\"color: #008080; text-decoration-color: #008080; font-weight: bold\">0.0</span> <span style=\"color: #008080; text-decoration-color: #008080; font-weight: bold\">4.5280455381109196e-17</span>\n",
       "</pre>\n"
      ],
      "text/plain": [
       "New Gas Saturation Grid \u001b[1;36m0.0\u001b[0m \u001b[1;36m4.5280455381109196e-17\u001b[0m\n"
      ]
     },
     "metadata": {},
     "output_type": "display_data"
    },
    {
     "data": {
      "text/html": [
       "<pre style=\"white-space:pre;overflow-x:auto;line-height:normal;font-family:Menlo,'DejaVu Sans Mono',consolas,'Courier New',monospace\"><span style=\"color: #008080; text-decoration-color: #008080; font-weight: bold\">Updating static fluid properties...</span>\n",
       "</pre>\n"
      ],
      "text/plain": [
       "\u001b[1;36mUpdating static fluid properties\u001b[0m\u001b[1;36m...\u001b[0m\n"
      ]
     },
     "metadata": {},
     "output_type": "display_data"
    },
    {
     "data": {
      "text/html": [
       "<pre style=\"white-space:pre;overflow-x:auto;line-height:normal;font-family:Menlo,'DejaVu Sans Mono',consolas,'Courier New',monospace\"><span style=\"font-weight: bold\">Gas Gravity:</span> <span style=\"color: #008080; text-decoration-color: #008080; font-weight: bold\">0.5547184122441046</span> <span style=\"color: #008080; text-decoration-color: #008080; font-weight: bold\">0.5547184122441046</span>\n",
       "</pre>\n"
      ],
      "text/plain": [
       "\u001b[1mGas Gravity:\u001b[0m \u001b[1;36m0.5547184122441046\u001b[0m \u001b[1;36m0.5547184122441046\u001b[0m\n"
      ]
     },
     "metadata": {},
     "output_type": "display_data"
    },
    {
     "data": {
      "text/html": [
       "<pre style=\"white-space:pre;overflow-x:auto;line-height:normal;font-family:Menlo,'DejaVu Sans Mono',consolas,'Courier New',monospace\">Gas Compressibility Factor: <span style=\"color: #008080; text-decoration-color: #008080; font-weight: bold\">0.1</span> <span style=\"color: #008080; text-decoration-color: #008080; font-weight: bold\">0.1</span>\n",
       "</pre>\n"
      ],
      "text/plain": [
       "Gas Compressibility Factor: \u001b[1;36m0.1\u001b[0m \u001b[1;36m0.1\u001b[0m\n"
      ]
     },
     "metadata": {},
     "output_type": "display_data"
    },
    {
     "data": {
      "text/html": [
       "<pre style=\"white-space:pre;overflow-x:auto;line-height:normal;font-family:Menlo,'DejaVu Sans Mono',consolas,'Courier New',monospace\">New Gas Compressibility: <span style=\"color: #008080; text-decoration-color: #008080; font-weight: bold\">0.0</span> <span style=\"color: #008080; text-decoration-color: #008080; font-weight: bold\">0.0</span>\n",
       "</pre>\n"
      ],
      "text/plain": [
       "New Gas Compressibility: \u001b[1;36m0.0\u001b[0m \u001b[1;36m0.0\u001b[0m\n"
      ]
     },
     "metadata": {},
     "output_type": "display_data"
    },
    {
     "data": {
      "text/html": [
       "<pre style=\"white-space:pre;overflow-x:auto;line-height:normal;font-family:Menlo,'DejaVu Sans Mono',consolas,'Courier New',monospace\">New Gas Formation Volume Factor: <span style=\"color: #008080; text-decoration-color: #008080; font-weight: bold\">0.001280152420907348</span> <span style=\"color: #008080; text-decoration-color: #008080; font-weight: bold\">0.004650034350200257</span>\n",
       "</pre>\n"
      ],
      "text/plain": [
       "New Gas Formation Volume Factor: \u001b[1;36m0.001280152420907348\u001b[0m \u001b[1;36m0.004650034350200257\u001b[0m\n"
      ]
     },
     "metadata": {},
     "output_type": "display_data"
    },
    {
     "data": {
      "text/html": [
       "<pre style=\"white-space:pre;overflow-x:auto;line-height:normal;font-family:Menlo,'DejaVu Sans Mono',consolas,'Courier New',monospace\">New Gas Density: <span style=\"color: #008080; text-decoration-color: #008080; font-weight: bold\">0.0686586587991447</span> <span style=\"color: #008080; text-decoration-color: #008080; font-weight: bold\">0.11283958703618407</span>\n",
       "</pre>\n"
      ],
      "text/plain": [
       "New Gas Density: \u001b[1;36m0.0686586587991447\u001b[0m \u001b[1;36m0.11283958703618407\u001b[0m\n"
      ]
     },
     "metadata": {},
     "output_type": "display_data"
    },
    {
     "data": {
      "text/html": [
       "<pre style=\"white-space:pre;overflow-x:auto;line-height:normal;font-family:Menlo,'DejaVu Sans Mono',consolas,'Courier New',monospace\">New Gas Viscosity: <span style=\"color: #008080; text-decoration-color: #008080; font-weight: bold\">0.01617923922983222</span> <span style=\"color: #008080; text-decoration-color: #008080; font-weight: bold\">0.020306015175257135</span>\n",
       "</pre>\n"
      ],
      "text/plain": [
       "New Gas Viscosity: \u001b[1;36m0.01617923922983222\u001b[0m \u001b[1;36m0.020306015175257135\u001b[0m\n"
      ]
     },
     "metadata": {},
     "output_type": "display_data"
    },
    {
     "data": {
      "text/html": [
       "<pre style=\"white-space:pre;overflow-x:auto;line-height:normal;font-family:Menlo,'DejaVu Sans Mono',consolas,'Courier New',monospace\">Gas Solubility in Water: <span style=\"color: #008080; text-decoration-color: #008080; font-weight: bold\">2.098620331801691</span> <span style=\"color: #008080; text-decoration-color: #008080; font-weight: bold\">2.4268418518612958</span>\n",
       "</pre>\n"
      ],
      "text/plain": [
       "Gas Solubility in Water: \u001b[1;36m2.098620331801691\u001b[0m \u001b[1;36m2.4268418518612958\u001b[0m\n"
      ]
     },
     "metadata": {},
     "output_type": "display_data"
    },
    {
     "data": {
      "text/html": [
       "<pre style=\"white-space:pre;overflow-x:auto;line-height:normal;font-family:Menlo,'DejaVu Sans Mono',consolas,'Courier New',monospace\">New Water Bubble Point Pressure: <span style=\"color: #008080; text-decoration-color: #008080; font-weight: bold\">1546.6126956353457</span> <span style=\"color: #008080; text-decoration-color: #008080; font-weight: bold\">1913.3138314867954</span>\n",
       "</pre>\n"
      ],
      "text/plain": [
       "New Water Bubble Point Pressure: \u001b[1;36m1546.6126956353457\u001b[0m \u001b[1;36m1913.3138314867954\u001b[0m\n"
      ]
     },
     "metadata": {},
     "output_type": "display_data"
    },
    {
     "data": {
      "text/html": [
       "<pre style=\"white-space:pre;overflow-x:auto;line-height:normal;font-family:Menlo,'DejaVu Sans Mono',consolas,'Courier New',monospace\">New Water Compressibility: <span style=\"color: #008080; text-decoration-color: #008080; font-weight: bold\">0.0</span> <span style=\"color: #008080; text-decoration-color: #008080; font-weight: bold\">3.975506153617965e-09</span>\n",
       "</pre>\n"
      ],
      "text/plain": [
       "New Water Compressibility: \u001b[1;36m0.0\u001b[0m \u001b[1;36m3.975506153617965e-09\u001b[0m\n"
      ]
     },
     "metadata": {},
     "output_type": "display_data"
    },
    {
     "data": {
      "text/html": [
       "<pre style=\"white-space:pre;overflow-x:auto;line-height:normal;font-family:Menlo,'DejaVu Sans Mono',consolas,'Courier New',monospace\">New Water Formation Volume Factor: <span style=\"color: #008080; text-decoration-color: #008080; font-weight: bold\">1.0085461131181161</span> <span style=\"color: #008080; text-decoration-color: #008080; font-weight: bold\">1.0792974416277794</span>\n",
       "</pre>\n"
      ],
      "text/plain": [
       "New Water Formation Volume Factor: \u001b[1;36m1.0085461131181161\u001b[0m \u001b[1;36m1.0792974416277794\u001b[0m\n"
      ]
     },
     "metadata": {},
     "output_type": "display_data"
    },
    {
     "data": {
      "text/html": [
       "<pre style=\"white-space:pre;overflow-x:auto;line-height:normal;font-family:Menlo,'DejaVu Sans Mono',consolas,'Courier New',monospace\">New Water Density: <span style=\"color: #008080; text-decoration-color: #008080; font-weight: bold\">57.84268363027506</span> <span style=\"color: #008080; text-decoration-color: #008080; font-weight: bold\">61.900452072641556</span>\n",
       "</pre>\n"
      ],
      "text/plain": [
       "New Water Density: \u001b[1;36m57.84268363027506\u001b[0m \u001b[1;36m61.900452072641556\u001b[0m\n"
      ]
     },
     "metadata": {},
     "output_type": "display_data"
    },
    {
     "data": {
      "text/html": [
       "<pre style=\"white-space:pre;overflow-x:auto;line-height:normal;font-family:Menlo,'DejaVu Sans Mono',consolas,'Courier New',monospace\">New Water Viscosity: <span style=\"color: #008080; text-decoration-color: #008080; font-weight: bold\">0.9138048961243558</span> <span style=\"color: #008080; text-decoration-color: #008080; font-weight: bold\">1.0033957984290711</span>\n",
       "</pre>\n"
      ],
      "text/plain": [
       "New Water Viscosity: \u001b[1;36m0.9138048961243558\u001b[0m \u001b[1;36m1.0033957984290711\u001b[0m\n"
      ]
     },
     "metadata": {},
     "output_type": "display_data"
    },
    {
     "name": "stdout",
     "output_type": "stream",
     "text": [
      "Old GOR Grid: 71.80662629125231 191.90068605398673\n"
     ]
    },
    {
     "data": {
      "text/html": [
       "<pre style=\"white-space:pre;overflow-x:auto;line-height:normal;font-family:Menlo,'DejaVu Sans Mono',consolas,'Courier New',monospace\">Oil Specific Gravity: <span style=\"color: #008080; text-decoration-color: #008080; font-weight: bold\">0.8</span> <span style=\"color: #008080; text-decoration-color: #008080; font-weight: bold\">0.9</span>\n",
       "</pre>\n"
      ],
      "text/plain": [
       "Oil Specific Gravity: \u001b[1;36m0.8\u001b[0m \u001b[1;36m0.9\u001b[0m\n"
      ]
     },
     "metadata": {},
     "output_type": "display_data"
    },
    {
     "data": {
      "text/html": [
       "<pre style=\"white-space:pre;overflow-x:auto;line-height:normal;font-family:Menlo,'DejaVu Sans Mono',consolas,'Courier New',monospace\">Oil API Gravity: <span style=\"color: #008080; text-decoration-color: #008080; font-weight: bold\">25.72222222222223</span> <span style=\"color: #008080; text-decoration-color: #008080; font-weight: bold\">45.375</span>\n",
       "</pre>\n"
      ],
      "text/plain": [
       "Oil API Gravity: \u001b[1;36m25.72222222222223\u001b[0m \u001b[1;36m45.375\u001b[0m\n"
      ]
     },
     "metadata": {},
     "output_type": "display_data"
    },
    {
     "data": {
      "text/html": [
       "<pre style=\"white-space:pre;overflow-x:auto;line-height:normal;font-family:Menlo,'DejaVu Sans Mono',consolas,'Courier New',monospace\">New Oil Bubble Point Pressure: <span style=\"color: #008080; text-decoration-color: #008080; font-weight: bold\">799.9999999999975</span> <span style=\"color: #008080; text-decoration-color: #008080; font-weight: bold\">800.000000000001</span>\n",
       "</pre>\n"
      ],
      "text/plain": [
       "New Oil Bubble Point Pressure: \u001b[1;36m799.9999999999975\u001b[0m \u001b[1;36m800.000000000001\u001b[0m\n"
      ]
     },
     "metadata": {},
     "output_type": "display_data"
    },
    {
     "data": {
      "text/html": [
       "<pre style=\"white-space:pre;overflow-x:auto;line-height:normal;font-family:Menlo,'DejaVu Sans Mono',consolas,'Courier New',monospace\">New Oil Formation Volume Factor: <span style=\"color: #008080; text-decoration-color: #008080; font-weight: bold\">1.0207775993130084</span> <span style=\"color: #008080; text-decoration-color: #008080; font-weight: bold\">1.0774998199906445</span>\n",
       "</pre>\n"
      ],
      "text/plain": [
       "New Oil Formation Volume Factor: \u001b[1;36m1.0207775993130084\u001b[0m \u001b[1;36m1.0774998199906445\u001b[0m\n"
      ]
     },
     "metadata": {},
     "output_type": "display_data"
    },
    {
     "data": {
      "text/html": [
       "<pre style=\"white-space:pre;overflow-x:auto;line-height:normal;font-family:Menlo,'DejaVu Sans Mono',consolas,'Courier New',monospace\">New Gas to Oil Ratio: <span style=\"color: #008080; text-decoration-color: #008080; font-weight: bold\">71.80662629125231</span> <span style=\"color: #008080; text-decoration-color: #008080; font-weight: bold\">191.90068605398673</span>\n",
       "</pre>\n"
      ],
      "text/plain": [
       "New Gas to Oil Ratio: \u001b[1;36m71.80662629125231\u001b[0m \u001b[1;36m191.90068605398673\u001b[0m\n"
      ]
     },
     "metadata": {},
     "output_type": "display_data"
    },
    {
     "data": {
      "text/html": [
       "<pre style=\"white-space:pre;overflow-x:auto;line-height:normal;font-family:Menlo,'DejaVu Sans Mono',consolas,'Courier New',monospace\">New Oil Compressibility: <span style=\"color: #008080; text-decoration-color: #008080; font-weight: bold\">6.084283898775155e-06</span> <span style=\"color: #008080; text-decoration-color: #008080; font-weight: bold\">2.3767969828362717e-05</span>\n",
       "</pre>\n"
      ],
      "text/plain": [
       "New Oil Compressibility: \u001b[1;36m6.084283898775155e-06\u001b[0m \u001b[1;36m2.3767969828362717e-05\u001b[0m\n"
      ]
     },
     "metadata": {},
     "output_type": "display_data"
    },
    {
     "data": {
      "text/html": [
       "<pre style=\"white-space:pre;overflow-x:auto;line-height:normal;font-family:Menlo,'DejaVu Sans Mono',consolas,'Courier New',monospace\">New Oil Density: <span style=\"color: #008080; text-decoration-color: #008080; font-weight: bold\">47.650208300919644</span> <span style=\"color: #008080; text-decoration-color: #008080; font-weight: bold\">55.52089089304804</span>\n",
       "</pre>\n"
      ],
      "text/plain": [
       "New Oil Density: \u001b[1;36m47.650208300919644\u001b[0m \u001b[1;36m55.52089089304804\u001b[0m\n"
      ]
     },
     "metadata": {},
     "output_type": "display_data"
    },
    {
     "data": {
      "text/html": [
       "<pre style=\"white-space:pre;overflow-x:auto;line-height:normal;font-family:Menlo,'DejaVu Sans Mono',consolas,'Courier New',monospace\">New Oil Viscosity: <span style=\"color: #008080; text-decoration-color: #008080; font-weight: bold\">0.5694698293966877</span> <span style=\"color: #008080; text-decoration-color: #008080; font-weight: bold\">0.6535818696173323</span>\n",
       "</pre>\n"
      ],
      "text/plain": [
       "New Oil Viscosity: \u001b[1;36m0.5694698293966877\u001b[0m \u001b[1;36m0.6535818696173323\u001b[0m\n"
      ]
     },
     "metadata": {},
     "output_type": "display_data"
    },
    {
     "name": "stdout",
     "output_type": "stream",
     "text": [
      "TIME STEP 13\n"
     ]
    },
    {
     "data": {
      "text/html": [
       "<pre style=\"white-space:pre;overflow-x:auto;line-height:normal;font-family:Menlo,'DejaVu Sans Mono',consolas,'Courier New',monospace\"><span style=\"color: #008080; text-decoration-color: #008080; font-weight: bold\">Computing pressure evolution...</span>\n",
       "</pre>\n"
      ],
      "text/plain": [
       "\u001b[1;36mComputing pressure evolution\u001b[0m\u001b[1;36m...\u001b[0m\n"
      ]
     },
     "metadata": {},
     "output_type": "display_data"
    },
    {
     "data": {
      "text/html": [
       "<pre style=\"white-space:pre;overflow-x:auto;line-height:normal;font-family:Menlo,'DejaVu Sans Mono',consolas,'Courier New',monospace\">Old Pressure Grid <span style=\"color: #008080; text-decoration-color: #008080; font-weight: bold\">1546.612695635343</span> <span style=\"color: #008080; text-decoration-color: #008080; font-weight: bold\">1913.3138314867945</span>\n",
       "</pre>\n"
      ],
      "text/plain": [
       "Old Pressure Grid \u001b[1;36m1546.612695635343\u001b[0m \u001b[1;36m1913.3138314867945\u001b[0m\n"
      ]
     },
     "metadata": {},
     "output_type": "display_data"
    },
    {
     "data": {
      "text/html": [
       "<pre style=\"white-space:pre;overflow-x:auto;line-height:normal;font-family:Menlo,'DejaVu Sans Mono',consolas,'Courier New',monospace\">New Pressure Grid <span style=\"color: #008080; text-decoration-color: #008080; font-weight: bold\">1546.2381117086256</span> <span style=\"color: #008080; text-decoration-color: #008080; font-weight: bold\">1912.776900346379</span>\n",
       "</pre>\n"
      ],
      "text/plain": [
       "New Pressure Grid \u001b[1;36m1546.2381117086256\u001b[0m \u001b[1;36m1912.776900346379\u001b[0m\n"
      ]
     },
     "metadata": {},
     "output_type": "display_data"
    },
    {
     "data": {
      "text/html": [
       "<pre style=\"white-space:pre;overflow-x:auto;line-height:normal;font-family:Menlo,'DejaVu Sans Mono',consolas,'Courier New',monospace\"><span style=\"color: #008080; text-decoration-color: #008080; font-weight: bold\">Updating fluid properties...</span>\n",
       "</pre>\n"
      ],
      "text/plain": [
       "\u001b[1;36mUpdating fluid properties\u001b[0m\u001b[1;36m...\u001b[0m\n"
      ]
     },
     "metadata": {},
     "output_type": "display_data"
    },
    {
     "data": {
      "text/html": [
       "<pre style=\"white-space:pre;overflow-x:auto;line-height:normal;font-family:Menlo,'DejaVu Sans Mono',consolas,'Courier New',monospace\">Old Water Saturation Grid <span style=\"color: #008080; text-decoration-color: #008080; font-weight: bold\">0.19998719507701243</span> <span style=\"color: #008080; text-decoration-color: #008080; font-weight: bold\">0.2000009325741363</span>\n",
       "</pre>\n"
      ],
      "text/plain": [
       "Old Water Saturation Grid \u001b[1;36m0.19998719507701243\u001b[0m \u001b[1;36m0.2000009325741363\u001b[0m\n"
      ]
     },
     "metadata": {},
     "output_type": "display_data"
    },
    {
     "data": {
      "text/html": [
       "<pre style=\"white-space:pre;overflow-x:auto;line-height:normal;font-family:Menlo,'DejaVu Sans Mono',consolas,'Courier New',monospace\">Old Oil Saturation Grid <span style=\"color: #008080; text-decoration-color: #008080; font-weight: bold\">0.7999990674258638</span> <span style=\"color: #008080; text-decoration-color: #008080; font-weight: bold\">0.8000128049229874</span>\n",
       "</pre>\n"
      ],
      "text/plain": [
       "Old Oil Saturation Grid \u001b[1;36m0.7999990674258638\u001b[0m \u001b[1;36m0.8000128049229874\u001b[0m\n"
      ]
     },
     "metadata": {},
     "output_type": "display_data"
    },
    {
     "data": {
      "text/html": [
       "<pre style=\"white-space:pre;overflow-x:auto;line-height:normal;font-family:Menlo,'DejaVu Sans Mono',consolas,'Courier New',monospace\">Old Gas Saturation Grid <span style=\"color: #008080; text-decoration-color: #008080; font-weight: bold\">0.0</span> <span style=\"color: #008080; text-decoration-color: #008080; font-weight: bold\">4.5280455381109196e-17</span>\n",
       "</pre>\n"
      ],
      "text/plain": [
       "Old Gas Saturation Grid \u001b[1;36m0.0\u001b[0m \u001b[1;36m4.5280455381109196e-17\u001b[0m\n"
      ]
     },
     "metadata": {},
     "output_type": "display_data"
    },
    {
     "data": {
      "text/html": [
       "<pre style=\"white-space:pre;overflow-x:auto;line-height:normal;font-family:Menlo,'DejaVu Sans Mono',consolas,'Courier New',monospace\">New Water Saturation Grid <span style=\"color: #008080; text-decoration-color: #008080; font-weight: bold\">0.19998597089702627</span> <span style=\"color: #008080; text-decoration-color: #008080; font-weight: bold\">0.20000101809242826</span>\n",
       "</pre>\n"
      ],
      "text/plain": [
       "New Water Saturation Grid \u001b[1;36m0.19998597089702627\u001b[0m \u001b[1;36m0.20000101809242826\u001b[0m\n"
      ]
     },
     "metadata": {},
     "output_type": "display_data"
    },
    {
     "data": {
      "text/html": [
       "<pre style=\"white-space:pre;overflow-x:auto;line-height:normal;font-family:Menlo,'DejaVu Sans Mono',consolas,'Courier New',monospace\">New Oil Saturation Grid <span style=\"color: #008080; text-decoration-color: #008080; font-weight: bold\">0.7999989819075717</span> <span style=\"color: #008080; text-decoration-color: #008080; font-weight: bold\">0.8000140291029737</span>\n",
       "</pre>\n"
      ],
      "text/plain": [
       "New Oil Saturation Grid \u001b[1;36m0.7999989819075717\u001b[0m \u001b[1;36m0.8000140291029737\u001b[0m\n"
      ]
     },
     "metadata": {},
     "output_type": "display_data"
    },
    {
     "data": {
      "text/html": [
       "<pre style=\"white-space:pre;overflow-x:auto;line-height:normal;font-family:Menlo,'DejaVu Sans Mono',consolas,'Courier New',monospace\">New Gas Saturation Grid <span style=\"color: #008080; text-decoration-color: #008080; font-weight: bold\">0.0</span> <span style=\"color: #008080; text-decoration-color: #008080; font-weight: bold\">4.906114174956515e-17</span>\n",
       "</pre>\n"
      ],
      "text/plain": [
       "New Gas Saturation Grid \u001b[1;36m0.0\u001b[0m \u001b[1;36m4.906114174956515e-17\u001b[0m\n"
      ]
     },
     "metadata": {},
     "output_type": "display_data"
    },
    {
     "data": {
      "text/html": [
       "<pre style=\"white-space:pre;overflow-x:auto;line-height:normal;font-family:Menlo,'DejaVu Sans Mono',consolas,'Courier New',monospace\"><span style=\"color: #008080; text-decoration-color: #008080; font-weight: bold\">Updating static fluid properties...</span>\n",
       "</pre>\n"
      ],
      "text/plain": [
       "\u001b[1;36mUpdating static fluid properties\u001b[0m\u001b[1;36m...\u001b[0m\n"
      ]
     },
     "metadata": {},
     "output_type": "display_data"
    },
    {
     "data": {
      "text/html": [
       "<pre style=\"white-space:pre;overflow-x:auto;line-height:normal;font-family:Menlo,'DejaVu Sans Mono',consolas,'Courier New',monospace\"><span style=\"font-weight: bold\">Gas Gravity:</span> <span style=\"color: #008080; text-decoration-color: #008080; font-weight: bold\">0.5547184122441046</span> <span style=\"color: #008080; text-decoration-color: #008080; font-weight: bold\">0.5547184122441046</span>\n",
       "</pre>\n"
      ],
      "text/plain": [
       "\u001b[1mGas Gravity:\u001b[0m \u001b[1;36m0.5547184122441046\u001b[0m \u001b[1;36m0.5547184122441046\u001b[0m\n"
      ]
     },
     "metadata": {},
     "output_type": "display_data"
    },
    {
     "data": {
      "text/html": [
       "<pre style=\"white-space:pre;overflow-x:auto;line-height:normal;font-family:Menlo,'DejaVu Sans Mono',consolas,'Courier New',monospace\">Gas Compressibility Factor: <span style=\"color: #008080; text-decoration-color: #008080; font-weight: bold\">0.1</span> <span style=\"color: #008080; text-decoration-color: #008080; font-weight: bold\">0.1</span>\n",
       "</pre>\n"
      ],
      "text/plain": [
       "Gas Compressibility Factor: \u001b[1;36m0.1\u001b[0m \u001b[1;36m0.1\u001b[0m\n"
      ]
     },
     "metadata": {},
     "output_type": "display_data"
    },
    {
     "data": {
      "text/html": [
       "<pre style=\"white-space:pre;overflow-x:auto;line-height:normal;font-family:Menlo,'DejaVu Sans Mono',consolas,'Courier New',monospace\">New Gas Compressibility: <span style=\"color: #008080; text-decoration-color: #008080; font-weight: bold\">0.0</span> <span style=\"color: #008080; text-decoration-color: #008080; font-weight: bold\">0.0</span>\n",
       "</pre>\n"
      ],
      "text/plain": [
       "New Gas Compressibility: \u001b[1;36m0.0\u001b[0m \u001b[1;36m0.0\u001b[0m\n"
      ]
     },
     "metadata": {},
     "output_type": "display_data"
    },
    {
     "data": {
      "text/html": [
       "<pre style=\"white-space:pre;overflow-x:auto;line-height:normal;font-family:Menlo,'DejaVu Sans Mono',consolas,'Courier New',monospace\">New Gas Formation Volume Factor: <span style=\"color: #008080; text-decoration-color: #008080; font-weight: bold\">0.0012805117695063083</span> <span style=\"color: #008080; text-decoration-color: #008080; font-weight: bold\">0.004650727841567082</span>\n",
       "</pre>\n"
      ],
      "text/plain": [
       "New Gas Formation Volume Factor: \u001b[1;36m0.0012805117695063083\u001b[0m \u001b[1;36m0.004650727841567082\u001b[0m\n"
      ]
     },
     "metadata": {},
     "output_type": "display_data"
    },
    {
     "data": {
      "text/html": [
       "<pre style=\"white-space:pre;overflow-x:auto;line-height:normal;font-family:Menlo,'DejaVu Sans Mono',consolas,'Courier New',monospace\">New Gas Density: <span style=\"color: #008080; text-decoration-color: #008080; font-weight: bold\">0.06864842079151298</span> <span style=\"color: #008080; text-decoration-color: #008080; font-weight: bold\">0.11280792098790998</span>\n",
       "</pre>\n"
      ],
      "text/plain": [
       "New Gas Density: \u001b[1;36m0.06864842079151298\u001b[0m \u001b[1;36m0.11280792098790998\u001b[0m\n"
      ]
     },
     "metadata": {},
     "output_type": "display_data"
    },
    {
     "data": {
      "text/html": [
       "<pre style=\"white-space:pre;overflow-x:auto;line-height:normal;font-family:Menlo,'DejaVu Sans Mono',consolas,'Courier New',monospace\">New Gas Viscosity: <span style=\"color: #008080; text-decoration-color: #008080; font-weight: bold\">0.016179235576704237</span> <span style=\"color: #008080; text-decoration-color: #008080; font-weight: bold\">0.020306015151422795</span>\n",
       "</pre>\n"
      ],
      "text/plain": [
       "New Gas Viscosity: \u001b[1;36m0.016179235576704237\u001b[0m \u001b[1;36m0.020306015151422795\u001b[0m\n"
      ]
     },
     "metadata": {},
     "output_type": "display_data"
    },
    {
     "data": {
      "text/html": [
       "<pre style=\"white-space:pre;overflow-x:auto;line-height:normal;font-family:Menlo,'DejaVu Sans Mono',consolas,'Courier New',monospace\">Gas Solubility in Water: <span style=\"color: #008080; text-decoration-color: #008080; font-weight: bold\">2.0986100995091737</span> <span style=\"color: #008080; text-decoration-color: #008080; font-weight: bold\">2.426840494941771</span>\n",
       "</pre>\n"
      ],
      "text/plain": [
       "Gas Solubility in Water: \u001b[1;36m2.0986100995091737\u001b[0m \u001b[1;36m2.426840494941771\u001b[0m\n"
      ]
     },
     "metadata": {},
     "output_type": "display_data"
    },
    {
     "data": {
      "text/html": [
       "<pre style=\"white-space:pre;overflow-x:auto;line-height:normal;font-family:Menlo,'DejaVu Sans Mono',consolas,'Courier New',monospace\">New Water Bubble Point Pressure: <span style=\"color: #008080; text-decoration-color: #008080; font-weight: bold\">1546.2381117086265</span> <span style=\"color: #008080; text-decoration-color: #008080; font-weight: bold\">1912.7769003463764</span>\n",
       "</pre>\n"
      ],
      "text/plain": [
       "New Water Bubble Point Pressure: \u001b[1;36m1546.2381117086265\u001b[0m \u001b[1;36m1912.7769003463764\u001b[0m\n"
      ]
     },
     "metadata": {},
     "output_type": "display_data"
    },
    {
     "data": {
      "text/html": [
       "<pre style=\"white-space:pre;overflow-x:auto;line-height:normal;font-family:Menlo,'DejaVu Sans Mono',consolas,'Courier New',monospace\">New Water Compressibility: <span style=\"color: #008080; text-decoration-color: #008080; font-weight: bold\">0.0</span> <span style=\"color: #008080; text-decoration-color: #008080; font-weight: bold\">3.987846033936972e-09</span>\n",
       "</pre>\n"
      ],
      "text/plain": [
       "New Water Compressibility: \u001b[1;36m0.0\u001b[0m \u001b[1;36m3.987846033936972e-09\u001b[0m\n"
      ]
     },
     "metadata": {},
     "output_type": "display_data"
    },
    {
     "data": {
      "text/html": [
       "<pre style=\"white-space:pre;overflow-x:auto;line-height:normal;font-family:Menlo,'DejaVu Sans Mono',consolas,'Courier New',monospace\">New Water Formation Volume Factor: <span style=\"color: #008080; text-decoration-color: #008080; font-weight: bold\">1.008546116676389</span> <span style=\"color: #008080; text-decoration-color: #008080; font-weight: bold\">1.079297443345104</span>\n",
       "</pre>\n"
      ],
      "text/plain": [
       "New Water Formation Volume Factor: \u001b[1;36m1.008546116676389\u001b[0m \u001b[1;36m1.079297443345104\u001b[0m\n"
      ]
     },
     "metadata": {},
     "output_type": "display_data"
    },
    {
     "data": {
      "text/html": [
       "<pre style=\"white-space:pre;overflow-x:auto;line-height:normal;font-family:Menlo,'DejaVu Sans Mono',consolas,'Courier New',monospace\">New Water Density: <span style=\"color: #008080; text-decoration-color: #008080; font-weight: bold\">57.84268353826118</span> <span style=\"color: #008080; text-decoration-color: #008080; font-weight: bold\">61.90045185475863</span>\n",
       "</pre>\n"
      ],
      "text/plain": [
       "New Water Density: \u001b[1;36m57.84268353826118\u001b[0m \u001b[1;36m61.90045185475863\u001b[0m\n"
      ]
     },
     "metadata": {},
     "output_type": "display_data"
    },
    {
     "data": {
      "text/html": [
       "<pre style=\"white-space:pre;overflow-x:auto;line-height:normal;font-family:Menlo,'DejaVu Sans Mono',consolas,'Courier New',monospace\">New Water Viscosity: <span style=\"color: #008080; text-decoration-color: #008080; font-weight: bold\">0.9137889196218903</span> <span style=\"color: #008080; text-decoration-color: #008080; font-weight: bold\">1.003369957066245</span>\n",
       "</pre>\n"
      ],
      "text/plain": [
       "New Water Viscosity: \u001b[1;36m0.9137889196218903\u001b[0m \u001b[1;36m1.003369957066245\u001b[0m\n"
      ]
     },
     "metadata": {},
     "output_type": "display_data"
    },
    {
     "name": "stdout",
     "output_type": "stream",
     "text": [
      "Old GOR Grid: 71.80662629125231 191.90068605398673\n"
     ]
    },
    {
     "data": {
      "text/html": [
       "<pre style=\"white-space:pre;overflow-x:auto;line-height:normal;font-family:Menlo,'DejaVu Sans Mono',consolas,'Courier New',monospace\">Oil Specific Gravity: <span style=\"color: #008080; text-decoration-color: #008080; font-weight: bold\">0.8</span> <span style=\"color: #008080; text-decoration-color: #008080; font-weight: bold\">0.9</span>\n",
       "</pre>\n"
      ],
      "text/plain": [
       "Oil Specific Gravity: \u001b[1;36m0.8\u001b[0m \u001b[1;36m0.9\u001b[0m\n"
      ]
     },
     "metadata": {},
     "output_type": "display_data"
    },
    {
     "data": {
      "text/html": [
       "<pre style=\"white-space:pre;overflow-x:auto;line-height:normal;font-family:Menlo,'DejaVu Sans Mono',consolas,'Courier New',monospace\">Oil API Gravity: <span style=\"color: #008080; text-decoration-color: #008080; font-weight: bold\">25.72222222222223</span> <span style=\"color: #008080; text-decoration-color: #008080; font-weight: bold\">45.375</span>\n",
       "</pre>\n"
      ],
      "text/plain": [
       "Oil API Gravity: \u001b[1;36m25.72222222222223\u001b[0m \u001b[1;36m45.375\u001b[0m\n"
      ]
     },
     "metadata": {},
     "output_type": "display_data"
    },
    {
     "data": {
      "text/html": [
       "<pre style=\"white-space:pre;overflow-x:auto;line-height:normal;font-family:Menlo,'DejaVu Sans Mono',consolas,'Courier New',monospace\">New Oil Bubble Point Pressure: <span style=\"color: #008080; text-decoration-color: #008080; font-weight: bold\">799.9999999999974</span> <span style=\"color: #008080; text-decoration-color: #008080; font-weight: bold\">800.000000000001</span>\n",
       "</pre>\n"
      ],
      "text/plain": [
       "New Oil Bubble Point Pressure: \u001b[1;36m799.9999999999974\u001b[0m \u001b[1;36m800.000000000001\u001b[0m\n"
      ]
     },
     "metadata": {},
     "output_type": "display_data"
    },
    {
     "data": {
      "text/html": [
       "<pre style=\"white-space:pre;overflow-x:auto;line-height:normal;font-family:Menlo,'DejaVu Sans Mono',consolas,'Courier New',monospace\">New Oil Formation Volume Factor: <span style=\"color: #008080; text-decoration-color: #008080; font-weight: bold\">1.0207792555646396</span> <span style=\"color: #008080; text-decoration-color: #008080; font-weight: bold\">1.0775202099287862</span>\n",
       "</pre>\n"
      ],
      "text/plain": [
       "New Oil Formation Volume Factor: \u001b[1;36m1.0207792555646396\u001b[0m \u001b[1;36m1.0775202099287862\u001b[0m\n"
      ]
     },
     "metadata": {},
     "output_type": "display_data"
    },
    {
     "data": {
      "text/html": [
       "<pre style=\"white-space:pre;overflow-x:auto;line-height:normal;font-family:Menlo,'DejaVu Sans Mono',consolas,'Courier New',monospace\">New Gas to Oil Ratio: <span style=\"color: #008080; text-decoration-color: #008080; font-weight: bold\">71.80662629125231</span> <span style=\"color: #008080; text-decoration-color: #008080; font-weight: bold\">191.90068605398673</span>\n",
       "</pre>\n"
      ],
      "text/plain": [
       "New Gas to Oil Ratio: \u001b[1;36m71.80662629125231\u001b[0m \u001b[1;36m191.90068605398673\u001b[0m\n"
      ]
     },
     "metadata": {},
     "output_type": "display_data"
    },
    {
     "data": {
      "text/html": [
       "<pre style=\"white-space:pre;overflow-x:auto;line-height:normal;font-family:Menlo,'DejaVu Sans Mono',consolas,'Courier New',monospace\">New Oil Compressibility: <span style=\"color: #008080; text-decoration-color: #008080; font-weight: bold\">6.085991803911289e-06</span> <span style=\"color: #008080; text-decoration-color: #008080; font-weight: bold\">2.3771514507958953e-05</span>\n",
       "</pre>\n"
      ],
      "text/plain": [
       "New Oil Compressibility: \u001b[1;36m6.085991803911289e-06\u001b[0m \u001b[1;36m2.3771514507958953e-05\u001b[0m\n"
      ]
     },
     "metadata": {},
     "output_type": "display_data"
    },
    {
     "data": {
      "text/html": [
       "<pre style=\"white-space:pre;overflow-x:auto;line-height:normal;font-family:Menlo,'DejaVu Sans Mono',consolas,'Courier New',monospace\">New Oil Density: <span style=\"color: #008080; text-decoration-color: #008080; font-weight: bold\">47.649306615001606</span> <span style=\"color: #008080; text-decoration-color: #008080; font-weight: bold\">55.520800808374396</span>\n",
       "</pre>\n"
      ],
      "text/plain": [
       "New Oil Density: \u001b[1;36m47.649306615001606\u001b[0m \u001b[1;36m55.520800808374396\u001b[0m\n"
      ]
     },
     "metadata": {},
     "output_type": "display_data"
    },
    {
     "data": {
      "text/html": [
       "<pre style=\"white-space:pre;overflow-x:auto;line-height:normal;font-family:Menlo,'DejaVu Sans Mono',consolas,'Courier New',monospace\">New Oil Viscosity: <span style=\"color: #008080; text-decoration-color: #008080; font-weight: bold\">0.5694492941559098</span> <span style=\"color: #008080; text-decoration-color: #008080; font-weight: bold\">0.6535223652864179</span>\n",
       "</pre>\n"
      ],
      "text/plain": [
       "New Oil Viscosity: \u001b[1;36m0.5694492941559098\u001b[0m \u001b[1;36m0.6535223652864179\u001b[0m\n"
      ]
     },
     "metadata": {},
     "output_type": "display_data"
    },
    {
     "name": "stdout",
     "output_type": "stream",
     "text": [
      "TIME STEP 14\n"
     ]
    },
    {
     "data": {
      "text/html": [
       "<pre style=\"white-space:pre;overflow-x:auto;line-height:normal;font-family:Menlo,'DejaVu Sans Mono',consolas,'Courier New',monospace\"><span style=\"color: #008080; text-decoration-color: #008080; font-weight: bold\">Computing pressure evolution...</span>\n",
       "</pre>\n"
      ],
      "text/plain": [
       "\u001b[1;36mComputing pressure evolution\u001b[0m\u001b[1;36m...\u001b[0m\n"
      ]
     },
     "metadata": {},
     "output_type": "display_data"
    },
    {
     "data": {
      "text/html": [
       "<pre style=\"white-space:pre;overflow-x:auto;line-height:normal;font-family:Menlo,'DejaVu Sans Mono',consolas,'Courier New',monospace\">Old Pressure Grid <span style=\"color: #008080; text-decoration-color: #008080; font-weight: bold\">1546.2381117086256</span> <span style=\"color: #008080; text-decoration-color: #008080; font-weight: bold\">1912.776900346379</span>\n",
       "</pre>\n"
      ],
      "text/plain": [
       "Old Pressure Grid \u001b[1;36m1546.2381117086256\u001b[0m \u001b[1;36m1912.776900346379\u001b[0m\n"
      ]
     },
     "metadata": {},
     "output_type": "display_data"
    },
    {
     "data": {
      "text/html": [
       "<pre style=\"white-space:pre;overflow-x:auto;line-height:normal;font-family:Menlo,'DejaVu Sans Mono',consolas,'Courier New',monospace\">New Pressure Grid <span style=\"color: #008080; text-decoration-color: #008080; font-weight: bold\">1545.863685375681</span> <span style=\"color: #008080; text-decoration-color: #008080; font-weight: bold\">1912.2411237266824</span>\n",
       "</pre>\n"
      ],
      "text/plain": [
       "New Pressure Grid \u001b[1;36m1545.863685375681\u001b[0m \u001b[1;36m1912.2411237266824\u001b[0m\n"
      ]
     },
     "metadata": {},
     "output_type": "display_data"
    },
    {
     "data": {
      "text/html": [
       "<pre style=\"white-space:pre;overflow-x:auto;line-height:normal;font-family:Menlo,'DejaVu Sans Mono',consolas,'Courier New',monospace\"><span style=\"color: #008080; text-decoration-color: #008080; font-weight: bold\">Updating fluid properties...</span>\n",
       "</pre>\n"
      ],
      "text/plain": [
       "\u001b[1;36mUpdating fluid properties\u001b[0m\u001b[1;36m...\u001b[0m\n"
      ]
     },
     "metadata": {},
     "output_type": "display_data"
    },
    {
     "data": {
      "text/html": [
       "<pre style=\"white-space:pre;overflow-x:auto;line-height:normal;font-family:Menlo,'DejaVu Sans Mono',consolas,'Courier New',monospace\">Old Water Saturation Grid <span style=\"color: #008080; text-decoration-color: #008080; font-weight: bold\">0.19998597089702627</span> <span style=\"color: #008080; text-decoration-color: #008080; font-weight: bold\">0.20000101809242826</span>\n",
       "</pre>\n"
      ],
      "text/plain": [
       "Old Water Saturation Grid \u001b[1;36m0.19998597089702627\u001b[0m \u001b[1;36m0.20000101809242826\u001b[0m\n"
      ]
     },
     "metadata": {},
     "output_type": "display_data"
    },
    {
     "data": {
      "text/html": [
       "<pre style=\"white-space:pre;overflow-x:auto;line-height:normal;font-family:Menlo,'DejaVu Sans Mono',consolas,'Courier New',monospace\">Old Oil Saturation Grid <span style=\"color: #008080; text-decoration-color: #008080; font-weight: bold\">0.7999989819075717</span> <span style=\"color: #008080; text-decoration-color: #008080; font-weight: bold\">0.8000140291029737</span>\n",
       "</pre>\n"
      ],
      "text/plain": [
       "Old Oil Saturation Grid \u001b[1;36m0.7999989819075717\u001b[0m \u001b[1;36m0.8000140291029737\u001b[0m\n"
      ]
     },
     "metadata": {},
     "output_type": "display_data"
    },
    {
     "data": {
      "text/html": [
       "<pre style=\"white-space:pre;overflow-x:auto;line-height:normal;font-family:Menlo,'DejaVu Sans Mono',consolas,'Courier New',monospace\">Old Gas Saturation Grid <span style=\"color: #008080; text-decoration-color: #008080; font-weight: bold\">0.0</span> <span style=\"color: #008080; text-decoration-color: #008080; font-weight: bold\">4.906114174956515e-17</span>\n",
       "</pre>\n"
      ],
      "text/plain": [
       "Old Gas Saturation Grid \u001b[1;36m0.0\u001b[0m \u001b[1;36m4.906114174956515e-17\u001b[0m\n"
      ]
     },
     "metadata": {},
     "output_type": "display_data"
    },
    {
     "data": {
      "text/html": [
       "<pre style=\"white-space:pre;overflow-x:auto;line-height:normal;font-family:Menlo,'DejaVu Sans Mono',consolas,'Courier New',monospace\">New Water Saturation Grid <span style=\"color: #008080; text-decoration-color: #008080; font-weight: bold\">0.1999847355282967</span> <span style=\"color: #008080; text-decoration-color: #008080; font-weight: bold\">0.2000011037156978</span>\n",
       "</pre>\n"
      ],
      "text/plain": [
       "New Water Saturation Grid \u001b[1;36m0.1999847355282967\u001b[0m \u001b[1;36m0.2000011037156978\u001b[0m\n"
      ]
     },
     "metadata": {},
     "output_type": "display_data"
    },
    {
     "data": {
      "text/html": [
       "<pre style=\"white-space:pre;overflow-x:auto;line-height:normal;font-family:Menlo,'DejaVu Sans Mono',consolas,'Courier New',monospace\">New Oil Saturation Grid <span style=\"color: #008080; text-decoration-color: #008080; font-weight: bold\">0.7999988962843022</span> <span style=\"color: #008080; text-decoration-color: #008080; font-weight: bold\">0.8000152644717032</span>\n",
       "</pre>\n"
      ],
      "text/plain": [
       "New Oil Saturation Grid \u001b[1;36m0.7999988962843022\u001b[0m \u001b[1;36m0.8000152644717032\u001b[0m\n"
      ]
     },
     "metadata": {},
     "output_type": "display_data"
    },
    {
     "data": {
      "text/html": [
       "<pre style=\"white-space:pre;overflow-x:auto;line-height:normal;font-family:Menlo,'DejaVu Sans Mono',consolas,'Courier New',monospace\">New Gas Saturation Grid <span style=\"color: #008080; text-decoration-color: #008080; font-weight: bold\">0.0</span> <span style=\"color: #008080; text-decoration-color: #008080; font-weight: bold\">5.284295795480562e-17</span>\n",
       "</pre>\n"
      ],
      "text/plain": [
       "New Gas Saturation Grid \u001b[1;36m0.0\u001b[0m \u001b[1;36m5.284295795480562e-17\u001b[0m\n"
      ]
     },
     "metadata": {},
     "output_type": "display_data"
    },
    {
     "data": {
      "text/html": [
       "<pre style=\"white-space:pre;overflow-x:auto;line-height:normal;font-family:Menlo,'DejaVu Sans Mono',consolas,'Courier New',monospace\"><span style=\"color: #008080; text-decoration-color: #008080; font-weight: bold\">Updating static fluid properties...</span>\n",
       "</pre>\n"
      ],
      "text/plain": [
       "\u001b[1;36mUpdating static fluid properties\u001b[0m\u001b[1;36m...\u001b[0m\n"
      ]
     },
     "metadata": {},
     "output_type": "display_data"
    },
    {
     "data": {
      "text/html": [
       "<pre style=\"white-space:pre;overflow-x:auto;line-height:normal;font-family:Menlo,'DejaVu Sans Mono',consolas,'Courier New',monospace\"><span style=\"font-weight: bold\">Gas Gravity:</span> <span style=\"color: #008080; text-decoration-color: #008080; font-weight: bold\">0.5547184122441046</span> <span style=\"color: #008080; text-decoration-color: #008080; font-weight: bold\">0.5547184122441046</span>\n",
       "</pre>\n"
      ],
      "text/plain": [
       "\u001b[1mGas Gravity:\u001b[0m \u001b[1;36m0.5547184122441046\u001b[0m \u001b[1;36m0.5547184122441046\u001b[0m\n"
      ]
     },
     "metadata": {},
     "output_type": "display_data"
    },
    {
     "data": {
      "text/html": [
       "<pre style=\"white-space:pre;overflow-x:auto;line-height:normal;font-family:Menlo,'DejaVu Sans Mono',consolas,'Courier New',monospace\">Gas Compressibility Factor: <span style=\"color: #008080; text-decoration-color: #008080; font-weight: bold\">0.1</span> <span style=\"color: #008080; text-decoration-color: #008080; font-weight: bold\">0.1</span>\n",
       "</pre>\n"
      ],
      "text/plain": [
       "Gas Compressibility Factor: \u001b[1;36m0.1\u001b[0m \u001b[1;36m0.1\u001b[0m\n"
      ]
     },
     "metadata": {},
     "output_type": "display_data"
    },
    {
     "data": {
      "text/html": [
       "<pre style=\"white-space:pre;overflow-x:auto;line-height:normal;font-family:Menlo,'DejaVu Sans Mono',consolas,'Courier New',monospace\">New Gas Compressibility: <span style=\"color: #008080; text-decoration-color: #008080; font-weight: bold\">0.0</span> <span style=\"color: #008080; text-decoration-color: #008080; font-weight: bold\">0.0</span>\n",
       "</pre>\n"
      ],
      "text/plain": [
       "New Gas Compressibility: \u001b[1;36m0.0\u001b[0m \u001b[1;36m0.0\u001b[0m\n"
      ]
     },
     "metadata": {},
     "output_type": "display_data"
    },
    {
     "data": {
      "text/html": [
       "<pre style=\"white-space:pre;overflow-x:auto;line-height:normal;font-family:Menlo,'DejaVu Sans Mono',consolas,'Courier New',monospace\">New Gas Formation Volume Factor: <span style=\"color: #008080; text-decoration-color: #008080; font-weight: bold\">0.0012808705465762267</span> <span style=\"color: #008080; text-decoration-color: #008080; font-weight: bold\">0.004651421358808319</span>\n",
       "</pre>\n"
      ],
      "text/plain": [
       "New Gas Formation Volume Factor: \u001b[1;36m0.0012808705465762267\u001b[0m \u001b[1;36m0.004651421358808319\u001b[0m\n"
      ]
     },
     "metadata": {},
     "output_type": "display_data"
    },
    {
     "data": {
      "text/html": [
       "<pre style=\"white-space:pre;overflow-x:auto;line-height:normal;font-family:Menlo,'DejaVu Sans Mono',consolas,'Courier New',monospace\">New Gas Density: <span style=\"color: #008080; text-decoration-color: #008080; font-weight: bold\">0.06863818545488572</span> <span style=\"color: #008080; text-decoration-color: #008080; font-weight: bold\">0.11277632302864408</span>\n",
       "</pre>\n"
      ],
      "text/plain": [
       "New Gas Density: \u001b[1;36m0.06863818545488572\u001b[0m \u001b[1;36m0.11277632302864408\u001b[0m\n"
      ]
     },
     "metadata": {},
     "output_type": "display_data"
    },
    {
     "data": {
      "text/html": [
       "<pre style=\"white-space:pre;overflow-x:auto;line-height:normal;font-family:Menlo,'DejaVu Sans Mono',consolas,'Courier New',monospace\">New Gas Viscosity: <span style=\"color: #008080; text-decoration-color: #008080; font-weight: bold\">0.016179231952183556</span> <span style=\"color: #008080; text-decoration-color: #008080; font-weight: bold\">0.02030601512759297</span>\n",
       "</pre>\n"
      ],
      "text/plain": [
       "New Gas Viscosity: \u001b[1;36m0.016179231952183556\u001b[0m \u001b[1;36m0.02030601512759297\u001b[0m\n"
      ]
     },
     "metadata": {},
     "output_type": "display_data"
    },
    {
     "data": {
      "text/html": [
       "<pre style=\"white-space:pre;overflow-x:auto;line-height:normal;font-family:Menlo,'DejaVu Sans Mono',consolas,'Courier New',monospace\">Gas Solubility in Water: <span style=\"color: #008080; text-decoration-color: #008080; font-weight: bold\">2.09859986988617</span> <span style=\"color: #008080; text-decoration-color: #008080; font-weight: bold\">2.4268391349492853</span>\n",
       "</pre>\n"
      ],
      "text/plain": [
       "Gas Solubility in Water: \u001b[1;36m2.09859986988617\u001b[0m \u001b[1;36m2.4268391349492853\u001b[0m\n"
      ]
     },
     "metadata": {},
     "output_type": "display_data"
    },
    {
     "data": {
      "text/html": [
       "<pre style=\"white-space:pre;overflow-x:auto;line-height:normal;font-family:Menlo,'DejaVu Sans Mono',consolas,'Courier New',monospace\">New Water Bubble Point Pressure: <span style=\"color: #008080; text-decoration-color: #008080; font-weight: bold\">1545.8636853756839</span> <span style=\"color: #008080; text-decoration-color: #008080; font-weight: bold\">1912.2411237266786</span>\n",
       "</pre>\n"
      ],
      "text/plain": [
       "New Water Bubble Point Pressure: \u001b[1;36m1545.8636853756839\u001b[0m \u001b[1;36m1912.2411237266786\u001b[0m\n"
      ]
     },
     "metadata": {},
     "output_type": "display_data"
    },
    {
     "data": {
      "text/html": [
       "<pre style=\"white-space:pre;overflow-x:auto;line-height:normal;font-family:Menlo,'DejaVu Sans Mono',consolas,'Courier New',monospace\">New Water Compressibility: <span style=\"color: #008080; text-decoration-color: #008080; font-weight: bold\">0.0</span> <span style=\"color: #008080; text-decoration-color: #008080; font-weight: bold\">3.997167910222434e-09</span>\n",
       "</pre>\n"
      ],
      "text/plain": [
       "New Water Compressibility: \u001b[1;36m0.0\u001b[0m \u001b[1;36m3.997167910222434e-09\u001b[0m\n"
      ]
     },
     "metadata": {},
     "output_type": "display_data"
    },
    {
     "data": {
      "text/html": [
       "<pre style=\"white-space:pre;overflow-x:auto;line-height:normal;font-family:Menlo,'DejaVu Sans Mono',consolas,'Courier New',monospace\">New Water Formation Volume Factor: <span style=\"color: #008080; text-decoration-color: #008080; font-weight: bold\">1.0085461202263626</span> <span style=\"color: #008080; text-decoration-color: #008080; font-weight: bold\">1.079297445062008</span>\n",
       "</pre>\n"
      ],
      "text/plain": [
       "New Water Formation Volume Factor: \u001b[1;36m1.0085461202263626\u001b[0m \u001b[1;36m1.079297445062008\u001b[0m\n"
      ]
     },
     "metadata": {},
     "output_type": "display_data"
    },
    {
     "data": {
      "text/html": [
       "<pre style=\"white-space:pre;overflow-x:auto;line-height:normal;font-family:Menlo,'DejaVu Sans Mono',consolas,'Courier New',monospace\">New Water Density: <span style=\"color: #008080; text-decoration-color: #008080; font-weight: bold\">57.84268344627017</span> <span style=\"color: #008080; text-decoration-color: #008080; font-weight: bold\">61.90045163733809</span>\n",
       "</pre>\n"
      ],
      "text/plain": [
       "New Water Density: \u001b[1;36m57.84268344627017\u001b[0m \u001b[1;36m61.90045163733809\u001b[0m\n"
      ]
     },
     "metadata": {},
     "output_type": "display_data"
    },
    {
     "data": {
      "text/html": [
       "<pre style=\"white-space:pre;overflow-x:auto;line-height:normal;font-family:Menlo,'DejaVu Sans Mono',consolas,'Courier New',monospace\">New Water Viscosity: <span style=\"color: #008080; text-decoration-color: #008080; font-weight: bold\">0.9137729505855658</span> <span style=\"color: #008080; text-decoration-color: #008080; font-weight: bold\">1.0033441729146746</span>\n",
       "</pre>\n"
      ],
      "text/plain": [
       "New Water Viscosity: \u001b[1;36m0.9137729505855658\u001b[0m \u001b[1;36m1.0033441729146746\u001b[0m\n"
      ]
     },
     "metadata": {},
     "output_type": "display_data"
    },
    {
     "name": "stdout",
     "output_type": "stream",
     "text": [
      "Old GOR Grid: 71.80662629125231 191.90068605398673\n"
     ]
    },
    {
     "data": {
      "text/html": [
       "<pre style=\"white-space:pre;overflow-x:auto;line-height:normal;font-family:Menlo,'DejaVu Sans Mono',consolas,'Courier New',monospace\">Oil Specific Gravity: <span style=\"color: #008080; text-decoration-color: #008080; font-weight: bold\">0.8</span> <span style=\"color: #008080; text-decoration-color: #008080; font-weight: bold\">0.9</span>\n",
       "</pre>\n"
      ],
      "text/plain": [
       "Oil Specific Gravity: \u001b[1;36m0.8\u001b[0m \u001b[1;36m0.9\u001b[0m\n"
      ]
     },
     "metadata": {},
     "output_type": "display_data"
    },
    {
     "data": {
      "text/html": [
       "<pre style=\"white-space:pre;overflow-x:auto;line-height:normal;font-family:Menlo,'DejaVu Sans Mono',consolas,'Courier New',monospace\">Oil API Gravity: <span style=\"color: #008080; text-decoration-color: #008080; font-weight: bold\">25.72222222222223</span> <span style=\"color: #008080; text-decoration-color: #008080; font-weight: bold\">45.375</span>\n",
       "</pre>\n"
      ],
      "text/plain": [
       "Oil API Gravity: \u001b[1;36m25.72222222222223\u001b[0m \u001b[1;36m45.375\u001b[0m\n"
      ]
     },
     "metadata": {},
     "output_type": "display_data"
    },
    {
     "data": {
      "text/html": [
       "<pre style=\"white-space:pre;overflow-x:auto;line-height:normal;font-family:Menlo,'DejaVu Sans Mono',consolas,'Courier New',monospace\">New Oil Bubble Point Pressure: <span style=\"color: #008080; text-decoration-color: #008080; font-weight: bold\">799.9999999999974</span> <span style=\"color: #008080; text-decoration-color: #008080; font-weight: bold\">800.000000000001</span>\n",
       "</pre>\n"
      ],
      "text/plain": [
       "New Oil Bubble Point Pressure: \u001b[1;36m799.9999999999974\u001b[0m \u001b[1;36m800.000000000001\u001b[0m\n"
      ]
     },
     "metadata": {},
     "output_type": "display_data"
    },
    {
     "data": {
      "text/html": [
       "<pre style=\"white-space:pre;overflow-x:auto;line-height:normal;font-family:Menlo,'DejaVu Sans Mono',consolas,'Courier New',monospace\">New Oil Formation Volume Factor: <span style=\"color: #008080; text-decoration-color: #008080; font-weight: bold\">1.020780911850203</span> <span style=\"color: #008080; text-decoration-color: #008080; font-weight: bold\">1.0775406197007198</span>\n",
       "</pre>\n"
      ],
      "text/plain": [
       "New Oil Formation Volume Factor: \u001b[1;36m1.020780911850203\u001b[0m \u001b[1;36m1.0775406197007198\u001b[0m\n"
      ]
     },
     "metadata": {},
     "output_type": "display_data"
    },
    {
     "data": {
      "text/html": [
       "<pre style=\"white-space:pre;overflow-x:auto;line-height:normal;font-family:Menlo,'DejaVu Sans Mono',consolas,'Courier New',monospace\">New Gas to Oil Ratio: <span style=\"color: #008080; text-decoration-color: #008080; font-weight: bold\">71.80662629125231</span> <span style=\"color: #008080; text-decoration-color: #008080; font-weight: bold\">191.90068605398673</span>\n",
       "</pre>\n"
      ],
      "text/plain": [
       "New Gas to Oil Ratio: \u001b[1;36m71.80662629125231\u001b[0m \u001b[1;36m191.90068605398673\u001b[0m\n"
      ]
     },
     "metadata": {},
     "output_type": "display_data"
    },
    {
     "data": {
      "text/html": [
       "<pre style=\"white-space:pre;overflow-x:auto;line-height:normal;font-family:Menlo,'DejaVu Sans Mono',consolas,'Courier New',monospace\">New Oil Compressibility: <span style=\"color: #008080; text-decoration-color: #008080; font-weight: bold\">6.087696992695142e-06</span> <span style=\"color: #008080; text-decoration-color: #008080; font-weight: bold\">2.377505931980845e-05</span>\n",
       "</pre>\n"
      ],
      "text/plain": [
       "New Oil Compressibility: \u001b[1;36m6.087696992695142e-06\u001b[0m \u001b[1;36m2.377505931980845e-05\u001b[0m\n"
      ]
     },
     "metadata": {},
     "output_type": "display_data"
    },
    {
     "data": {
      "text/html": [
       "<pre style=\"white-space:pre;overflow-x:auto;line-height:normal;font-family:Menlo,'DejaVu Sans Mono',consolas,'Courier New',monospace\">New Oil Density: <span style=\"color: #008080; text-decoration-color: #008080; font-weight: bold\">47.64840408616602</span> <span style=\"color: #008080; text-decoration-color: #008080; font-weight: bold\">55.52071072214749</span>\n",
       "</pre>\n"
      ],
      "text/plain": [
       "New Oil Density: \u001b[1;36m47.64840408616602\u001b[0m \u001b[1;36m55.52071072214749\u001b[0m\n"
      ]
     },
     "metadata": {},
     "output_type": "display_data"
    },
    {
     "data": {
      "text/html": [
       "<pre style=\"white-space:pre;overflow-x:auto;line-height:normal;font-family:Menlo,'DejaVu Sans Mono',consolas,'Courier New',monospace\">New Oil Viscosity: <span style=\"color: #008080; text-decoration-color: #008080; font-weight: bold\">0.5694287668476916</span> <span style=\"color: #008080; text-decoration-color: #008080; font-weight: bold\">0.6534630021997536</span>\n",
       "</pre>\n"
      ],
      "text/plain": [
       "New Oil Viscosity: \u001b[1;36m0.5694287668476916\u001b[0m \u001b[1;36m0.6534630021997536\u001b[0m\n"
      ]
     },
     "metadata": {},
     "output_type": "display_data"
    },
    {
     "name": "stdout",
     "output_type": "stream",
     "text": [
      "TIME STEP 15\n"
     ]
    },
    {
     "data": {
      "text/html": [
       "<pre style=\"white-space:pre;overflow-x:auto;line-height:normal;font-family:Menlo,'DejaVu Sans Mono',consolas,'Courier New',monospace\"><span style=\"color: #008080; text-decoration-color: #008080; font-weight: bold\">Computing pressure evolution...</span>\n",
       "</pre>\n"
      ],
      "text/plain": [
       "\u001b[1;36mComputing pressure evolution\u001b[0m\u001b[1;36m...\u001b[0m\n"
      ]
     },
     "metadata": {},
     "output_type": "display_data"
    },
    {
     "data": {
      "text/html": [
       "<pre style=\"white-space:pre;overflow-x:auto;line-height:normal;font-family:Menlo,'DejaVu Sans Mono',consolas,'Courier New',monospace\">Old Pressure Grid <span style=\"color: #008080; text-decoration-color: #008080; font-weight: bold\">1545.863685375681</span> <span style=\"color: #008080; text-decoration-color: #008080; font-weight: bold\">1912.2411237266824</span>\n",
       "</pre>\n"
      ],
      "text/plain": [
       "Old Pressure Grid \u001b[1;36m1545.863685375681\u001b[0m \u001b[1;36m1912.2411237266824\u001b[0m\n"
      ]
     },
     "metadata": {},
     "output_type": "display_data"
    },
    {
     "data": {
      "text/html": [
       "<pre style=\"white-space:pre;overflow-x:auto;line-height:normal;font-family:Menlo,'DejaVu Sans Mono',consolas,'Courier New',monospace\">New Pressure Grid <span style=\"color: #008080; text-decoration-color: #008080; font-weight: bold\">1545.4894165558587</span> <span style=\"color: #008080; text-decoration-color: #008080; font-weight: bold\">1911.7065544721436</span>\n",
       "</pre>\n"
      ],
      "text/plain": [
       "New Pressure Grid \u001b[1;36m1545.4894165558587\u001b[0m \u001b[1;36m1911.7065544721436\u001b[0m\n"
      ]
     },
     "metadata": {},
     "output_type": "display_data"
    },
    {
     "data": {
      "text/html": [
       "<pre style=\"white-space:pre;overflow-x:auto;line-height:normal;font-family:Menlo,'DejaVu Sans Mono',consolas,'Courier New',monospace\"><span style=\"color: #008080; text-decoration-color: #008080; font-weight: bold\">Updating fluid properties...</span>\n",
       "</pre>\n"
      ],
      "text/plain": [
       "\u001b[1;36mUpdating fluid properties\u001b[0m\u001b[1;36m...\u001b[0m\n"
      ]
     },
     "metadata": {},
     "output_type": "display_data"
    },
    {
     "data": {
      "text/html": [
       "<pre style=\"white-space:pre;overflow-x:auto;line-height:normal;font-family:Menlo,'DejaVu Sans Mono',consolas,'Courier New',monospace\">Old Water Saturation Grid <span style=\"color: #008080; text-decoration-color: #008080; font-weight: bold\">0.1999847355282967</span> <span style=\"color: #008080; text-decoration-color: #008080; font-weight: bold\">0.2000011037156978</span>\n",
       "</pre>\n"
      ],
      "text/plain": [
       "Old Water Saturation Grid \u001b[1;36m0.1999847355282967\u001b[0m \u001b[1;36m0.2000011037156978\u001b[0m\n"
      ]
     },
     "metadata": {},
     "output_type": "display_data"
    },
    {
     "data": {
      "text/html": [
       "<pre style=\"white-space:pre;overflow-x:auto;line-height:normal;font-family:Menlo,'DejaVu Sans Mono',consolas,'Courier New',monospace\">Old Oil Saturation Grid <span style=\"color: #008080; text-decoration-color: #008080; font-weight: bold\">0.7999988962843022</span> <span style=\"color: #008080; text-decoration-color: #008080; font-weight: bold\">0.8000152644717032</span>\n",
       "</pre>\n"
      ],
      "text/plain": [
       "Old Oil Saturation Grid \u001b[1;36m0.7999988962843022\u001b[0m \u001b[1;36m0.8000152644717032\u001b[0m\n"
      ]
     },
     "metadata": {},
     "output_type": "display_data"
    },
    {
     "data": {
      "text/html": [
       "<pre style=\"white-space:pre;overflow-x:auto;line-height:normal;font-family:Menlo,'DejaVu Sans Mono',consolas,'Courier New',monospace\">Old Gas Saturation Grid <span style=\"color: #008080; text-decoration-color: #008080; font-weight: bold\">0.0</span> <span style=\"color: #008080; text-decoration-color: #008080; font-weight: bold\">5.284295795480562e-17</span>\n",
       "</pre>\n"
      ],
      "text/plain": [
       "Old Gas Saturation Grid \u001b[1;36m0.0\u001b[0m \u001b[1;36m5.284295795480562e-17\u001b[0m\n"
      ]
     },
     "metadata": {},
     "output_type": "display_data"
    },
    {
     "data": {
      "text/html": [
       "<pre style=\"white-space:pre;overflow-x:auto;line-height:normal;font-family:Menlo,'DejaVu Sans Mono',consolas,'Courier New',monospace\">New Water Saturation Grid <span style=\"color: #008080; text-decoration-color: #008080; font-weight: bold\">0.19998348909037475</span> <span style=\"color: #008080; text-decoration-color: #008080; font-weight: bold\">0.20000118944390344</span>\n",
       "</pre>\n"
      ],
      "text/plain": [
       "New Water Saturation Grid \u001b[1;36m0.19998348909037475\u001b[0m \u001b[1;36m0.20000118944390344\u001b[0m\n"
      ]
     },
     "metadata": {},
     "output_type": "display_data"
    },
    {
     "data": {
      "text/html": [
       "<pre style=\"white-space:pre;overflow-x:auto;line-height:normal;font-family:Menlo,'DejaVu Sans Mono',consolas,'Courier New',monospace\">New Oil Saturation Grid <span style=\"color: #008080; text-decoration-color: #008080; font-weight: bold\">0.7999988105560966</span> <span style=\"color: #008080; text-decoration-color: #008080; font-weight: bold\">0.8000165109096252</span>\n",
       "</pre>\n"
      ],
      "text/plain": [
       "New Oil Saturation Grid \u001b[1;36m0.7999988105560966\u001b[0m \u001b[1;36m0.8000165109096252\u001b[0m\n"
      ]
     },
     "metadata": {},
     "output_type": "display_data"
    },
    {
     "data": {
      "text/html": [
       "<pre style=\"white-space:pre;overflow-x:auto;line-height:normal;font-family:Menlo,'DejaVu Sans Mono',consolas,'Courier New',monospace\">New Gas Saturation Grid <span style=\"color: #008080; text-decoration-color: #008080; font-weight: bold\">0.0</span> <span style=\"color: #008080; text-decoration-color: #008080; font-weight: bold\">5.662590391035879e-17</span>\n",
       "</pre>\n"
      ],
      "text/plain": [
       "New Gas Saturation Grid \u001b[1;36m0.0\u001b[0m \u001b[1;36m5.662590391035879e-17\u001b[0m\n"
      ]
     },
     "metadata": {},
     "output_type": "display_data"
    },
    {
     "data": {
      "text/html": [
       "<pre style=\"white-space:pre;overflow-x:auto;line-height:normal;font-family:Menlo,'DejaVu Sans Mono',consolas,'Courier New',monospace\"><span style=\"color: #008080; text-decoration-color: #008080; font-weight: bold\">Updating static fluid properties...</span>\n",
       "</pre>\n"
      ],
      "text/plain": [
       "\u001b[1;36mUpdating static fluid properties\u001b[0m\u001b[1;36m...\u001b[0m\n"
      ]
     },
     "metadata": {},
     "output_type": "display_data"
    },
    {
     "data": {
      "text/html": [
       "<pre style=\"white-space:pre;overflow-x:auto;line-height:normal;font-family:Menlo,'DejaVu Sans Mono',consolas,'Courier New',monospace\"><span style=\"font-weight: bold\">Gas Gravity:</span> <span style=\"color: #008080; text-decoration-color: #008080; font-weight: bold\">0.5547184122441046</span> <span style=\"color: #008080; text-decoration-color: #008080; font-weight: bold\">0.5547184122441046</span>\n",
       "</pre>\n"
      ],
      "text/plain": [
       "\u001b[1mGas Gravity:\u001b[0m \u001b[1;36m0.5547184122441046\u001b[0m \u001b[1;36m0.5547184122441046\u001b[0m\n"
      ]
     },
     "metadata": {},
     "output_type": "display_data"
    },
    {
     "data": {
      "text/html": [
       "<pre style=\"white-space:pre;overflow-x:auto;line-height:normal;font-family:Menlo,'DejaVu Sans Mono',consolas,'Courier New',monospace\">Gas Compressibility Factor: <span style=\"color: #008080; text-decoration-color: #008080; font-weight: bold\">0.1</span> <span style=\"color: #008080; text-decoration-color: #008080; font-weight: bold\">0.1</span>\n",
       "</pre>\n"
      ],
      "text/plain": [
       "Gas Compressibility Factor: \u001b[1;36m0.1\u001b[0m \u001b[1;36m0.1\u001b[0m\n"
      ]
     },
     "metadata": {},
     "output_type": "display_data"
    },
    {
     "data": {
      "text/html": [
       "<pre style=\"white-space:pre;overflow-x:auto;line-height:normal;font-family:Menlo,'DejaVu Sans Mono',consolas,'Courier New',monospace\">New Gas Compressibility: <span style=\"color: #008080; text-decoration-color: #008080; font-weight: bold\">0.0</span> <span style=\"color: #008080; text-decoration-color: #008080; font-weight: bold\">0.0</span>\n",
       "</pre>\n"
      ],
      "text/plain": [
       "New Gas Compressibility: \u001b[1;36m0.0\u001b[0m \u001b[1;36m0.0\u001b[0m\n"
      ]
     },
     "metadata": {},
     "output_type": "display_data"
    },
    {
     "data": {
      "text/html": [
       "<pre style=\"white-space:pre;overflow-x:auto;line-height:normal;font-family:Menlo,'DejaVu Sans Mono',consolas,'Courier New',monospace\">New Gas Formation Volume Factor: <span style=\"color: #008080; text-decoration-color: #008080; font-weight: bold\">0.001281228715570125</span> <span style=\"color: #008080; text-decoration-color: #008080; font-weight: bold\">0.004652114901914153</span>\n",
       "</pre>\n"
      ],
      "text/plain": [
       "New Gas Formation Volume Factor: \u001b[1;36m0.001281228715570125\u001b[0m \u001b[1;36m0.004652114901914153\u001b[0m\n"
      ]
     },
     "metadata": {},
     "output_type": "display_data"
    },
    {
     "data": {
      "text/html": [
       "<pre style=\"white-space:pre;overflow-x:auto;line-height:normal;font-family:Menlo,'DejaVu Sans Mono',consolas,'Courier New',monospace\">New Gas Density: <span style=\"color: #008080; text-decoration-color: #008080; font-weight: bold\">0.06862795278838396</span> <span style=\"color: #008080; text-decoration-color: #008080; font-weight: bold\">0.11274479627493972</span>\n",
       "</pre>\n"
      ],
      "text/plain": [
       "New Gas Density: \u001b[1;36m0.06862795278838396\u001b[0m \u001b[1;36m0.11274479627493972\u001b[0m\n"
      ]
     },
     "metadata": {},
     "output_type": "display_data"
    },
    {
     "data": {
      "text/html": [
       "<pre style=\"white-space:pre;overflow-x:auto;line-height:normal;font-family:Menlo,'DejaVu Sans Mono',consolas,'Courier New',monospace\">New Gas Viscosity: <span style=\"color: #008080; text-decoration-color: #008080; font-weight: bold\">0.01617922835561015</span> <span style=\"color: #008080; text-decoration-color: #008080; font-weight: bold\">0.020306015103767665</span>\n",
       "</pre>\n"
      ],
      "text/plain": [
       "New Gas Viscosity: \u001b[1;36m0.01617922835561015\u001b[0m \u001b[1;36m0.020306015103767665\u001b[0m\n"
      ]
     },
     "metadata": {},
     "output_type": "display_data"
    },
    {
     "data": {
      "text/html": [
       "<pre style=\"white-space:pre;overflow-x:auto;line-height:normal;font-family:Menlo,'DejaVu Sans Mono',consolas,'Courier New',monospace\">Gas Solubility in Water: <span style=\"color: #008080; text-decoration-color: #008080; font-weight: bold\">2.0985896429318007</span> <span style=\"color: #008080; text-decoration-color: #008080; font-weight: bold\">2.426837771984277</span>\n",
       "</pre>\n"
      ],
      "text/plain": [
       "Gas Solubility in Water: \u001b[1;36m2.0985896429318007\u001b[0m \u001b[1;36m2.426837771984277\u001b[0m\n"
      ]
     },
     "metadata": {},
     "output_type": "display_data"
    },
    {
     "data": {
      "text/html": [
       "<pre style=\"white-space:pre;overflow-x:auto;line-height:normal;font-family:Menlo,'DejaVu Sans Mono',consolas,'Courier New',monospace\">New Water Bubble Point Pressure: <span style=\"color: #008080; text-decoration-color: #008080; font-weight: bold\">1545.4894165558612</span> <span style=\"color: #008080; text-decoration-color: #008080; font-weight: bold\">1911.70655447214</span>\n",
       "</pre>\n"
      ],
      "text/plain": [
       "New Water Bubble Point Pressure: \u001b[1;36m1545.4894165558612\u001b[0m \u001b[1;36m1911.70655447214\u001b[0m\n"
      ]
     },
     "metadata": {},
     "output_type": "display_data"
    },
    {
     "data": {
      "text/html": [
       "<pre style=\"white-space:pre;overflow-x:auto;line-height:normal;font-family:Menlo,'DejaVu Sans Mono',consolas,'Courier New',monospace\">New Water Compressibility: <span style=\"color: #008080; text-decoration-color: #008080; font-weight: bold\">0.0</span> <span style=\"color: #008080; text-decoration-color: #008080; font-weight: bold\">4.0125072506208605e-09</span>\n",
       "</pre>\n"
      ],
      "text/plain": [
       "New Water Compressibility: \u001b[1;36m0.0\u001b[0m \u001b[1;36m4.0125072506208605e-09\u001b[0m\n"
      ]
     },
     "metadata": {},
     "output_type": "display_data"
    },
    {
     "data": {
      "text/html": [
       "<pre style=\"white-space:pre;overflow-x:auto;line-height:normal;font-family:Menlo,'DejaVu Sans Mono',consolas,'Courier New',monospace\">New Water Formation Volume Factor: <span style=\"color: #008080; text-decoration-color: #008080; font-weight: bold\">1.0085461237688027</span> <span style=\"color: #008080; text-decoration-color: #008080; font-weight: bold\">1.0792974467784855</span>\n",
       "</pre>\n"
      ],
      "text/plain": [
       "New Water Formation Volume Factor: \u001b[1;36m1.0085461237688027\u001b[0m \u001b[1;36m1.0792974467784855\u001b[0m\n"
      ]
     },
     "metadata": {},
     "output_type": "display_data"
    },
    {
     "data": {
      "text/html": [
       "<pre style=\"white-space:pre;overflow-x:auto;line-height:normal;font-family:Menlo,'DejaVu Sans Mono',consolas,'Courier New',monospace\">New Water Density: <span style=\"color: #008080; text-decoration-color: #008080; font-weight: bold\">57.84268335430208</span> <span style=\"color: #008080; text-decoration-color: #008080; font-weight: bold\">61.90045142040135</span>\n",
       "</pre>\n"
      ],
      "text/plain": [
       "New Water Density: \u001b[1;36m57.84268335430208\u001b[0m \u001b[1;36m61.90045142040135\u001b[0m\n"
      ]
     },
     "metadata": {},
     "output_type": "display_data"
    },
    {
     "data": {
      "text/html": [
       "<pre style=\"white-space:pre;overflow-x:auto;line-height:normal;font-family:Menlo,'DejaVu Sans Mono',consolas,'Courier New',monospace\">New Water Viscosity: <span style=\"color: #008080; text-decoration-color: #008080; font-weight: bold\">0.9137569890110031</span> <span style=\"color: #008080; text-decoration-color: #008080; font-weight: bold\">1.003318448506613</span>\n",
       "</pre>\n"
      ],
      "text/plain": [
       "New Water Viscosity: \u001b[1;36m0.9137569890110031\u001b[0m \u001b[1;36m1.003318448506613\u001b[0m\n"
      ]
     },
     "metadata": {},
     "output_type": "display_data"
    },
    {
     "name": "stdout",
     "output_type": "stream",
     "text": [
      "Old GOR Grid: 71.80662629125231 191.90068605398673\n"
     ]
    },
    {
     "data": {
      "text/html": [
       "<pre style=\"white-space:pre;overflow-x:auto;line-height:normal;font-family:Menlo,'DejaVu Sans Mono',consolas,'Courier New',monospace\">Oil Specific Gravity: <span style=\"color: #008080; text-decoration-color: #008080; font-weight: bold\">0.8</span> <span style=\"color: #008080; text-decoration-color: #008080; font-weight: bold\">0.9</span>\n",
       "</pre>\n"
      ],
      "text/plain": [
       "Oil Specific Gravity: \u001b[1;36m0.8\u001b[0m \u001b[1;36m0.9\u001b[0m\n"
      ]
     },
     "metadata": {},
     "output_type": "display_data"
    },
    {
     "data": {
      "text/html": [
       "<pre style=\"white-space:pre;overflow-x:auto;line-height:normal;font-family:Menlo,'DejaVu Sans Mono',consolas,'Courier New',monospace\">Oil API Gravity: <span style=\"color: #008080; text-decoration-color: #008080; font-weight: bold\">25.72222222222223</span> <span style=\"color: #008080; text-decoration-color: #008080; font-weight: bold\">45.375</span>\n",
       "</pre>\n"
      ],
      "text/plain": [
       "Oil API Gravity: \u001b[1;36m25.72222222222223\u001b[0m \u001b[1;36m45.375\u001b[0m\n"
      ]
     },
     "metadata": {},
     "output_type": "display_data"
    },
    {
     "data": {
      "text/html": [
       "<pre style=\"white-space:pre;overflow-x:auto;line-height:normal;font-family:Menlo,'DejaVu Sans Mono',consolas,'Courier New',monospace\">New Oil Bubble Point Pressure: <span style=\"color: #008080; text-decoration-color: #008080; font-weight: bold\">799.9999999999974</span> <span style=\"color: #008080; text-decoration-color: #008080; font-weight: bold\">800.000000000001</span>\n",
       "</pre>\n"
      ],
      "text/plain": [
       "New Oil Bubble Point Pressure: \u001b[1;36m799.9999999999974\u001b[0m \u001b[1;36m800.000000000001\u001b[0m\n"
      ]
     },
     "metadata": {},
     "output_type": "display_data"
    },
    {
     "data": {
      "text/html": [
       "<pre style=\"white-space:pre;overflow-x:auto;line-height:normal;font-family:Menlo,'DejaVu Sans Mono',consolas,'Courier New',monospace\">New Oil Formation Volume Factor: <span style=\"color: #008080; text-decoration-color: #008080; font-weight: bold\">1.020782568169694</span> <span style=\"color: #008080; text-decoration-color: #008080; font-weight: bold\">1.0775610540189122</span>\n",
       "</pre>\n"
      ],
      "text/plain": [
       "New Oil Formation Volume Factor: \u001b[1;36m1.020782568169694\u001b[0m \u001b[1;36m1.0775610540189122\u001b[0m\n"
      ]
     },
     "metadata": {},
     "output_type": "display_data"
    },
    {
     "data": {
      "text/html": [
       "<pre style=\"white-space:pre;overflow-x:auto;line-height:normal;font-family:Menlo,'DejaVu Sans Mono',consolas,'Courier New',monospace\">New Gas to Oil Ratio: <span style=\"color: #008080; text-decoration-color: #008080; font-weight: bold\">71.80662629125231</span> <span style=\"color: #008080; text-decoration-color: #008080; font-weight: bold\">191.90068605398673</span>\n",
       "</pre>\n"
      ],
      "text/plain": [
       "New Gas to Oil Ratio: \u001b[1;36m71.80662629125231\u001b[0m \u001b[1;36m191.90068605398673\u001b[0m\n"
      ]
     },
     "metadata": {},
     "output_type": "display_data"
    },
    {
     "data": {
      "text/html": [
       "<pre style=\"white-space:pre;overflow-x:auto;line-height:normal;font-family:Menlo,'DejaVu Sans Mono',consolas,'Courier New',monospace\">New Oil Compressibility: <span style=\"color: #008080; text-decoration-color: #008080; font-weight: bold\">6.089399291426937e-06</span> <span style=\"color: #008080; text-decoration-color: #008080; font-weight: bold\">2.3778604263861053e-05</span>\n",
       "</pre>\n"
      ],
      "text/plain": [
       "New Oil Compressibility: \u001b[1;36m6.089399291426937e-06\u001b[0m \u001b[1;36m2.3778604263861053e-05\u001b[0m\n"
      ]
     },
     "metadata": {},
     "output_type": "display_data"
    },
    {
     "data": {
      "text/html": [
       "<pre style=\"white-space:pre;overflow-x:auto;line-height:normal;font-family:Menlo,'DejaVu Sans Mono',consolas,'Courier New',monospace\">New Oil Density: <span style=\"color: #008080; text-decoration-color: #008080; font-weight: bold\">47.64750050613514</span> <span style=\"color: #008080; text-decoration-color: #008080; font-weight: bold\">55.52062063436759</span>\n",
       "</pre>\n"
      ],
      "text/plain": [
       "New Oil Density: \u001b[1;36m47.64750050613514\u001b[0m \u001b[1;36m55.52062063436759\u001b[0m\n"
      ]
     },
     "metadata": {},
     "output_type": "display_data"
    },
    {
     "data": {
      "text/html": [
       "<pre style=\"white-space:pre;overflow-x:auto;line-height:normal;font-family:Menlo,'DejaVu Sans Mono',consolas,'Courier New',monospace\">New Oil Viscosity: <span style=\"color: #008080; text-decoration-color: #008080; font-weight: bold\">0.5694082474684454</span> <span style=\"color: #008080; text-decoration-color: #008080; font-weight: bold\">0.6534037861260982</span>\n",
       "</pre>\n"
      ],
      "text/plain": [
       "New Oil Viscosity: \u001b[1;36m0.5694082474684454\u001b[0m \u001b[1;36m0.6534037861260982\u001b[0m\n"
      ]
     },
     "metadata": {},
     "output_type": "display_data"
    },
    {
     "name": "stdout",
     "output_type": "stream",
     "text": [
      "TIME STEP 16\n"
     ]
    },
    {
     "data": {
      "text/html": [
       "<pre style=\"white-space:pre;overflow-x:auto;line-height:normal;font-family:Menlo,'DejaVu Sans Mono',consolas,'Courier New',monospace\"><span style=\"color: #008080; text-decoration-color: #008080; font-weight: bold\">Computing pressure evolution...</span>\n",
       "</pre>\n"
      ],
      "text/plain": [
       "\u001b[1;36mComputing pressure evolution\u001b[0m\u001b[1;36m...\u001b[0m\n"
      ]
     },
     "metadata": {},
     "output_type": "display_data"
    },
    {
     "data": {
      "text/html": [
       "<pre style=\"white-space:pre;overflow-x:auto;line-height:normal;font-family:Menlo,'DejaVu Sans Mono',consolas,'Courier New',monospace\">Old Pressure Grid <span style=\"color: #008080; text-decoration-color: #008080; font-weight: bold\">1545.4894165558587</span> <span style=\"color: #008080; text-decoration-color: #008080; font-weight: bold\">1911.7065544721436</span>\n",
       "</pre>\n"
      ],
      "text/plain": [
       "Old Pressure Grid \u001b[1;36m1545.4894165558587\u001b[0m \u001b[1;36m1911.7065544721436\u001b[0m\n"
      ]
     },
     "metadata": {},
     "output_type": "display_data"
    },
    {
     "data": {
      "text/html": [
       "<pre style=\"white-space:pre;overflow-x:auto;line-height:normal;font-family:Menlo,'DejaVu Sans Mono',consolas,'Courier New',monospace\">New Pressure Grid <span style=\"color: #008080; text-decoration-color: #008080; font-weight: bold\">1545.1153051687602</span> <span style=\"color: #008080; text-decoration-color: #008080; font-weight: bold\">1911.1731891474883</span>\n",
       "</pre>\n"
      ],
      "text/plain": [
       "New Pressure Grid \u001b[1;36m1545.1153051687602\u001b[0m \u001b[1;36m1911.1731891474883\u001b[0m\n"
      ]
     },
     "metadata": {},
     "output_type": "display_data"
    },
    {
     "data": {
      "text/html": [
       "<pre style=\"white-space:pre;overflow-x:auto;line-height:normal;font-family:Menlo,'DejaVu Sans Mono',consolas,'Courier New',monospace\"><span style=\"color: #008080; text-decoration-color: #008080; font-weight: bold\">Updating fluid properties...</span>\n",
       "</pre>\n"
      ],
      "text/plain": [
       "\u001b[1;36mUpdating fluid properties\u001b[0m\u001b[1;36m...\u001b[0m\n"
      ]
     },
     "metadata": {},
     "output_type": "display_data"
    },
    {
     "data": {
      "text/html": [
       "<pre style=\"white-space:pre;overflow-x:auto;line-height:normal;font-family:Menlo,'DejaVu Sans Mono',consolas,'Courier New',monospace\">Old Water Saturation Grid <span style=\"color: #008080; text-decoration-color: #008080; font-weight: bold\">0.19998348909037475</span> <span style=\"color: #008080; text-decoration-color: #008080; font-weight: bold\">0.20000118944390344</span>\n",
       "</pre>\n"
      ],
      "text/plain": [
       "Old Water Saturation Grid \u001b[1;36m0.19998348909037475\u001b[0m \u001b[1;36m0.20000118944390344\u001b[0m\n"
      ]
     },
     "metadata": {},
     "output_type": "display_data"
    },
    {
     "data": {
      "text/html": [
       "<pre style=\"white-space:pre;overflow-x:auto;line-height:normal;font-family:Menlo,'DejaVu Sans Mono',consolas,'Courier New',monospace\">Old Oil Saturation Grid <span style=\"color: #008080; text-decoration-color: #008080; font-weight: bold\">0.7999988105560966</span> <span style=\"color: #008080; text-decoration-color: #008080; font-weight: bold\">0.8000165109096252</span>\n",
       "</pre>\n"
      ],
      "text/plain": [
       "Old Oil Saturation Grid \u001b[1;36m0.7999988105560966\u001b[0m \u001b[1;36m0.8000165109096252\u001b[0m\n"
      ]
     },
     "metadata": {},
     "output_type": "display_data"
    },
    {
     "data": {
      "text/html": [
       "<pre style=\"white-space:pre;overflow-x:auto;line-height:normal;font-family:Menlo,'DejaVu Sans Mono',consolas,'Courier New',monospace\">Old Gas Saturation Grid <span style=\"color: #008080; text-decoration-color: #008080; font-weight: bold\">0.0</span> <span style=\"color: #008080; text-decoration-color: #008080; font-weight: bold\">5.662590391035879e-17</span>\n",
       "</pre>\n"
      ],
      "text/plain": [
       "Old Gas Saturation Grid \u001b[1;36m0.0\u001b[0m \u001b[1;36m5.662590391035879e-17\u001b[0m\n"
      ]
     },
     "metadata": {},
     "output_type": "display_data"
    },
    {
     "data": {
      "text/html": [
       "<pre style=\"white-space:pre;overflow-x:auto;line-height:normal;font-family:Menlo,'DejaVu Sans Mono',consolas,'Courier New',monospace\">New Water Saturation Grid <span style=\"color: #008080; text-decoration-color: #008080; font-weight: bold\">0.1999822317029539</span> <span style=\"color: #008080; text-decoration-color: #008080; font-weight: bold\">0.20000127527700617</span>\n",
       "</pre>\n"
      ],
      "text/plain": [
       "New Water Saturation Grid \u001b[1;36m0.1999822317029539\u001b[0m \u001b[1;36m0.20000127527700617\u001b[0m\n"
      ]
     },
     "metadata": {},
     "output_type": "display_data"
    },
    {
     "data": {
      "text/html": [
       "<pre style=\"white-space:pre;overflow-x:auto;line-height:normal;font-family:Menlo,'DejaVu Sans Mono',consolas,'Courier New',monospace\">New Oil Saturation Grid <span style=\"color: #008080; text-decoration-color: #008080; font-weight: bold\">0.7999987247229938</span> <span style=\"color: #008080; text-decoration-color: #008080; font-weight: bold\">0.8000177682970461</span>\n",
       "</pre>\n"
      ],
      "text/plain": [
       "New Oil Saturation Grid \u001b[1;36m0.7999987247229938\u001b[0m \u001b[1;36m0.8000177682970461\u001b[0m\n"
      ]
     },
     "metadata": {},
     "output_type": "display_data"
    },
    {
     "data": {
      "text/html": [
       "<pre style=\"white-space:pre;overflow-x:auto;line-height:normal;font-family:Menlo,'DejaVu Sans Mono',consolas,'Courier New',monospace\">New Gas Saturation Grid <span style=\"color: #008080; text-decoration-color: #008080; font-weight: bold\">0.0</span> <span style=\"color: #008080; text-decoration-color: #008080; font-weight: bold\">6.040997953766136e-17</span>\n",
       "</pre>\n"
      ],
      "text/plain": [
       "New Gas Saturation Grid \u001b[1;36m0.0\u001b[0m \u001b[1;36m6.040997953766136e-17\u001b[0m\n"
      ]
     },
     "metadata": {},
     "output_type": "display_data"
    },
    {
     "data": {
      "text/html": [
       "<pre style=\"white-space:pre;overflow-x:auto;line-height:normal;font-family:Menlo,'DejaVu Sans Mono',consolas,'Courier New',monospace\"><span style=\"color: #008080; text-decoration-color: #008080; font-weight: bold\">Updating static fluid properties...</span>\n",
       "</pre>\n"
      ],
      "text/plain": [
       "\u001b[1;36mUpdating static fluid properties\u001b[0m\u001b[1;36m...\u001b[0m\n"
      ]
     },
     "metadata": {},
     "output_type": "display_data"
    },
    {
     "data": {
      "text/html": [
       "<pre style=\"white-space:pre;overflow-x:auto;line-height:normal;font-family:Menlo,'DejaVu Sans Mono',consolas,'Courier New',monospace\"><span style=\"font-weight: bold\">Gas Gravity:</span> <span style=\"color: #008080; text-decoration-color: #008080; font-weight: bold\">0.5547184122441046</span> <span style=\"color: #008080; text-decoration-color: #008080; font-weight: bold\">0.5547184122441046</span>\n",
       "</pre>\n"
      ],
      "text/plain": [
       "\u001b[1mGas Gravity:\u001b[0m \u001b[1;36m0.5547184122441046\u001b[0m \u001b[1;36m0.5547184122441046\u001b[0m\n"
      ]
     },
     "metadata": {},
     "output_type": "display_data"
    },
    {
     "data": {
      "text/html": [
       "<pre style=\"white-space:pre;overflow-x:auto;line-height:normal;font-family:Menlo,'DejaVu Sans Mono',consolas,'Courier New',monospace\">Gas Compressibility Factor: <span style=\"color: #008080; text-decoration-color: #008080; font-weight: bold\">0.1</span> <span style=\"color: #008080; text-decoration-color: #008080; font-weight: bold\">0.1</span>\n",
       "</pre>\n"
      ],
      "text/plain": [
       "Gas Compressibility Factor: \u001b[1;36m0.1\u001b[0m \u001b[1;36m0.1\u001b[0m\n"
      ]
     },
     "metadata": {},
     "output_type": "display_data"
    },
    {
     "data": {
      "text/html": [
       "<pre style=\"white-space:pre;overflow-x:auto;line-height:normal;font-family:Menlo,'DejaVu Sans Mono',consolas,'Courier New',monospace\">New Gas Compressibility: <span style=\"color: #008080; text-decoration-color: #008080; font-weight: bold\">0.0</span> <span style=\"color: #008080; text-decoration-color: #008080; font-weight: bold\">0.0</span>\n",
       "</pre>\n"
      ],
      "text/plain": [
       "New Gas Compressibility: \u001b[1;36m0.0\u001b[0m \u001b[1;36m0.0\u001b[0m\n"
      ]
     },
     "metadata": {},
     "output_type": "display_data"
    },
    {
     "data": {
      "text/html": [
       "<pre style=\"white-space:pre;overflow-x:auto;line-height:normal;font-family:Menlo,'DejaVu Sans Mono',consolas,'Courier New',monospace\">New Gas Formation Volume Factor: <span style=\"color: #008080; text-decoration-color: #008080; font-weight: bold\">0.001281586277602555</span> <span style=\"color: #008080; text-decoration-color: #008080; font-weight: bold\">0.0046528084606856325</span>\n",
       "</pre>\n"
      ],
      "text/plain": [
       "New Gas Formation Volume Factor: \u001b[1;36m0.001281586277602555\u001b[0m \u001b[1;36m0.0046528084606856325\u001b[0m\n"
      ]
     },
     "metadata": {},
     "output_type": "display_data"
    },
    {
     "data": {
      "text/html": [
       "<pre style=\"white-space:pre;overflow-x:auto;line-height:normal;font-family:Menlo,'DejaVu Sans Mono',consolas,'Courier New',monospace\">New Gas Density: <span style=\"color: #008080; text-decoration-color: #008080; font-weight: bold\">0.06861772294139429</span> <span style=\"color: #008080; text-decoration-color: #008080; font-weight: bold\">0.11271334052419824</span>\n",
       "</pre>\n"
      ],
      "text/plain": [
       "New Gas Density: \u001b[1;36m0.06861772294139429\u001b[0m \u001b[1;36m0.11271334052419824\u001b[0m\n"
      ]
     },
     "metadata": {},
     "output_type": "display_data"
    },
    {
     "data": {
      "text/html": [
       "<pre style=\"white-space:pre;overflow-x:auto;line-height:normal;font-family:Menlo,'DejaVu Sans Mono',consolas,'Courier New',monospace\">New Gas Viscosity: <span style=\"color: #008080; text-decoration-color: #008080; font-weight: bold\">0.016179224787452116</span> <span style=\"color: #008080; text-decoration-color: #008080; font-weight: bold\">0.020306015079946872</span>\n",
       "</pre>\n"
      ],
      "text/plain": [
       "New Gas Viscosity: \u001b[1;36m0.016179224787452116\u001b[0m \u001b[1;36m0.020306015079946872\u001b[0m\n"
      ]
     },
     "metadata": {},
     "output_type": "display_data"
    },
    {
     "data": {
      "text/html": [
       "<pre style=\"white-space:pre;overflow-x:auto;line-height:normal;font-family:Menlo,'DejaVu Sans Mono',consolas,'Courier New',monospace\">Gas Solubility in Water: <span style=\"color: #008080; text-decoration-color: #008080; font-weight: bold\">2.09857941879537</span> <span style=\"color: #008080; text-decoration-color: #008080; font-weight: bold\">2.4268364062147763</span>\n",
       "</pre>\n"
      ],
      "text/plain": [
       "Gas Solubility in Water: \u001b[1;36m2.09857941879537\u001b[0m \u001b[1;36m2.4268364062147763\u001b[0m\n"
      ]
     },
     "metadata": {},
     "output_type": "display_data"
    },
    {
     "data": {
      "text/html": [
       "<pre style=\"white-space:pre;overflow-x:auto;line-height:normal;font-family:Menlo,'DejaVu Sans Mono',consolas,'Courier New',monospace\">New Water Bubble Point Pressure: <span style=\"color: #008080; text-decoration-color: #008080; font-weight: bold\">1545.115305168757</span> <span style=\"color: #008080; text-decoration-color: #008080; font-weight: bold\">1911.1731891474888</span>\n",
       "</pre>\n"
      ],
      "text/plain": [
       "New Water Bubble Point Pressure: \u001b[1;36m1545.115305168757\u001b[0m \u001b[1;36m1911.1731891474888\u001b[0m\n"
      ]
     },
     "metadata": {},
     "output_type": "display_data"
    },
    {
     "data": {
      "text/html": [
       "<pre style=\"white-space:pre;overflow-x:auto;line-height:normal;font-family:Menlo,'DejaVu Sans Mono',consolas,'Courier New',monospace\">New Water Compressibility: <span style=\"color: #008080; text-decoration-color: #008080; font-weight: bold\">0.0</span> <span style=\"color: #008080; text-decoration-color: #008080; font-weight: bold\">4.021364091905442e-09</span>\n",
       "</pre>\n"
      ],
      "text/plain": [
       "New Water Compressibility: \u001b[1;36m0.0\u001b[0m \u001b[1;36m4.021364091905442e-09\u001b[0m\n"
      ]
     },
     "metadata": {},
     "output_type": "display_data"
    },
    {
     "data": {
      "text/html": [
       "<pre style=\"white-space:pre;overflow-x:auto;line-height:normal;font-family:Menlo,'DejaVu Sans Mono',consolas,'Courier New',monospace\">New Water Formation Volume Factor: <span style=\"color: #008080; text-decoration-color: #008080; font-weight: bold\">1.0085461273033602</span> <span style=\"color: #008080; text-decoration-color: #008080; font-weight: bold\">1.0792974484945352</span>\n",
       "</pre>\n"
      ],
      "text/plain": [
       "New Water Formation Volume Factor: \u001b[1;36m1.0085461273033602\u001b[0m \u001b[1;36m1.0792974484945352\u001b[0m\n"
      ]
     },
     "metadata": {},
     "output_type": "display_data"
    },
    {
     "data": {
      "text/html": [
       "<pre style=\"white-space:pre;overflow-x:auto;line-height:normal;font-family:Menlo,'DejaVu Sans Mono',consolas,'Courier New',monospace\">New Water Density: <span style=\"color: #008080; text-decoration-color: #008080; font-weight: bold\">57.8426832623582</span> <span style=\"color: #008080; text-decoration-color: #008080; font-weight: bold\">61.90045120394713</span>\n",
       "</pre>\n"
      ],
      "text/plain": [
       "New Water Density: \u001b[1;36m57.8426832623582\u001b[0m \u001b[1;36m61.90045120394713\u001b[0m\n"
      ]
     },
     "metadata": {},
     "output_type": "display_data"
    },
    {
     "data": {
      "text/html": [
       "<pre style=\"white-space:pre;overflow-x:auto;line-height:normal;font-family:Menlo,'DejaVu Sans Mono',consolas,'Courier New',monospace\">New Water Viscosity: <span style=\"color: #008080; text-decoration-color: #008080; font-weight: bold\">0.9137410348938344</span> <span style=\"color: #008080; text-decoration-color: #008080; font-weight: bold\">1.0032927836656689</span>\n",
       "</pre>\n"
      ],
      "text/plain": [
       "New Water Viscosity: \u001b[1;36m0.9137410348938344\u001b[0m \u001b[1;36m1.0032927836656689\u001b[0m\n"
      ]
     },
     "metadata": {},
     "output_type": "display_data"
    },
    {
     "name": "stdout",
     "output_type": "stream",
     "text": [
      "Old GOR Grid: 71.80662629125231 191.90068605398673\n"
     ]
    },
    {
     "data": {
      "text/html": [
       "<pre style=\"white-space:pre;overflow-x:auto;line-height:normal;font-family:Menlo,'DejaVu Sans Mono',consolas,'Courier New',monospace\">Oil Specific Gravity: <span style=\"color: #008080; text-decoration-color: #008080; font-weight: bold\">0.8</span> <span style=\"color: #008080; text-decoration-color: #008080; font-weight: bold\">0.9</span>\n",
       "</pre>\n"
      ],
      "text/plain": [
       "Oil Specific Gravity: \u001b[1;36m0.8\u001b[0m \u001b[1;36m0.9\u001b[0m\n"
      ]
     },
     "metadata": {},
     "output_type": "display_data"
    },
    {
     "data": {
      "text/html": [
       "<pre style=\"white-space:pre;overflow-x:auto;line-height:normal;font-family:Menlo,'DejaVu Sans Mono',consolas,'Courier New',monospace\">Oil API Gravity: <span style=\"color: #008080; text-decoration-color: #008080; font-weight: bold\">25.72222222222223</span> <span style=\"color: #008080; text-decoration-color: #008080; font-weight: bold\">45.375</span>\n",
       "</pre>\n"
      ],
      "text/plain": [
       "Oil API Gravity: \u001b[1;36m25.72222222222223\u001b[0m \u001b[1;36m45.375\u001b[0m\n"
      ]
     },
     "metadata": {},
     "output_type": "display_data"
    },
    {
     "data": {
      "text/html": [
       "<pre style=\"white-space:pre;overflow-x:auto;line-height:normal;font-family:Menlo,'DejaVu Sans Mono',consolas,'Courier New',monospace\">New Oil Bubble Point Pressure: <span style=\"color: #008080; text-decoration-color: #008080; font-weight: bold\">799.9999999999974</span> <span style=\"color: #008080; text-decoration-color: #008080; font-weight: bold\">800.000000000001</span>\n",
       "</pre>\n"
      ],
      "text/plain": [
       "New Oil Bubble Point Pressure: \u001b[1;36m799.9999999999974\u001b[0m \u001b[1;36m800.000000000001\u001b[0m\n"
      ]
     },
     "metadata": {},
     "output_type": "display_data"
    },
    {
     "data": {
      "text/html": [
       "<pre style=\"white-space:pre;overflow-x:auto;line-height:normal;font-family:Menlo,'DejaVu Sans Mono',consolas,'Courier New',monospace\">New Oil Formation Volume Factor: <span style=\"color: #008080; text-decoration-color: #008080; font-weight: bold\">1.0207842245230991</span> <span style=\"color: #008080; text-decoration-color: #008080; font-weight: bold\">1.077581500332446</span>\n",
       "</pre>\n"
      ],
      "text/plain": [
       "New Oil Formation Volume Factor: \u001b[1;36m1.0207842245230991\u001b[0m \u001b[1;36m1.077581500332446\u001b[0m\n"
      ]
     },
     "metadata": {},
     "output_type": "display_data"
    },
    {
     "data": {
      "text/html": [
       "<pre style=\"white-space:pre;overflow-x:auto;line-height:normal;font-family:Menlo,'DejaVu Sans Mono',consolas,'Courier New',monospace\">New Gas to Oil Ratio: <span style=\"color: #008080; text-decoration-color: #008080; font-weight: bold\">71.80662629125231</span> <span style=\"color: #008080; text-decoration-color: #008080; font-weight: bold\">191.90068605398673</span>\n",
       "</pre>\n"
      ],
      "text/plain": [
       "New Gas to Oil Ratio: \u001b[1;36m71.80662629125231\u001b[0m \u001b[1;36m191.90068605398673\u001b[0m\n"
      ]
     },
     "metadata": {},
     "output_type": "display_data"
    },
    {
     "data": {
      "text/html": [
       "<pre style=\"white-space:pre;overflow-x:auto;line-height:normal;font-family:Menlo,'DejaVu Sans Mono',consolas,'Courier New',monospace\">New Oil Compressibility: <span style=\"color: #008080; text-decoration-color: #008080; font-weight: bold\">6.091098705403897e-06</span> <span style=\"color: #008080; text-decoration-color: #008080; font-weight: bold\">2.37821492879863e-05</span>\n",
       "</pre>\n"
      ],
      "text/plain": [
       "New Oil Compressibility: \u001b[1;36m6.091098705403897e-06\u001b[0m \u001b[1;36m2.37821492879863e-05\u001b[0m\n"
      ]
     },
     "metadata": {},
     "output_type": "display_data"
    },
    {
     "data": {
      "text/html": [
       "<pre style=\"white-space:pre;overflow-x:auto;line-height:normal;font-family:Menlo,'DejaVu Sans Mono',consolas,'Courier New',monospace\">New Oil Density: <span style=\"color: #008080; text-decoration-color: #008080; font-weight: bold\">47.64659642998484</span> <span style=\"color: #008080; text-decoration-color: #008080; font-weight: bold\">55.520530545035456</span>\n",
       "</pre>\n"
      ],
      "text/plain": [
       "New Oil Density: \u001b[1;36m47.64659642998484\u001b[0m \u001b[1;36m55.520530545035456\u001b[0m\n"
      ]
     },
     "metadata": {},
     "output_type": "display_data"
    },
    {
     "data": {
      "text/html": [
       "<pre style=\"white-space:pre;overflow-x:auto;line-height:normal;font-family:Menlo,'DejaVu Sans Mono',consolas,'Courier New',monospace\">New Oil Viscosity: <span style=\"color: #008080; text-decoration-color: #008080; font-weight: bold\">0.5693877363158534</span> <span style=\"color: #008080; text-decoration-color: #008080; font-weight: bold\">0.6533447165969474</span>\n",
       "</pre>\n"
      ],
      "text/plain": [
       "New Oil Viscosity: \u001b[1;36m0.5693877363158534\u001b[0m \u001b[1;36m0.6533447165969474\u001b[0m\n"
      ]
     },
     "metadata": {},
     "output_type": "display_data"
    },
    {
     "name": "stdout",
     "output_type": "stream",
     "text": [
      "TIME STEP 17\n"
     ]
    },
    {
     "data": {
      "text/html": [
       "<pre style=\"white-space:pre;overflow-x:auto;line-height:normal;font-family:Menlo,'DejaVu Sans Mono',consolas,'Courier New',monospace\"><span style=\"color: #008080; text-decoration-color: #008080; font-weight: bold\">Computing pressure evolution...</span>\n",
       "</pre>\n"
      ],
      "text/plain": [
       "\u001b[1;36mComputing pressure evolution\u001b[0m\u001b[1;36m...\u001b[0m\n"
      ]
     },
     "metadata": {},
     "output_type": "display_data"
    },
    {
     "data": {
      "text/html": [
       "<pre style=\"white-space:pre;overflow-x:auto;line-height:normal;font-family:Menlo,'DejaVu Sans Mono',consolas,'Courier New',monospace\">Old Pressure Grid <span style=\"color: #008080; text-decoration-color: #008080; font-weight: bold\">1545.1153051687602</span> <span style=\"color: #008080; text-decoration-color: #008080; font-weight: bold\">1911.1731891474883</span>\n",
       "</pre>\n"
      ],
      "text/plain": [
       "Old Pressure Grid \u001b[1;36m1545.1153051687602\u001b[0m \u001b[1;36m1911.1731891474883\u001b[0m\n"
      ]
     },
     "metadata": {},
     "output_type": "display_data"
    },
    {
     "data": {
      "text/html": [
       "<pre style=\"white-space:pre;overflow-x:auto;line-height:normal;font-family:Menlo,'DejaVu Sans Mono',consolas,'Courier New',monospace\">New Pressure Grid <span style=\"color: #008080; text-decoration-color: #008080; font-weight: bold\">1544.7413580259633</span> <span style=\"color: #008080; text-decoration-color: #008080; font-weight: bold\">1910.641079974019</span>\n",
       "</pre>\n"
      ],
      "text/plain": [
       "New Pressure Grid \u001b[1;36m1544.7413580259633\u001b[0m \u001b[1;36m1910.641079974019\u001b[0m\n"
      ]
     },
     "metadata": {},
     "output_type": "display_data"
    },
    {
     "data": {
      "text/html": [
       "<pre style=\"white-space:pre;overflow-x:auto;line-height:normal;font-family:Menlo,'DejaVu Sans Mono',consolas,'Courier New',monospace\"><span style=\"color: #008080; text-decoration-color: #008080; font-weight: bold\">Updating fluid properties...</span>\n",
       "</pre>\n"
      ],
      "text/plain": [
       "\u001b[1;36mUpdating fluid properties\u001b[0m\u001b[1;36m...\u001b[0m\n"
      ]
     },
     "metadata": {},
     "output_type": "display_data"
    },
    {
     "data": {
      "text/html": [
       "<pre style=\"white-space:pre;overflow-x:auto;line-height:normal;font-family:Menlo,'DejaVu Sans Mono',consolas,'Courier New',monospace\">Old Water Saturation Grid <span style=\"color: #008080; text-decoration-color: #008080; font-weight: bold\">0.1999822317029539</span> <span style=\"color: #008080; text-decoration-color: #008080; font-weight: bold\">0.20000127527700617</span>\n",
       "</pre>\n"
      ],
      "text/plain": [
       "Old Water Saturation Grid \u001b[1;36m0.1999822317029539\u001b[0m \u001b[1;36m0.20000127527700617\u001b[0m\n"
      ]
     },
     "metadata": {},
     "output_type": "display_data"
    },
    {
     "data": {
      "text/html": [
       "<pre style=\"white-space:pre;overflow-x:auto;line-height:normal;font-family:Menlo,'DejaVu Sans Mono',consolas,'Courier New',monospace\">Old Oil Saturation Grid <span style=\"color: #008080; text-decoration-color: #008080; font-weight: bold\">0.7999987247229938</span> <span style=\"color: #008080; text-decoration-color: #008080; font-weight: bold\">0.8000177682970461</span>\n",
       "</pre>\n"
      ],
      "text/plain": [
       "Old Oil Saturation Grid \u001b[1;36m0.7999987247229938\u001b[0m \u001b[1;36m0.8000177682970461\u001b[0m\n"
      ]
     },
     "metadata": {},
     "output_type": "display_data"
    },
    {
     "data": {
      "text/html": [
       "<pre style=\"white-space:pre;overflow-x:auto;line-height:normal;font-family:Menlo,'DejaVu Sans Mono',consolas,'Courier New',monospace\">Old Gas Saturation Grid <span style=\"color: #008080; text-decoration-color: #008080; font-weight: bold\">0.0</span> <span style=\"color: #008080; text-decoration-color: #008080; font-weight: bold\">6.040997953766136e-17</span>\n",
       "</pre>\n"
      ],
      "text/plain": [
       "Old Gas Saturation Grid \u001b[1;36m0.0\u001b[0m \u001b[1;36m6.040997953766136e-17\u001b[0m\n"
      ]
     },
     "metadata": {},
     "output_type": "display_data"
    },
    {
     "data": {
      "text/html": [
       "<pre style=\"white-space:pre;overflow-x:auto;line-height:normal;font-family:Menlo,'DejaVu Sans Mono',consolas,'Courier New',monospace\">New Water Saturation Grid <span style=\"color: #008080; text-decoration-color: #008080; font-weight: bold\">0.19998096348233646</span> <span style=\"color: #008080; text-decoration-color: #008080; font-weight: bold\">0.20000136121495796</span>\n",
       "</pre>\n"
      ],
      "text/plain": [
       "New Water Saturation Grid \u001b[1;36m0.19998096348233646\u001b[0m \u001b[1;36m0.20000136121495796\u001b[0m\n"
      ]
     },
     "metadata": {},
     "output_type": "display_data"
    },
    {
     "data": {
      "text/html": [
       "<pre style=\"white-space:pre;overflow-x:auto;line-height:normal;font-family:Menlo,'DejaVu Sans Mono',consolas,'Courier New',monospace\">New Oil Saturation Grid <span style=\"color: #008080; text-decoration-color: #008080; font-weight: bold\">0.7999986387850421</span> <span style=\"color: #008080; text-decoration-color: #008080; font-weight: bold\">0.8000190365176636</span>\n",
       "</pre>\n"
      ],
      "text/plain": [
       "New Oil Saturation Grid \u001b[1;36m0.7999986387850421\u001b[0m \u001b[1;36m0.8000190365176636\u001b[0m\n"
      ]
     },
     "metadata": {},
     "output_type": "display_data"
    },
    {
     "data": {
      "text/html": [
       "<pre style=\"white-space:pre;overflow-x:auto;line-height:normal;font-family:Menlo,'DejaVu Sans Mono',consolas,'Courier New',monospace\">New Gas Saturation Grid <span style=\"color: #008080; text-decoration-color: #008080; font-weight: bold\">0.0</span> <span style=\"color: #008080; text-decoration-color: #008080; font-weight: bold\">6.419518477123957e-17</span>\n",
       "</pre>\n"
      ],
      "text/plain": [
       "New Gas Saturation Grid \u001b[1;36m0.0\u001b[0m \u001b[1;36m6.419518477123957e-17\u001b[0m\n"
      ]
     },
     "metadata": {},
     "output_type": "display_data"
    },
    {
     "data": {
      "text/html": [
       "<pre style=\"white-space:pre;overflow-x:auto;line-height:normal;font-family:Menlo,'DejaVu Sans Mono',consolas,'Courier New',monospace\"><span style=\"color: #008080; text-decoration-color: #008080; font-weight: bold\">Updating static fluid properties...</span>\n",
       "</pre>\n"
      ],
      "text/plain": [
       "\u001b[1;36mUpdating static fluid properties\u001b[0m\u001b[1;36m...\u001b[0m\n"
      ]
     },
     "metadata": {},
     "output_type": "display_data"
    },
    {
     "data": {
      "text/html": [
       "<pre style=\"white-space:pre;overflow-x:auto;line-height:normal;font-family:Menlo,'DejaVu Sans Mono',consolas,'Courier New',monospace\"><span style=\"font-weight: bold\">Gas Gravity:</span> <span style=\"color: #008080; text-decoration-color: #008080; font-weight: bold\">0.5547184122441046</span> <span style=\"color: #008080; text-decoration-color: #008080; font-weight: bold\">0.5547184122441046</span>\n",
       "</pre>\n"
      ],
      "text/plain": [
       "\u001b[1mGas Gravity:\u001b[0m \u001b[1;36m0.5547184122441046\u001b[0m \u001b[1;36m0.5547184122441046\u001b[0m\n"
      ]
     },
     "metadata": {},
     "output_type": "display_data"
    },
    {
     "data": {
      "text/html": [
       "<pre style=\"white-space:pre;overflow-x:auto;line-height:normal;font-family:Menlo,'DejaVu Sans Mono',consolas,'Courier New',monospace\">Gas Compressibility Factor: <span style=\"color: #008080; text-decoration-color: #008080; font-weight: bold\">0.1</span> <span style=\"color: #008080; text-decoration-color: #008080; font-weight: bold\">0.1</span>\n",
       "</pre>\n"
      ],
      "text/plain": [
       "Gas Compressibility Factor: \u001b[1;36m0.1\u001b[0m \u001b[1;36m0.1\u001b[0m\n"
      ]
     },
     "metadata": {},
     "output_type": "display_data"
    },
    {
     "data": {
      "text/html": [
       "<pre style=\"white-space:pre;overflow-x:auto;line-height:normal;font-family:Menlo,'DejaVu Sans Mono',consolas,'Courier New',monospace\">New Gas Compressibility: <span style=\"color: #008080; text-decoration-color: #008080; font-weight: bold\">0.0</span> <span style=\"color: #008080; text-decoration-color: #008080; font-weight: bold\">0.0</span>\n",
       "</pre>\n"
      ],
      "text/plain": [
       "New Gas Compressibility: \u001b[1;36m0.0\u001b[0m \u001b[1;36m0.0\u001b[0m\n"
      ]
     },
     "metadata": {},
     "output_type": "display_data"
    },
    {
     "data": {
      "text/html": [
       "<pre style=\"white-space:pre;overflow-x:auto;line-height:normal;font-family:Menlo,'DejaVu Sans Mono',consolas,'Courier New',monospace\">New Gas Formation Volume Factor: <span style=\"color: #008080; text-decoration-color: #008080; font-weight: bold\">0.0012819431964514443</span> <span style=\"color: #008080; text-decoration-color: #008080; font-weight: bold\">0.004653502055412864</span>\n",
       "</pre>\n"
      ],
      "text/plain": [
       "New Gas Formation Volume Factor: \u001b[1;36m0.0012819431964514443\u001b[0m \u001b[1;36m0.004653502055412864\u001b[0m\n"
      ]
     },
     "metadata": {},
     "output_type": "display_data"
    },
    {
     "data": {
      "text/html": [
       "<pre style=\"white-space:pre;overflow-x:auto;line-height:normal;font-family:Menlo,'DejaVu Sans Mono',consolas,'Courier New',monospace\">New Gas Density: <span style=\"color: #008080; text-decoration-color: #008080; font-weight: bold\">0.06860749561361834</span> <span style=\"color: #008080; text-decoration-color: #008080; font-weight: bold\">0.11268195885622284</span>\n",
       "</pre>\n"
      ],
      "text/plain": [
       "New Gas Density: \u001b[1;36m0.06860749561361834\u001b[0m \u001b[1;36m0.11268195885622284\u001b[0m\n"
      ]
     },
     "metadata": {},
     "output_type": "display_data"
    },
    {
     "data": {
      "text/html": [
       "<pre style=\"white-space:pre;overflow-x:auto;line-height:normal;font-family:Menlo,'DejaVu Sans Mono',consolas,'Courier New',monospace\">New Gas Viscosity: <span style=\"color: #008080; text-decoration-color: #008080; font-weight: bold\">0.016179221246684836</span> <span style=\"color: #008080; text-decoration-color: #008080; font-weight: bold\">0.020306015056130593</span>\n",
       "</pre>\n"
      ],
      "text/plain": [
       "New Gas Viscosity: \u001b[1;36m0.016179221246684836\u001b[0m \u001b[1;36m0.020306015056130593\u001b[0m\n"
      ]
     },
     "metadata": {},
     "output_type": "display_data"
    },
    {
     "data": {
      "text/html": [
       "<pre style=\"white-space:pre;overflow-x:auto;line-height:normal;font-family:Menlo,'DejaVu Sans Mono',consolas,'Courier New',monospace\">Gas Solubility in Water: <span style=\"color: #008080; text-decoration-color: #008080; font-weight: bold\">2.098569197176747</span> <span style=\"color: #008080; text-decoration-color: #008080; font-weight: bold\">2.42683503742397</span>\n",
       "</pre>\n"
      ],
      "text/plain": [
       "Gas Solubility in Water: \u001b[1;36m2.098569197176747\u001b[0m \u001b[1;36m2.42683503742397\u001b[0m\n"
      ]
     },
     "metadata": {},
     "output_type": "display_data"
    },
    {
     "data": {
      "text/html": [
       "<pre style=\"white-space:pre;overflow-x:auto;line-height:normal;font-family:Menlo,'DejaVu Sans Mono',consolas,'Courier New',monospace\">New Water Bubble Point Pressure: <span style=\"color: #008080; text-decoration-color: #008080; font-weight: bold\">1544.7413580259683</span> <span style=\"color: #008080; text-decoration-color: #008080; font-weight: bold\">1910.641079974016</span>\n",
       "</pre>\n"
      ],
      "text/plain": [
       "New Water Bubble Point Pressure: \u001b[1;36m1544.7413580259683\u001b[0m \u001b[1;36m1910.641079974016\u001b[0m\n"
      ]
     },
     "metadata": {},
     "output_type": "display_data"
    },
    {
     "data": {
      "text/html": [
       "<pre style=\"white-space:pre;overflow-x:auto;line-height:normal;font-family:Menlo,'DejaVu Sans Mono',consolas,'Courier New',monospace\">New Water Compressibility: <span style=\"color: #008080; text-decoration-color: #008080; font-weight: bold\">0.0</span> <span style=\"color: #008080; text-decoration-color: #008080; font-weight: bold\">4.037144891655943e-09</span>\n",
       "</pre>\n"
      ],
      "text/plain": [
       "New Water Compressibility: \u001b[1;36m0.0\u001b[0m \u001b[1;36m4.037144891655943e-09\u001b[0m\n"
      ]
     },
     "metadata": {},
     "output_type": "display_data"
    },
    {
     "data": {
      "text/html": [
       "<pre style=\"white-space:pre;overflow-x:auto;line-height:normal;font-family:Menlo,'DejaVu Sans Mono',consolas,'Courier New',monospace\">New Water Formation Volume Factor: <span style=\"color: #008080; text-decoration-color: #008080; font-weight: bold\">1.008546130830056</span> <span style=\"color: #008080; text-decoration-color: #008080; font-weight: bold\">1.0792974502101333</span>\n",
       "</pre>\n"
      ],
      "text/plain": [
       "New Water Formation Volume Factor: \u001b[1;36m1.008546130830056\u001b[0m \u001b[1;36m1.0792974502101333\u001b[0m\n"
      ]
     },
     "metadata": {},
     "output_type": "display_data"
    },
    {
     "data": {
      "text/html": [
       "<pre style=\"white-space:pre;overflow-x:auto;line-height:normal;font-family:Menlo,'DejaVu Sans Mono',consolas,'Courier New',monospace\">New Water Density: <span style=\"color: #008080; text-decoration-color: #008080; font-weight: bold\">57.84268317043588</span> <span style=\"color: #008080; text-decoration-color: #008080; font-weight: bold\">61.900450987996635</span>\n",
       "</pre>\n"
      ],
      "text/plain": [
       "New Water Density: \u001b[1;36m57.84268317043588\u001b[0m \u001b[1;36m61.900450987996635\u001b[0m\n"
      ]
     },
     "metadata": {},
     "output_type": "display_data"
    },
    {
     "data": {
      "text/html": [
       "<pre style=\"white-space:pre;overflow-x:auto;line-height:normal;font-family:Menlo,'DejaVu Sans Mono',consolas,'Courier New',monospace\">New Water Viscosity: <span style=\"color: #008080; text-decoration-color: #008080; font-weight: bold\">0.9137250885235837</span> <span style=\"color: #008080; text-decoration-color: #008080; font-weight: bold\">1.0032671808933864</span>\n",
       "</pre>\n"
      ],
      "text/plain": [
       "New Water Viscosity: \u001b[1;36m0.9137250885235837\u001b[0m \u001b[1;36m1.0032671808933864\u001b[0m\n"
      ]
     },
     "metadata": {},
     "output_type": "display_data"
    },
    {
     "name": "stdout",
     "output_type": "stream",
     "text": [
      "Old GOR Grid: 71.80662629125231 191.90068605398673\n"
     ]
    },
    {
     "data": {
      "text/html": [
       "<pre style=\"white-space:pre;overflow-x:auto;line-height:normal;font-family:Menlo,'DejaVu Sans Mono',consolas,'Courier New',monospace\">Oil Specific Gravity: <span style=\"color: #008080; text-decoration-color: #008080; font-weight: bold\">0.8</span> <span style=\"color: #008080; text-decoration-color: #008080; font-weight: bold\">0.9</span>\n",
       "</pre>\n"
      ],
      "text/plain": [
       "Oil Specific Gravity: \u001b[1;36m0.8\u001b[0m \u001b[1;36m0.9\u001b[0m\n"
      ]
     },
     "metadata": {},
     "output_type": "display_data"
    },
    {
     "data": {
      "text/html": [
       "<pre style=\"white-space:pre;overflow-x:auto;line-height:normal;font-family:Menlo,'DejaVu Sans Mono',consolas,'Courier New',monospace\">Oil API Gravity: <span style=\"color: #008080; text-decoration-color: #008080; font-weight: bold\">25.72222222222223</span> <span style=\"color: #008080; text-decoration-color: #008080; font-weight: bold\">45.375</span>\n",
       "</pre>\n"
      ],
      "text/plain": [
       "Oil API Gravity: \u001b[1;36m25.72222222222223\u001b[0m \u001b[1;36m45.375\u001b[0m\n"
      ]
     },
     "metadata": {},
     "output_type": "display_data"
    },
    {
     "data": {
      "text/html": [
       "<pre style=\"white-space:pre;overflow-x:auto;line-height:normal;font-family:Menlo,'DejaVu Sans Mono',consolas,'Courier New',monospace\">New Oil Bubble Point Pressure: <span style=\"color: #008080; text-decoration-color: #008080; font-weight: bold\">799.9999999999974</span> <span style=\"color: #008080; text-decoration-color: #008080; font-weight: bold\">800.000000000001</span>\n",
       "</pre>\n"
      ],
      "text/plain": [
       "New Oil Bubble Point Pressure: \u001b[1;36m799.9999999999974\u001b[0m \u001b[1;36m800.000000000001\u001b[0m\n"
      ]
     },
     "metadata": {},
     "output_type": "display_data"
    },
    {
     "data": {
      "text/html": [
       "<pre style=\"white-space:pre;overflow-x:auto;line-height:normal;font-family:Menlo,'DejaVu Sans Mono',consolas,'Courier New',monospace\">New Oil Formation Volume Factor: <span style=\"color: #008080; text-decoration-color: #008080; font-weight: bold\">1.0207858809104104</span> <span style=\"color: #008080; text-decoration-color: #008080; font-weight: bold\">1.0776019736098104</span>\n",
       "</pre>\n"
      ],
      "text/plain": [
       "New Oil Formation Volume Factor: \u001b[1;36m1.0207858809104104\u001b[0m \u001b[1;36m1.0776019736098104\u001b[0m\n"
      ]
     },
     "metadata": {},
     "output_type": "display_data"
    },
    {
     "data": {
      "text/html": [
       "<pre style=\"white-space:pre;overflow-x:auto;line-height:normal;font-family:Menlo,'DejaVu Sans Mono',consolas,'Courier New',monospace\">New Gas to Oil Ratio: <span style=\"color: #008080; text-decoration-color: #008080; font-weight: bold\">71.80662629125231</span> <span style=\"color: #008080; text-decoration-color: #008080; font-weight: bold\">191.90068605398673</span>\n",
       "</pre>\n"
      ],
      "text/plain": [
       "New Gas to Oil Ratio: \u001b[1;36m71.80662629125231\u001b[0m \u001b[1;36m191.90068605398673\u001b[0m\n"
      ]
     },
     "metadata": {},
     "output_type": "display_data"
    },
    {
     "data": {
      "text/html": [
       "<pre style=\"white-space:pre;overflow-x:auto;line-height:normal;font-family:Menlo,'DejaVu Sans Mono',consolas,'Courier New',monospace\">New Oil Compressibility: <span style=\"color: #008080; text-decoration-color: #008080; font-weight: bold\">6.092795062470446e-06</span> <span style=\"color: #008080; text-decoration-color: #008080; font-weight: bold\">2.3785694495894116e-05</span>\n",
       "</pre>\n"
      ],
      "text/plain": [
       "New Oil Compressibility: \u001b[1;36m6.092795062470446e-06\u001b[0m \u001b[1;36m2.3785694495894116e-05\u001b[0m\n"
      ]
     },
     "metadata": {},
     "output_type": "display_data"
    },
    {
     "data": {
      "text/html": [
       "<pre style=\"white-space:pre;overflow-x:auto;line-height:normal;font-family:Menlo,'DejaVu Sans Mono',consolas,'Courier New',monospace\">New Oil Density: <span style=\"color: #008080; text-decoration-color: #008080; font-weight: bold\">47.645691195948466</span> <span style=\"color: #008080; text-decoration-color: #008080; font-weight: bold\">55.520440454151526</span>\n",
       "</pre>\n"
      ],
      "text/plain": [
       "New Oil Density: \u001b[1;36m47.645691195948466\u001b[0m \u001b[1;36m55.520440454151526\u001b[0m\n"
      ]
     },
     "metadata": {},
     "output_type": "display_data"
    },
    {
     "data": {
      "text/html": [
       "<pre style=\"white-space:pre;overflow-x:auto;line-height:normal;font-family:Menlo,'DejaVu Sans Mono',consolas,'Courier New',monospace\">New Oil Viscosity: <span style=\"color: #008080; text-decoration-color: #008080; font-weight: bold\">0.569367232785985</span> <span style=\"color: #008080; text-decoration-color: #008080; font-weight: bold\">0.6532857993061547</span>\n",
       "</pre>\n"
      ],
      "text/plain": [
       "New Oil Viscosity: \u001b[1;36m0.569367232785985\u001b[0m \u001b[1;36m0.6532857993061547\u001b[0m\n"
      ]
     },
     "metadata": {},
     "output_type": "display_data"
    },
    {
     "name": "stdout",
     "output_type": "stream",
     "text": [
      "TIME STEP 18\n"
     ]
    },
    {
     "data": {
      "text/html": [
       "<pre style=\"white-space:pre;overflow-x:auto;line-height:normal;font-family:Menlo,'DejaVu Sans Mono',consolas,'Courier New',monospace\"><span style=\"color: #008080; text-decoration-color: #008080; font-weight: bold\">Computing pressure evolution...</span>\n",
       "</pre>\n"
      ],
      "text/plain": [
       "\u001b[1;36mComputing pressure evolution\u001b[0m\u001b[1;36m...\u001b[0m\n"
      ]
     },
     "metadata": {},
     "output_type": "display_data"
    },
    {
     "data": {
      "text/html": [
       "<pre style=\"white-space:pre;overflow-x:auto;line-height:normal;font-family:Menlo,'DejaVu Sans Mono',consolas,'Courier New',monospace\">Old Pressure Grid <span style=\"color: #008080; text-decoration-color: #008080; font-weight: bold\">1544.7413580259633</span> <span style=\"color: #008080; text-decoration-color: #008080; font-weight: bold\">1910.641079974019</span>\n",
       "</pre>\n"
      ],
      "text/plain": [
       "Old Pressure Grid \u001b[1;36m1544.7413580259633\u001b[0m \u001b[1;36m1910.641079974019\u001b[0m\n"
      ]
     },
     "metadata": {},
     "output_type": "display_data"
    },
    {
     "data": {
      "text/html": [
       "<pre style=\"white-space:pre;overflow-x:auto;line-height:normal;font-family:Menlo,'DejaVu Sans Mono',consolas,'Courier New',monospace\">New Pressure Grid <span style=\"color: #008080; text-decoration-color: #008080; font-weight: bold\">1544.3675612600923</span> <span style=\"color: #008080; text-decoration-color: #008080; font-weight: bold\">1910.1101121075303</span>\n",
       "</pre>\n"
      ],
      "text/plain": [
       "New Pressure Grid \u001b[1;36m1544.3675612600923\u001b[0m \u001b[1;36m1910.1101121075303\u001b[0m\n"
      ]
     },
     "metadata": {},
     "output_type": "display_data"
    },
    {
     "data": {
      "text/html": [
       "<pre style=\"white-space:pre;overflow-x:auto;line-height:normal;font-family:Menlo,'DejaVu Sans Mono',consolas,'Courier New',monospace\"><span style=\"color: #008080; text-decoration-color: #008080; font-weight: bold\">Updating fluid properties...</span>\n",
       "</pre>\n"
      ],
      "text/plain": [
       "\u001b[1;36mUpdating fluid properties\u001b[0m\u001b[1;36m...\u001b[0m\n"
      ]
     },
     "metadata": {},
     "output_type": "display_data"
    },
    {
     "data": {
      "text/html": [
       "<pre style=\"white-space:pre;overflow-x:auto;line-height:normal;font-family:Menlo,'DejaVu Sans Mono',consolas,'Courier New',monospace\">Old Water Saturation Grid <span style=\"color: #008080; text-decoration-color: #008080; font-weight: bold\">0.19998096348233646</span> <span style=\"color: #008080; text-decoration-color: #008080; font-weight: bold\">0.20000136121495796</span>\n",
       "</pre>\n"
      ],
      "text/plain": [
       "Old Water Saturation Grid \u001b[1;36m0.19998096348233646\u001b[0m \u001b[1;36m0.20000136121495796\u001b[0m\n"
      ]
     },
     "metadata": {},
     "output_type": "display_data"
    },
    {
     "data": {
      "text/html": [
       "<pre style=\"white-space:pre;overflow-x:auto;line-height:normal;font-family:Menlo,'DejaVu Sans Mono',consolas,'Courier New',monospace\">Old Oil Saturation Grid <span style=\"color: #008080; text-decoration-color: #008080; font-weight: bold\">0.7999986387850421</span> <span style=\"color: #008080; text-decoration-color: #008080; font-weight: bold\">0.8000190365176636</span>\n",
       "</pre>\n"
      ],
      "text/plain": [
       "Old Oil Saturation Grid \u001b[1;36m0.7999986387850421\u001b[0m \u001b[1;36m0.8000190365176636\u001b[0m\n"
      ]
     },
     "metadata": {},
     "output_type": "display_data"
    },
    {
     "data": {
      "text/html": [
       "<pre style=\"white-space:pre;overflow-x:auto;line-height:normal;font-family:Menlo,'DejaVu Sans Mono',consolas,'Courier New',monospace\">Old Gas Saturation Grid <span style=\"color: #008080; text-decoration-color: #008080; font-weight: bold\">0.0</span> <span style=\"color: #008080; text-decoration-color: #008080; font-weight: bold\">6.419518477123957e-17</span>\n",
       "</pre>\n"
      ],
      "text/plain": [
       "Old Gas Saturation Grid \u001b[1;36m0.0\u001b[0m \u001b[1;36m6.419518477123957e-17\u001b[0m\n"
      ]
     },
     "metadata": {},
     "output_type": "display_data"
    },
    {
     "data": {
      "text/html": [
       "<pre style=\"white-space:pre;overflow-x:auto;line-height:normal;font-family:Menlo,'DejaVu Sans Mono',consolas,'Courier New',monospace\">New Water Saturation Grid <span style=\"color: #008080; text-decoration-color: #008080; font-weight: bold\">0.19997968454516232</span> <span style=\"color: #008080; text-decoration-color: #008080; font-weight: bold\">0.2000014472577217</span>\n",
       "</pre>\n"
      ],
      "text/plain": [
       "New Water Saturation Grid \u001b[1;36m0.19997968454516232\u001b[0m \u001b[1;36m0.2000014472577217\u001b[0m\n"
      ]
     },
     "metadata": {},
     "output_type": "display_data"
    },
    {
     "data": {
      "text/html": [
       "<pre style=\"white-space:pre;overflow-x:auto;line-height:normal;font-family:Menlo,'DejaVu Sans Mono',consolas,'Courier New',monospace\">New Oil Saturation Grid <span style=\"color: #008080; text-decoration-color: #008080; font-weight: bold\">0.7999985527422783</span> <span style=\"color: #008080; text-decoration-color: #008080; font-weight: bold\">0.8000203154548376</span>\n",
       "</pre>\n"
      ],
      "text/plain": [
       "New Oil Saturation Grid \u001b[1;36m0.7999985527422783\u001b[0m \u001b[1;36m0.8000203154548376\u001b[0m\n"
      ]
     },
     "metadata": {},
     "output_type": "display_data"
    },
    {
     "data": {
      "text/html": [
       "<pre style=\"white-space:pre;overflow-x:auto;line-height:normal;font-family:Menlo,'DejaVu Sans Mono',consolas,'Courier New',monospace\">New Gas Saturation Grid <span style=\"color: #008080; text-decoration-color: #008080; font-weight: bold\">0.0</span> <span style=\"color: #008080; text-decoration-color: #008080; font-weight: bold\">6.798151954045967e-17</span>\n",
       "</pre>\n"
      ],
      "text/plain": [
       "New Gas Saturation Grid \u001b[1;36m0.0\u001b[0m \u001b[1;36m6.798151954045967e-17\u001b[0m\n"
      ]
     },
     "metadata": {},
     "output_type": "display_data"
    },
    {
     "data": {
      "text/html": [
       "<pre style=\"white-space:pre;overflow-x:auto;line-height:normal;font-family:Menlo,'DejaVu Sans Mono',consolas,'Courier New',monospace\"><span style=\"color: #008080; text-decoration-color: #008080; font-weight: bold\">Updating static fluid properties...</span>\n",
       "</pre>\n"
      ],
      "text/plain": [
       "\u001b[1;36mUpdating static fluid properties\u001b[0m\u001b[1;36m...\u001b[0m\n"
      ]
     },
     "metadata": {},
     "output_type": "display_data"
    },
    {
     "ename": "KeyboardInterrupt",
     "evalue": "",
     "output_type": "error",
     "traceback": [
      "\u001b[31m---------------------------------------------------------------------------\u001b[39m",
      "\u001b[31mKeyboardInterrupt\u001b[39m                         Traceback (most recent call last)",
      "\u001b[36mCell\u001b[39m\u001b[36m \u001b[39m\u001b[32mIn[1]\u001b[39m\u001b[32m, line 8\u001b[39m\n\u001b[32m      6\u001b[39m     \u001b[38;5;66;03m# Suppress specific warnings that may arise from the main module\u001b[39;00m\n\u001b[32m      7\u001b[39m     warnings.filterwarnings(\u001b[33m\"\u001b[39m\u001b[33mignore\u001b[39m\u001b[33m\"\u001b[39m, category=\u001b[38;5;167;01mUserWarning\u001b[39;00m, module=\u001b[33m\"\u001b[39m\u001b[33mmain\u001b[39m\u001b[33m\"\u001b[39m)\n\u001b[32m----> \u001b[39m\u001b[32m8\u001b[39m \u001b[43mmain\u001b[49m\u001b[43m.\u001b[49m\u001b[43msimulate\u001b[49m\u001b[43m(\u001b[49m\u001b[43m)\u001b[49m\n",
      "\u001b[36mFile \u001b[39m\u001b[32m~/Tolu's Projects/sim2D/main.py:232\u001b[39m, in \u001b[36msimulate\u001b[39m\u001b[34m()\u001b[39m\n\u001b[32m    222\u001b[39m wells = sim3D.Wells(injection_wells=[injector_A], production_wells=[producer_A])\n\u001b[32m    224\u001b[39m simulation_params = sim3D.SimulationParameters(\n\u001b[32m    225\u001b[39m     time_step_size=\u001b[32m10\u001b[39m,  \u001b[38;5;66;03m# Time step in seconds (1 hour)\u001b[39;00m\n\u001b[32m    226\u001b[39m     total_time=\u001b[32m3600\u001b[39m,  \u001b[38;5;66;03m# Total simulation time in seconds (1 day)\u001b[39;00m\n\u001b[32m   (...)\u001b[39m\u001b[32m    230\u001b[39m     evolution_scheme=\u001b[33m\"\u001b[39m\u001b[33mimplicit\u001b[39m\u001b[33m\"\u001b[39m,\n\u001b[32m    231\u001b[39m )\n\u001b[32m--> \u001b[39m\u001b[32m232\u001b[39m model_states = \u001b[43msim3D\u001b[49m\u001b[43m.\u001b[49m\u001b[43mrun_3D_simulation\u001b[49m\u001b[43m(\u001b[49m\n\u001b[32m    233\u001b[39m \u001b[43m    \u001b[49m\u001b[43mmodel\u001b[49m\u001b[43m=\u001b[49m\u001b[43mmodel\u001b[49m\u001b[43m,\u001b[49m\n\u001b[32m    234\u001b[39m \u001b[43m    \u001b[49m\u001b[43mwells\u001b[49m\u001b[43m=\u001b[49m\u001b[43mwells\u001b[49m\u001b[43m,\u001b[49m\n\u001b[32m    235\u001b[39m \u001b[43m    \u001b[49m\u001b[43mparams\u001b[49m\u001b[43m=\u001b[49m\u001b[43msimulation_params\u001b[49m\u001b[43m,\u001b[49m\n\u001b[32m    236\u001b[39m \u001b[43m\u001b[49m\u001b[43m)\u001b[49m\n",
      "\u001b[36mFile \u001b[39m\u001b[32m~/Tolu's Projects/sim2D/sim3D/simulation.py:262\u001b[39m, in \u001b[36mrun_3D_simulation\u001b[39m\u001b[34m(model, wells, params)\u001b[39m\n\u001b[32m    255\u001b[39m fluid_properties = evolve(\n\u001b[32m    256\u001b[39m     updated_fluid_properties,\n\u001b[32m    257\u001b[39m     water_saturation_grid=water_saturation_grid,\n\u001b[32m    258\u001b[39m     oil_saturation_grid=oil_saturation_grid,\n\u001b[32m    259\u001b[39m     gas_saturation_grid=gas_saturation_grid,\n\u001b[32m    260\u001b[39m )\n\u001b[32m    261\u001b[39m \u001b[38;5;66;03m# Update the static fluid properties\u001b[39;00m\n\u001b[32m--> \u001b[39m\u001b[32m262\u001b[39m fluid_properties = \u001b[43mupdate_static_fluid_properties\u001b[49m\u001b[43m(\u001b[49m\u001b[43mfluid_properties\u001b[49m\u001b[43m)\u001b[49m\n\u001b[32m    264\u001b[39m \u001b[38;5;66;03m# Capture the model state at specified intervals and at the last time step\u001b[39;00m\n\u001b[32m    265\u001b[39m \u001b[38;5;28;01mif\u001b[39;00m (time_step % output_frequency == \u001b[32m0\u001b[39m) \u001b[38;5;129;01mor\u001b[39;00m (time_step == num_of_time_steps):\n",
      "\u001b[36mFile \u001b[39m\u001b[32m~/Tolu's Projects/sim2D/sim3D/simulation.py:370\u001b[39m, in \u001b[36mupdate_static_fluid_properties\u001b[39m\u001b[34m(fluid_properties)\u001b[39m\n\u001b[32m    360\u001b[39m gas_compressibility_factor_grid = build_gas_compressibility_factor_grid(\n\u001b[32m    361\u001b[39m     gas_gravity_grid=fluid_properties.gas_gravity_grid,\n\u001b[32m    362\u001b[39m     pressure_grid=fluid_properties.pressure_grid,\n\u001b[32m    363\u001b[39m     temperature_grid=fluid_properties.temperature_grid,\n\u001b[32m    364\u001b[39m )\n\u001b[32m    365\u001b[39m new_gas_formation_volume_factor_grid = build_gas_formation_volume_factor_grid(\n\u001b[32m    366\u001b[39m     pressure_grid=fluid_properties.pressure_grid,\n\u001b[32m    367\u001b[39m     temperature_grid=fluid_properties.temperature_grid,\n\u001b[32m    368\u001b[39m     gas_compressibility_factor_grid=gas_compressibility_factor_grid,\n\u001b[32m    369\u001b[39m )\n\u001b[32m--> \u001b[39m\u001b[32m370\u001b[39m new_gas_compressibility_grid = \u001b[43mbuild_gas_compressibility_grid\u001b[49m\u001b[43m(\u001b[49m\n\u001b[32m    371\u001b[39m \u001b[43m    \u001b[49m\u001b[43mpressure_grid\u001b[49m\u001b[43m=\u001b[49m\u001b[43mfluid_properties\u001b[49m\u001b[43m.\u001b[49m\u001b[43mpressure_grid\u001b[49m\u001b[43m,\u001b[49m\n\u001b[32m    372\u001b[39m \u001b[43m    \u001b[49m\u001b[43mtemperature_grid\u001b[49m\u001b[43m=\u001b[49m\u001b[43mfluid_properties\u001b[49m\u001b[43m.\u001b[49m\u001b[43mtemperature_grid\u001b[49m\u001b[43m,\u001b[49m\n\u001b[32m    373\u001b[39m \u001b[43m    \u001b[49m\u001b[43mgas_gravity_grid\u001b[49m\u001b[43m=\u001b[49m\u001b[43mfluid_properties\u001b[49m\u001b[43m.\u001b[49m\u001b[43mgas_gravity_grid\u001b[49m\u001b[43m,\u001b[49m\n\u001b[32m    374\u001b[39m \u001b[43m    \u001b[49m\u001b[43mgas_compressibility_factor_grid\u001b[49m\u001b[43m=\u001b[49m\u001b[43mgas_compressibility_factor_grid\u001b[49m\u001b[43m,\u001b[49m\n\u001b[32m    375\u001b[39m \u001b[43m\u001b[49m\u001b[43m)\u001b[49m\n\u001b[32m    376\u001b[39m new_gas_density_grid = build_gas_density_grid(\n\u001b[32m    377\u001b[39m     pressure_grid=fluid_properties.pressure_grid,\n\u001b[32m    378\u001b[39m     temperature_grid=fluid_properties.temperature_grid,\n\u001b[32m    379\u001b[39m     gas_gravity_grid=fluid_properties.gas_gravity_grid,\n\u001b[32m    380\u001b[39m     gas_compressibility_factor_grid=gas_compressibility_factor_grid,\n\u001b[32m    381\u001b[39m )\n\u001b[32m    382\u001b[39m new_gas_viscosity_grid = build_gas_viscosity_grid(\n\u001b[32m    383\u001b[39m     temperature_grid=fluid_properties.temperature_grid,\n\u001b[32m    384\u001b[39m     gas_density_grid=new_gas_density_grid,\n\u001b[32m    385\u001b[39m     gas_molecular_weight_grid=fluid_properties.gas_molecular_weight_grid,\n\u001b[32m    386\u001b[39m )\n",
      "\u001b[36mFile \u001b[39m\u001b[32m~/Tolu's Projects/sim2D/sim3D/grids.py:994\u001b[39m, in \u001b[36mbuild_gas_compressibility_grid\u001b[39m\u001b[34m(pressure_grid, temperature_grid, gas_gravity_grid, gas_compressibility_factor_grid, h2s_mole_fraction, co2_mole_fraction, n2_mole_fraction)\u001b[39m\n\u001b[32m    966\u001b[39m \u001b[38;5;28;01mdef\u001b[39;00m\u001b[38;5;250m \u001b[39m\u001b[34mbuild_gas_compressibility_grid\u001b[39m(\n\u001b[32m    967\u001b[39m     pressure_grid: NDimensionalGrid[NDimension],\n\u001b[32m    968\u001b[39m     temperature_grid: NDimensionalGrid[NDimension],\n\u001b[32m   (...)\u001b[39m\u001b[32m    975\u001b[39m     n2_mole_fraction: \u001b[38;5;28mfloat\u001b[39m = \u001b[32m0.0\u001b[39m,\n\u001b[32m    976\u001b[39m ) -> NDimensionalGrid[NDimension]:\n\u001b[32m    977\u001b[39m \u001b[38;5;250m    \u001b[39m\u001b[33;03m\"\"\"\u001b[39;00m\n\u001b[32m    978\u001b[39m \u001b[33;03m    Computes a N-Dimensional grid of gas compressibilities.\u001b[39;00m\n\u001b[32m    979\u001b[39m \n\u001b[32m   (...)\u001b[39m\u001b[32m    992\u001b[39m \u001b[33;03m    :return: N-Dimensional array of gas compressibilities (psi⁻¹) corresponding to each grid cell.\u001b[39;00m\n\u001b[32m    993\u001b[39m \u001b[33;03m    \"\"\"\u001b[39;00m\n\u001b[32m--> \u001b[39m\u001b[32m994\u001b[39m     \u001b[38;5;28;01mreturn\u001b[39;00m \u001b[43mnp\u001b[49m\u001b[43m.\u001b[49m\u001b[43mvectorize\u001b[49m\u001b[43m(\u001b[49m\n\u001b[32m    995\u001b[39m \u001b[43m        \u001b[49m\u001b[43mcompute_gas_compressibility\u001b[49m\u001b[43m,\u001b[49m\n\u001b[32m    996\u001b[39m \u001b[43m        \u001b[49m\u001b[43motypes\u001b[49m\u001b[43m=\u001b[49m\u001b[43m[\u001b[49m\u001b[43mnp\u001b[49m\u001b[43m.\u001b[49m\u001b[43mfloat64\u001b[49m\u001b[43m]\u001b[49m\u001b[43m,\u001b[49m\n\u001b[32m    997\u001b[39m \u001b[43m        \u001b[49m\u001b[43mexcluded\u001b[49m\u001b[43m=\u001b[49m\u001b[43m[\u001b[49m\u001b[33;43m\"\u001b[39;49m\u001b[33;43mh2s_mole_fraction\u001b[39;49m\u001b[33;43m\"\u001b[39;49m\u001b[43m,\u001b[49m\u001b[43m \u001b[49m\u001b[33;43m\"\u001b[39;49m\u001b[33;43mco2_mole_fraction\u001b[39;49m\u001b[33;43m\"\u001b[39;49m\u001b[43m,\u001b[49m\u001b[43m \u001b[49m\u001b[33;43m\"\u001b[39;49m\u001b[33;43mn2_mole_fraction\u001b[39;49m\u001b[33;43m\"\u001b[39;49m\u001b[43m]\u001b[49m\u001b[43m,\u001b[49m\n\u001b[32m    998\u001b[39m \u001b[43m    \u001b[49m\u001b[43m)\u001b[49m\u001b[43m(\u001b[49m\n\u001b[32m    999\u001b[39m \u001b[43m        \u001b[49m\u001b[43mpressure_grid\u001b[49m\u001b[43m,\u001b[49m\n\u001b[32m   1000\u001b[39m \u001b[43m        \u001b[49m\u001b[43mtemperature_grid\u001b[49m\u001b[43m,\u001b[49m\n\u001b[32m   1001\u001b[39m \u001b[43m        \u001b[49m\u001b[43mgas_gravity_grid\u001b[49m\u001b[43m,\u001b[49m\n\u001b[32m   1002\u001b[39m \u001b[43m        \u001b[49m\u001b[43mgas_compressibility_factor_grid\u001b[49m\u001b[43m,\u001b[49m\n\u001b[32m   1003\u001b[39m \u001b[43m        \u001b[49m\u001b[43mh2s_mole_fraction\u001b[49m\u001b[43m=\u001b[49m\u001b[43mh2s_mole_fraction\u001b[49m\u001b[43m,\u001b[49m\n\u001b[32m   1004\u001b[39m \u001b[43m        \u001b[49m\u001b[43mco2_mole_fraction\u001b[49m\u001b[43m=\u001b[49m\u001b[43mco2_mole_fraction\u001b[49m\u001b[43m,\u001b[49m\n\u001b[32m   1005\u001b[39m \u001b[43m        \u001b[49m\u001b[43mn2_mole_fraction\u001b[49m\u001b[43m=\u001b[49m\u001b[43mn2_mole_fraction\u001b[49m\u001b[43m,\u001b[49m\n\u001b[32m   1006\u001b[39m \u001b[43m    \u001b[49m\u001b[43m)\u001b[49m\n",
      "\u001b[36mFile \u001b[39m\u001b[32m~/Tolu's Projects/sim2D/.venv/lib/python3.12/site-packages/numpy/lib/_function_base_impl.py:2522\u001b[39m, in \u001b[36mvectorize.__call__\u001b[39m\u001b[34m(self, *args, **kwargs)\u001b[39m\n\u001b[32m   2519\u001b[39m     \u001b[38;5;28mself\u001b[39m._init_stage_2(*args, **kwargs)\n\u001b[32m   2520\u001b[39m     \u001b[38;5;28;01mreturn\u001b[39;00m \u001b[38;5;28mself\u001b[39m\n\u001b[32m-> \u001b[39m\u001b[32m2522\u001b[39m \u001b[38;5;28;01mreturn\u001b[39;00m \u001b[38;5;28;43mself\u001b[39;49m\u001b[43m.\u001b[49m\u001b[43m_call_as_normal\u001b[49m\u001b[43m(\u001b[49m\u001b[43m*\u001b[49m\u001b[43margs\u001b[49m\u001b[43m,\u001b[49m\u001b[43m \u001b[49m\u001b[43m*\u001b[49m\u001b[43m*\u001b[49m\u001b[43mkwargs\u001b[49m\u001b[43m)\u001b[49m\n",
      "\u001b[36mFile \u001b[39m\u001b[32m~/Tolu's Projects/sim2D/.venv/lib/python3.12/site-packages/numpy/lib/_function_base_impl.py:2515\u001b[39m, in \u001b[36mvectorize._call_as_normal\u001b[39m\u001b[34m(self, *args, **kwargs)\u001b[39m\n\u001b[32m   2512\u001b[39m     vargs = [args[_i] \u001b[38;5;28;01mfor\u001b[39;00m _i \u001b[38;5;129;01min\u001b[39;00m inds]\n\u001b[32m   2513\u001b[39m     vargs.extend([kwargs[_n] \u001b[38;5;28;01mfor\u001b[39;00m _n \u001b[38;5;129;01min\u001b[39;00m names])\n\u001b[32m-> \u001b[39m\u001b[32m2515\u001b[39m \u001b[38;5;28;01mreturn\u001b[39;00m \u001b[38;5;28;43mself\u001b[39;49m\u001b[43m.\u001b[49m\u001b[43m_vectorize_call\u001b[49m\u001b[43m(\u001b[49m\u001b[43mfunc\u001b[49m\u001b[43m=\u001b[49m\u001b[43mfunc\u001b[49m\u001b[43m,\u001b[49m\u001b[43m \u001b[49m\u001b[43margs\u001b[49m\u001b[43m=\u001b[49m\u001b[43mvargs\u001b[49m\u001b[43m)\u001b[49m\n",
      "\u001b[36mFile \u001b[39m\u001b[32m~/Tolu's Projects/sim2D/.venv/lib/python3.12/site-packages/numpy/lib/_function_base_impl.py:2605\u001b[39m, in \u001b[36mvectorize._vectorize_call\u001b[39m\u001b[34m(self, func, args)\u001b[39m\n\u001b[32m   2602\u001b[39m \u001b[38;5;66;03m# Convert args to object arrays first\u001b[39;00m\n\u001b[32m   2603\u001b[39m inputs = [asanyarray(a, dtype=\u001b[38;5;28mobject\u001b[39m) \u001b[38;5;28;01mfor\u001b[39;00m a \u001b[38;5;129;01min\u001b[39;00m args]\n\u001b[32m-> \u001b[39m\u001b[32m2605\u001b[39m outputs = \u001b[43mufunc\u001b[49m\u001b[43m(\u001b[49m\u001b[43m*\u001b[49m\u001b[43minputs\u001b[49m\u001b[43m)\u001b[49m\n\u001b[32m   2607\u001b[39m \u001b[38;5;28;01mif\u001b[39;00m ufunc.nout == \u001b[32m1\u001b[39m:\n\u001b[32m   2608\u001b[39m     res = asanyarray(outputs, dtype=otypes[\u001b[32m0\u001b[39m])\n",
      "\u001b[36mFile \u001b[39m\u001b[32m~/Tolu's Projects/sim2D/.venv/lib/python3.12/site-packages/numpy/lib/_function_base_impl.py:2506\u001b[39m, in \u001b[36mvectorize._call_as_normal.<locals>.func\u001b[39m\u001b[34m(*vargs)\u001b[39m\n\u001b[32m   2503\u001b[39m inds = [_i \u001b[38;5;28;01mfor\u001b[39;00m _i \u001b[38;5;129;01min\u001b[39;00m \u001b[38;5;28mrange\u001b[39m(nargs) \u001b[38;5;28;01mif\u001b[39;00m _i \u001b[38;5;129;01mnot\u001b[39;00m \u001b[38;5;129;01min\u001b[39;00m excluded]\n\u001b[32m   2504\u001b[39m the_args = \u001b[38;5;28mlist\u001b[39m(args)\n\u001b[32m-> \u001b[39m\u001b[32m2506\u001b[39m \u001b[38;5;28;01mdef\u001b[39;00m\u001b[38;5;250m \u001b[39m\u001b[34mfunc\u001b[39m(*vargs):\n\u001b[32m   2507\u001b[39m     \u001b[38;5;28;01mfor\u001b[39;00m _n, _i \u001b[38;5;129;01min\u001b[39;00m \u001b[38;5;28menumerate\u001b[39m(inds):\n\u001b[32m   2508\u001b[39m         the_args[_i] = vargs[_n]\n",
      "\u001b[31mKeyboardInterrupt\u001b[39m: "
     ]
    }
   ],
   "source": [
    "import main\n",
    "import warnings\n",
    "\n",
    "with warnings.catch_warnings():\n",
    "    warnings.simplefilter(\"ignore\")\n",
    "    # Suppress specific warnings that may arise from the main module\n",
    "    warnings.filterwarnings(\"ignore\", category=UserWarning, module=\"main\")\n",
    "main.simulate()"
   ]
  }
 ],
 "metadata": {
  "kernelspec": {
   "display_name": "Python 3 (ipykernel)",
   "language": "python",
   "name": "python3"
  },
  "language_info": {
   "codemirror_mode": {
    "name": "ipython",
    "version": 3
   },
   "file_extension": ".py",
   "mimetype": "text/x-python",
   "name": "python",
   "nbconvert_exporter": "python",
   "pygments_lexer": "ipython3",
   "version": "3.12.3"
  }
 },
 "nbformat": 4,
 "nbformat_minor": 5
}
