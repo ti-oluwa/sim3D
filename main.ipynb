{
 "cells": [
  {
   "cell_type": "code",
   "execution_count": 1,
   "id": "cf65727a",
   "metadata": {},
   "outputs": [
    {
     "name": "stdout",
     "output_type": "stream",
     "text": [
      "TIME STEP 1\n",
      "GOR 2.5375360614301585 127.6721902779167\n",
      "Pb 168.9995232070412 995.1554298615467\n",
      "C_oil 7e-07 1e-05\n",
      "Oil Density 55.0 58.0\n",
      "TIME STEP 2\n"
     ]
    },
    {
     "ename": "RuntimeError",
     "evalue": "\nNegative pressure encountered in the pressure grid at the following indices:\n[[0, 0], [0, 8], [0, 22], [0, 24], [0, 34], [1, 0], [1, 8], [1, 22], [1, 24], [1, 34], [2, 0], [2, 8], [2, 22], [2, 24], [2, 34], [3, 0], [3, 8], [3, 22], [3, 24], [3, 34], [4, 0], [4, 8], [4, 22], [4, 24], [4, 34], [5, 0], [5, 8], [5, 22], [5, 24], [5, 34], [6, 0], [6, 8], [6, 22], [6, 24], [6, 34], [7, 0], [7, 8], [7, 22], [7, 24], [7, 34], [8, 0], [8, 8], [8, 22], [8, 24], [8, 34], [9, 0], [9, 8], [9, 22], [9, 24], [9, 34], [10, 0], [10, 5], [10, 8], [10, 22], [10, 24], [10, 34], [11, 0], [11, 8], [11, 22], [11, 24], [11, 34], [12, 0], [12, 8], [12, 22], [12, 24], [12, 34], [13, 0], [13, 8], [13, 22], [13, 24], [13, 34], [14, 0], [14, 8], [14, 22], [14, 24], [14, 34], [15, 0], [15, 8], [15, 22], [15, 24], [15, 34], [16, 0], [16, 8], [16, 22], [16, 24], [16, 34], [17, 0], [17, 8], [17, 22], [17, 24], [17, 34], [18, 0], [18, 8], [18, 22], [18, 24], [18, 34], [19, 0], [19, 8], [19, 22], [19, 24], [19, 34], [20, 0], [20, 8], [20, 22], [20, 24], [20, 34], [21, 0], [21, 8], [21, 22], [21, 24], [21, 34], [22, 0], [22, 8], [22, 22], [22, 24], [22, 34], [23, 0], [23, 8], [23, 22], [23, 24], [23, 34], [24, 0], [24, 8], [24, 22], [24, 24], [24, 34], [25, 0], [25, 8], [25, 22], [25, 24], [25, 34], [26, 0], [26, 8], [26, 22], [26, 24], [26, 34], [27, 0], [27, 8], [27, 22], [27, 24], [27, 34], [28, 0], [28, 8], [28, 22], [28, 24], [28, 34], [29, 0], [29, 8], [29, 22], [29, 24], [29, 34], [30, 0], [30, 8], [30, 22], [30, 24], [30, 34], [31, 0], [31, 8], [31, 22], [31, 24], [31, 34], [32, 0], [32, 8], [32, 22], [32, 24], [32, 34], [33, 0], [33, 8], [33, 22], [33, 24], [33, 34], [34, 0], [34, 8], [34, 22], [34, 24], [34, 34], [35, 0], [35, 8], [35, 22], [35, 24], [35, 34], [36, 0], [36, 8], [36, 22], [36, 24], [36, 34], [37, 0], [37, 8], [37, 22], [37, 24], [37, 34], [38, 0], [38, 8], [38, 22], [38, 24], [38, 34], [39, 0], [39, 8], [39, 22], [39, 24], [39, 34], [40, 0], [40, 8], [40, 22], [40, 24], [40, 34], [41, 0], [41, 8], [41, 22], [41, 24], [41, 34], [42, 0], [42, 8], [42, 22], [42, 24], [42, 34], [43, 0], [43, 8], [43, 22], [43, 24], [43, 34], [44, 0], [44, 8], [44, 22], [44, 24], [44, 34], [45, 0], [45, 8], [45, 10], [45, 22], [45, 24], [45, 34], [46, 0], [46, 8], [46, 22], [46, 24], [46, 34], [47, 0], [47, 8], [47, 22], [47, 24], [47, 34], [48, 0], [48, 8], [48, 22], [48, 24], [48, 34], [49, 0], [49, 8], [49, 22], [49, 24], [49, 34]]\nThis indicates a likely issue with the simulation setup, numerical stability, or physical parameters.\n\nPotential causes include:\n1. Boundary conditions that allow for unphysical pressure drops.\n2. Incompatible or unrealistic rock/fluid properties.\n3. Time step size too large for explicit schemes, leading to instability.\n4. Incorrect initial conditions or pressure distributions.\n5. Unrealistic/improperly configured wells (e.g., injection/production rates or pressures).\n6. Numerical issues due to discretization choices or solver settings.\n\nSuggested actions:\n- Validate boundary conditions and ensure fixed-pressure constraints are properly applied.\n- Check permeability, porosity, and compressibility values.\n- Use smaller time steps if using explicit updates.\n- Clamp pressure updates to a minimum floor (e.g., 1e4 Pa) to prevent blow-up.\n- Cross-check well source/sink terms for sign and magnitude correctness.\n\nSimulation aborted to avoid propagation of unphysical results.\n\nAt Time Step 2.",
     "output_type": "error",
     "traceback": [
      "\u001b[31m---------------------------------------------------------------------------\u001b[39m",
      "\u001b[31mRuntimeError\u001b[39m                              Traceback (most recent call last)",
      "\u001b[36mCell\u001b[39m\u001b[36m \u001b[39m\u001b[32mIn[1]\u001b[39m\u001b[32m, line 8\u001b[39m\n\u001b[32m      6\u001b[39m \u001b[38;5;66;03m# Suppress specific warnings that may arise from the main module\u001b[39;00m\n\u001b[32m      7\u001b[39m warnings.filterwarnings(\u001b[33m\"\u001b[39m\u001b[33mignore\u001b[39m\u001b[33m\"\u001b[39m, category=\u001b[38;5;167;01mUserWarning\u001b[39;00m, module=\u001b[33m\"\u001b[39m\u001b[33mmain\u001b[39m\u001b[33m\"\u001b[39m)\n\u001b[32m----> \u001b[39m\u001b[32m8\u001b[39m \u001b[43mmain\u001b[49m\u001b[43m.\u001b[49m\u001b[43msimulate\u001b[49m\u001b[43m(\u001b[49m\u001b[43m)\u001b[49m\n",
      "\u001b[36mFile \u001b[39m\u001b[32m~/Tolu's Projects/sim2D/main.py:262\u001b[39m, in \u001b[36msimulate\u001b[39m\u001b[34m()\u001b[39m\n\u001b[32m    249\u001b[39m wells = sim2D.Wells(\n\u001b[32m    250\u001b[39m     injection_wells=[injector_A, injector_B],\n\u001b[32m    251\u001b[39m     production_wells=[producer_A, producer_B],\n\u001b[32m    252\u001b[39m )\n\u001b[32m    254\u001b[39m simulation_params = sim2D.SimulationParameters(\n\u001b[32m    255\u001b[39m     time_step_size=\u001b[32m10\u001b[39m,  \u001b[38;5;66;03m# Time step in seconds (1 hour)\u001b[39;00m\n\u001b[32m    256\u001b[39m     total_time=\u001b[32m86400\u001b[39m,  \u001b[38;5;66;03m# Total simulation time in seconds (1 day)\u001b[39;00m\n\u001b[32m   (...)\u001b[39m\u001b[32m    260\u001b[39m     discretization_method=\u001b[33m\"\u001b[39m\u001b[33mexplicit\u001b[39m\u001b[33m\"\u001b[39m,\n\u001b[32m    261\u001b[39m )\n\u001b[32m--> \u001b[39m\u001b[32m262\u001b[39m model_time_states = \u001b[43msim2D\u001b[49m\u001b[43m.\u001b[49m\u001b[43mrun_simulation\u001b[49m\u001b[43m(\u001b[49m\n\u001b[32m    263\u001b[39m \u001b[43m    \u001b[49m\u001b[43mmodel\u001b[49m\u001b[43m=\u001b[49m\u001b[43mmodel\u001b[49m\u001b[43m,\u001b[49m\n\u001b[32m    264\u001b[39m \u001b[43m    \u001b[49m\u001b[43mwells\u001b[49m\u001b[43m=\u001b[49m\u001b[43mwells\u001b[49m\u001b[43m,\u001b[49m\n\u001b[32m    265\u001b[39m \u001b[43m    \u001b[49m\u001b[43mparams\u001b[49m\u001b[43m=\u001b[49m\u001b[43msimulation_params\u001b[49m\u001b[43m,\u001b[49m\n\u001b[32m    266\u001b[39m \u001b[43m\u001b[49m\u001b[43m)\u001b[49m\n",
      "\u001b[36mFile \u001b[39m\u001b[32m~/Tolu's Projects/sim2D/sim2D/simulation.py:168\u001b[39m, in \u001b[36mrun_simulation\u001b[39m\u001b[34m(model, wells, params)\u001b[39m\n\u001b[32m    158\u001b[39m pressure_grid = compute_pressure_evolution(\n\u001b[32m    159\u001b[39m     cell_dimension=cell_dimension,\n\u001b[32m    160\u001b[39m     height_grid=height_grid,\n\u001b[32m   (...)\u001b[39m\u001b[32m    165\u001b[39m     wells=wells,\n\u001b[32m    166\u001b[39m )\n\u001b[32m    167\u001b[39m \u001b[38;5;28;01mif\u001b[39;00m (negative_pressure_indices := np.argwhere(pressure_grid < \u001b[32m0\u001b[39m)).size > \u001b[32m0\u001b[39m:\n\u001b[32m--> \u001b[39m\u001b[32m168\u001b[39m     \u001b[38;5;28;01mraise\u001b[39;00m \u001b[38;5;167;01mRuntimeError\u001b[39;00m(\n\u001b[32m    169\u001b[39m         NEGATIVE_PRESSURE_ERROR.format(\n\u001b[32m    170\u001b[39m             indices=negative_pressure_indices.tolist()\n\u001b[32m    171\u001b[39m         )\n\u001b[32m    172\u001b[39m         + \u001b[33mf\u001b[39m\u001b[33m\"\u001b[39m\u001b[38;5;130;01m\\n\u001b[39;00m\u001b[33mAt Time Step \u001b[39m\u001b[38;5;132;01m{\u001b[39;00mtime_step\u001b[38;5;132;01m}\u001b[39;00m\u001b[33m.\u001b[39m\u001b[33m\"\u001b[39m\n\u001b[32m    173\u001b[39m     )\n\u001b[32m    175\u001b[39m updated_fluid_properties = replace(\n\u001b[32m    176\u001b[39m     current_fluid_properties,\n\u001b[32m    177\u001b[39m     pressure_grid=pressure_grid,\n\u001b[32m    178\u001b[39m )\n\u001b[32m    180\u001b[39m \u001b[38;5;66;03m# Saturation evolution\u001b[39;00m\n",
      "\u001b[31mRuntimeError\u001b[39m: \nNegative pressure encountered in the pressure grid at the following indices:\n[[0, 0], [0, 8], [0, 22], [0, 24], [0, 34], [1, 0], [1, 8], [1, 22], [1, 24], [1, 34], [2, 0], [2, 8], [2, 22], [2, 24], [2, 34], [3, 0], [3, 8], [3, 22], [3, 24], [3, 34], [4, 0], [4, 8], [4, 22], [4, 24], [4, 34], [5, 0], [5, 8], [5, 22], [5, 24], [5, 34], [6, 0], [6, 8], [6, 22], [6, 24], [6, 34], [7, 0], [7, 8], [7, 22], [7, 24], [7, 34], [8, 0], [8, 8], [8, 22], [8, 24], [8, 34], [9, 0], [9, 8], [9, 22], [9, 24], [9, 34], [10, 0], [10, 5], [10, 8], [10, 22], [10, 24], [10, 34], [11, 0], [11, 8], [11, 22], [11, 24], [11, 34], [12, 0], [12, 8], [12, 22], [12, 24], [12, 34], [13, 0], [13, 8], [13, 22], [13, 24], [13, 34], [14, 0], [14, 8], [14, 22], [14, 24], [14, 34], [15, 0], [15, 8], [15, 22], [15, 24], [15, 34], [16, 0], [16, 8], [16, 22], [16, 24], [16, 34], [17, 0], [17, 8], [17, 22], [17, 24], [17, 34], [18, 0], [18, 8], [18, 22], [18, 24], [18, 34], [19, 0], [19, 8], [19, 22], [19, 24], [19, 34], [20, 0], [20, 8], [20, 22], [20, 24], [20, 34], [21, 0], [21, 8], [21, 22], [21, 24], [21, 34], [22, 0], [22, 8], [22, 22], [22, 24], [22, 34], [23, 0], [23, 8], [23, 22], [23, 24], [23, 34], [24, 0], [24, 8], [24, 22], [24, 24], [24, 34], [25, 0], [25, 8], [25, 22], [25, 24], [25, 34], [26, 0], [26, 8], [26, 22], [26, 24], [26, 34], [27, 0], [27, 8], [27, 22], [27, 24], [27, 34], [28, 0], [28, 8], [28, 22], [28, 24], [28, 34], [29, 0], [29, 8], [29, 22], [29, 24], [29, 34], [30, 0], [30, 8], [30, 22], [30, 24], [30, 34], [31, 0], [31, 8], [31, 22], [31, 24], [31, 34], [32, 0], [32, 8], [32, 22], [32, 24], [32, 34], [33, 0], [33, 8], [33, 22], [33, 24], [33, 34], [34, 0], [34, 8], [34, 22], [34, 24], [34, 34], [35, 0], [35, 8], [35, 22], [35, 24], [35, 34], [36, 0], [36, 8], [36, 22], [36, 24], [36, 34], [37, 0], [37, 8], [37, 22], [37, 24], [37, 34], [38, 0], [38, 8], [38, 22], [38, 24], [38, 34], [39, 0], [39, 8], [39, 22], [39, 24], [39, 34], [40, 0], [40, 8], [40, 22], [40, 24], [40, 34], [41, 0], [41, 8], [41, 22], [41, 24], [41, 34], [42, 0], [42, 8], [42, 22], [42, 24], [42, 34], [43, 0], [43, 8], [43, 22], [43, 24], [43, 34], [44, 0], [44, 8], [44, 22], [44, 24], [44, 34], [45, 0], [45, 8], [45, 10], [45, 22], [45, 24], [45, 34], [46, 0], [46, 8], [46, 22], [46, 24], [46, 34], [47, 0], [47, 8], [47, 22], [47, 24], [47, 34], [48, 0], [48, 8], [48, 22], [48, 24], [48, 34], [49, 0], [49, 8], [49, 22], [49, 24], [49, 34]]\nThis indicates a likely issue with the simulation setup, numerical stability, or physical parameters.\n\nPotential causes include:\n1. Boundary conditions that allow for unphysical pressure drops.\n2. Incompatible or unrealistic rock/fluid properties.\n3. Time step size too large for explicit schemes, leading to instability.\n4. Incorrect initial conditions or pressure distributions.\n5. Unrealistic/improperly configured wells (e.g., injection/production rates or pressures).\n6. Numerical issues due to discretization choices or solver settings.\n\nSuggested actions:\n- Validate boundary conditions and ensure fixed-pressure constraints are properly applied.\n- Check permeability, porosity, and compressibility values.\n- Use smaller time steps if using explicit updates.\n- Clamp pressure updates to a minimum floor (e.g., 1e4 Pa) to prevent blow-up.\n- Cross-check well source/sink terms for sign and magnitude correctness.\n\nSimulation aborted to avoid propagation of unphysical results.\n\nAt Time Step 2."
     ]
    }
   ],
   "source": [
    "import main\n",
    "import warnings\n",
    "\n",
    "with warnings.catch_warnings():\n",
    "    warnings.simplefilter(\"ignore\")\n",
    "    # Suppress specific warnings that may arise from the main module\n",
    "    warnings.filterwarnings(\"ignore\", category=UserWarning, module=\"main\")\n",
    "    main.simulate()"
   ]
  }
 ],
 "metadata": {
  "kernelspec": {
   "display_name": "Python 3 (ipykernel)",
   "language": "python",
   "name": "python3"
  },
  "language_info": {
   "codemirror_mode": {
    "name": "ipython",
    "version": 3
   },
   "file_extension": ".py",
   "mimetype": "text/x-python",
   "name": "python",
   "nbconvert_exporter": "python",
   "pygments_lexer": "ipython3",
   "version": "3.12.3"
  }
 },
 "nbformat": 4,
 "nbformat_minor": 5
}
